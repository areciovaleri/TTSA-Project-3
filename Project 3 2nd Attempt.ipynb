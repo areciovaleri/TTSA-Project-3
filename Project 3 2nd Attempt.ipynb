{
 "cells": [
  {
   "cell_type": "code",
   "execution_count": 63,
   "id": "e7384537",
   "metadata": {},
   "outputs": [],
   "source": [
    "\n",
    "import numpy as np\n",
    "from PIL import Image\n",
    "import cv2\n",
    "import glob\n",
    "from scipy import interpolate\n",
    "from scipy.interpolate import CubicSpline\n",
    "from matplotlib import pyplot as plt\n",
    "import os\n",
    "from pathlib import Path\n",
    "\n",
    "from ripser import ripser \n",
    "from persim import plot_diagrams\n",
    "from sklearn.decomposition import PCA\n",
    "\n",
    "#topological data analysis\n",
    "from persim import plot_diagrams\n",
    "from dreimac import CircularCoords \n",
    "from dreimac import CircleMapUtils as CMU\n",
    "\n",
    "#plotting and visualization\n",
    "import plotly.graph_objects as go\n",
    "from plotly.subplots import make_subplots\n",
    "%matplotlib inline"
   ]
  },
  {
   "cell_type": "code",
   "execution_count": 2,
   "id": "2f753a9c",
   "metadata": {},
   "outputs": [],
   "source": [
    "\n",
    "# Folder path containing the images\n",
    "folder_path = '/Users/acrv/Documents/GitHub/MSRI-UP2023/frames'  # Replace with the actual folder path\n",
    "\n",
    "# Create an empty array to store all RGB values\n",
    "rgb_array = []\n",
    "\n",
    "# Iterate over each file in the folder\n",
    "for filename in os.listdir(folder_path):\n",
    "    if filename.endswith('.jpg') or filename.endswith('.png'):\n",
    "        # Get the full file path\n",
    "        file_path = os.path.join(folder_path, filename)\n",
    "\n",
    "        # Read the image using OpenCV\n",
    "        image = cv2.imread(file_path)\n",
    "\n",
    "        # Convert the image to RGB format\n",
    "        image = cv2.cvtColor(image, cv2.COLOR_BGR2RGB)\n",
    "\n",
    "        # Get the dimensions of the image\n",
    "        height, width, _ = image.shape\n",
    "\n",
    "        # Reshape the image array to a 2D array of shape (height * width, 3)\n",
    "        reshaped_image = np.reshape(image, (height * width, 3))\n",
    "\n",
    "        # Append the RGB values of the current image to the array\n",
    "        rgb_array.append(reshaped_image)\n",
    "\n",
    "# Convert the RGB values array to a NumPy array\n",
    "rgb_array = np.array(rgb_array)\n"
   ]
  },
  {
   "cell_type": "code",
   "execution_count": 3,
   "id": "f861deff",
   "metadata": {},
   "outputs": [],
   "source": [
    "\n",
    "def loadVideo(filepath):\n",
    "    vid = cv2.VideoCapture(filepath)\n",
    "    _, image = vid.read()\n",
    "    count = 0\n",
    "    success = True\n",
    "    n_row, n_col, _ = image.shape\n",
    "    data = []\n",
    "    while success:\n",
    "        data.append(image.flatten()) \n",
    "        success,image = vid.read()\n",
    "        count += 1\n",
    "    vid.release() \n",
    "    data = np.array(data)\n",
    "    print(count, \" frames extracted\")\n",
    "    print(\"frame size = \", (n_row , n_col))\n",
    "    print(\"data shape =\", data.shape)\n",
    "    return data , (n_row, n_col)\n"
   ]
  },
  {
   "cell_type": "code",
   "execution_count": 4,
   "id": "f6b6cc7d",
   "metadata": {},
   "outputs": [],
   "source": [
    "\n",
    "# Auxiliary video functions\n",
    "def getSlidingWindowVideo(I, dim, Tau, dT):\n",
    "    N = I.shape[0] #Number of frames\n",
    "    P = I.shape[1] #Number of pixels (possibly after PCA)\n",
    "    pix = np.arange(P)\n",
    "    NWindows = int(np.floor((N-dim*Tau)/dT))\n",
    "    X = np.zeros((NWindows, dim*P))\n",
    "    idx = np.arange(N)\n",
    "    for i in range(NWindows):\n",
    "        idxx = dT*i + Tau*np.arange(dim)\n",
    "        start = int(np.floor(idxx[0]))\n",
    "        end = int(np.ceil(idxx[-1]))\n",
    "        f = interpolate.interp2d(pix, idx[start:end+1], I[idx[start:end+1], :], kind='linear')\n",
    "        X[i, :] = f(pix, idxx).flatten()\n",
    "    return X\n"
   ]
  },
  {
   "cell_type": "code",
   "execution_count": 5,
   "id": "3ea540e7",
   "metadata": {},
   "outputs": [
    {
     "name": "stdout",
     "output_type": "stream",
     "text": [
      "390  frames extracted\n",
      "frame size =  (100, 200)\n",
      "data shape = (390, 60000)\n"
     ]
    }
   ],
   "source": [
    "\n",
    "data1 , shape = loadVideo('dots_quasi.wmv')\n",
    "#n_row, n_col = shape\n"
   ]
  },
  {
   "cell_type": "code",
   "execution_count": 6,
   "id": "064cef16",
   "metadata": {},
   "outputs": [
    {
     "name": "stdout",
     "output_type": "stream",
     "text": [
      "FPS: 30.0\n"
     ]
    }
   ],
   "source": [
    "import cv2\n",
    "\n",
    "# Path to your video file\n",
    "video_path = 'dots_quasi.wmv'\n",
    "\n",
    "# Open the video file\n",
    "video = cv2.VideoCapture(video_path)\n",
    "\n",
    "# Get the frames per second (FPS) from the video\n",
    "fps = video.get(cv2.CAP_PROP_FPS)\n",
    "\n",
    "# Print the FPS\n",
    "print(\"FPS:\", fps)\n",
    "\n",
    "# Release the video capture object\n",
    "video.release()\n"
   ]
  },
  {
   "cell_type": "code",
   "execution_count": 35,
   "id": "9a4c722e",
   "metadata": {
    "scrolled": true
   },
   "outputs": [
    {
     "name": "stderr",
     "output_type": "stream",
     "text": [
      "/var/folders/2f/76h8xtxd6yn1mn8rfx554nth0000gn/T/ipykernel_9559/3493765057.py:13: DeprecationWarning:\n",
      "\n",
      "`interp2d` is deprecated!\n",
      "`interp2d` is deprecated in SciPy 1.10 and will be removed in SciPy 1.12.0.\n",
      "\n",
      "For legacy code, nearly bug-for-bug compatible replacements are\n",
      "`RectBivariateSpline` on regular grids, and `bisplrep`/`bisplev` for\n",
      "scattered 2D data.\n",
      "\n",
      "In new code, for regular grids use `RegularGridInterpolator` instead.\n",
      "For scattered data, prefer `LinearNDInterpolator` or\n",
      "`CloughTocher2DInterpolator`.\n",
      "\n",
      "For more details see\n",
      "`https://gist.github.com/ev-br/8544371b40f414b7eaf3fe6217209bff`\n",
      "\n",
      "\n",
      "/var/folders/2f/76h8xtxd6yn1mn8rfx554nth0000gn/T/ipykernel_9559/3493765057.py:14: DeprecationWarning:\n",
      "\n",
      "        `interp2d` is deprecated!\n",
      "        `interp2d` is deprecated in SciPy 1.10 and will be removed in SciPy 1.12.0.\n",
      "\n",
      "        For legacy code, nearly bug-for-bug compatible replacements are\n",
      "        `RectBivariateSpline` on regular grids, and `bisplrep`/`bisplev` for\n",
      "        scattered 2D data.\n",
      "\n",
      "        In new code, for regular grids use `RegularGridInterpolator` instead.\n",
      "        For scattered data, prefer `LinearNDInterpolator` or\n",
      "        `CloughTocher2DInterpolator`.\n",
      "\n",
      "        For more details see\n",
      "        `https://gist.github.com/ev-br/8544371b40f414b7eaf3fe6217209bff`\n",
      "\n",
      "\n"
     ]
    }
   ],
   "source": [
    "\n",
    "wSize = 15\n",
    "dim = 3\n",
    "Tau = wSize/float(dim)\n",
    "\n",
    "desiredSamples = 400\n",
    "M = data1.shape[0] - wSize + 1\n",
    "dT = M/float(desiredSamples)\n",
    "\n",
    "X = getSlidingWindowVideo(data1, dim, Tau, dT)\n"
   ]
  },
  {
   "cell_type": "code",
   "execution_count": 32,
   "id": "cf527b8c",
   "metadata": {},
   "outputs": [
    {
     "data": {
      "text/plain": [
       "(398, 120000)"
      ]
     },
     "execution_count": 32,
     "metadata": {},
     "output_type": "execute_result"
    }
   ],
   "source": [
    "X.shape"
   ]
  },
  {
   "cell_type": "code",
   "execution_count": 36,
   "id": "c91b2275",
   "metadata": {},
   "outputs": [
    {
     "name": "stderr",
     "output_type": "stream",
     "text": [
      "/Users/acrv/anaconda3/lib/python3.10/site-packages/ripser/ripser.py:253: UserWarning:\n",
      "\n",
      "The input point cloud has more columns than rows; did you mean to transpose?\n",
      "\n"
     ]
    },
    {
     "data": {
      "image/png": "[encoded data removed]",
      "text/plain": [
       "<Figure size 500x500 with 1 Axes>"
      ]
     },
     "metadata": {},
     "output_type": "display_data"
    }
   ],
   "source": [
    "\n",
    "# Persistence Computation\n",
    "rips_persistence = ripser(X, maxdim=2)\n",
    "dgms = rips_persistence['dgms']\n",
    "plt.figure(figsize = (5,5)) \n",
    "plot_diagrams(dgms, title='Persistence Diagrams')\n"
   ]
  },
  {
   "cell_type": "code",
   "execution_count": 45,
   "id": "81aeceee",
   "metadata": {},
   "outputs": [
    {
     "data": {
      "image/png": "[encoded data removed]",
      "text/plain": [
       "<Figure size 380x150 with 1 Axes>"
      ]
     },
     "metadata": {},
     "output_type": "display_data"
    }
   ],
   "source": [
    "# PCA of the Sliding window point cloud\n",
    "pca = PCA(n_components=8)\n",
    "\n",
    "X_pca = pca.fit(X).transform(X)\n",
    "plt.figure(figsize = (3.8,1.5))\n",
    "plt.plot(pca.explained_variance_ratio_, '-*') ;\n",
    "plt.title('Explained PCA variance -Sliding Window');"
   ]
  },
  {
   "cell_type": "code",
   "execution_count": 46,
   "id": "c6a8974a",
   "metadata": {},
   "outputs": [
    {
     "data": {
      "application/vnd.plotly.v1+json": {
       "config": {
        "plotlyServerURL": "https://plot.ly"
       },
       "data": [
        {
         "marker": {
          "color": "brown",
          "size": 2.5
         },
         "mode": "markers",
         "type": "scatter3d",
         "x": [
          -5589.852653098818,
          -4890.848093875686,
          -3442.765390794769,
          -1243.7123227337152,
          1211.0819124020904,
          3283.464094117289,
          4720.527008863503,
          5477.759064244549,
          5675.802725209502,
          5395.669188848676,
          4542.839833272623,
          2961.4227204778963,
          766.2530387882814,
          -1534.1832080268791,
          -3552.2376604954256,
          -4927.413375631113,
          -5556.263943368235,
          -5694.325631928892,
          -5246.035148136741,
          -4208.742207708596,
          -2428.285988647356,
          -163.02392824362315,
          2107.6050197300674,
          3928.455600879446,
          5072.280294431938,
          5563.447432495652,
          5513.511763157334,
          4949.991736124384,
          3775.8383193058135,
          1954.0045236881956,
          -239.54987439782923,
          -2384.078072343884,
          -4140.363473462157,
          -5212.849702601255,
          -5574.036327873961,
          -5387.106647048962,
          -4658.759414372944,
          -3296.9904249860233,
          -1384.4498965496655,
          819.0192623928397,
          2843.639710743811,
          4368.1794133072335,
          5220.18903428621,
          5446.16678067458,
          5124.944570649853,
          4242.677690534985,
          2880.7443810810514,
          1014.5069742598482,
          -1084.232180535437,
          -3045.890114244526,
          -4581.698779624864,
          -5256.0883677261845,
          -5327.376474409696,
          -4844.004471781933,
          -3851.2162842068433,
          -2348.3565915280474,
          -490.0281918387542,
          1520.3014194855728,
          3340.4738454176886,
          4618.355134611617,
          5183.737523073002,
          5099.890845882117,
          4506.585251165672,
          3448.303136388209,
          2016.1330010105323,
          215.47876700320006,
          -1694.8819952049078,
          -3501.539057046059,
          -4666.230229738322,
          -5084.910124402136,
          -4863.850134824221,
          -4086.3585450188157,
          -2942.8438235825533,
          -1514.4663051233665,
          201.17209728637692,
          2053.492630448854,
          3629.4295121857954,
          4607.574995015809,
          4897.871885909097,
          4505.90345681151,
          3701.8793274934433,
          2626.4593174891975,
          1275.7605676814426,
          -434.3165876086789,
          -2176.387327082229,
          -3665.068155834622,
          -4545.60034111282,
          -4625.5039653163585,
          -4140.613904226795,
          -3262.251067927377,
          -2167.626874999695,
          -847.0917407771655,
          756.1031922117465,
          2408.3552383055467,
          3717.3089860296327,
          4401.661941882223,
          4342.155964577798,
          3775.5612436780134,
          2939.994347720058,
          1982.3028404622078,
          717.1028180641794,
          -885.705656471941,
          -2429.5185451825787,
          -3675.1353312272204,
          -4174.099100257874,
          -3966.9076338287045,
          -3343.1989690137048,
          -2555.2442844806837,
          -1609.3516297093045,
          -381.6146699268282,
          1098.1892479957066,
          2546.9125092959544,
          3578.9128372286127,
          3931.8036710739584,
          3652.9644642366056,
          3052.6085851741936,
          2308.87847312824,
          1504.4748881080454,
          303.3010747497458,
          -1121.0021466128846,
          -2504.236782168556,
          -3401.997967168301,
          -3576.485033015249,
          -3227.367589685614,
          -2665.7227840460546,
          -2035.558538143131,
          -1223.619491030248,
          -113.86683785170658,
          1212.2166025166111,
          2472.9831438527112,
          3213.1372918991924,
          3333.7600126841,
          2954.775289498916,
          2483.332203698736,
          1924.8513922020668,
          1166.7359315549634,
          96.34836532899105,
          -1139.9670688748927,
          -2247.3201967540376,
          -2855.3206571234036,
          -2889.3147014508836,
          -2598.0411833538374,
          -2187.315812399569,
          -1679.8643716000104,
          -997.5612545574012,
          -35.80952491811436,
          1145.822304100127,
          2140.1432005100446,
          2627.669276721575,
          2686.9323432143715,
          2404.833473039564,
          2059.2147248117276,
          1634.5850746754131,
          1004.8487545022081,
          67.74923477175238,
          -954.7681967812908,
          -1783.4512755814185,
          -2223.588937088546,
          -2283.565845293666,
          -2149.1964284084597,
          -1898.683419638061,
          -1497.9143860223555,
          -934.8692845648312,
          -110.0336560690336,
          864.2705325166319,
          1625.4153838726263,
          2086.43073687782,
          2157.145903650191,
          2043.137803858663,
          1837.9326277449566,
          1580.6908446524224,
          1040.023458008672,
          261.771449847915,
          -543.5082532953883,
          -1259.207141058654,
          -1729.518108848871,
          -1902.4011227911571,
          -1891.317753690393,
          -1789.581745479009,
          -1580.1645842313997,
          -1162.9121589683073,
          -473.3581102658875,
          391.4330842771071,
          1142.8284806755626,
          1637.3343608088187,
          1843.6311727337893,
          1875.3523386603144,
          1812.1959253299242,
          1685.355511476675,
          1331.953912512391,
          759.6178311214825,
          1.8202310940392246,
          -799.1004933571701,
          -1397.7744376953328,
          -1690.267939379508,
          -1801.6130778902811,
          -1863.8977420502993,
          -1827.9841576383415,
          -1551.1106062957438,
          -946.2484393748488,
          -74.64761219253478,
          764.3595770180183,
          1395.7501913513383,
          1695.490062023493,
          1890.0729874400224,
          2010.8079083888656,
          2025.9510129407638,
          1820.4694264430377,
          1274.369185225211,
          395.6012986942538,
          -550.5936659951278,
          -1245.5568067909003,
          -1661.184099371543,
          -1950.360163580491,
          -2155.021761907735,
          -2290.6487355119757,
          -2140.4724939379635,
          -1427.646031789075,
          -423.3091387893438,
          570.30036352203,
          1304.262755395822,
          1733.7508612600047,
          2070.3535286897236,
          2389.3184527442713,
          2580.15151902609,
          2384.975664216259,
          1682.4143727539824,
          628.443980347031,
          -436.241309570314,
          -1231.4127124798983,
          -1817.6365070458696,
          -2295.659563243548,
          -2673.8439496071114,
          -2946.5289025111365,
          -2667.279225959638,
          -1718.6731236510877,
          -545.0947019399839,
          563.8140076094322,
          1373.8761271015612,
          1970.6577489331003,
          2511.340485513534,
          3034.1574277112095,
          3247.638160613251,
          2887.293220626364,
          1953.6870189822487,
          661.8383892280135,
          -566.726965186245,
          -1487.239590848734,
          -2186.552928407097,
          -2844.1278765340508,
          -3411.142061273018,
          -3566.599477862253,
          -2998.582471143787,
          -1827.7647858929222,
          -510.3695552741377,
          721.3140944612451,
          1689.487998192906,
          2485.8690528755014,
          3207.4085053208996,
          3752.3420537719867,
          3805.431418234391,
          3164.1968076305347,
          1972.906713611005,
          501.8209831020778,
          -849.4081513451856,
          -1916.4306999769788,
          -2776.9948267407744,
          -3585.1187199313867,
          -4103.8853535302815,
          -3995.277361266103,
          -3137.983292220884,
          -1780.9215514598966,
          -278.02091162317834,
          1085.711776509162,
          2186.5381024256244,
          3159.924284401873,
          3968.0421690610046,
          4356.370403799537,
          4139.395941945177,
          3242.3441890075205,
          1807.5907025635368,
          151.21831674028795,
          -1330.701538146922,
          -2559.360223390472,
          -3593.35743482388,
          -4324.4384023153425,
          -4590.645958186116,
          -4201.620923402616,
          -3087.7632164777583,
          -1540.399192279527,
          127.11467143043993,
          1655.9210925220723,
          2942.4843747108002,
          3972.325082108877,
          4647.152407491239,
          4800.445357225126,
          4312.115840152939,
          3126.5731396340084,
          1451.4354463140392,
          -381.36407002141857,
          -2015.2861598931224,
          -3348.2273362652513,
          -4369.975803481579,
          -4871.305655203267,
          -4877.221518153805,
          -4188.330687753246,
          -2829.2858270571264,
          -1078.9808755409713,
          770.923315301216,
          2455.9650412157416,
          3787.6697784037215,
          4691.32121319821,
          5132.613892309865,
          5028.364579574324,
          4210.714465423692,
          2761.3343062016465,
          806.5540523655925,
          -1215.358503606399,
          -2933.8308310517587,
          -4183.754422709406,
          -4976.763522487187,
          -5270.543265093738,
          -5009.554197596477,
          -4010.8353953952214,
          -2356.7754291692486,
          -360.55102783012256,
          1669.194681750124,
          3403.1507646089344,
          4591.480933367834,
          5251.586935854844,
          5420.916571126319,
          5077.378531482293,
          3969.0975204055594,
          2226.608070733626,
          -42.343812435516874,
          -2155.662059645594,
          -3817.344348198082,
          -4835.751533497278,
          -5366.293141253159,
          -5425.686485893261,
          -4882.579709170009,
          -3614.356582819116,
          -1697.495505813086,
          539.9258978632143,
          2652.806538278018,
          4241.382215740893,
          5155.266733386146,
          5599.95533040469,
          5503.411144528839,
          4848.40560994512,
          3489.400870068284,
          1365.434028565574,
          -1021.0485525555838,
          -3094.231881317874,
          -4500.856969793698,
          -5303.193182249278,
          -5607.330117634653,
          -5397.933940098847,
          -4550.443194344398,
          -2961.6850333582506,
          -788.4218230823868,
          1550.0905759261868,
          3566.0385569739074,
          4876.862906526044,
          5524.4399094355185,
          5710.49190918849,
          5378.031403330833,
          4428.4047637965205,
          2643.8933478538142,
          306.69868813635236,
          -2028.4827790442562,
          -3847.471342878471,
          -4998.043657825385,
          -5587.31529113581,
          -5620.4246415868065,
          -5135.65990540186,
          -3977.30419656111,
          -2044.7592892701336,
          306.9237817903773,
          2560.558542026307,
          4305.859938123404,
          5294.83670502458,
          5702.299565317612,
          5622.970396126995,
          5058.080273477976,
          3679.009719178485,
          1651.078636456496,
          -765.7729259835727,
          -2923.719748431975,
          -4465.598210837917,
          -5341.17309919687,
          -5649.2354142876675,
          -5442.236257581654,
          -4656.280002168257,
          -3167.9960206263277,
          -1035.250080243373,
          1315.0569113337458,
          3379.2457718826486
         ],
         "y": [
          1588.0842850454599,
          1055.8292843221313,
          350.5425000277835,
          -448.6607670524893,
          -1154.74632906785,
          -1630.9333636368995,
          -1846.7102780493567,
          -1883.5825456208315,
          -1696.891110195416,
          -1252.7639721742737,
          -583.9542823716627,
          244.58076088310858,
          1085.7535061369383,
          1741.979253673198,
          2030.1402496122776,
          2072.1656319964836,
          1985.2110946128846,
          1572.5440520926231,
          928.1595205270337,
          34.461502788247046,
          -983.8291499338479,
          -1809.8763778385935,
          -2222.837545985813,
          -2271.627109309669,
          -2126.9485639504173,
          -1802.32532231304,
          -1241.9421008126767,
          -426.8479310701233,
          604.5697068289596,
          1645.1908697324504,
          2363.898721250489,
          2609.5364075934076,
          2480.0736452074543,
          2194.1494850821105,
          1670.9575944497442,
          909.5950193335624,
          -129.62260004932918,
          -1368.4107591353488,
          -2381.8369603326328,
          -2849.563368825344,
          -2828.449540456637,
          -2515.7144548321985,
          -2016.670460266415,
          -1325.0551356590004,
          -393.4301773566036,
          793.3273421627435,
          2063.3290544331185,
          2974.2841865318173,
          3264.466958528912,
          3039.358449003406,
          2533.4116449276344,
          1861.334733741116,
          985.6687867768467,
          -168.729766285137,
          -1575.3248331326477,
          -2817.181887131789,
          -3481.947787776674,
          -3490.2699508950427,
          -3056.6926737641106,
          -2369.0735503694696,
          -1515.4838089975144,
          -470.13105346311744,
          855.3052730022036,
          2295.4003262539545,
          3454.186783338274,
          3921.786836467452,
          3737.1812439298733,
          3093.533788015277,
          2189.358667776322,
          1155.767104430688,
          -106.39132742582889,
          -1605.1495468943615,
          -3034.074101994125,
          -3946.0667428693687,
          -4138.0102907245255,
          -3717.5482361318104,
          -2909.4530296882226,
          -1867.4619520954186,
          -639.4951110079714,
          785.2178437033123,
          2358.988741239139,
          3710.6139396905423,
          4426.000982997438,
          4369.6730123797215,
          3768.0048402641755,
          2718.7488467848357,
          1466.671615535835,
          66.55084976774748,
          -1572.465789047782,
          -3130.0668242970496,
          -4220.278299767836,
          -4636.662163391276,
          -4369.582254739292,
          -3550.0687898286405,
          -2367.768877736791,
          -967.5164432491893,
          611.2978783484178,
          2318.752484785512,
          3816.9145346361115,
          4758.346636085259,
          4947.393627532224,
          4417.575234223556,
          3360.5605583312454,
          1940.4400955028652,
          343.47649406446584,
          -1418.029757019673,
          -3092.2558785137976,
          -4347.093859323283,
          -4973.840717280843,
          -4922.088604061388,
          -4219.527310616991,
          -2994.5648561374933,
          -1449.3655067188108,
          319.2320093410891,
          2181.2640257585217,
          3819.210577029689,
          4896.1941261964585,
          5329.116797259892,
          5026.853967485475,
          4042.367096332342,
          2564.4108587836236,
          790.4435009894976,
          -1140.3079401296077,
          -2955.019666966764,
          -4340.1143006923885,
          -5141.921410105645,
          -5317.9672609309755,
          -4831.351408117821,
          -3698.5106538530536,
          -2060.148787386116,
          -114.2371121702276,
          1943.0537569485525,
          3695.896193466677,
          4924.549415481387,
          5495.422798974298,
          5446.662295782289,
          4669.578232483608,
          3281.427413820226,
          1414.1675390222779,
          -724.4885370238184,
          -2727.719672852322,
          -4255.004083155415,
          -5172.318921325615,
          -5509.026304104909,
          -5257.5971248048945,
          -4333.507647942505,
          -2776.362847140063,
          -741.8376319186463,
          1492.434259165307,
          3489.626312244448,
          4834.684640238304,
          5514.700054164834,
          5654.223331881406,
          5125.117429388405,
          3913.676953658174,
          2104.5463760486514,
          -130.40722873901748,
          -2323.5131660193874,
          -4026.4375209999184,
          -5098.620825808675,
          -5580.818714569545,
          -5485.47085741477,
          -4783.0215115004585,
          -3433.3424778587823,
          -1435.7514981718857,
          920.0684440045193,
          3121.386298512193,
          4652.231595090891,
          5467.987179438843,
          5734.451165134592,
          5412.975441062971,
          4427.808852073163,
          2769.807470746136,
          565.8965586174821,
          -1770.5037105044598,
          -3696.7277123352887,
          -4934.13765745929,
          -5542.282337993174,
          -5610.469860850466,
          -5102.476273008346,
          -3980.207613395805,
          -2151.338583058543,
          242.4869341235675,
          2571.979316547722,
          4301.987297714248,
          5303.937017482384,
          5710.993364545627,
          5512.17423313857,
          4760.0659885312525,
          3325.6653474553564,
          1261.5858893014029,
          -1085.0457860188349,
          -3181.787966812348,
          -4641.648397664688,
          -5411.340426903576,
          -5591.392492231782,
          -5227.723551629028,
          -4317.735096385831,
          -2729.0102005425433,
          -492.1613810103547,
          1920.6510601118346,
          3794.7984311057703,
          5010.866483655693,
          5564.419361567568,
          5523.467684935277,
          4915.826316423053,
          3701.460009910809,
          1841.5603413804988,
          -393.0157866771343,
          -2530.279746458272,
          -4171.384887688607,
          -5149.691161437439,
          -5494.050565582007,
          -5253.769879408503,
          -4475.509997877447,
          -3115.2463382790716,
          -1110.816321293773,
          1181.147373759427,
          3152.2531016799203,
          4554.408082855647,
          5335.796604283925,
          5419.054862191682,
          4936.6200169554995,
          3893.6509357014234,
          2264.5816184849596,
          223.5936235092301,
          -1837.9044279910506,
          -3550.9296478548918,
          -4720.7135049094295,
          -5261.782463618759,
          -5180.094162694218,
          -4546.184556130633,
          -3309.6400828108876,
          -1530.814565878302,
          535.3905750338911,
          2451.358722939889,
          3934.13458538038,
          4911.912269153067,
          5203.983821892012,
          4870.283558300249,
          3963.7807561967356,
          2514.6232755480373,
          682.6314403941526,
          -1202.8392257742532,
          -2856.3366349422495,
          -4145.521928503397,
          -4912.3126459544455,
          -5001.663491673486,
          -4497.3652819160125,
          -3411.4772768142143,
          -1791.8179232582877,
          39.68832580563663,
          1777.6013998164942,
          3260.352514658348,
          4327.241741673028,
          4836.12092027863,
          4704.159334995711,
          3935.3473347728686,
          2615.150185069884,
          976.5935043362853,
          -695.4213994305737,
          -2203.210610210132,
          -3453.2627140254444,
          -4355.923594149226,
          -4669.065691771836,
          -4356.249556726603,
          -3388.537300482119,
          -1877.1195421210464,
          -214.25171741271538,
          1271.433869615481,
          2588.0765568195134,
          3672.269342920529,
          4307.523816440825,
          4373.894950711025,
          3786.2653551099,
          2610.276015720455,
          1098.7577241267197,
          -411.66503389568953,
          -1709.6929389379004,
          -2809.7844178023,
          -3700.7398378470934,
          -4180.145266824896,
          -4073.380889002204,
          -3289.5887348979286,
          -1888.3256360652663,
          -351.78011256175074,
          964.7234028928626,
          2047.8565592776506,
          3007.0281041715566,
          3662.301437748263,
          3877.4583994181153,
          3499.25215605668,
          2488.4000714337612,
          1101.2453375615426,
          -262.80694064809114,
          -1373.7492698242413,
          -2262.8117342983014,
          -3028.5819925635546,
          -3520.5058327828638,
          -3610.0931463603665,
          -3039.1226479173242,
          -1791.9550935887373,
          -373.9588921811063,
          829.6888384281918,
          1716.4999010024706,
          2452.7882895814782,
          3010.3626368225405,
          3260.169672665601,
          3050.9115515130743,
          2250.3874109767276,
          1013.2652211095519,
          -234.2143904716738,
          -1200.269354676433,
          -1898.558130435784,
          -2482.6069331631415,
          -2864.5934781510714,
          -3020.654783776665,
          -2645.964188114423,
          -1586.7359408408176,
          -299.1389527807471,
          784.1241646712616,
          1545.2337533784646,
          2068.6476797744767,
          2435.2683152581235,
          2633.567645328754,
          2489.572154336648,
          1861.6068136070169,
          832.3277358406441,
          -285.3775477036315,
          -1155.877992173549,
          -1718.8133675572694,
          -2058.4531384929764,
          -2268.995306355808,
          -2322.8373153727357,
          -2065.800287377728,
          -1217.6434760738164,
          -123.02512666908231,
          844.4725192886873,
          1499.6527334907457,
          1878.2021737696934,
          2025.9119687401385,
          2025.4020641646564,
          1830.890537191171,
          1295.6387894772424,
          443.9159910731313,
          -480.6060380342196,
          -1226.2082362546976,
          -1649.5794451843663,
          -1866.8592433838148,
          -1845.4556310291205,
          -1714.2095004380944,
          -1377.6538144438555,
          -684.9801353103559,
          213.79191756438212,
          1008.5752114481134,
          1541.6582348743507,
          1807.0040980870488,
          1798.9498395967614,
          1586.5288050339177,
          1229.8590922812975,
          660.747621623071,
          -102.09468422088042,
          -829.0654535658983,
          -1381.8504950752354,
          -1709.4404864600692,
          -1791.1853669443371,
          -1608.9136566211228,
          -1253.7379599112094,
          -739.4937551587758,
          -26.46120538175261,
          724.5185508549714,
          1336.2133759257365,
          1717.6542713670078,
          1853.3957109507553,
          1732.4512659932009,
          1344.861876295911,
          777.9455421454883,
          86.84222242128094,
          -696.506842439792,
          -1350.9751608275114,
          -1704.1535808445624,
          -1866.4950642544968,
          -1839.7133210542818,
          -1536.2880190485096,
          -967.9797329546569,
          -255.6960796072646,
          618.7091324884022,
          1329.8608510734302,
          1779.3187885304303,
          1984.1799337870368,
          1996.9541420766468,
          1755.1696077203628,
          1240.8844075918594,
          491.21391638944664,
          -434.688617502067,
          -1344.6088220274846,
          -1963.0270307537678,
          -2195.685007391537
         ],
         "z": [
          -1600.609000437862,
          -3286.5232524489106,
          -4280.459943807772,
          -4634.343782736603,
          -4648.178797654697,
          -4104.823296131622,
          -2859.201673144946,
          -1193.3230051086773,
          608.0297766501546,
          2356.1797381557167,
          3719.0606698920355,
          4440.296121887389,
          4649.936582227474,
          4483.551910030419,
          3776.2826783544638,
          2410.970155173273,
          731.0733886652516,
          -1110.6877858503253,
          -2815.2377612905666,
          -3956.1800147084214,
          -4462.701588674617,
          -4559.968488261793,
          -4147.279833513198,
          -3094.0577958668414,
          -1592.6541568676662,
          122.39726226212571,
          1868.710869002934,
          3318.197204582377,
          4177.64564319033,
          4512.997468897011,
          4439.107202726002,
          3826.5362514258672,
          2628.952653155303,
          1118.7447409034592,
          -635.6082865022819,
          -2342.7140882579024,
          -3547.78674357264,
          -4182.456955666314,
          -4413.851215257372,
          -4090.3357954464927,
          -3168.7962353708263,
          -1844.4157002955083,
          -270.17980877216917,
          1402.6424044596758,
          2868.176687083271,
          3823.6037065515607,
          4249.393669326598,
          4306.213505333062,
          3770.7518291431115,
          2709.0365358530403,
          1348.16610259617,
          -198.1187266779951,
          -1839.1246252046392,
          -3063.4947404963027,
          -3801.7817668623284,
          -4156.718201412482,
          -3967.582971215905,
          -3157.7201626975157,
          -1969.5786074544465,
          -573.7550183108567,
          967.500990011147,
          2389.9630352628374,
          3373.6336078188556,
          3922.877846124424,
          4112.921585735673,
          3698.9374592423387,
          2660.355278601651,
          1468.0002461573392,
          85.90007474578337,
          -1408.8776468805222,
          -2596.9084827396605,
          -3336.0499923078046,
          -3805.8165105865187,
          -3755.9514397697985,
          -3054.7344770171026,
          -1969.6908760556469,
          -725.1410137629397,
          649.6925802012091,
          1965.8435098963457,
          2906.210567376666,
          3491.9103871929374,
          3798.816172202615,
          3516.055260373724,
          2599.160243530279,
          1433.033097534112,
          205.74008970869863,
          -1101.6475182849845,
          -2158.9713929984937,
          -2875.7960526352704,
          -3353.823375073215,
          -3414.9838872698647,
          -2870.5729048818794,
          -1890.1733867668931,
          -741.6890601799597,
          472.5939384576658,
          1621.6563727516939,
          2474.374442525109,
          3027.8075295266794,
          3398.463071711394,
          3228.2249993392156,
          2457.006625660216,
          1377.2821267726001,
          218.41558073583238,
          -932.9165395671392,
          -1820.5595015462018,
          -2441.313786329523,
          -2896.959635255161,
          -3002.649996095196,
          -2576.308212375487,
          -1733.5774973121793,
          -679.0707416556376,
          443.19178498420445,
          1426.382503376371,
          2111.2628909919495,
          2589.497907207023,
          2946.8652482091247,
          2871.63534894698,
          2184.2283920837654,
          1251.6383146231913,
          153.83722816265305,
          -903.8925445524515,
          -1644.3497368466483,
          -2090.573488380601,
          -2460.196616602177,
          -2561.9105901172898,
          -2196.500865963905,
          -1467.1561668130178,
          -542.773284110806,
          477.82308616022095,
          1377.1421148891277,
          1899.3916997166205,
          2201.676392091173,
          2493.266542544477,
          2428.2761077120044,
          1831.5090287091716,
          1013.1418134834959,
          41.78038768997614,
          -969.1205930884166,
          -1599.5546372553965,
          -1881.8124942874454,
          -2088.087981223918,
          -2122.912387208391,
          -1755.1472842909109,
          -1086.3069955610424,
          -295.87357507543567,
          609.0516130448066,
          1421.0048788411768,
          1832.0067829125703,
          1959.3940224849007,
          2108.3175472483904,
          1975.7576823410386,
          1407.4499987657955,
          687.4276229643685,
          -165.62252329682553,
          -1062.4421767822853,
          -1650.1395918086264,
          -1835.0686933816396,
          -1870.1461658564408,
          -1755.1770232063136,
          -1323.556881115328,
          -658.8080681495757,
          63.01835826242438,
          838.9838809834106,
          1542.3731625917062,
          1874.7813956865475,
          1868.1727019417003,
          1844.6774520723432,
          1593.0646472252818,
          958.2540666292356,
          283.75672526099777,
          -482.9096818376171,
          -1257.447742522405,
          -1758.4843548888427,
          -1875.6608136517464,
          -1783.2503582894676,
          -1494.8708397482762,
          -941.6759922729844,
          -232.434067540838,
          480.5540891609111,
          1170.4751366765393,
          1751.8842711055916,
          1982.1167605645887,
          1912.2386218164877,
          1725.0434985050763,
          1280.816208696269,
          541.0518299738737,
          -177.12620919512074,
          -875.8787468837481,
          -1553.3243920451898,
          -1947.166814037036,
          -1985.5020818700273,
          -1808.3186697690812,
          -1392.1917312813098,
          -671.7785288148186,
          175.19051245512202,
          930.7716974533126,
          1589.1097780234597,
          2072.512245913326,
          2173.2659754166166,
          1996.5064703759615,
          1741.4730348943033,
          1139.4421567631855,
          231.32869530110045,
          -581.961249274207,
          -1299.5501424692982,
          -1920.984780818155,
          -2215.5076066791135,
          -2144.8347846045504,
          -1902.721187373144,
          -1413.9145684337625,
          -546.4538456057119,
          466.3137280658629,
          1327.8758381371024,
          2021.7543669014544,
          2492.6735537138725,
          2478.8041449170255,
          2185.0026475773657,
          1839.1608360770053,
          1144.5518591865482,
          75.23014541737136,
          -901.1874600515713,
          -1731.5339021970362,
          -2356.9746444595767,
          -2604.267662214508,
          -2434.991638412835,
          -2069.478050044105,
          -1508.9754869160215,
          -568.4795579644476,
          609.8604598648222,
          1653.494992540783,
          2442.0297745203106,
          2946.2000670005505,
          2904.0390501970533,
          2488.2188196563143,
          2008.2839298551664,
          1233.069052964981,
          46.146131179306025,
          -1110.2242172037897,
          -2092.4614305094024,
          -2810.3807793430065,
          -3038.0869768871453,
          -2796.764669229468,
          -2326.6161907842375,
          -1665.710545384139,
          -654.6740848868291,
          628.5808421561441,
          1843.7615031450168,
          2813.471449928761,
          3388.707835668264,
          3389.728056838568,
          2869.272583430097,
          2259.917828904845,
          1369.5595363466762,
          138.9778328835975,
          -1162.2654583031926,
          -2311.039896615079,
          -3169.1317434858424,
          -3483.004447346741,
          -3228.3902043193584,
          -2672.356195130233,
          -1907.266044649023,
          -805.6372319819808,
          552.2557460172228,
          1893.6166204019582,
          3025.4487994196425,
          3785.1650360825124,
          3822.446393474294,
          3340.818391436585,
          2633.9089481220176,
          1637.3729376792364,
          287.02248433286377,
          -1081.4595313627954,
          -2383.944429714378,
          -3428.1005793734025,
          -3885.6473619496273,
          -3690.252707641362,
          -3111.034488495723,
          -2259.969249178373,
          -1034.3071272233517,
          406.80231218593104,
          1796.6215223232869,
          3091.6737408012623,
          4052.6482894233095,
          4248.572801630503,
          3811.091143141713,
          3114.8315537471276,
          2007.605590646785,
          530.4356666908407,
          -949.8959963036384,
          -2349.5375097379206,
          -3550.531000795312,
          -4190.472672196089,
          -4125.7859429640785,
          -3579.706593208318,
          -2689.723878220342,
          -1381.6177435632342,
          195.87539431790248,
          1696.9856224649416,
          3036.074586273902,
          4160.930418356955,
          4559.166680406425,
          4231.688198981527,
          3584.441700683451,
          2456.8766195577664,
          888.9725997702205,
          -719.0182271800572,
          -2208.6411778135043,
          -3522.9605762372353,
          -4337.787500970371,
          -4449.825245362026,
          -4016.637297297344,
          -3158.34511300199,
          -1803.841876493901,
          -123.87380998436812,
          1495.2169421824567,
          2933.139637941688,
          4145.676308428476,
          4718.009323548969,
          4581.667201696524,
          4012.665798797716,
          2945.153050649696,
          1328.0299698803933,
          -399.53000901181207,
          -2025.688461387473,
          -3423.6030053737304,
          -4366.801227552486,
          -4668.167963288332,
          -4396.014831454196,
          -3630.4032922364167,
          -2270.8762563721803,
          -529.1000036499263,
          1204.847865983034,
          2759.5367498908677,
          4046.30447203236,
          4713.475388032857,
          4764.162431359112,
          4395.784175378834,
          3396.955609463632,
          1822.892111830885,
          25.41068344998668,
          -1714.9627085077045,
          -3244.695199285142,
          -4288.789611366595,
          -4705.579074590593,
          -4614.446135667887,
          -4020.7889504454242,
          -2766.788288211674,
          -1006.0229289225166,
          811.6683594329353,
          2492.4727681006875,
          3900.6405571015184,
          4613.780122003618,
          4804.085245123993,
          4608.34122142185,
          3785.4910698247204,
          2312.808962871642,
          534.0918287469846,
          -1290.3645129886797,
          -2951.887937039172,
          -4126.844309392705,
          -4657.816097587831,
          -4705.3304192413425,
          -4305.729917735741,
          -3199.6305762999054,
          -1501.4275024563274,
          334.7568094724244,
          2113.7919557948485,
          3661.6436410819265,
          4498.83516728644,
          4735.951895594472,
          4685.0754038587065,
          4055.496412728409,
          2717.5829499843057,
          1007.3317249905415,
          -822.805269344699,
          -2562.6487767207404,
          -3874.619119613611,
          -4537.905931044952,
          -4683.259491320162,
          -4430.298851284189,
          -3517.7690131282434,
          -1972.9234354229843,
          -158.17474652898468,
          1665.3829299380868,
          3297.4525406554185,
          4282.001684062975,
          4633.443146707409,
          4656.90390704345,
          4183.2394581895815,
          3044.265070694752,
          1453.146876570033,
          -325.69024755112787,
          -2101.173896329328,
          -3533.076730470504,
          -4333.265245861839,
          -4586.578981620038,
          -4427.576853362496,
          -3698.1126134685946
         ]
        }
       ],
       "layout": {
        "scene": {
         "aspectmode": "data"
        },
        "template": {
         "data": {
          "bar": [
           {
            "error_x": {
             "color": "#2a3f5f"
            },
            "error_y": {
             "color": "#2a3f5f"
            },
            "marker": {
             "line": {
              "color": "#E5ECF6",
              "width": 0.5
             },
             "pattern": {
              "fillmode": "overlay",
              "size": 10,
              "solidity": 0.2
             }
            },
            "type": "bar"
           }
          ],
          "barpolar": [
           {
            "marker": {
             "line": {
              "color": "#E5ECF6",
              "width": 0.5
             },
             "pattern": {
              "fillmode": "overlay",
              "size": 10,
              "solidity": 0.2
             }
            },
            "type": "barpolar"
           }
          ],
          "carpet": [
           {
            "aaxis": {
             "endlinecolor": "#2a3f5f",
             "gridcolor": "white",
             "linecolor": "white",
             "minorgridcolor": "white",
             "startlinecolor": "#2a3f5f"
            },
            "baxis": {
             "endlinecolor": "#2a3f5f",
             "gridcolor": "white",
             "linecolor": "white",
             "minorgridcolor": "white",
             "startlinecolor": "#2a3f5f"
            },
            "type": "carpet"
           }
          ],
          "choropleth": [
           {
            "colorbar": {
             "outlinewidth": 0,
             "ticks": ""
            },
            "type": "choropleth"
           }
          ],
          "contour": [
           {
            "colorbar": {
             "outlinewidth": 0,
             "ticks": ""
            },
            "colorscale": [
             [
              0,
              "#0d0887"
             ],
             [
              0.1111111111111111,
              "#46039f"
             ],
             [
              0.2222222222222222,
              "#7201a8"
             ],
             [
              0.3333333333333333,
              "#9c179e"
             ],
             [
              0.4444444444444444,
              "#bd3786"
             ],
             [
              0.5555555555555556,
              "#d8576b"
             ],
             [
              0.6666666666666666,
              "#ed7953"
             ],
             [
              0.7777777777777778,
              "#fb9f3a"
             ],
             [
              0.8888888888888888,
              "#fdca26"
             ],
             [
              1,
              "#f0f921"
             ]
            ],
            "type": "contour"
           }
          ],
          "contourcarpet": [
           {
            "colorbar": {
             "outlinewidth": 0,
             "ticks": ""
            },
            "type": "contourcarpet"
           }
          ],
          "heatmap": [
           {
            "colorbar": {
             "outlinewidth": 0,
             "ticks": ""
            },
            "colorscale": [
             [
              0,
              "#0d0887"
             ],
             [
              0.1111111111111111,
              "#46039f"
             ],
             [
              0.2222222222222222,
              "#7201a8"
             ],
             [
              0.3333333333333333,
              "#9c179e"
             ],
             [
              0.4444444444444444,
              "#bd3786"
             ],
             [
              0.5555555555555556,
              "#d8576b"
             ],
             [
              0.6666666666666666,
              "#ed7953"
             ],
             [
              0.7777777777777778,
              "#fb9f3a"
             ],
             [
              0.8888888888888888,
              "#fdca26"
             ],
             [
              1,
              "#f0f921"
             ]
            ],
            "type": "heatmap"
           }
          ],
          "heatmapgl": [
           {
            "colorbar": {
             "outlinewidth": 0,
             "ticks": ""
            },
            "colorscale": [
             [
              0,
              "#0d0887"
             ],
             [
              0.1111111111111111,
              "#46039f"
             ],
             [
              0.2222222222222222,
              "#7201a8"
             ],
             [
              0.3333333333333333,
              "#9c179e"
             ],
             [
              0.4444444444444444,
              "#bd3786"
             ],
             [
              0.5555555555555556,
              "#d8576b"
             ],
             [
              0.6666666666666666,
              "#ed7953"
             ],
             [
              0.7777777777777778,
              "#fb9f3a"
             ],
             [
              0.8888888888888888,
              "#fdca26"
             ],
             [
              1,
              "#f0f921"
             ]
            ],
            "type": "heatmapgl"
           }
          ],
          "histogram": [
           {
            "marker": {
             "pattern": {
              "fillmode": "overlay",
              "size": 10,
              "solidity": 0.2
             }
            },
            "type": "histogram"
           }
          ],
          "histogram2d": [
           {
            "colorbar": {
             "outlinewidth": 0,
             "ticks": ""
            },
            "colorscale": [
             [
              0,
              "#0d0887"
             ],
             [
              0.1111111111111111,
              "#46039f"
             ],
             [
              0.2222222222222222,
              "#7201a8"
             ],
             [
              0.3333333333333333,
              "#9c179e"
             ],
             [
              0.4444444444444444,
              "#bd3786"
             ],
             [
              0.5555555555555556,
              "#d8576b"
             ],
             [
              0.6666666666666666,
              "#ed7953"
             ],
             [
              0.7777777777777778,
              "#fb9f3a"
             ],
             [
              0.8888888888888888,
              "#fdca26"
             ],
             [
              1,
              "#f0f921"
             ]
            ],
            "type": "histogram2d"
           }
          ],
          "histogram2dcontour": [
           {
            "colorbar": {
             "outlinewidth": 0,
             "ticks": ""
            },
            "colorscale": [
             [
              0,
              "#0d0887"
             ],
             [
              0.1111111111111111,
              "#46039f"
             ],
             [
              0.2222222222222222,
              "#7201a8"
             ],
             [
              0.3333333333333333,
              "#9c179e"
             ],
             [
              0.4444444444444444,
              "#bd3786"
             ],
             [
              0.5555555555555556,
              "#d8576b"
             ],
             [
              0.6666666666666666,
              "#ed7953"
             ],
             [
              0.7777777777777778,
              "#fb9f3a"
             ],
             [
              0.8888888888888888,
              "#fdca26"
             ],
             [
              1,
              "#f0f921"
             ]
            ],
            "type": "histogram2dcontour"
           }
          ],
          "mesh3d": [
           {
            "colorbar": {
             "outlinewidth": 0,
             "ticks": ""
            },
            "type": "mesh3d"
           }
          ],
          "parcoords": [
           {
            "line": {
             "colorbar": {
              "outlinewidth": 0,
              "ticks": ""
             }
            },
            "type": "parcoords"
           }
          ],
          "pie": [
           {
            "automargin": true,
            "type": "pie"
           }
          ],
          "scatter": [
           {
            "fillpattern": {
             "fillmode": "overlay",
             "size": 10,
             "solidity": 0.2
            },
            "type": "scatter"
           }
          ],
          "scatter3d": [
           {
            "line": {
             "colorbar": {
              "outlinewidth": 0,
              "ticks": ""
             }
            },
            "marker": {
             "colorbar": {
              "outlinewidth": 0,
              "ticks": ""
             }
            },
            "type": "scatter3d"
           }
          ],
          "scattercarpet": [
           {
            "marker": {
             "colorbar": {
              "outlinewidth": 0,
              "ticks": ""
             }
            },
            "type": "scattercarpet"
           }
          ],
          "scattergeo": [
           {
            "marker": {
             "colorbar": {
              "outlinewidth": 0,
              "ticks": ""
             }
            },
            "type": "scattergeo"
           }
          ],
          "scattergl": [
           {
            "marker": {
             "colorbar": {
              "outlinewidth": 0,
              "ticks": ""
             }
            },
            "type": "scattergl"
           }
          ],
          "scattermapbox": [
           {
            "marker": {
             "colorbar": {
              "outlinewidth": 0,
              "ticks": ""
             }
            },
            "type": "scattermapbox"
           }
          ],
          "scatterpolar": [
           {
            "marker": {
             "colorbar": {
              "outlinewidth": 0,
              "ticks": ""
             }
            },
            "type": "scatterpolar"
           }
          ],
          "scatterpolargl": [
           {
            "marker": {
             "colorbar": {
              "outlinewidth": 0,
              "ticks": ""
             }
            },
            "type": "scatterpolargl"
           }
          ],
          "scatterternary": [
           {
            "marker": {
             "colorbar": {
              "outlinewidth": 0,
              "ticks": ""
             }
            },
            "type": "scatterternary"
           }
          ],
          "surface": [
           {
            "colorbar": {
             "outlinewidth": 0,
             "ticks": ""
            },
            "colorscale": [
             [
              0,
              "#0d0887"
             ],
             [
              0.1111111111111111,
              "#46039f"
             ],
             [
              0.2222222222222222,
              "#7201a8"
             ],
             [
              0.3333333333333333,
              "#9c179e"
             ],
             [
              0.4444444444444444,
              "#bd3786"
             ],
             [
              0.5555555555555556,
              "#d8576b"
             ],
             [
              0.6666666666666666,
              "#ed7953"
             ],
             [
              0.7777777777777778,
              "#fb9f3a"
             ],
             [
              0.8888888888888888,
              "#fdca26"
             ],
             [
              1,
              "#f0f921"
             ]
            ],
            "type": "surface"
           }
          ],
          "table": [
           {
            "cells": {
             "fill": {
              "color": "#EBF0F8"
             },
             "line": {
              "color": "white"
             }
            },
            "header": {
             "fill": {
              "color": "#C8D4E3"
             },
             "line": {
              "color": "white"
             }
            },
            "type": "table"
           }
          ]
         },
         "layout": {
          "annotationdefaults": {
           "arrowcolor": "#2a3f5f",
           "arrowhead": 0,
           "arrowwidth": 1
          },
          "autotypenumbers": "strict",
          "coloraxis": {
           "colorbar": {
            "outlinewidth": 0,
            "ticks": ""
           }
          },
          "colorscale": {
           "diverging": [
            [
             0,
             "#8e0152"
            ],
            [
             0.1,
             "#c51b7d"
            ],
            [
             0.2,
             "#de77ae"
            ],
            [
             0.3,
             "#f1b6da"
            ],
            [
             0.4,
             "#fde0ef"
            ],
            [
             0.5,
             "#f7f7f7"
            ],
            [
             0.6,
             "#e6f5d0"
            ],
            [
             0.7,
             "#b8e186"
            ],
            [
             0.8,
             "#7fbc41"
            ],
            [
             0.9,
             "#4d9221"
            ],
            [
             1,
             "#276419"
            ]
           ],
           "sequential": [
            [
             0,
             "#0d0887"
            ],
            [
             0.1111111111111111,
             "#46039f"
            ],
            [
             0.2222222222222222,
             "#7201a8"
            ],
            [
             0.3333333333333333,
             "#9c179e"
            ],
            [
             0.4444444444444444,
             "#bd3786"
            ],
            [
             0.5555555555555556,
             "#d8576b"
            ],
            [
             0.6666666666666666,
             "#ed7953"
            ],
            [
             0.7777777777777778,
             "#fb9f3a"
            ],
            [
             0.8888888888888888,
             "#fdca26"
            ],
            [
             1,
             "#f0f921"
            ]
           ],
           "sequentialminus": [
            [
             0,
             "#0d0887"
            ],
            [
             0.1111111111111111,
             "#46039f"
            ],
            [
             0.2222222222222222,
             "#7201a8"
            ],
            [
             0.3333333333333333,
             "#9c179e"
            ],
            [
             0.4444444444444444,
             "#bd3786"
            ],
            [
             0.5555555555555556,
             "#d8576b"
            ],
            [
             0.6666666666666666,
             "#ed7953"
            ],
            [
             0.7777777777777778,
             "#fb9f3a"
            ],
            [
             0.8888888888888888,
             "#fdca26"
            ],
            [
             1,
             "#f0f921"
            ]
           ]
          },
          "colorway": [
           "#636efa",
           "#EF553B",
           "#00cc96",
           "#ab63fa",
           "#FFA15A",
           "#19d3f3",
           "#FF6692",
           "#B6E880",
           "#FF97FF",
           "#FECB52"
          ],
          "font": {
           "color": "#2a3f5f"
          },
          "geo": {
           "bgcolor": "white",
           "lakecolor": "white",
           "landcolor": "#E5ECF6",
           "showlakes": true,
           "showland": true,
           "subunitcolor": "white"
          },
          "hoverlabel": {
           "align": "left"
          },
          "hovermode": "closest",
          "mapbox": {
           "style": "light"
          },
          "paper_bgcolor": "white",
          "plot_bgcolor": "#E5ECF6",
          "polar": {
           "angularaxis": {
            "gridcolor": "white",
            "linecolor": "white",
            "ticks": ""
           },
           "bgcolor": "#E5ECF6",
           "radialaxis": {
            "gridcolor": "white",
            "linecolor": "white",
            "ticks": ""
           }
          },
          "scene": {
           "xaxis": {
            "backgroundcolor": "#E5ECF6",
            "gridcolor": "white",
            "gridwidth": 2,
            "linecolor": "white",
            "showbackground": true,
            "ticks": "",
            "zerolinecolor": "white"
           },
           "yaxis": {
            "backgroundcolor": "#E5ECF6",
            "gridcolor": "white",
            "gridwidth": 2,
            "linecolor": "white",
            "showbackground": true,
            "ticks": "",
            "zerolinecolor": "white"
           },
           "zaxis": {
            "backgroundcolor": "#E5ECF6",
            "gridcolor": "white",
            "gridwidth": 2,
            "linecolor": "white",
            "showbackground": true,
            "ticks": "",
            "zerolinecolor": "white"
           }
          },
          "shapedefaults": {
           "line": {
            "color": "#2a3f5f"
           }
          },
          "ternary": {
           "aaxis": {
            "gridcolor": "white",
            "linecolor": "white",
            "ticks": ""
           },
           "baxis": {
            "gridcolor": "white",
            "linecolor": "white",
            "ticks": ""
           },
           "bgcolor": "#E5ECF6",
           "caxis": {
            "gridcolor": "white",
            "linecolor": "white",
            "ticks": ""
           }
          },
          "title": {
           "x": 0.05
          },
          "xaxis": {
           "automargin": true,
           "gridcolor": "white",
           "linecolor": "white",
           "ticks": "",
           "title": {
            "standoff": 15
           },
           "zerolinecolor": "white",
           "zerolinewidth": 2
          },
          "yaxis": {
           "automargin": true,
           "gridcolor": "white",
           "linecolor": "white",
           "ticks": "",
           "title": {
            "standoff": 15
           },
           "zerolinecolor": "white",
           "zerolinewidth": 2
          }
         }
        }
       }
      },
      "text/html": [
       "<div>                            <div id=\"9dee3edf-0615-4a3c-aa99-571f88be6e92\" class=\"plotly-graph-div\" style=\"height:525px; width:100%;\"></div>            <script type=\"text/javascript\">                require([\"plotly\"], function(Plotly) {                    window.PLOTLYENV=window.PLOTLYENV || {};                                    if (document.getElementById(\"9dee3edf-0615-4a3c-aa99-571f88be6e92\")) {                    Plotly.newPlot(                        \"9dee3edf-0615-4a3c-aa99-571f88be6e92\",                        [{\"marker\":{\"color\":\"brown\",\"size\":2.5},\"mode\":\"markers\",\"x\":[-5589.852653098818,-4890.848093875686,-3442.765390794769,-1243.7123227337152,1211.0819124020904,3283.464094117289,4720.527008863503,5477.759064244549,5675.802725209502,5395.669188848676,4542.839833272623,2961.4227204778963,766.2530387882814,-1534.1832080268791,-3552.2376604954256,-4927.413375631113,-5556.263943368235,-5694.325631928892,-5246.035148136741,-4208.742207708596,-2428.285988647356,-163.02392824362315,2107.6050197300674,3928.455600879446,5072.280294431938,5563.447432495652,5513.511763157334,4949.991736124384,3775.8383193058135,1954.0045236881956,-239.54987439782923,-2384.078072343884,-4140.363473462157,-5212.849702601255,-5574.036327873961,-5387.106647048962,-4658.759414372944,-3296.9904249860233,-1384.4498965496655,819.0192623928397,2843.639710743811,4368.1794133072335,5220.18903428621,5446.16678067458,5124.944570649853,4242.677690534985,2880.7443810810514,1014.5069742598482,-1084.232180535437,-3045.890114244526,-4581.698779624864,-5256.0883677261845,-5327.376474409696,-4844.004471781933,-3851.2162842068433,-2348.3565915280474,-490.0281918387542,1520.3014194855728,3340.4738454176886,4618.355134611617,5183.737523073002,5099.890845882117,4506.585251165672,3448.303136388209,2016.1330010105323,215.47876700320006,-1694.8819952049078,-3501.539057046059,-4666.230229738322,-5084.910124402136,-4863.850134824221,-4086.3585450188157,-2942.8438235825533,-1514.4663051233665,201.17209728637692,2053.492630448854,3629.4295121857954,4607.574995015809,4897.871885909097,4505.90345681151,3701.8793274934433,2626.4593174891975,1275.7605676814426,-434.3165876086789,-2176.387327082229,-3665.068155834622,-4545.60034111282,-4625.5039653163585,-4140.613904226795,-3262.251067927377,-2167.626874999695,-847.0917407771655,756.1031922117465,2408.3552383055467,3717.3089860296327,4401.661941882223,4342.155964577798,3775.5612436780134,2939.994347720058,1982.3028404622078,717.1028180641794,-885.705656471941,-2429.5185451825787,-3675.1353312272204,-4174.099100257874,-3966.9076338287045,-3343.1989690137048,-2555.2442844806837,-1609.3516297093045,-381.6146699268282,1098.1892479957066,2546.9125092959544,3578.9128372286127,3931.8036710739584,3652.9644642366056,3052.6085851741936,2308.87847312824,1504.4748881080454,303.3010747497458,-1121.0021466128846,-2504.236782168556,-3401.997967168301,-3576.485033015249,-3227.367589685614,-2665.7227840460546,-2035.558538143131,-1223.619491030248,-113.86683785170658,1212.2166025166111,2472.9831438527112,3213.1372918991924,3333.7600126841,2954.775289498916,2483.332203698736,1924.8513922020668,1166.7359315549634,96.34836532899105,-1139.9670688748927,-2247.3201967540376,-2855.3206571234036,-2889.3147014508836,-2598.0411833538374,-2187.315812399569,-1679.8643716000104,-997.5612545574012,-35.80952491811436,1145.822304100127,2140.1432005100446,2627.669276721575,2686.9323432143715,2404.833473039564,2059.2147248117276,1634.5850746754131,1004.8487545022081,67.74923477175238,-954.7681967812908,-1783.4512755814185,-2223.588937088546,-2283.565845293666,-2149.1964284084597,-1898.683419638061,-1497.9143860223555,-934.8692845648312,-110.0336560690336,864.2705325166319,1625.4153838726263,2086.43073687782,2157.145903650191,2043.137803858663,1837.9326277449566,1580.6908446524224,1040.023458008672,261.771449847915,-543.5082532953883,-1259.207141058654,-1729.518108848871,-1902.4011227911571,-1891.317753690393,-1789.581745479009,-1580.1645842313997,-1162.9121589683073,-473.3581102658875,391.4330842771071,1142.8284806755626,1637.3343608088187,1843.6311727337893,1875.3523386603144,1812.1959253299242,1685.355511476675,1331.953912512391,759.6178311214825,1.8202310940392246,-799.1004933571701,-1397.7744376953328,-1690.267939379508,-1801.6130778902811,-1863.8977420502993,-1827.9841576383415,-1551.1106062957438,-946.2484393748488,-74.64761219253478,764.3595770180183,1395.7501913513383,1695.490062023493,1890.0729874400224,2010.8079083888656,2025.9510129407638,1820.4694264430377,1274.369185225211,395.6012986942538,-550.5936659951278,-1245.5568067909003,-1661.184099371543,-1950.360163580491,-2155.021761907735,-2290.6487355119757,-2140.4724939379635,-1427.646031789075,-423.3091387893438,570.30036352203,1304.262755395822,1733.7508612600047,2070.3535286897236,2389.3184527442713,2580.15151902609,2384.975664216259,1682.4143727539824,628.443980347031,-436.241309570314,-1231.4127124798983,-1817.6365070458696,-2295.659563243548,-2673.8439496071114,-2946.5289025111365,-2667.279225959638,-1718.6731236510877,-545.0947019399839,563.8140076094322,1373.8761271015612,1970.6577489331003,2511.340485513534,3034.1574277112095,3247.638160613251,2887.293220626364,1953.6870189822487,661.8383892280135,-566.726965186245,-1487.239590848734,-2186.552928407097,-2844.1278765340508,-3411.142061273018,-3566.599477862253,-2998.582471143787,-1827.7647858929222,-510.3695552741377,721.3140944612451,1689.487998192906,2485.8690528755014,3207.4085053208996,3752.3420537719867,3805.431418234391,3164.1968076305347,1972.906713611005,501.8209831020778,-849.4081513451856,-1916.4306999769788,-2776.9948267407744,-3585.1187199313867,-4103.8853535302815,-3995.277361266103,-3137.983292220884,-1780.9215514598966,-278.02091162317834,1085.711776509162,2186.5381024256244,3159.924284401873,3968.0421690610046,4356.370403799537,4139.395941945177,3242.3441890075205,1807.5907025635368,151.21831674028795,-1330.701538146922,-2559.360223390472,-3593.35743482388,-4324.4384023153425,-4590.645958186116,-4201.620923402616,-3087.7632164777583,-1540.399192279527,127.11467143043993,1655.9210925220723,2942.4843747108002,3972.325082108877,4647.152407491239,4800.445357225126,4312.115840152939,3126.5731396340084,1451.4354463140392,-381.36407002141857,-2015.2861598931224,-3348.2273362652513,-4369.975803481579,-4871.305655203267,-4877.221518153805,-4188.330687753246,-2829.2858270571264,-1078.9808755409713,770.923315301216,2455.9650412157416,3787.6697784037215,4691.32121319821,5132.613892309865,5028.364579574324,4210.714465423692,2761.3343062016465,806.5540523655925,-1215.358503606399,-2933.8308310517587,-4183.754422709406,-4976.763522487187,-5270.543265093738,-5009.554197596477,-4010.8353953952214,-2356.7754291692486,-360.55102783012256,1669.194681750124,3403.1507646089344,4591.480933367834,5251.586935854844,5420.916571126319,5077.378531482293,3969.0975204055594,2226.608070733626,-42.343812435516874,-2155.662059645594,-3817.344348198082,-4835.751533497278,-5366.293141253159,-5425.686485893261,-4882.579709170009,-3614.356582819116,-1697.495505813086,539.9258978632143,2652.806538278018,4241.382215740893,5155.266733386146,5599.95533040469,5503.411144528839,4848.40560994512,3489.400870068284,1365.434028565574,-1021.0485525555838,-3094.231881317874,-4500.856969793698,-5303.193182249278,-5607.330117634653,-5397.933940098847,-4550.443194344398,-2961.6850333582506,-788.4218230823868,1550.0905759261868,3566.0385569739074,4876.862906526044,5524.4399094355185,5710.49190918849,5378.031403330833,4428.4047637965205,2643.8933478538142,306.69868813635236,-2028.4827790442562,-3847.471342878471,-4998.043657825385,-5587.31529113581,-5620.4246415868065,-5135.65990540186,-3977.30419656111,-2044.7592892701336,306.9237817903773,2560.558542026307,4305.859938123404,5294.83670502458,5702.299565317612,5622.970396126995,5058.080273477976,3679.009719178485,1651.078636456496,-765.7729259835727,-2923.719748431975,-4465.598210837917,-5341.17309919687,-5649.2354142876675,-5442.236257581654,-4656.280002168257,-3167.9960206263277,-1035.250080243373,1315.0569113337458,3379.2457718826486],\"y\":[1588.0842850454599,1055.8292843221313,350.5425000277835,-448.6607670524893,-1154.74632906785,-1630.9333636368995,-1846.7102780493567,-1883.5825456208315,-1696.891110195416,-1252.7639721742737,-583.9542823716627,244.58076088310858,1085.7535061369383,1741.979253673198,2030.1402496122776,2072.1656319964836,1985.2110946128846,1572.5440520926231,928.1595205270337,34.461502788247046,-983.8291499338479,-1809.8763778385935,-2222.837545985813,-2271.627109309669,-2126.9485639504173,-1802.32532231304,-1241.9421008126767,-426.8479310701233,604.5697068289596,1645.1908697324504,2363.898721250489,2609.5364075934076,2480.0736452074543,2194.1494850821105,1670.9575944497442,909.5950193335624,-129.62260004932918,-1368.4107591353488,-2381.8369603326328,-2849.563368825344,-2828.449540456637,-2515.7144548321985,-2016.670460266415,-1325.0551356590004,-393.4301773566036,793.3273421627435,2063.3290544331185,2974.2841865318173,3264.466958528912,3039.358449003406,2533.4116449276344,1861.334733741116,985.6687867768467,-168.729766285137,-1575.3248331326477,-2817.181887131789,-3481.947787776674,-3490.2699508950427,-3056.6926737641106,-2369.0735503694696,-1515.4838089975144,-470.13105346311744,855.3052730022036,2295.4003262539545,3454.186783338274,3921.786836467452,3737.1812439298733,3093.533788015277,2189.358667776322,1155.767104430688,-106.39132742582889,-1605.1495468943615,-3034.074101994125,-3946.0667428693687,-4138.0102907245255,-3717.5482361318104,-2909.4530296882226,-1867.4619520954186,-639.4951110079714,785.2178437033123,2358.988741239139,3710.6139396905423,4426.000982997438,4369.6730123797215,3768.0048402641755,2718.7488467848357,1466.671615535835,66.55084976774748,-1572.465789047782,-3130.0668242970496,-4220.278299767836,-4636.662163391276,-4369.582254739292,-3550.0687898286405,-2367.768877736791,-967.5164432491893,611.2978783484178,2318.752484785512,3816.9145346361115,4758.346636085259,4947.393627532224,4417.575234223556,3360.5605583312454,1940.4400955028652,343.47649406446584,-1418.029757019673,-3092.2558785137976,-4347.093859323283,-4973.840717280843,-4922.088604061388,-4219.527310616991,-2994.5648561374933,-1449.3655067188108,319.2320093410891,2181.2640257585217,3819.210577029689,4896.1941261964585,5329.116797259892,5026.853967485475,4042.367096332342,2564.4108587836236,790.4435009894976,-1140.3079401296077,-2955.019666966764,-4340.1143006923885,-5141.921410105645,-5317.9672609309755,-4831.351408117821,-3698.5106538530536,-2060.148787386116,-114.2371121702276,1943.0537569485525,3695.896193466677,4924.549415481387,5495.422798974298,5446.662295782289,4669.578232483608,3281.427413820226,1414.1675390222779,-724.4885370238184,-2727.719672852322,-4255.004083155415,-5172.318921325615,-5509.026304104909,-5257.5971248048945,-4333.507647942505,-2776.362847140063,-741.8376319186463,1492.434259165307,3489.626312244448,4834.684640238304,5514.700054164834,5654.223331881406,5125.117429388405,3913.676953658174,2104.5463760486514,-130.40722873901748,-2323.5131660193874,-4026.4375209999184,-5098.620825808675,-5580.818714569545,-5485.47085741477,-4783.0215115004585,-3433.3424778587823,-1435.7514981718857,920.0684440045193,3121.386298512193,4652.231595090891,5467.987179438843,5734.451165134592,5412.975441062971,4427.808852073163,2769.807470746136,565.8965586174821,-1770.5037105044598,-3696.7277123352887,-4934.13765745929,-5542.282337993174,-5610.469860850466,-5102.476273008346,-3980.207613395805,-2151.338583058543,242.4869341235675,2571.979316547722,4301.987297714248,5303.937017482384,5710.993364545627,5512.17423313857,4760.0659885312525,3325.6653474553564,1261.5858893014029,-1085.0457860188349,-3181.787966812348,-4641.648397664688,-5411.340426903576,-5591.392492231782,-5227.723551629028,-4317.735096385831,-2729.0102005425433,-492.1613810103547,1920.6510601118346,3794.7984311057703,5010.866483655693,5564.419361567568,5523.467684935277,4915.826316423053,3701.460009910809,1841.5603413804988,-393.0157866771343,-2530.279746458272,-4171.384887688607,-5149.691161437439,-5494.050565582007,-5253.769879408503,-4475.509997877447,-3115.2463382790716,-1110.816321293773,1181.147373759427,3152.2531016799203,4554.408082855647,5335.796604283925,5419.054862191682,4936.6200169554995,3893.6509357014234,2264.5816184849596,223.5936235092301,-1837.9044279910506,-3550.9296478548918,-4720.7135049094295,-5261.782463618759,-5180.094162694218,-4546.184556130633,-3309.6400828108876,-1530.814565878302,535.3905750338911,2451.358722939889,3934.13458538038,4911.912269153067,5203.983821892012,4870.283558300249,3963.7807561967356,2514.6232755480373,682.6314403941526,-1202.8392257742532,-2856.3366349422495,-4145.521928503397,-4912.3126459544455,-5001.663491673486,-4497.3652819160125,-3411.4772768142143,-1791.8179232582877,39.68832580563663,1777.6013998164942,3260.352514658348,4327.241741673028,4836.12092027863,4704.159334995711,3935.3473347728686,2615.150185069884,976.5935043362853,-695.4213994305737,-2203.210610210132,-3453.2627140254444,-4355.923594149226,-4669.065691771836,-4356.249556726603,-3388.537300482119,-1877.1195421210464,-214.25171741271538,1271.433869615481,2588.0765568195134,3672.269342920529,4307.523816440825,4373.894950711025,3786.2653551099,2610.276015720455,1098.7577241267197,-411.66503389568953,-1709.6929389379004,-2809.7844178023,-3700.7398378470934,-4180.145266824896,-4073.380889002204,-3289.5887348979286,-1888.3256360652663,-351.78011256175074,964.7234028928626,2047.8565592776506,3007.0281041715566,3662.301437748263,3877.4583994181153,3499.25215605668,2488.4000714337612,1101.2453375615426,-262.80694064809114,-1373.7492698242413,-2262.8117342983014,-3028.5819925635546,-3520.5058327828638,-3610.0931463603665,-3039.1226479173242,-1791.9550935887373,-373.9588921811063,829.6888384281918,1716.4999010024706,2452.7882895814782,3010.3626368225405,3260.169672665601,3050.9115515130743,2250.3874109767276,1013.2652211095519,-234.2143904716738,-1200.269354676433,-1898.558130435784,-2482.6069331631415,-2864.5934781510714,-3020.654783776665,-2645.964188114423,-1586.7359408408176,-299.1389527807471,784.1241646712616,1545.2337533784646,2068.6476797744767,2435.2683152581235,2633.567645328754,2489.572154336648,1861.6068136070169,832.3277358406441,-285.3775477036315,-1155.877992173549,-1718.8133675572694,-2058.4531384929764,-2268.995306355808,-2322.8373153727357,-2065.800287377728,-1217.6434760738164,-123.02512666908231,844.4725192886873,1499.6527334907457,1878.2021737696934,2025.9119687401385,2025.4020641646564,1830.890537191171,1295.6387894772424,443.9159910731313,-480.6060380342196,-1226.2082362546976,-1649.5794451843663,-1866.8592433838148,-1845.4556310291205,-1714.2095004380944,-1377.6538144438555,-684.9801353103559,213.79191756438212,1008.5752114481134,1541.6582348743507,1807.0040980870488,1798.9498395967614,1586.5288050339177,1229.8590922812975,660.747621623071,-102.09468422088042,-829.0654535658983,-1381.8504950752354,-1709.4404864600692,-1791.1853669443371,-1608.9136566211228,-1253.7379599112094,-739.4937551587758,-26.46120538175261,724.5185508549714,1336.2133759257365,1717.6542713670078,1853.3957109507553,1732.4512659932009,1344.861876295911,777.9455421454883,86.84222242128094,-696.506842439792,-1350.9751608275114,-1704.1535808445624,-1866.4950642544968,-1839.7133210542818,-1536.2880190485096,-967.9797329546569,-255.6960796072646,618.7091324884022,1329.8608510734302,1779.3187885304303,1984.1799337870368,1996.9541420766468,1755.1696077203628,1240.8844075918594,491.21391638944664,-434.688617502067,-1344.6088220274846,-1963.0270307537678,-2195.685007391537],\"z\":[-1600.609000437862,-3286.5232524489106,-4280.459943807772,-4634.343782736603,-4648.178797654697,-4104.823296131622,-2859.201673144946,-1193.3230051086773,608.0297766501546,2356.1797381557167,3719.0606698920355,4440.296121887389,4649.936582227474,4483.551910030419,3776.2826783544638,2410.970155173273,731.0733886652516,-1110.6877858503253,-2815.2377612905666,-3956.1800147084214,-4462.701588674617,-4559.968488261793,-4147.279833513198,-3094.0577958668414,-1592.6541568676662,122.39726226212571,1868.710869002934,3318.197204582377,4177.64564319033,4512.997468897011,4439.107202726002,3826.5362514258672,2628.952653155303,1118.7447409034592,-635.6082865022819,-2342.7140882579024,-3547.78674357264,-4182.456955666314,-4413.851215257372,-4090.3357954464927,-3168.7962353708263,-1844.4157002955083,-270.17980877216917,1402.6424044596758,2868.176687083271,3823.6037065515607,4249.393669326598,4306.213505333062,3770.7518291431115,2709.0365358530403,1348.16610259617,-198.1187266779951,-1839.1246252046392,-3063.4947404963027,-3801.7817668623284,-4156.718201412482,-3967.582971215905,-3157.7201626975157,-1969.5786074544465,-573.7550183108567,967.500990011147,2389.9630352628374,3373.6336078188556,3922.877846124424,4112.921585735673,3698.9374592423387,2660.355278601651,1468.0002461573392,85.90007474578337,-1408.8776468805222,-2596.9084827396605,-3336.0499923078046,-3805.8165105865187,-3755.9514397697985,-3054.7344770171026,-1969.6908760556469,-725.1410137629397,649.6925802012091,1965.8435098963457,2906.210567376666,3491.9103871929374,3798.816172202615,3516.055260373724,2599.160243530279,1433.033097534112,205.74008970869863,-1101.6475182849845,-2158.9713929984937,-2875.7960526352704,-3353.823375073215,-3414.9838872698647,-2870.5729048818794,-1890.1733867668931,-741.6890601799597,472.5939384576658,1621.6563727516939,2474.374442525109,3027.8075295266794,3398.463071711394,3228.2249993392156,2457.006625660216,1377.2821267726001,218.41558073583238,-932.9165395671392,-1820.5595015462018,-2441.313786329523,-2896.959635255161,-3002.649996095196,-2576.308212375487,-1733.5774973121793,-679.0707416556376,443.19178498420445,1426.382503376371,2111.2628909919495,2589.497907207023,2946.8652482091247,2871.63534894698,2184.2283920837654,1251.6383146231913,153.83722816265305,-903.8925445524515,-1644.3497368466483,-2090.573488380601,-2460.196616602177,-2561.9105901172898,-2196.500865963905,-1467.1561668130178,-542.773284110806,477.82308616022095,1377.1421148891277,1899.3916997166205,2201.676392091173,2493.266542544477,2428.2761077120044,1831.5090287091716,1013.1418134834959,41.78038768997614,-969.1205930884166,-1599.5546372553965,-1881.8124942874454,-2088.087981223918,-2122.912387208391,-1755.1472842909109,-1086.3069955610424,-295.87357507543567,609.0516130448066,1421.0048788411768,1832.0067829125703,1959.3940224849007,2108.3175472483904,1975.7576823410386,1407.4499987657955,687.4276229643685,-165.62252329682553,-1062.4421767822853,-1650.1395918086264,-1835.0686933816396,-1870.1461658564408,-1755.1770232063136,-1323.556881115328,-658.8080681495757,63.01835826242438,838.9838809834106,1542.3731625917062,1874.7813956865475,1868.1727019417003,1844.6774520723432,1593.0646472252818,958.2540666292356,283.75672526099777,-482.9096818376171,-1257.447742522405,-1758.4843548888427,-1875.6608136517464,-1783.2503582894676,-1494.8708397482762,-941.6759922729844,-232.434067540838,480.5540891609111,1170.4751366765393,1751.8842711055916,1982.1167605645887,1912.2386218164877,1725.0434985050763,1280.816208696269,541.0518299738737,-177.12620919512074,-875.8787468837481,-1553.3243920451898,-1947.166814037036,-1985.5020818700273,-1808.3186697690812,-1392.1917312813098,-671.7785288148186,175.19051245512202,930.7716974533126,1589.1097780234597,2072.512245913326,2173.2659754166166,1996.5064703759615,1741.4730348943033,1139.4421567631855,231.32869530110045,-581.961249274207,-1299.5501424692982,-1920.984780818155,-2215.5076066791135,-2144.8347846045504,-1902.721187373144,-1413.9145684337625,-546.4538456057119,466.3137280658629,1327.8758381371024,2021.7543669014544,2492.6735537138725,2478.8041449170255,2185.0026475773657,1839.1608360770053,1144.5518591865482,75.23014541737136,-901.1874600515713,-1731.5339021970362,-2356.9746444595767,-2604.267662214508,-2434.991638412835,-2069.478050044105,-1508.9754869160215,-568.4795579644476,609.8604598648222,1653.494992540783,2442.0297745203106,2946.2000670005505,2904.0390501970533,2488.2188196563143,2008.2839298551664,1233.069052964981,46.146131179306025,-1110.2242172037897,-2092.4614305094024,-2810.3807793430065,-3038.0869768871453,-2796.764669229468,-2326.6161907842375,-1665.710545384139,-654.6740848868291,628.5808421561441,1843.7615031450168,2813.471449928761,3388.707835668264,3389.728056838568,2869.272583430097,2259.917828904845,1369.5595363466762,138.9778328835975,-1162.2654583031926,-2311.039896615079,-3169.1317434858424,-3483.004447346741,-3228.3902043193584,-2672.356195130233,-1907.266044649023,-805.6372319819808,552.2557460172228,1893.6166204019582,3025.4487994196425,3785.1650360825124,3822.446393474294,3340.818391436585,2633.9089481220176,1637.3729376792364,287.02248433286377,-1081.4595313627954,-2383.944429714378,-3428.1005793734025,-3885.6473619496273,-3690.252707641362,-3111.034488495723,-2259.969249178373,-1034.3071272233517,406.80231218593104,1796.6215223232869,3091.6737408012623,4052.6482894233095,4248.572801630503,3811.091143141713,3114.8315537471276,2007.605590646785,530.4356666908407,-949.8959963036384,-2349.5375097379206,-3550.531000795312,-4190.472672196089,-4125.7859429640785,-3579.706593208318,-2689.723878220342,-1381.6177435632342,195.87539431790248,1696.9856224649416,3036.074586273902,4160.930418356955,4559.166680406425,4231.688198981527,3584.441700683451,2456.8766195577664,888.9725997702205,-719.0182271800572,-2208.6411778135043,-3522.9605762372353,-4337.787500970371,-4449.825245362026,-4016.637297297344,-3158.34511300199,-1803.841876493901,-123.87380998436812,1495.2169421824567,2933.139637941688,4145.676308428476,4718.009323548969,4581.667201696524,4012.665798797716,2945.153050649696,1328.0299698803933,-399.53000901181207,-2025.688461387473,-3423.6030053737304,-4366.801227552486,-4668.167963288332,-4396.014831454196,-3630.4032922364167,-2270.8762563721803,-529.1000036499263,1204.847865983034,2759.5367498908677,4046.30447203236,4713.475388032857,4764.162431359112,4395.784175378834,3396.955609463632,1822.892111830885,25.41068344998668,-1714.9627085077045,-3244.695199285142,-4288.789611366595,-4705.579074590593,-4614.446135667887,-4020.7889504454242,-2766.788288211674,-1006.0229289225166,811.6683594329353,2492.4727681006875,3900.6405571015184,4613.780122003618,4804.085245123993,4608.34122142185,3785.4910698247204,2312.808962871642,534.0918287469846,-1290.3645129886797,-2951.887937039172,-4126.844309392705,-4657.816097587831,-4705.3304192413425,-4305.729917735741,-3199.6305762999054,-1501.4275024563274,334.7568094724244,2113.7919557948485,3661.6436410819265,4498.83516728644,4735.951895594472,4685.0754038587065,4055.496412728409,2717.5829499843057,1007.3317249905415,-822.805269344699,-2562.6487767207404,-3874.619119613611,-4537.905931044952,-4683.259491320162,-4430.298851284189,-3517.7690131282434,-1972.9234354229843,-158.17474652898468,1665.3829299380868,3297.4525406554185,4282.001684062975,4633.443146707409,4656.90390704345,4183.2394581895815,3044.265070694752,1453.146876570033,-325.69024755112787,-2101.173896329328,-3533.076730470504,-4333.265245861839,-4586.578981620038,-4427.576853362496,-3698.1126134685946],\"type\":\"scatter3d\"}],                        {\"scene\":{\"aspectmode\":\"data\"},\"template\":{\"data\":{\"histogram2dcontour\":[{\"type\":\"histogram2dcontour\",\"colorbar\":{\"outlinewidth\":0,\"ticks\":\"\"},\"colorscale\":[[0.0,\"#0d0887\"],[0.1111111111111111,\"#46039f\"],[0.2222222222222222,\"#7201a8\"],[0.3333333333333333,\"#9c179e\"],[0.4444444444444444,\"#bd3786\"],[0.5555555555555556,\"#d8576b\"],[0.6666666666666666,\"#ed7953\"],[0.7777777777777778,\"#fb9f3a\"],[0.8888888888888888,\"#fdca26\"],[1.0,\"#f0f921\"]]}],\"choropleth\":[{\"type\":\"choropleth\",\"colorbar\":{\"outlinewidth\":0,\"ticks\":\"\"}}],\"histogram2d\":[{\"type\":\"histogram2d\",\"colorbar\":{\"outlinewidth\":0,\"ticks\":\"\"},\"colorscale\":[[0.0,\"#0d0887\"],[0.1111111111111111,\"#46039f\"],[0.2222222222222222,\"#7201a8\"],[0.3333333333333333,\"#9c179e\"],[0.4444444444444444,\"#bd3786\"],[0.5555555555555556,\"#d8576b\"],[0.6666666666666666,\"#ed7953\"],[0.7777777777777778,\"#fb9f3a\"],[0.8888888888888888,\"#fdca26\"],[1.0,\"#f0f921\"]]}],\"heatmap\":[{\"type\":\"heatmap\",\"colorbar\":{\"outlinewidth\":0,\"ticks\":\"\"},\"colorscale\":[[0.0,\"#0d0887\"],[0.1111111111111111,\"#46039f\"],[0.2222222222222222,\"#7201a8\"],[0.3333333333333333,\"#9c179e\"],[0.4444444444444444,\"#bd3786\"],[0.5555555555555556,\"#d8576b\"],[0.6666666666666666,\"#ed7953\"],[0.7777777777777778,\"#fb9f3a\"],[0.8888888888888888,\"#fdca26\"],[1.0,\"#f0f921\"]]}],\"heatmapgl\":[{\"type\":\"heatmapgl\",\"colorbar\":{\"outlinewidth\":0,\"ticks\":\"\"},\"colorscale\":[[0.0,\"#0d0887\"],[0.1111111111111111,\"#46039f\"],[0.2222222222222222,\"#7201a8\"],[0.3333333333333333,\"#9c179e\"],[0.4444444444444444,\"#bd3786\"],[0.5555555555555556,\"#d8576b\"],[0.6666666666666666,\"#ed7953\"],[0.7777777777777778,\"#fb9f3a\"],[0.8888888888888888,\"#fdca26\"],[1.0,\"#f0f921\"]]}],\"contourcarpet\":[{\"type\":\"contourcarpet\",\"colorbar\":{\"outlinewidth\":0,\"ticks\":\"\"}}],\"contour\":[{\"type\":\"contour\",\"colorbar\":{\"outlinewidth\":0,\"ticks\":\"\"},\"colorscale\":[[0.0,\"#0d0887\"],[0.1111111111111111,\"#46039f\"],[0.2222222222222222,\"#7201a8\"],[0.3333333333333333,\"#9c179e\"],[0.4444444444444444,\"#bd3786\"],[0.5555555555555556,\"#d8576b\"],[0.6666666666666666,\"#ed7953\"],[0.7777777777777778,\"#fb9f3a\"],[0.8888888888888888,\"#fdca26\"],[1.0,\"#f0f921\"]]}],\"surface\":[{\"type\":\"surface\",\"colorbar\":{\"outlinewidth\":0,\"ticks\":\"\"},\"colorscale\":[[0.0,\"#0d0887\"],[0.1111111111111111,\"#46039f\"],[0.2222222222222222,\"#7201a8\"],[0.3333333333333333,\"#9c179e\"],[0.4444444444444444,\"#bd3786\"],[0.5555555555555556,\"#d8576b\"],[0.6666666666666666,\"#ed7953\"],[0.7777777777777778,\"#fb9f3a\"],[0.8888888888888888,\"#fdca26\"],[1.0,\"#f0f921\"]]}],\"mesh3d\":[{\"type\":\"mesh3d\",\"colorbar\":{\"outlinewidth\":0,\"ticks\":\"\"}}],\"scatter\":[{\"fillpattern\":{\"fillmode\":\"overlay\",\"size\":10,\"solidity\":0.2},\"type\":\"scatter\"}],\"parcoords\":[{\"type\":\"parcoords\",\"line\":{\"colorbar\":{\"outlinewidth\":0,\"ticks\":\"\"}}}],\"scatterpolargl\":[{\"type\":\"scatterpolargl\",\"marker\":{\"colorbar\":{\"outlinewidth\":0,\"ticks\":\"\"}}}],\"bar\":[{\"error_x\":{\"color\":\"#2a3f5f\"},\"error_y\":{\"color\":\"#2a3f5f\"},\"marker\":{\"line\":{\"color\":\"#E5ECF6\",\"width\":0.5},\"pattern\":{\"fillmode\":\"overlay\",\"size\":10,\"solidity\":0.2}},\"type\":\"bar\"}],\"scattergeo\":[{\"type\":\"scattergeo\",\"marker\":{\"colorbar\":{\"outlinewidth\":0,\"ticks\":\"\"}}}],\"scatterpolar\":[{\"type\":\"scatterpolar\",\"marker\":{\"colorbar\":{\"outlinewidth\":0,\"ticks\":\"\"}}}],\"histogram\":[{\"marker\":{\"pattern\":{\"fillmode\":\"overlay\",\"size\":10,\"solidity\":0.2}},\"type\":\"histogram\"}],\"scattergl\":[{\"type\":\"scattergl\",\"marker\":{\"colorbar\":{\"outlinewidth\":0,\"ticks\":\"\"}}}],\"scatter3d\":[{\"type\":\"scatter3d\",\"line\":{\"colorbar\":{\"outlinewidth\":0,\"ticks\":\"\"}},\"marker\":{\"colorbar\":{\"outlinewidth\":0,\"ticks\":\"\"}}}],\"scattermapbox\":[{\"type\":\"scattermapbox\",\"marker\":{\"colorbar\":{\"outlinewidth\":0,\"ticks\":\"\"}}}],\"scatterternary\":[{\"type\":\"scatterternary\",\"marker\":{\"colorbar\":{\"outlinewidth\":0,\"ticks\":\"\"}}}],\"scattercarpet\":[{\"type\":\"scattercarpet\",\"marker\":{\"colorbar\":{\"outlinewidth\":0,\"ticks\":\"\"}}}],\"carpet\":[{\"aaxis\":{\"endlinecolor\":\"#2a3f5f\",\"gridcolor\":\"white\",\"linecolor\":\"white\",\"minorgridcolor\":\"white\",\"startlinecolor\":\"#2a3f5f\"},\"baxis\":{\"endlinecolor\":\"#2a3f5f\",\"gridcolor\":\"white\",\"linecolor\":\"white\",\"minorgridcolor\":\"white\",\"startlinecolor\":\"#2a3f5f\"},\"type\":\"carpet\"}],\"table\":[{\"cells\":{\"fill\":{\"color\":\"#EBF0F8\"},\"line\":{\"color\":\"white\"}},\"header\":{\"fill\":{\"color\":\"#C8D4E3\"},\"line\":{\"color\":\"white\"}},\"type\":\"table\"}],\"barpolar\":[{\"marker\":{\"line\":{\"color\":\"#E5ECF6\",\"width\":0.5},\"pattern\":{\"fillmode\":\"overlay\",\"size\":10,\"solidity\":0.2}},\"type\":\"barpolar\"}],\"pie\":[{\"automargin\":true,\"type\":\"pie\"}]},\"layout\":{\"autotypenumbers\":\"strict\",\"colorway\":[\"#636efa\",\"#EF553B\",\"#00cc96\",\"#ab63fa\",\"#FFA15A\",\"#19d3f3\",\"#FF6692\",\"#B6E880\",\"#FF97FF\",\"#FECB52\"],\"font\":{\"color\":\"#2a3f5f\"},\"hovermode\":\"closest\",\"hoverlabel\":{\"align\":\"left\"},\"paper_bgcolor\":\"white\",\"plot_bgcolor\":\"#E5ECF6\",\"polar\":{\"bgcolor\":\"#E5ECF6\",\"angularaxis\":{\"gridcolor\":\"white\",\"linecolor\":\"white\",\"ticks\":\"\"},\"radialaxis\":{\"gridcolor\":\"white\",\"linecolor\":\"white\",\"ticks\":\"\"}},\"ternary\":{\"bgcolor\":\"#E5ECF6\",\"aaxis\":{\"gridcolor\":\"white\",\"linecolor\":\"white\",\"ticks\":\"\"},\"baxis\":{\"gridcolor\":\"white\",\"linecolor\":\"white\",\"ticks\":\"\"},\"caxis\":{\"gridcolor\":\"white\",\"linecolor\":\"white\",\"ticks\":\"\"}},\"coloraxis\":{\"colorbar\":{\"outlinewidth\":0,\"ticks\":\"\"}},\"colorscale\":{\"sequential\":[[0.0,\"#0d0887\"],[0.1111111111111111,\"#46039f\"],[0.2222222222222222,\"#7201a8\"],[0.3333333333333333,\"#9c179e\"],[0.4444444444444444,\"#bd3786\"],[0.5555555555555556,\"#d8576b\"],[0.6666666666666666,\"#ed7953\"],[0.7777777777777778,\"#fb9f3a\"],[0.8888888888888888,\"#fdca26\"],[1.0,\"#f0f921\"]],\"sequentialminus\":[[0.0,\"#0d0887\"],[0.1111111111111111,\"#46039f\"],[0.2222222222222222,\"#7201a8\"],[0.3333333333333333,\"#9c179e\"],[0.4444444444444444,\"#bd3786\"],[0.5555555555555556,\"#d8576b\"],[0.6666666666666666,\"#ed7953\"],[0.7777777777777778,\"#fb9f3a\"],[0.8888888888888888,\"#fdca26\"],[1.0,\"#f0f921\"]],\"diverging\":[[0,\"#8e0152\"],[0.1,\"#c51b7d\"],[0.2,\"#de77ae\"],[0.3,\"#f1b6da\"],[0.4,\"#fde0ef\"],[0.5,\"#f7f7f7\"],[0.6,\"#e6f5d0\"],[0.7,\"#b8e186\"],[0.8,\"#7fbc41\"],[0.9,\"#4d9221\"],[1,\"#276419\"]]},\"xaxis\":{\"gridcolor\":\"white\",\"linecolor\":\"white\",\"ticks\":\"\",\"title\":{\"standoff\":15},\"zerolinecolor\":\"white\",\"automargin\":true,\"zerolinewidth\":2},\"yaxis\":{\"gridcolor\":\"white\",\"linecolor\":\"white\",\"ticks\":\"\",\"title\":{\"standoff\":15},\"zerolinecolor\":\"white\",\"automargin\":true,\"zerolinewidth\":2},\"scene\":{\"xaxis\":{\"backgroundcolor\":\"#E5ECF6\",\"gridcolor\":\"white\",\"linecolor\":\"white\",\"showbackground\":true,\"ticks\":\"\",\"zerolinecolor\":\"white\",\"gridwidth\":2},\"yaxis\":{\"backgroundcolor\":\"#E5ECF6\",\"gridcolor\":\"white\",\"linecolor\":\"white\",\"showbackground\":true,\"ticks\":\"\",\"zerolinecolor\":\"white\",\"gridwidth\":2},\"zaxis\":{\"backgroundcolor\":\"#E5ECF6\",\"gridcolor\":\"white\",\"linecolor\":\"white\",\"showbackground\":true,\"ticks\":\"\",\"zerolinecolor\":\"white\",\"gridwidth\":2}},\"shapedefaults\":{\"line\":{\"color\":\"#2a3f5f\"}},\"annotationdefaults\":{\"arrowcolor\":\"#2a3f5f\",\"arrowhead\":0,\"arrowwidth\":1},\"geo\":{\"bgcolor\":\"white\",\"landcolor\":\"#E5ECF6\",\"subunitcolor\":\"white\",\"showland\":true,\"showlakes\":true,\"lakecolor\":\"white\"},\"title\":{\"x\":0.05},\"mapbox\":{\"style\":\"light\"}}}},                        {\"responsive\": true}                    ).then(function(){\n",
       "                            \n",
       "var gd = document.getElementById('9dee3edf-0615-4a3c-aa99-571f88be6e92');\n",
       "var x = new MutationObserver(function (mutations, observer) {{\n",
       "        var display = window.getComputedStyle(gd).display;\n",
       "        if (!display || display === 'none') {{\n",
       "            console.log([gd, 'removed!']);\n",
       "            Plotly.purge(gd);\n",
       "            observer.disconnect();\n",
       "        }}\n",
       "}});\n",
       "\n",
       "// Listen for the removal of the full notebook cells\n",
       "var notebookContainer = gd.closest('#notebook-container');\n",
       "if (notebookContainer) {{\n",
       "    x.observe(notebookContainer, {childList: true});\n",
       "}}\n",
       "\n",
       "// Listen for the clearing of the current output cell\n",
       "var outputEl = gd.closest('.output');\n",
       "if (outputEl) {{\n",
       "    x.observe(outputEl, {childList: true});\n",
       "}}\n",
       "\n",
       "                        })                };                });            </script>        </div>"
      ]
     },
     "metadata": {},
     "output_type": "display_data"
    }
   ],
   "source": [
    "fig = go.Figure(data=[go.Scatter3d(\n",
    "    x=X_pca[:,0], y=X_pca[:,1], z=X_pca[:,2], \n",
    "    mode ='markers', \n",
    "    marker=dict(size = 2.5, color = 'brown')\n",
    ")] , layout = go.Layout(scene = dict(aspectmode= 'data')))\n",
    "\n",
    "fig.show()"
   ]
  },
  {
   "cell_type": "code",
   "execution_count": 41,
   "id": "2b016dcd",
   "metadata": {},
   "outputs": [
    {
     "data": {
      "text/plain": [
       "(398, 10)"
      ]
     },
     "execution_count": 41,
     "metadata": {},
     "output_type": "execute_result"
    }
   ],
   "source": [
    "X_pca.shape "
   ]
  },
  {
   "cell_type": "code",
   "execution_count": 49,
   "id": "2f0d2aa4",
   "metadata": {},
   "outputs": [],
   "source": [
    "\n",
    "# Get the circular coordinates at birth, and for the 2 cocycles with highest persistence\n",
    "coho_classes = [0, 1]\n",
    "\n",
    "circular_coords = []\n",
    "\n",
    "n_lands = 200\n",
    "\n",
    "cc = CircularCoords(X_pca, n_landmarks=n_lands)\n",
    "\n",
    "for i in coho_classes:\n",
    "    theta = cc.get_coordinates(perc=0, cocycle_idx=i)\n",
    "    theta = CMU.to_sinebow(np.pi + CMU.center(theta))\n",
    "    circular_coords.append(theta)\n"
   ]
  },
  {
   "cell_type": "code",
   "execution_count": 87,
   "id": "02768e28",
   "metadata": {},
   "outputs": [
    {
     "data": {
      "text/plain": [
       "array([[3.91646470e-05, 7.55400043e-01, 7.44560793e-01],\n",
       "       [2.07154383e-02, 8.62990291e-01, 6.16294270e-01],\n",
       "       [1.92783868e-01, 9.95241914e-01, 3.11974218e-01],\n",
       "       ...,\n",
       "       [4.47285007e-01, 9.56956901e-01, 9.57580920e-02],\n",
       "       [6.43640719e-01, 8.42939219e-01, 1.34200621e-02],\n",
       "       [7.80012997e-01, 7.18733715e-01, 1.25328755e-03]])"
      ]
     },
     "execution_count": 87,
     "metadata": {},
     "output_type": "execute_result"
    }
   ],
   "source": [
    "circular"
   ]
  },
  {
   "cell_type": "code",
   "execution_count": 92,
   "id": "830c3a09",
   "metadata": {},
   "outputs": [
    {
     "data": {
      "application/vnd.plotly.v1+json": {
       "config": {
        "plotlyServerURL": "https://plot.ly"
       },
       "data": [
        {
         "marker": {
          "color": [
           [
            3.916464696941285e-05,
            0.7554000426473857,
            0.7445607927056449
           ],
           [
            0.02071543826653976,
            0.862990291239714,
            0.6162942704937462
           ],
           [
            0.19278386814256454,
            0.9952419141418537,
            0.3119742177155814
           ],
           [
            0.46354278244674196,
            0.9500887174532765,
            0.08636850009998133
           ],
           [
            0.6565566849569393,
            0.8329606431448175,
            0.010482671898243126
           ],
           [
            0.7831112430545852,
            0.7153561575471246,
            0.0015325993982900938
           ],
           [
            0.9518453656525624,
            0.45948719866261534,
            0.08866743568482237
           ],
           [
            0.9762807773065306,
            0.393645292952193,
            0.1300739297412764
           ],
           [
            0.9995558864280333,
            0.23197548857915373,
            0.26846862499281304
           ],
           [
            0.9961478831751678,
            0.19827945073215245,
            0.30557266609268
           ],
           [
            0.9527072170113415,
            0.08982002845196088,
            0.45747275453669767
           ],
           [
            0.7724531340142049,
            0.0006935969728036469,
            0.7268532690129915
           ],
           [
            0.5321551690218083,
            0.05180607255714405,
            0.9160387584210479
           ],
           [
            0.2457939874085778,
            0.25422973375961583,
            0.9999762788318066
           ],
           [
            0.15644413450641073,
            0.3571717893488739,
            0.9863840761447155
           ],
           [
            0.055109245001316566,
            0.5248241183000185,
            0.9200666366986648
           ],
           [
            0.010985908528422555,
            0.6542357116553025,
            0.8347783798162748
           ],
           [
            0.0015955557612252677,
            0.7146369581643911,
            0.7837674860743836
           ],
           [
            0.003051650668121228,
            0.7962418789465591,
            0.7007064703853194
           ],
           [
            0.04552370951001548,
            0.9077609306125114,
            0.5467153598774728
           ],
           [
            0.2724841235917475,
            0.9993450159007713,
            0.22817086050748106
           ],
           [
            0.5350148917883756,
            0.914442166925162,
            0.05054294128646218
           ],
           [
            0.6929275304845641,
            0.8030161791677539,
            0.004056290347681644
           ],
           [
            0.7887371966903358,
            0.7091467810028239,
            0.002116022306840059
           ],
           [
            0.9480368281347945,
            0.4681982617861416,
            0.08376491007906395
           ],
           [
            0.9992255175118968,
            0.27447898254131076,
            0.2262954999467925
           ],
           [
            0.9988090344435212,
            0.2804645364649823,
            0.2207264290914965
           ],
           [
            0.9907394420392904,
            0.17167788287135516,
            0.3375826750893544
           ],
           [
            0.8673217618078315,
            0.02256021842962554,
            0.610118019762543
           ],
           [
            0.6539389230185835,
            0.011051041446366311,
            0.8350100355350505
           ],
           [
            0.5976053727829802,
            0.026515204963794815,
            0.8758794222532251
           ],
           [
            0.2824007202166083,
            0.21894336499245584,
            0.9986559147909361
           ],
           [
            0.1650391516933418,
            0.3459980411581439,
            0.9889628071485141
           ],
           [
            0.0609073090751871,
            0.5124275230866865,
            0.9266651678381262
           ],
           [
            0.01015950095075026,
            0.6580743278104394,
            0.8317661712388105
           ],
           [
            1.3623646146878966e-05,
            0.746796690811472,
            0.7531896855423813
           ],
           [
            0.0035699563480957905,
            0.7998668254713852,
            0.6965632181805188
           ],
           [
            0.08352277717883318,
            0.947842539077423,
            0.4686346837437436
           ],
           [
            0.27932914604496456,
            0.9988946639814352,
            0.22177618997360007
           ],
           [
            0.5929630785831582,
            0.878981031935616,
            0.028055889481225633
           ],
           [
            0.6909550837623085,
            0.8047125591820744,
            0.004332357055616859
           ],
           [
            0.7388241097749573,
            0.7610117659264253,
            0.00016412429861731683
           ],
           [
            0.9159995236150558,
            0.5322257515419809,
            0.051774724842963415
           ],
           [
            0.9934330483923561,
            0.32323252916174905,
            0.18333442244589498
           ],
           [
            0.9999214651734063,
            0.25771367254699346,
            0.24236486227960047
           ],
           [
            0.9763911486216965,
            0.13031828521733027,
            0.3932905661609734
           ],
           [
            0.8665931216357194,
            0.02224272469371491,
            0.6111641536705658
           ],
           [
            0.6920226340618578,
            0.004181878367199203,
            0.8037954875709432
           ],
           [
            0.4346873181740055,
            0.10335377838334932,
            0.9619589034426452
           ],
           [
            0.26644102078212106,
            0.23391182001534905,
            0.9996471592025299
           ],
           [
            0.1475185924977168,
            0.3691289276436355,
            0.9833524798586478
           ],
           [
            0.03219362289952947,
            0.581037577119478,
            0.8867687999809925
           ],
           [
            0.0034706313962336506,
            0.6973339510904043,
            0.7991954175133619
           ],
           [
            7.694585290993394e-05,
            0.7423651497011233,
            0.7575579044459666
           ],
           [
            0.01835246001402769,
            0.8570637606119461,
            0.6245837793740259
           ],
           [
            0.13049505647793694,
            0.9764707820100932,
            0.39303416151196996
           ],
           [
            0.23090267970064934,
            0.9995006763871275,
            0.26959664391222316
           ],
           [
            0.48465311466559635,
            0.9404821242262708,
            0.07486476110813288
           ],
           [
            0.6550200242352163,
            0.8341653382066305,
            0.010814637558153076
           ],
           [
            0.8442785242744533,
            0.6418738320046475,
            0.013847643720899238
           ],
           [
            0.9632444021952333,
            0.4313301473852619,
            0.10542545041950463
           ],
           [
            0.9987982668605614,
            0.28060447856353143,
            0.2205972545759074
           ],
           [
            0.9999437492855666,
            0.2435330762644181,
            0.25652317445001527
           ],
           [
            0.9778265607049805,
            0.13356678625026724,
            0.38860665304475234
           ],
           [
            0.7599934854736561,
            0.0001349825579130888,
            0.7398715319684309
           ],
           [
            0.6532784646184561,
            0.011196620519821959,
            0.8355249148617219
           ],
           [
            0.43106520360335604,
            0.10558979866167698,
            0.9633449977349672
           ],
           [
            0.2743273517356976,
            0.2264377062916726,
            0.99923494197263
           ],
           [
            0.10073470795625186,
            0.4389788144234965,
            0.9602864776202515
           ],
           [
            0.024233178931892602,
            0.6047126593232094,
            0.871054161744898
           ],
           [
            0.002496047223609075,
            0.7055389837945328,
            0.7919649689818582
           ],
           [
            0.0030639829462452044,
            0.796331838462046,
            0.7006041785917088
           ],
           [
            0.03217636675442693,
            0.8867378161538992,
            0.5810858170916738
           ],
           [
            0.1598051573780716,
            0.9874310025627459,
            0.3527638400591825
           ],
           [
            0.32473753752771345,
            0.9931707508098992,
            0.18209171166238713
           ],
           [
            0.5139577036625421,
            0.9258651002823647,
            0.06017719605509293
           ],
           [
            0.6691771592074304,
            0.8228845073626241,
            0.007938333429945607
           ],
           [
            0.8950473455501547,
            0.5679065366592151,
            0.03704611779063008
           ],
           [
            0.9751258423310469,
            0.3973132274372217,
            0.1275609302317314
           ],
           [
            0.9974558353614118,
            0.29489855247973684,
            0.20764561215885152
           ],
           [
            0.995057202910278,
            0.19173611732390325,
            0.3132066797658186
           ],
           [
            0.924290181956695,
            0.05876239251060191,
            0.516947425532703
           ],
           [
            0.8149298318149272,
            0.006210239968932797,
            0.6788599282161402
           ],
           [
            0.6269068102915515,
            0.01771369723726523,
            0.8553794924711835
           ],
           [
            0.4179591477468648,
            0.11387645283280284,
            0.9681643994203324
           ],
           [
            0.19453630021567925,
            0.30992148527995134,
            0.9955422145043694
           ],
           [
            0.08805153444412822,
            0.46056875954104576,
            0.951379706014826
           ],
           [
            0.017868742826968584,
            0.6263394844755757,
            0.8557917726974557
           ],
           [
            2.073220802013376e-06,
            0.7512459246471476,
            0.7487520021320505
           ],
           [
            0.0006805555104006346,
            0.7722444353478795,
            0.7270750091417195
           ],
           [
            0.05736427305769247,
            0.922701104893302,
            0.5199346220490053
           ],
           [
            0.23979980511252622,
            0.9998593352396173,
            0.26034085964785614
           ],
           [
            0.32826158746114953,
            0.9925379144877694,
            0.17920049805108088
           ],
           [
            0.4950105962296906,
            0.935485844274364,
            0.06950355949594533
           ],
           [
            0.7651279140210574,
            0.7345605340073441,
            0.00031155197159859577
           ],
           [
            0.9059090682959299,
            0.5498860701986225,
            0.04420486150544767
           ],
           [
            0.9766521627655104,
            0.3924486745842172,
            0.13089916265027263
           ],
           [
            0.9933566748547378,
            0.32367358885903447,
            0.182969736286228
           ],
           [
            0.9795637968373812,
            0.13768678488151107,
            0.3827494182811079
           ],
           [
            0.9168720885419296,
            0.052475590587572875,
            0.5306523208704975
           ],
           [
            0.7851793160083889,
            0.0017355350573036324,
            0.7130851489343079
           ],
           [
            0.568858391727466,
            0.03668399923720035,
            0.894457609035334
           ],
           [
            0.4008289390421642,
            0.1251755571024987,
            0.9739955038553373
           ],
           [
            0.1516238811510321,
            0.3635829083696483,
            0.9847932104793197
           ],
           [
            0.05267900444623178,
            0.5301974646088154,
            0.9171235309449527
           ],
           [
            0.006965731686994514,
            0.6744900024504957,
            0.8185442658625096
           ],
           [
            0.0004957222554448344,
            0.7304750180766889,
            0.769029259667866
           ],
           [
            0.0075886423546746,
            0.8213607927299384,
            0.6710505649153867
           ],
           [
            0.03828045225811407,
            0.8970262398764859,
            0.5646933078654001
           ],
           [
            0.2130273845742556,
            0.9980776760465936,
            0.2888949393791507
           ],
           [
            0.37754666265075565,
            0.9810526863641218,
            0.14140065098512244
           ],
           [
            0.5335219539422376,
            0.9152774576072424,
            0.051200588450520064
           ],
           [
            0.7437869296320199,
            0.7561620201401595,
            5.105022782064254e-05
           ],
           [
            0.9380109904437859,
            0.4898240505513052,
            0.07216495900490899
           ],
           [
            0.9828943716304355,
            0.3708460436589367,
            0.14625958471062786
           ],
           [
            0.9832800250488517,
            0.14731804476208407,
            0.36940193018906436
           ],
           [
            0.9797460732327407,
            0.13813196793986401,
            0.3821219588273954
           ],
           [
            0.9336511082230323,
            0.06762854067870748,
            0.4987203510982602
           ],
           [
            0.7776971464286735,
            0.001063630340089567,
            0.7212392232312371
           ],
           [
            0.5168286394691312,
            0.05881830895584334,
            0.9243530515750256
           ],
           [
            0.3242410208295506,
            0.18250116513913264,
            0.9932578140313169
           ],
           [
            0.10895130396118999,
            0.42568979130963197,
            0.9653589047291782
           ],
           [
            0.03434949197149528,
            0.5751001663471454,
            0.8905503416813593
           ],
           [
            0.0030009969749108228,
            0.7011286956923926,
            0.7958703073326967
           ],
           [
            0.001235600364183273,
            0.7798051392213006,
            0.718959260414516
           ],
           [
            0.01337122810528194,
            0.842784626588361,
            0.6438441453063567
           ],
           [
            0.07925332185275939,
            0.9443160128658268,
            0.47643066528141365
           ],
           [
            0.22512220566396496,
            0.9991454752609759,
            0.2757323190750593
           ],
           [
            0.3857638565081709,
            0.9786777681592288,
            0.13555837533260026
           ],
           [
            0.597437057764407,
            0.8759925668413032,
            0.026570375394289605
           ],
           [
            0.7943237495963841,
            0.7028811908632259,
            0.0027950595403900312
           ],
           [
            0.9330627878991254,
            0.49989981060000727,
            0.06703740150086737
           ],
           [
            0.9955258750099004,
            0.3100348167486046,
            0.1944393082414949
           ],
           [
            0.9979024526295063,
            0.21142730539920615,
            0.29067024197128766
           ],
           [
            0.9693542005135268,
            0.11605811539933615,
            0.4145876840871372
           ],
           [
            0.8913869987625271,
            0.03484005948042661,
            0.5737729417570463
           ],
           [
            0.7223396255111677,
            0.000985091625475414,
            0.776675282863357
           ],
           [
            0.4931792489128065,
            0.07043796531870156,
            0.9363827857684919
           ],
           [
            0.2779347697578009,
            0.2230696334616256,
            0.9989955967805736
           ],
           [
            0.12097214433030958,
            0.40710745930087694,
            0.9719203963688136
           ],
           [
            0.03417741935395728,
            0.5755677409789325,
            0.8902548396671102
           ],
           [
            0.0007966114949858197,
            0.725168465263405,
            0.7740349232416093
           ],
           [
            0.006598699738459181,
            0.8168174646274776,
            0.6765838356340631
           ],
           [
            0.025797641844441218,
            0.8743931768044508,
            0.5998091813511075
           ],
           [
            0.09852657978982564,
            0.9588342103807749,
            0.44263920982939914
           ],
           [
            0.24134333096525715,
            0.9998989022543256,
            0.25875776678041706
           ],
           [
            0.41759193664120015,
            0.9682949860674424,
            0.11411307729135715
           ],
           [
            0.6136018009934904,
            0.8648873411086813,
            0.021510857897828285
           ],
           [
            0.8192879129413451,
            0.673584826030434,
            0.007127261028220599
           ],
           [
            0.9562717976162529,
            0.44895739588431777,
            0.09477080649942946
           ],
           [
            0.9979698542445785,
            0.28999607078342043,
            0.21203407497200116
           ],
           [
            0.9897022512191481,
            0.16772016707312806,
            0.34257758170772384
           ],
           [
            0.9539002040264986,
            0.09144330782954506,
            0.4546564881439566
           ],
           [
            0.8855627489531239,
            0.031526723276051154,
            0.5829105277708249
           ],
           [
            0.6541492612272722,
            0.011004862556084028,
            0.8348458762166439
           ],
           [
            0.45602175021690317,
            0.09065464312651302,
            0.9533236066565839
           ],
           [
            0.2649586600509849,
            0.23533396640382,
            0.9997073735451952
           ],
           [
            0.0925812062290494,
            0.4526965588439367,
            0.9547222349270139
           ],
           [
            0.030706006813482258,
            0.5852403000589688,
            0.8840536931275491
           ],
           [
            0.002434122488384301,
            0.7061080263121734,
            0.7914578511994423
           ],
           [
            0.006758493875027708,
            0.8175757562453253,
            0.6756657498796472
           ],
           [
            0.038643451253028885,
            0.8975992173261683,
            0.5637573314208028
           ],
           [
            0.09716637923128463,
            0.9579198424985513,
            0.4449137782701638
           ],
           [
            0.22734653815556985,
            0.9992937642850066,
            0.2733596975594234
           ],
           [
            0.4360581049203004,
            0.9614282510523322,
            0.10251364402736732
           ],
           [
            0.6416064985120675,
            0.8444806291745692,
            0.013912872313363167
           ],
           [
            0.8522327057167421,
            0.6312093550926513,
            0.01655793919060648
           ],
           [
            0.9773690417531512,
            0.39011415334703037,
            0.13251680489981846
           ],
           [
            0.994475356095833,
            0.18857048710975874,
            0.31695415679440825
           ],
           [
            0.9898550049389966,
            0.1682879620292863,
            0.34185703303171716
           ],
           [
            0.9458087076147601,
            0.08103201580405708,
            0.47315927658118284
           ],
           [
            0.8603939278834414,
            0.01965780028306553,
            0.6199482718334933
           ],
           [
            0.6129253492211341,
            0.02171283685484865,
            0.8653618139240176
           ],
           [
            0.35567382317994184,
            0.15758201550223347,
            0.9867441613178248
           ],
           [
            0.1503149761002119,
            0.3653424504876167,
            0.9843425734121714
           ],
           [
            0.13045134721526003,
            0.39309754480230624,
            0.9764511079824337
           ],
           [
            0.017455691518176022,
            0.6278559174674733,
            0.8546883910143507
           ],
           [
            0.001002481831364449,
            0.7769051022580554,
            0.7220924159105799
           ],
           [
            0.004825730312756953,
            0.8076023994000586,
            0.6875718702871843
           ],
           [
            0.039034372356865674,
            0.8982118142916065,
            0.5627538133515276
           ],
           [
            0.1415419997928836,
            0.9811079436647748,
            0.3773500565423415
           ],
           [
            0.24326500605396448,
            0.9999389667640215,
            0.2567960271820138
           ],
           [
            0.46116983730935085,
            0.9511200313390249,
            0.0877101313516242
           ],
           [
            0.7475281008836994,
            0.752463778745043,
            8.120371257414048e-06
           ],
           [
            0.8398331500585671,
            0.6477075307796956,
            0.01245931916173735
           ],
           [
            0.9762501407677913,
            0.39374362402078156,
            0.13000623521142707
           ],
           [
            0.9998603407796958,
            0.23983607239665525,
            0.260303586823649
           ],
           [
            0.9875503657587271,
            0.16019887980993566,
            0.35225075443133747
           ],
           [
            0.9170731649009098,
            0.05263820669513403,
            0.5302886284039563
           ],
           [
            0.797025858724697,
            0.0031600268459839533,
            0.6998141144293194
           ],
           [
            0.757684662415829,
            7.956236874747364e-05,
            0.7422357752154236
           ],
           [
            0.5818523230319865,
            0.0319027393788584,
            0.8862449375891552
           ],
           [
            0.29341094333535217,
            0.20897141050912538,
            0.9976176461555225
           ],
           [
            0.09817931945375152,
            0.44321845931058357,
            0.9586022212356651
           ],
           [
            0.016506651103876436,
            0.6314034092258088,
            0.8520899396703148
           ],
           [
            0.0001295728586566528,
            0.7400778786292075,
            0.7597925485121358
           ],
           [
            0.007874873330993347,
            0.8226108799440842,
            0.6695142467249223
           ],
           [
            0.03806179047066501,
            0.8966791465021077,
            0.5652590630272272
           ],
           [
            0.11781832724658399,
            0.9702912603709252,
            0.4118904123824906
           ],
           [
            0.30565426443970634,
            0.9961369028787335,
            0.19820883268155998
           ],
           [
            0.6905053237714481,
            0.8050981732714564,
            0.004396502957095599
           ],
           [
            0.6189448555930499,
            0.8611094203566751,
            0.019945724050274966
           ],
           [
            0.917879334897843,
            0.5288262806996777,
            0.05329438440247941
           ],
           [
            0.9970658164870982,
            0.2983091728375769,
            0.20462501067532496
           ],
           [
            0.9990947099513141,
            0.22440743675179908,
            0.27649785329688675
           ],
           [
            0.9656881884864592,
            0.10951427633056185,
            0.42479753518297914
           ],
           [
            0.9162375022768388,
            0.05196510460748089,
            0.5317973931156804
           ],
           [
            0.8109701938004831,
            0.00543798863083224,
            0.6835918175686848
           ],
           [
            0.6703394947706522,
            0.007720510172959295,
            0.8219399950563886
           ],
           [
            0.48720090187091963,
            0.07352874002873606,
            0.9392703581003443
           ],
           [
            0.2674790242044302,
            0.23291926018896272,
            0.999601715606607
           ],
           [
            0.05698052287699895,
            0.5207603745095886,
            0.9222591026134124
           ],
           [
            0.007623977388408266,
            0.6708594691196367,
            0.8215165534919552
           ],
           [
            0.0002125780209944021,
            0.7625190673680192,
            0.7372683546109863
           ],
           [
            0.006620547144734108,
            0.8169217463699558,
            0.6764577064853098
           ],
           [
            0.026503664537585254,
            0.8758557348429513,
            0.5976406006194633
           ],
           [
            0.134266819853207,
            0.978128221012442,
            0.3876049591343508
           ],
           [
            0.21542594974462895,
            0.9983252357749982,
            0.2862488144803728
           ],
           [
            0.5089383329996399,
            0.928474339806015,
            0.06258732719434484
           ],
           [
            0.7373450183097296,
            0.7624449356212375,
            0.00021004606903262058
           ],
           [
            0.9420964088024922,
            0.48122160054490654,
            0.07668199065260117
           ],
           [
            0.9986636903600541,
            0.28230504685078117,
            0.2190312627891648
           ],
           [
            0.9985246068986244,
            0.2174974763734842,
            0.28397791672789136
           ],
           [
            0.9855290130808094,
            0.15381314049573486,
            0.3606578464234557
           ],
           [
            0.9242608880532946,
            0.05873635420815163,
            0.5170027577385538
           ],
           [
            0.8142813248664497,
            0.006079830128834591,
            0.679638845004716
           ],
           [
            0.5899392195279284,
            0.02908062489623629,
            0.8809801555758354
           ],
           [
            0.39325611490378226,
            0.13034202960349914,
            0.9764018554927187
           ],
           [
            0.18998980023562403,
            0.3152695306058186,
            0.9947406691585573
           ],
           [
            0.04937187375958005,
            0.5376955169133222,
            0.9129326093270977
           ],
           [
            0.00380885212774625,
            0.6947499220054267,
            0.8014412258668266
           ],
           [
            0.001969429663176518,
            0.7874101189027012,
            0.7106204514341222
           ],
           [
            0.006486648397788849,
            0.816279541412099,
            0.6772338101901123
           ],
           [
            0.05461906955784484,
            0.9194819032941303,
            0.5258990271480245
           ],
           [
            0.1612502716574934,
            0.9878657842316351,
            0.3508839441108714
           ],
           [
            0.38560011280936124,
            0.9787263358391229,
            0.13567355135151574
           ],
           [
            0.5732396839218759,
            0.8917222660838673,
            0.035038049994256505
           ],
           [
            0.7862474007645732,
            0.7119070295083021,
            0.0018455697271244382
           ],
           [
            0.959944575170334,
            0.4398459706456122,
            0.10020945418405375
           ],
           [
            0.9992536160382526,
            0.22672218450662848,
            0.274024199455119
           ],
           [
            0.9951124663169915,
            0.19204729117338726,
            0.31284024250962134
           ],
           [
            0.9785990001542416,
            0.13537194057378216,
            0.3860290592719762
           ],
           [
            0.9540379610096726,
            0.09163288062510437,
            0.4543291583652232
           ],
           [
            0.7722639191217843,
            0.0006817676281233266,
            0.7270543132500925
           ],
           [
            0.5321904224984139,
            0.05179041439542619,
            0.9160191631061602
           ],
           [
            0.30711993734532356,
            0.196942896077602,
            0.9959371665770744
           ],
           [
            0.15698443437814075,
            0.3564597843950741,
            0.9865557812267852
           ],
           [
            0.028313408084420476,
            0.5921985283701775,
            0.879488063545402
           ],
           [
            0.0036948815343238904,
            0.6956080824671645,
            0.8006970359985116
           ],
           [
            4.771063793799589e-06,
            0.7481059800496538,
            0.7518892488865525
           ],
           [
            0.017188861452604617,
            0.8539669008708577,
            0.6288442376765375
           ],
           [
            0.06948305874655644,
            0.9354660374139107,
            0.49505090383953265
           ],
           [
            0.22285336018741542,
            0.9989790704575913,
            0.27816756935499315
           ],
           [
            0.39149483524019096,
            0.9769462917195811,
            0.1315588730402278
           ],
           [
            0.6525959786848585,
            0.8360560460045132,
            0.01134797531062804
           ],
           [
            0.8822239517825473,
            0.5880450372980776,
            0.029731010919375057
           ],
           [
            0.9871344380527012,
            0.35402903831638444,
            0.15883652363091455
           ],
           [
            0.9995003054940157,
            0.2308956846893788,
            0.26960400981660565
           ],
           [
            0.994503169467986,
            0.1887174732177497,
            0.31677935731426443
           ],
           [
            0.9780634668273663,
            0.13411602473088233,
            0.38782050844175137
           ],
           [
            0.8820831977566503,
            0.02965691080334631,
            0.5882598914400036
           ],
           [
            0.6892985084133265,
            0.004570811122990119,
            0.8061306804636834
           ],
           [
            0.4980548999159195,
            0.06796312469514648,
            0.9339819753889341
           ],
           [
            0.23974922403626078,
            0.26039284923567857,
            0.9998579267280608
           ],
           [
            0.10227939222247436,
            0.43644129045450974,
            0.961279317323016
           ],
           [
            0.027634197051428718,
            0.5942219520777575,
            0.8781438508708137
           ],
           [
            0.0019983734783806406,
            0.7103254336716428,
            0.7876761928499766
           ],
           [
            0.00165020138874072,
            0.7843261250038608,
            0.7140236736073983
           ],
           [
            0.016819625105307625,
            0.8529568969590687,
            0.6302234779356233
           ],
           [
            0.06319016787846204,
            0.9291129555881334,
            0.5076968765334043
           ],
           [
            0.22529765774563593,
            0.9991577041941994,
            0.27554463806016466
           ],
           [
            0.4849382544889249,
            0.940347066845615,
            0.07471467866545983
           ],
           [
            0.669392248624921,
            0.8227099379636729,
            0.007897813411406041
           ],
           [
            0.929953412433713,
            0.5060550728386766,
            0.06399151472761008
           ],
           [
            0.9871849092347937,
            0.35381467120209537,
            0.15900041956311106
           ],
           [
            0.9966262530579291,
            0.30190413723790455,
            0.2014696097041665
           ],
           [
            0.9967603525358467,
            0.2024073851484637,
            0.3008322623156895
           ],
           [
            0.974340765539049,
            0.12589668251106015,
            0.3997625519498909
           ],
           [
            0.886707363444806,
            0.032159412773572926,
            0.5811332237816212
           ],
           [
            0.6551674483064868,
            0.010782582814298097,
            0.8340499688792155
           ],
           [
            0.33271260222284443,
            0.17558586608946247,
            0.9917015316876933
           ],
           [
            0.21248187519895512,
            0.2894992764620561,
            0.9980188483389888
           ],
           [
            0.0531865601563492,
            0.5290660075599707,
            0.91774743228368
           ],
           [
            0.018144933432571925,
            0.6253344058172656,
            0.8565206607501622
           ],
           [
            4.425829066755662e-05,
            0.7442165993887961,
            0.7557391423205361
           ],
           [
            0.000589116476270621,
            0.7707191768781168,
            0.7286917066456122
           ],
           [
            0.02760436359492393,
            0.8780842940523609,
            0.5943113423527149
           ],
           [
            0.1352561495243199,
            0.9785499842751884,
            0.3861938662004915
           ],
           [
            0.29775132839147217,
            0.9971314141809507,
            0.20511725742757692
           ],
           [
            0.5083182276685521,
            0.9287936610919746,
            0.06288811123947331
           ],
           [
            0.7692531547096026,
            0.7302392253853225,
            0.0005076199050746757
           ],
           [
            0.9208818903956489,
            0.5233192433560409,
            0.055798866248310236
           ],
           [
            0.9798229052308185,
            0.3818567070647502,
            0.1383203877044315
           ],
           [
            0.9998702632425112,
            0.25992843489380435,
            0.2402013018636847
           ],
           [
            0.9975733768473042,
            0.2086040286725261,
            0.2938225944801698
           ],
           [
            0.9523108478847996,
            0.08928788378040244,
            0.4584012683347981
           ],
           [
            0.7310672392287824,
            0.00046644781218831133,
            0.7684663129590293
           ],
           [
            0.6787995831169091,
            0.006220397115714503,
            0.8149800197673766
           ],
           [
            0.3898060115221031,
            0.13273108217039642,
            0.9774629063075004
           ],
           [
            0.2065597844419793,
            0.2961211489671698,
            0.997319066590851
           ],
           [
            0.04198745423886488,
            0.5553157983459718,
            0.9026967474151634
           ],
           [
            0.007785716894440287,
            0.6699899645809563,
            0.8222243185246034
           ],
           [
            0.00045434303449551014,
            0.731317410438804,
            0.7682282465267004
           ],
           [
            0.004038371543371473,
            0.8029039179642367,
            0.6930577104923921
           ],
           [
            0.03992096867849577,
            0.8995843879031757,
            0.5604946434183283
           ],
           [
            0.15335522106999547,
            0.9853769486857037,
            0.361267830244301
           ],
           [
            0.3414934901445349,
            0.9899316750450787,
            0.16857483481038615
           ],
           [
            0.5598108384275379,
            0.8999980556558187,
            0.04019110591664331
           ],
           [
            0.7765151832481778,
            0.7225117461457943,
            0.0009730706060280126
           ],
           [
            0.9099082552807654,
            0.5430003373113682,
            0.04709140740786636
           ],
           [
            0.9844159069866326,
            0.3650577064064787,
            0.15052638660688872
           ],
           [
            0.999721078179072,
            0.2356780288354819,
            0.26460089298544615
           ],
           [
            0.9944388985680828,
            0.1883784413787184,
            0.31718266005319884
           ],
           [
            0.9777640489724229,
            0.13342249739452525,
            0.3888134536330519
           ],
           [
            0.7497982131199011,
            5.427599432307865e-08,
            0.7502017326041044
           ],
           [
            0.5711499177584037,
            0.03581885019230812,
            0.8930312320492884
           ],
           [
            0.337080000947739,
            0.17207899675290889,
            0.9908410022993521
           ],
           [
            0.15294981650888273,
            0.3618086699707565,
            0.9852415135203608
           ],
           [
            0.048939729824003166,
            0.5386920380585983,
            0.9123682321173985
           ],
           [
            0.006130677981094327,
            0.6793342203567482,
            0.8145351016621574
           ],
           [
            5.540715298172231e-05,
            0.743526129944753,
            0.7564184629022653
           ],
           [
            0.00792511343440059,
            0.8228276087246672,
            0.6692472778409323
           ],
           [
            0.03901810131640591,
            0.8981864078806361,
            0.5627954908029577
           ],
           [
            0.16466778486692438,
            0.9888579958832551,
            0.3464742192498204
           ],
           [
            0.5223540475948636,
            0.921402705752041,
            0.05624324665309535
           ],
           [
            0.5952774044332934,
            0.8774397166113866,
            0.027282878955319858
           ],
           [
            0.781690680779675,
            0.7169084440365644,
            0.0014008751837606226
           ],
           [
            0.9311258600946617,
            0.5037493349271313,
            0.06512480497820716
           ],
           [
            0.9875693926668145,
            0.35216875853344565,
            0.16026184879973984
           ],
           [
            0.9999724053282475,
            0.25456302064485264,
            0.24546457402689992
           ],
           [
            0.9866081785888682,
            0.1571501403392759,
            0.3562416810718561
           ],
           [
            0.9171322016329012,
            0.05268603056339495,
            0.5301817678037041
           ],
           [
            0.7547680948743094,
            3.0508167085033506e-05,
            0.7452013969586059
           ],
           [
            0.5344287618567762,
            0.050800671107267846,
            0.9147705670359559
           ],
           [
            0.27690291451163435,
            0.22402981050669785,
            0.9990672749816679
           ],
           [
            0.09861028930518996,
            0.4424997254335111,
            0.9588899852612988
           ],
           [
            0.0374792647044115,
            0.566773507788956,
            0.8957472275066326
           ],
           [
            0.006210677942596962,
            0.6788573252007333,
            0.8149319968566695
           ],
           [
            0.001700233134337077,
            0.7848291036628126,
            0.7134706632028504
           ],
           [
            0.008575286510498192,
            0.8255641771925077,
            0.6658605362969939
           ],
           [
            0.07204672442966939,
            0.9379007218995555,
            0.49005255367077505
           ],
           [
            0.1339769319714749,
            0.9780036275578681,
            0.38801944047065684
           ],
           [
            0.446267565869372,
            0.9573712915322686,
            0.09636114259835904
           ],
           [
            0.6595795182301946,
            0.8305768855102477,
            0.009843596259557665
           ],
           [
            0.846089210255931,
            0.6394721046785977,
            0.014438685065471498
           ],
           [
            0.9644257906563228,
            0.428197558601553,
            0.10737665074212421
           ],
           [
            0.9939133865489139,
            0.32040186179345764,
            0.1856847516576284
           ],
           [
            0.9971958844979258,
            0.20560697800720654,
            0.29719713749486754
           ],
           [
            0.9878680897485597,
            0.16125801635570705,
            0.3508738938957334
           ],
           [
            0.9304088635275923,
            0.0644296052390457,
            0.5051615312333623
           ],
           [
            0.7717240920494127,
            0.0006485960156118111,
            0.7276273119349755
           ],
           [
            0.3135515923636115,
            0.19144348816923312,
            0.9950049194671554
           ],
           [
            0.26413519952028,
            0.23612636712750035,
            0.9997384333522199
           ],
           [
            0.1035497344473861,
            0.43436837199984624,
            0.9620818935527677
           ],
           [
            0.03662538580415373,
            0.5690128616888855,
            0.8943617525069607
           ],
           [
            0.0028197484977624714,
            0.7026679291885755,
            0.7945123223136621
           ],
           [
            2.0470799005149183e-06,
            0.7487599014895642,
            0.7512380514305355
           ],
           [
            0.012841500619039482,
            0.8410853898082596,
            0.6460731095727007
           ],
           [
            0.06524808214948061,
            0.9312522723495644,
            0.5034996455009548
           ],
           [
            0.2518067404275788,
            0.9999956580200072,
            0.24819760155241385
           ],
           [
            0.5318614121019489,
            0.916201956234755,
            0.05193663166329595
           ],
           [
            0.7508837466852452,
            0.7491152107405386,
            1.0425742162011248e-06
           ],
           [
            0.8722233517218684,
            0.6030030631696173,
            0.02477358510851461
           ],
           [
            0.9662291772798247,
            0.4233231487821476,
            0.11044767393802785
           ],
           [
            0.9925293043894076,
            0.32830855504666967,
            0.179162140563923
           ],
           [
            0.9949539691032575,
            0.19115994551458537,
            0.31388608538215723
           ],
           [
            0.9791538793224263,
            0.13669485034728066,
            0.3841512703302931
           ],
           [
            0.9057681218839112,
            0.044105715060865656,
            0.5501261630552232
           ],
           [
            0.7201202080052248,
            0.0011464797455142976,
            0.778733312249261
           ],
           [
            0.42590413561136187,
            0.10881627507357866,
            0.9652795893150596
           ],
           [
            0.19699229117505462,
            0.3070626456489266,
            0.9959450631760189
           ],
           [
            0.07587248286205325,
            0.48274544943339537,
            0.9413820677045512
           ],
           [
            0.030916573802753596,
            0.5846398970646295,
            0.8844435291326169
           ],
           [
            0.0031653110970178405,
            0.6997709784309167,
            0.7970637104720654
           ],
           [
            0.0003868666848157931,
            0.7327760715315549,
            0.7668370617836293
           ],
           [
            0.014801745095408832,
            0.847179192847927,
            0.638019062056664
           ],
           [
            0.09626753962104766,
            0.9573071731239797,
            0.44642528725497244
           ],
           [
            0.3462620839048132,
            0.988904745165693,
            0.16483317092949346
           ],
           [
            0.5812588350057522,
            0.8866266547771219,
            0.032114510217125726
           ],
           [
            0.7053969623357527,
            0.7920914197888653,
            0.0025116178753817795
           ],
           [
            0.9050055490535349,
            0.5514221729023568,
            0.043572278044108306
           ],
           [
            0.9708055436210884,
            0.4103936790095581,
            0.11880077736935353
           ],
           [
            0.9989379289113444,
            0.22232275094133022,
            0.2787393201473255
           ],
           [
            0.9987011396490483,
            0.21945840607309444,
            0.2818404542778573
           ],
           [
            0.9679991912404527,
            0.11357807088263923,
            0.41842273787690826
           ],
           [
            0.8182292012392002,
            0.006897927146791314,
            0.6748728716140086
           ],
           [
            0.5851706041504257,
            0.030730416351762022,
            0.8840989794978124
           ],
           [
            0.2919551600895054,
            0.21027375844645885,
            0.9977710814640359
           ],
           [
            0.18583238824661538,
            0.32022473475958413,
            0.9939428769938006
           ],
           [
            0.06899857179832002,
            0.49600509531521597,
            0.9349963328864642
           ],
           [
            0.011365815121280124,
            0.6525158123506175,
            0.8361183725281023
           ],
           [
            0.0054335618770608345,
            0.6836198173946427,
            0.8109466207282963
           ],
           [
            0.00013757452068436117,
            0.760088313480111,
            0.7397741119992045
           ],
           [
            0.010164833340660425,
            0.8317860593601769,
            0.6580491072991626
           ],
           [
            0.15313640488394772,
            0.985303942494658,
            0.361559652621394
           ],
           [
            0.4472850071004187,
            0.9569569009346295,
            0.09575809196495164
           ],
           [
            0.6436407189661807,
            0.8429392189369374,
            0.013420062096882
           ],
           [
            0.7800129974486736,
            0.718733715002612,
            0.0012532875487145062
           ]
          ],
          "size": 2
         },
         "mode": "markers",
         "type": "scatter3d",
         "x": [
          -5589.852653098818,
          -4890.848093875686,
          -3442.765390794769,
          -1243.7123227337152,
          1211.0819124020904,
          3283.464094117289,
          4720.527008863503,
          5477.759064244549,
          5675.802725209502,
          5395.669188848676,
          4542.839833272623,
          2961.4227204778963,
          766.2530387882814,
          -1534.1832080268791,
          -3552.2376604954256,
          -4927.413375631113,
          -5556.263943368235,
          -5694.325631928892,
          -5246.035148136741,
          -4208.742207708596,
          -2428.285988647356,
          -163.02392824362315,
          2107.6050197300674,
          3928.455600879446,
          5072.280294431938,
          5563.447432495652,
          5513.511763157334,
          4949.991736124384,
          3775.8383193058135,
          1954.0045236881956,
          -239.54987439782923,
          -2384.078072343884,
          -4140.363473462157,
          -5212.849702601255,
          -5574.036327873961,
          -5387.106647048962,
          -4658.759414372944,
          -3296.9904249860233,
          -1384.4498965496655,
          819.0192623928397,
          2843.639710743811,
          4368.1794133072335,
          5220.18903428621,
          5446.16678067458,
          5124.944570649853,
          4242.677690534985,
          2880.7443810810514,
          1014.5069742598482,
          -1084.232180535437,
          -3045.890114244526,
          -4581.698779624864,
          -5256.0883677261845,
          -5327.376474409696,
          -4844.004471781933,
          -3851.2162842068433,
          -2348.3565915280474,
          -490.0281918387542,
          1520.3014194855728,
          3340.4738454176886,
          4618.355134611617,
          5183.737523073002,
          5099.890845882117,
          4506.585251165672,
          3448.303136388209,
          2016.1330010105323,
          215.47876700320006,
          -1694.8819952049078,
          -3501.539057046059,
          -4666.230229738322,
          -5084.910124402136,
          -4863.850134824221,
          -4086.3585450188157,
          -2942.8438235825533,
          -1514.4663051233665,
          201.17209728637692,
          2053.492630448854,
          3629.4295121857954,
          4607.574995015809,
          4897.871885909097,
          4505.90345681151,
          3701.8793274934433,
          2626.4593174891975,
          1275.7605676814426,
          -434.3165876086789,
          -2176.387327082229,
          -3665.068155834622,
          -4545.60034111282,
          -4625.5039653163585,
          -4140.613904226795,
          -3262.251067927377,
          -2167.626874999695,
          -847.0917407771655,
          756.1031922117465,
          2408.3552383055467,
          3717.3089860296327,
          4401.661941882223,
          4342.155964577798,
          3775.5612436780134,
          2939.994347720058,
          1982.3028404622078,
          717.1028180641794,
          -885.705656471941,
          -2429.5185451825787,
          -3675.1353312272204,
          -4174.099100257874,
          -3966.9076338287045,
          -3343.1989690137048,
          -2555.2442844806837,
          -1609.3516297093045,
          -381.6146699268282,
          1098.1892479957066,
          2546.9125092959544,
          3578.9128372286127,
          3931.8036710739584,
          3652.9644642366056,
          3052.6085851741936,
          2308.87847312824,
          1504.4748881080454,
          303.3010747497458,
          -1121.0021466128846,
          -2504.236782168556,
          -3401.997967168301,
          -3576.485033015249,
          -3227.367589685614,
          -2665.7227840460546,
          -2035.558538143131,
          -1223.619491030248,
          -113.86683785170658,
          1212.2166025166111,
          2472.9831438527112,
          3213.1372918991924,
          3333.7600126841,
          2954.775289498916,
          2483.332203698736,
          1924.8513922020668,
          1166.7359315549634,
          96.34836532899105,
          -1139.9670688748927,
          -2247.3201967540376,
          -2855.3206571234036,
          -2889.3147014508836,
          -2598.0411833538374,
          -2187.315812399569,
          -1679.8643716000104,
          -997.5612545574012,
          -35.80952491811436,
          1145.822304100127,
          2140.1432005100446,
          2627.669276721575,
          2686.9323432143715,
          2404.833473039564,
          2059.2147248117276,
          1634.5850746754131,
          1004.8487545022081,
          67.74923477175238,
          -954.7681967812908,
          -1783.4512755814185,
          -2223.588937088546,
          -2283.565845293666,
          -2149.1964284084597,
          -1898.683419638061,
          -1497.9143860223555,
          -934.8692845648312,
          -110.0336560690336,
          864.2705325166319,
          1625.4153838726263,
          2086.43073687782,
          2157.145903650191,
          2043.137803858663,
          1837.9326277449566,
          1580.6908446524224,
          1040.023458008672,
          261.771449847915,
          -543.5082532953883,
          -1259.207141058654,
          -1729.518108848871,
          -1902.4011227911571,
          -1891.317753690393,
          -1789.581745479009,
          -1580.1645842313997,
          -1162.9121589683073,
          -473.3581102658875,
          391.4330842771071,
          1142.8284806755626,
          1637.3343608088187,
          1843.6311727337893,
          1875.3523386603144,
          1812.1959253299242,
          1685.355511476675,
          1331.953912512391,
          759.6178311214825,
          1.8202310940392246,
          -799.1004933571701,
          -1397.7744376953328,
          -1690.267939379508,
          -1801.6130778902811,
          -1863.8977420502993,
          -1827.9841576383415,
          -1551.1106062957438,
          -946.2484393748488,
          -74.64761219253478,
          764.3595770180183,
          1395.7501913513383,
          1695.490062023493,
          1890.0729874400224,
          2010.8079083888656,
          2025.9510129407638,
          1820.4694264430377,
          1274.369185225211,
          395.6012986942538,
          -550.5936659951278,
          -1245.5568067909003,
          -1661.184099371543,
          -1950.360163580491,
          -2155.021761907735,
          -2290.6487355119757,
          -2140.4724939379635,
          -1427.646031789075,
          -423.3091387893438,
          570.30036352203,
          1304.262755395822,
          1733.7508612600047,
          2070.3535286897236,
          2389.3184527442713,
          2580.15151902609,
          2384.975664216259,
          1682.4143727539824,
          628.443980347031,
          -436.241309570314,
          -1231.4127124798983,
          -1817.6365070458696,
          -2295.659563243548,
          -2673.8439496071114,
          -2946.5289025111365,
          -2667.279225959638,
          -1718.6731236510877,
          -545.0947019399839,
          563.8140076094322,
          1373.8761271015612,
          1970.6577489331003,
          2511.340485513534,
          3034.1574277112095,
          3247.638160613251,
          2887.293220626364,
          1953.6870189822487,
          661.8383892280135,
          -566.726965186245,
          -1487.239590848734,
          -2186.552928407097,
          -2844.1278765340508,
          -3411.142061273018,
          -3566.599477862253,
          -2998.582471143787,
          -1827.7647858929222,
          -510.3695552741377,
          721.3140944612451,
          1689.487998192906,
          2485.8690528755014,
          3207.4085053208996,
          3752.3420537719867,
          3805.431418234391,
          3164.1968076305347,
          1972.906713611005,
          501.8209831020778,
          -849.4081513451856,
          -1916.4306999769788,
          -2776.9948267407744,
          -3585.1187199313867,
          -4103.8853535302815,
          -3995.277361266103,
          -3137.983292220884,
          -1780.9215514598966,
          -278.02091162317834,
          1085.711776509162,
          2186.5381024256244,
          3159.924284401873,
          3968.0421690610046,
          4356.370403799537,
          4139.395941945177,
          3242.3441890075205,
          1807.5907025635368,
          151.21831674028795,
          -1330.701538146922,
          -2559.360223390472,
          -3593.35743482388,
          -4324.4384023153425,
          -4590.645958186116,
          -4201.620923402616,
          -3087.7632164777583,
          -1540.399192279527,
          127.11467143043993,
          1655.9210925220723,
          2942.4843747108002,
          3972.325082108877,
          4647.152407491239,
          4800.445357225126,
          4312.115840152939,
          3126.5731396340084,
          1451.4354463140392,
          -381.36407002141857,
          -2015.2861598931224,
          -3348.2273362652513,
          -4369.975803481579,
          -4871.305655203267,
          -4877.221518153805,
          -4188.330687753246,
          -2829.2858270571264,
          -1078.9808755409713,
          770.923315301216,
          2455.9650412157416,
          3787.6697784037215,
          4691.32121319821,
          5132.613892309865,
          5028.364579574324,
          4210.714465423692,
          2761.3343062016465,
          806.5540523655925,
          -1215.358503606399,
          -2933.8308310517587,
          -4183.754422709406,
          -4976.763522487187,
          -5270.543265093738,
          -5009.554197596477,
          -4010.8353953952214,
          -2356.7754291692486,
          -360.55102783012256,
          1669.194681750124,
          3403.1507646089344,
          4591.480933367834,
          5251.586935854844,
          5420.916571126319,
          5077.378531482293,
          3969.0975204055594,
          2226.608070733626,
          -42.343812435516874,
          -2155.662059645594,
          -3817.344348198082,
          -4835.751533497278,
          -5366.293141253159,
          -5425.686485893261,
          -4882.579709170009,
          -3614.356582819116,
          -1697.495505813086,
          539.9258978632143,
          2652.806538278018,
          4241.382215740893,
          5155.266733386146,
          5599.95533040469,
          5503.411144528839,
          4848.40560994512,
          3489.400870068284,
          1365.434028565574,
          -1021.0485525555838,
          -3094.231881317874,
          -4500.856969793698,
          -5303.193182249278,
          -5607.330117634653,
          -5397.933940098847,
          -4550.443194344398,
          -2961.6850333582506,
          -788.4218230823868,
          1550.0905759261868,
          3566.0385569739074,
          4876.862906526044,
          5524.4399094355185,
          5710.49190918849,
          5378.031403330833,
          4428.4047637965205,
          2643.8933478538142,
          306.69868813635236,
          -2028.4827790442562,
          -3847.471342878471,
          -4998.043657825385,
          -5587.31529113581,
          -5620.4246415868065,
          -5135.65990540186,
          -3977.30419656111,
          -2044.7592892701336,
          306.9237817903773,
          2560.558542026307,
          4305.859938123404,
          5294.83670502458,
          5702.299565317612,
          5622.970396126995,
          5058.080273477976,
          3679.009719178485,
          1651.078636456496,
          -765.7729259835727,
          -2923.719748431975,
          -4465.598210837917,
          -5341.17309919687,
          -5649.2354142876675,
          -5442.236257581654,
          -4656.280002168257,
          -3167.9960206263277,
          -1035.250080243373,
          1315.0569113337458,
          3379.2457718826486
         ],
         "y": [
          1588.0842850454599,
          1055.8292843221313,
          350.5425000277835,
          -448.6607670524893,
          -1154.74632906785,
          -1630.9333636368995,
          -1846.7102780493567,
          -1883.5825456208315,
          -1696.891110195416,
          -1252.7639721742737,
          -583.9542823716627,
          244.58076088310858,
          1085.7535061369383,
          1741.979253673198,
          2030.1402496122776,
          2072.1656319964836,
          1985.2110946128846,
          1572.5440520926231,
          928.1595205270337,
          34.461502788247046,
          -983.8291499338479,
          -1809.8763778385935,
          -2222.837545985813,
          -2271.627109309669,
          -2126.9485639504173,
          -1802.32532231304,
          -1241.9421008126767,
          -426.8479310701233,
          604.5697068289596,
          1645.1908697324504,
          2363.898721250489,
          2609.5364075934076,
          2480.0736452074543,
          2194.1494850821105,
          1670.9575944497442,
          909.5950193335624,
          -129.62260004932918,
          -1368.4107591353488,
          -2381.8369603326328,
          -2849.563368825344,
          -2828.449540456637,
          -2515.7144548321985,
          -2016.670460266415,
          -1325.0551356590004,
          -393.4301773566036,
          793.3273421627435,
          2063.3290544331185,
          2974.2841865318173,
          3264.466958528912,
          3039.358449003406,
          2533.4116449276344,
          1861.334733741116,
          985.6687867768467,
          -168.729766285137,
          -1575.3248331326477,
          -2817.181887131789,
          -3481.947787776674,
          -3490.2699508950427,
          -3056.6926737641106,
          -2369.0735503694696,
          -1515.4838089975144,
          -470.13105346311744,
          855.3052730022036,
          2295.4003262539545,
          3454.186783338274,
          3921.786836467452,
          3737.1812439298733,
          3093.533788015277,
          2189.358667776322,
          1155.767104430688,
          -106.39132742582889,
          -1605.1495468943615,
          -3034.074101994125,
          -3946.0667428693687,
          -4138.0102907245255,
          -3717.5482361318104,
          -2909.4530296882226,
          -1867.4619520954186,
          -639.4951110079714,
          785.2178437033123,
          2358.988741239139,
          3710.6139396905423,
          4426.000982997438,
          4369.6730123797215,
          3768.0048402641755,
          2718.7488467848357,
          1466.671615535835,
          66.55084976774748,
          -1572.465789047782,
          -3130.0668242970496,
          -4220.278299767836,
          -4636.662163391276,
          -4369.582254739292,
          -3550.0687898286405,
          -2367.768877736791,
          -967.5164432491893,
          611.2978783484178,
          2318.752484785512,
          3816.9145346361115,
          4758.346636085259,
          4947.393627532224,
          4417.575234223556,
          3360.5605583312454,
          1940.4400955028652,
          343.47649406446584,
          -1418.029757019673,
          -3092.2558785137976,
          -4347.093859323283,
          -4973.840717280843,
          -4922.088604061388,
          -4219.527310616991,
          -2994.5648561374933,
          -1449.3655067188108,
          319.2320093410891,
          2181.2640257585217,
          3819.210577029689,
          4896.1941261964585,
          5329.116797259892,
          5026.853967485475,
          4042.367096332342,
          2564.4108587836236,
          790.4435009894976,
          -1140.3079401296077,
          -2955.019666966764,
          -4340.1143006923885,
          -5141.921410105645,
          -5317.9672609309755,
          -4831.351408117821,
          -3698.5106538530536,
          -2060.148787386116,
          -114.2371121702276,
          1943.0537569485525,
          3695.896193466677,
          4924.549415481387,
          5495.422798974298,
          5446.662295782289,
          4669.578232483608,
          3281.427413820226,
          1414.1675390222779,
          -724.4885370238184,
          -2727.719672852322,
          -4255.004083155415,
          -5172.318921325615,
          -5509.026304104909,
          -5257.5971248048945,
          -4333.507647942505,
          -2776.362847140063,
          -741.8376319186463,
          1492.434259165307,
          3489.626312244448,
          4834.684640238304,
          5514.700054164834,
          5654.223331881406,
          5125.117429388405,
          3913.676953658174,
          2104.5463760486514,
          -130.40722873901748,
          -2323.5131660193874,
          -4026.4375209999184,
          -5098.620825808675,
          -5580.818714569545,
          -5485.47085741477,
          -4783.0215115004585,
          -3433.3424778587823,
          -1435.7514981718857,
          920.0684440045193,
          3121.386298512193,
          4652.231595090891,
          5467.987179438843,
          5734.451165134592,
          5412.975441062971,
          4427.808852073163,
          2769.807470746136,
          565.8965586174821,
          -1770.5037105044598,
          -3696.7277123352887,
          -4934.13765745929,
          -5542.282337993174,
          -5610.469860850466,
          -5102.476273008346,
          -3980.207613395805,
          -2151.338583058543,
          242.4869341235675,
          2571.979316547722,
          4301.987297714248,
          5303.937017482384,
          5710.993364545627,
          5512.17423313857,
          4760.0659885312525,
          3325.6653474553564,
          1261.5858893014029,
          -1085.0457860188349,
          -3181.787966812348,
          -4641.648397664688,
          -5411.340426903576,
          -5591.392492231782,
          -5227.723551629028,
          -4317.735096385831,
          -2729.0102005425433,
          -492.1613810103547,
          1920.6510601118346,
          3794.7984311057703,
          5010.866483655693,
          5564.419361567568,
          5523.467684935277,
          4915.826316423053,
          3701.460009910809,
          1841.5603413804988,
          -393.0157866771343,
          -2530.279746458272,
          -4171.384887688607,
          -5149.691161437439,
          -5494.050565582007,
          -5253.769879408503,
          -4475.509997877447,
          -3115.2463382790716,
          -1110.816321293773,
          1181.147373759427,
          3152.2531016799203,
          4554.408082855647,
          5335.796604283925,
          5419.054862191682,
          4936.6200169554995,
          3893.6509357014234,
          2264.5816184849596,
          223.5936235092301,
          -1837.9044279910506,
          -3550.9296478548918,
          -4720.7135049094295,
          -5261.782463618759,
          -5180.094162694218,
          -4546.184556130633,
          -3309.6400828108876,
          -1530.814565878302,
          535.3905750338911,
          2451.358722939889,
          3934.13458538038,
          4911.912269153067,
          5203.983821892012,
          4870.283558300249,
          3963.7807561967356,
          2514.6232755480373,
          682.6314403941526,
          -1202.8392257742532,
          -2856.3366349422495,
          -4145.521928503397,
          -4912.3126459544455,
          -5001.663491673486,
          -4497.3652819160125,
          -3411.4772768142143,
          -1791.8179232582877,
          39.68832580563663,
          1777.6013998164942,
          3260.352514658348,
          4327.241741673028,
          4836.12092027863,
          4704.159334995711,
          3935.3473347728686,
          2615.150185069884,
          976.5935043362853,
          -695.4213994305737,
          -2203.210610210132,
          -3453.2627140254444,
          -4355.923594149226,
          -4669.065691771836,
          -4356.249556726603,
          -3388.537300482119,
          -1877.1195421210464,
          -214.25171741271538,
          1271.433869615481,
          2588.0765568195134,
          3672.269342920529,
          4307.523816440825,
          4373.894950711025,
          3786.2653551099,
          2610.276015720455,
          1098.7577241267197,
          -411.66503389568953,
          -1709.6929389379004,
          -2809.7844178023,
          -3700.7398378470934,
          -4180.145266824896,
          -4073.380889002204,
          -3289.5887348979286,
          -1888.3256360652663,
          -351.78011256175074,
          964.7234028928626,
          2047.8565592776506,
          3007.0281041715566,
          3662.301437748263,
          3877.4583994181153,
          3499.25215605668,
          2488.4000714337612,
          1101.2453375615426,
          -262.80694064809114,
          -1373.7492698242413,
          -2262.8117342983014,
          -3028.5819925635546,
          -3520.5058327828638,
          -3610.0931463603665,
          -3039.1226479173242,
          -1791.9550935887373,
          -373.9588921811063,
          829.6888384281918,
          1716.4999010024706,
          2452.7882895814782,
          3010.3626368225405,
          3260.169672665601,
          3050.9115515130743,
          2250.3874109767276,
          1013.2652211095519,
          -234.2143904716738,
          -1200.269354676433,
          -1898.558130435784,
          -2482.6069331631415,
          -2864.5934781510714,
          -3020.654783776665,
          -2645.964188114423,
          -1586.7359408408176,
          -299.1389527807471,
          784.1241646712616,
          1545.2337533784646,
          2068.6476797744767,
          2435.2683152581235,
          2633.567645328754,
          2489.572154336648,
          1861.6068136070169,
          832.3277358406441,
          -285.3775477036315,
          -1155.877992173549,
          -1718.8133675572694,
          -2058.4531384929764,
          -2268.995306355808,
          -2322.8373153727357,
          -2065.800287377728,
          -1217.6434760738164,
          -123.02512666908231,
          844.4725192886873,
          1499.6527334907457,
          1878.2021737696934,
          2025.9119687401385,
          2025.4020641646564,
          1830.890537191171,
          1295.6387894772424,
          443.9159910731313,
          -480.6060380342196,
          -1226.2082362546976,
          -1649.5794451843663,
          -1866.8592433838148,
          -1845.4556310291205,
          -1714.2095004380944,
          -1377.6538144438555,
          -684.9801353103559,
          213.79191756438212,
          1008.5752114481134,
          1541.6582348743507,
          1807.0040980870488,
          1798.9498395967614,
          1586.5288050339177,
          1229.8590922812975,
          660.747621623071,
          -102.09468422088042,
          -829.0654535658983,
          -1381.8504950752354,
          -1709.4404864600692,
          -1791.1853669443371,
          -1608.9136566211228,
          -1253.7379599112094,
          -739.4937551587758,
          -26.46120538175261,
          724.5185508549714,
          1336.2133759257365,
          1717.6542713670078,
          1853.3957109507553,
          1732.4512659932009,
          1344.861876295911,
          777.9455421454883,
          86.84222242128094,
          -696.506842439792,
          -1350.9751608275114,
          -1704.1535808445624,
          -1866.4950642544968,
          -1839.7133210542818,
          -1536.2880190485096,
          -967.9797329546569,
          -255.6960796072646,
          618.7091324884022,
          1329.8608510734302,
          1779.3187885304303,
          1984.1799337870368,
          1996.9541420766468,
          1755.1696077203628,
          1240.8844075918594,
          491.21391638944664,
          -434.688617502067,
          -1344.6088220274846,
          -1963.0270307537678,
          -2195.685007391537
         ],
         "z": [
          -1600.609000437862,
          -3286.5232524489106,
          -4280.459943807772,
          -4634.343782736603,
          -4648.178797654697,
          -4104.823296131622,
          -2859.201673144946,
          -1193.3230051086773,
          608.0297766501546,
          2356.1797381557167,
          3719.0606698920355,
          4440.296121887389,
          4649.936582227474,
          4483.551910030419,
          3776.2826783544638,
          2410.970155173273,
          731.0733886652516,
          -1110.6877858503253,
          -2815.2377612905666,
          -3956.1800147084214,
          -4462.701588674617,
          -4559.968488261793,
          -4147.279833513198,
          -3094.0577958668414,
          -1592.6541568676662,
          122.39726226212571,
          1868.710869002934,
          3318.197204582377,
          4177.64564319033,
          4512.997468897011,
          4439.107202726002,
          3826.5362514258672,
          2628.952653155303,
          1118.7447409034592,
          -635.6082865022819,
          -2342.7140882579024,
          -3547.78674357264,
          -4182.456955666314,
          -4413.851215257372,
          -4090.3357954464927,
          -3168.7962353708263,
          -1844.4157002955083,
          -270.17980877216917,
          1402.6424044596758,
          2868.176687083271,
          3823.6037065515607,
          4249.393669326598,
          4306.213505333062,
          3770.7518291431115,
          2709.0365358530403,
          1348.16610259617,
          -198.1187266779951,
          -1839.1246252046392,
          -3063.4947404963027,
          -3801.7817668623284,
          -4156.718201412482,
          -3967.582971215905,
          -3157.7201626975157,
          -1969.5786074544465,
          -573.7550183108567,
          967.500990011147,
          2389.9630352628374,
          3373.6336078188556,
          3922.877846124424,
          4112.921585735673,
          3698.9374592423387,
          2660.355278601651,
          1468.0002461573392,
          85.90007474578337,
          -1408.8776468805222,
          -2596.9084827396605,
          -3336.0499923078046,
          -3805.8165105865187,
          -3755.9514397697985,
          -3054.7344770171026,
          -1969.6908760556469,
          -725.1410137629397,
          649.6925802012091,
          1965.8435098963457,
          2906.210567376666,
          3491.9103871929374,
          3798.816172202615,
          3516.055260373724,
          2599.160243530279,
          1433.033097534112,
          205.74008970869863,
          -1101.6475182849845,
          -2158.9713929984937,
          -2875.7960526352704,
          -3353.823375073215,
          -3414.9838872698647,
          -2870.5729048818794,
          -1890.1733867668931,
          -741.6890601799597,
          472.5939384576658,
          1621.6563727516939,
          2474.374442525109,
          3027.8075295266794,
          3398.463071711394,
          3228.2249993392156,
          2457.006625660216,
          1377.2821267726001,
          218.41558073583238,
          -932.9165395671392,
          -1820.5595015462018,
          -2441.313786329523,
          -2896.959635255161,
          -3002.649996095196,
          -2576.308212375487,
          -1733.5774973121793,
          -679.0707416556376,
          443.19178498420445,
          1426.382503376371,
          2111.2628909919495,
          2589.497907207023,
          2946.8652482091247,
          2871.63534894698,
          2184.2283920837654,
          1251.6383146231913,
          153.83722816265305,
          -903.8925445524515,
          -1644.3497368466483,
          -2090.573488380601,
          -2460.196616602177,
          -2561.9105901172898,
          -2196.500865963905,
          -1467.1561668130178,
          -542.773284110806,
          477.82308616022095,
          1377.1421148891277,
          1899.3916997166205,
          2201.676392091173,
          2493.266542544477,
          2428.2761077120044,
          1831.5090287091716,
          1013.1418134834959,
          41.78038768997614,
          -969.1205930884166,
          -1599.5546372553965,
          -1881.8124942874454,
          -2088.087981223918,
          -2122.912387208391,
          -1755.1472842909109,
          -1086.3069955610424,
          -295.87357507543567,
          609.0516130448066,
          1421.0048788411768,
          1832.0067829125703,
          1959.3940224849007,
          2108.3175472483904,
          1975.7576823410386,
          1407.4499987657955,
          687.4276229643685,
          -165.62252329682553,
          -1062.4421767822853,
          -1650.1395918086264,
          -1835.0686933816396,
          -1870.1461658564408,
          -1755.1770232063136,
          -1323.556881115328,
          -658.8080681495757,
          63.01835826242438,
          838.9838809834106,
          1542.3731625917062,
          1874.7813956865475,
          1868.1727019417003,
          1844.6774520723432,
          1593.0646472252818,
          958.2540666292356,
          283.75672526099777,
          -482.9096818376171,
          -1257.447742522405,
          -1758.4843548888427,
          -1875.6608136517464,
          -1783.2503582894676,
          -1494.8708397482762,
          -941.6759922729844,
          -232.434067540838,
          480.5540891609111,
          1170.4751366765393,
          1751.8842711055916,
          1982.1167605645887,
          1912.2386218164877,
          1725.0434985050763,
          1280.816208696269,
          541.0518299738737,
          -177.12620919512074,
          -875.8787468837481,
          -1553.3243920451898,
          -1947.166814037036,
          -1985.5020818700273,
          -1808.3186697690812,
          -1392.1917312813098,
          -671.7785288148186,
          175.19051245512202,
          930.7716974533126,
          1589.1097780234597,
          2072.512245913326,
          2173.2659754166166,
          1996.5064703759615,
          1741.4730348943033,
          1139.4421567631855,
          231.32869530110045,
          -581.961249274207,
          -1299.5501424692982,
          -1920.984780818155,
          -2215.5076066791135,
          -2144.8347846045504,
          -1902.721187373144,
          -1413.9145684337625,
          -546.4538456057119,
          466.3137280658629,
          1327.8758381371024,
          2021.7543669014544,
          2492.6735537138725,
          2478.8041449170255,
          2185.0026475773657,
          1839.1608360770053,
          1144.5518591865482,
          75.23014541737136,
          -901.1874600515713,
          -1731.5339021970362,
          -2356.9746444595767,
          -2604.267662214508,
          -2434.991638412835,
          -2069.478050044105,
          -1508.9754869160215,
          -568.4795579644476,
          609.8604598648222,
          1653.494992540783,
          2442.0297745203106,
          2946.2000670005505,
          2904.0390501970533,
          2488.2188196563143,
          2008.2839298551664,
          1233.069052964981,
          46.146131179306025,
          -1110.2242172037897,
          -2092.4614305094024,
          -2810.3807793430065,
          -3038.0869768871453,
          -2796.764669229468,
          -2326.6161907842375,
          -1665.710545384139,
          -654.6740848868291,
          628.5808421561441,
          1843.7615031450168,
          2813.471449928761,
          3388.707835668264,
          3389.728056838568,
          2869.272583430097,
          2259.917828904845,
          1369.5595363466762,
          138.9778328835975,
          -1162.2654583031926,
          -2311.039896615079,
          -3169.1317434858424,
          -3483.004447346741,
          -3228.3902043193584,
          -2672.356195130233,
          -1907.266044649023,
          -805.6372319819808,
          552.2557460172228,
          1893.6166204019582,
          3025.4487994196425,
          3785.1650360825124,
          3822.446393474294,
          3340.818391436585,
          2633.9089481220176,
          1637.3729376792364,
          287.02248433286377,
          -1081.4595313627954,
          -2383.944429714378,
          -3428.1005793734025,
          -3885.6473619496273,
          -3690.252707641362,
          -3111.034488495723,
          -2259.969249178373,
          -1034.3071272233517,
          406.80231218593104,
          1796.6215223232869,
          3091.6737408012623,
          4052.6482894233095,
          4248.572801630503,
          3811.091143141713,
          3114.8315537471276,
          2007.605590646785,
          530.4356666908407,
          -949.8959963036384,
          -2349.5375097379206,
          -3550.531000795312,
          -4190.472672196089,
          -4125.7859429640785,
          -3579.706593208318,
          -2689.723878220342,
          -1381.6177435632342,
          195.87539431790248,
          1696.9856224649416,
          3036.074586273902,
          4160.930418356955,
          4559.166680406425,
          4231.688198981527,
          3584.441700683451,
          2456.8766195577664,
          888.9725997702205,
          -719.0182271800572,
          -2208.6411778135043,
          -3522.9605762372353,
          -4337.787500970371,
          -4449.825245362026,
          -4016.637297297344,
          -3158.34511300199,
          -1803.841876493901,
          -123.87380998436812,
          1495.2169421824567,
          2933.139637941688,
          4145.676308428476,
          4718.009323548969,
          4581.667201696524,
          4012.665798797716,
          2945.153050649696,
          1328.0299698803933,
          -399.53000901181207,
          -2025.688461387473,
          -3423.6030053737304,
          -4366.801227552486,
          -4668.167963288332,
          -4396.014831454196,
          -3630.4032922364167,
          -2270.8762563721803,
          -529.1000036499263,
          1204.847865983034,
          2759.5367498908677,
          4046.30447203236,
          4713.475388032857,
          4764.162431359112,
          4395.784175378834,
          3396.955609463632,
          1822.892111830885,
          25.41068344998668,
          -1714.9627085077045,
          -3244.695199285142,
          -4288.789611366595,
          -4705.579074590593,
          -4614.446135667887,
          -4020.7889504454242,
          -2766.788288211674,
          -1006.0229289225166,
          811.6683594329353,
          2492.4727681006875,
          3900.6405571015184,
          4613.780122003618,
          4804.085245123993,
          4608.34122142185,
          3785.4910698247204,
          2312.808962871642,
          534.0918287469846,
          -1290.3645129886797,
          -2951.887937039172,
          -4126.844309392705,
          -4657.816097587831,
          -4705.3304192413425,
          -4305.729917735741,
          -3199.6305762999054,
          -1501.4275024563274,
          334.7568094724244,
          2113.7919557948485,
          3661.6436410819265,
          4498.83516728644,
          4735.951895594472,
          4685.0754038587065,
          4055.496412728409,
          2717.5829499843057,
          1007.3317249905415,
          -822.805269344699,
          -2562.6487767207404,
          -3874.619119613611,
          -4537.905931044952,
          -4683.259491320162,
          -4430.298851284189,
          -3517.7690131282434,
          -1972.9234354229843,
          -158.17474652898468,
          1665.3829299380868,
          3297.4525406554185,
          4282.001684062975,
          4633.443146707409,
          4656.90390704345,
          4183.2394581895815,
          3044.265070694752,
          1453.146876570033,
          -325.69024755112787,
          -2101.173896329328,
          -3533.076730470504,
          -4333.265245861839,
          -4586.578981620038,
          -4427.576853362496,
          -3698.1126134685946
         ]
        }
       ],
       "layout": {
        "scene": {
         "aspectmode": "data"
        },
        "template": {
         "data": {
          "bar": [
           {
            "error_x": {
             "color": "#2a3f5f"
            },
            "error_y": {
             "color": "#2a3f5f"
            },
            "marker": {
             "line": {
              "color": "#E5ECF6",
              "width": 0.5
             },
             "pattern": {
              "fillmode": "overlay",
              "size": 10,
              "solidity": 0.2
             }
            },
            "type": "bar"
           }
          ],
          "barpolar": [
           {
            "marker": {
             "line": {
              "color": "#E5ECF6",
              "width": 0.5
             },
             "pattern": {
              "fillmode": "overlay",
              "size": 10,
              "solidity": 0.2
             }
            },
            "type": "barpolar"
           }
          ],
          "carpet": [
           {
            "aaxis": {
             "endlinecolor": "#2a3f5f",
             "gridcolor": "white",
             "linecolor": "white",
             "minorgridcolor": "white",
             "startlinecolor": "#2a3f5f"
            },
            "baxis": {
             "endlinecolor": "#2a3f5f",
             "gridcolor": "white",
             "linecolor": "white",
             "minorgridcolor": "white",
             "startlinecolor": "#2a3f5f"
            },
            "type": "carpet"
           }
          ],
          "choropleth": [
           {
            "colorbar": {
             "outlinewidth": 0,
             "ticks": ""
            },
            "type": "choropleth"
           }
          ],
          "contour": [
           {
            "colorbar": {
             "outlinewidth": 0,
             "ticks": ""
            },
            "colorscale": [
             [
              0,
              "#0d0887"
             ],
             [
              0.1111111111111111,
              "#46039f"
             ],
             [
              0.2222222222222222,
              "#7201a8"
             ],
             [
              0.3333333333333333,
              "#9c179e"
             ],
             [
              0.4444444444444444,
              "#bd3786"
             ],
             [
              0.5555555555555556,
              "#d8576b"
             ],
             [
              0.6666666666666666,
              "#ed7953"
             ],
             [
              0.7777777777777778,
              "#fb9f3a"
             ],
             [
              0.8888888888888888,
              "#fdca26"
             ],
             [
              1,
              "#f0f921"
             ]
            ],
            "type": "contour"
           }
          ],
          "contourcarpet": [
           {
            "colorbar": {
             "outlinewidth": 0,
             "ticks": ""
            },
            "type": "contourcarpet"
           }
          ],
          "heatmap": [
           {
            "colorbar": {
             "outlinewidth": 0,
             "ticks": ""
            },
            "colorscale": [
             [
              0,
              "#0d0887"
             ],
             [
              0.1111111111111111,
              "#46039f"
             ],
             [
              0.2222222222222222,
              "#7201a8"
             ],
             [
              0.3333333333333333,
              "#9c179e"
             ],
             [
              0.4444444444444444,
              "#bd3786"
             ],
             [
              0.5555555555555556,
              "#d8576b"
             ],
             [
              0.6666666666666666,
              "#ed7953"
             ],
             [
              0.7777777777777778,
              "#fb9f3a"
             ],
             [
              0.8888888888888888,
              "#fdca26"
             ],
             [
              1,
              "#f0f921"
             ]
            ],
            "type": "heatmap"
           }
          ],
          "heatmapgl": [
           {
            "colorbar": {
             "outlinewidth": 0,
             "ticks": ""
            },
            "colorscale": [
             [
              0,
              "#0d0887"
             ],
             [
              0.1111111111111111,
              "#46039f"
             ],
             [
              0.2222222222222222,
              "#7201a8"
             ],
             [
              0.3333333333333333,
              "#9c179e"
             ],
             [
              0.4444444444444444,
              "#bd3786"
             ],
             [
              0.5555555555555556,
              "#d8576b"
             ],
             [
              0.6666666666666666,
              "#ed7953"
             ],
             [
              0.7777777777777778,
              "#fb9f3a"
             ],
             [
              0.8888888888888888,
              "#fdca26"
             ],
             [
              1,
              "#f0f921"
             ]
            ],
            "type": "heatmapgl"
           }
          ],
          "histogram": [
           {
            "marker": {
             "pattern": {
              "fillmode": "overlay",
              "size": 10,
              "solidity": 0.2
             }
            },
            "type": "histogram"
           }
          ],
          "histogram2d": [
           {
            "colorbar": {
             "outlinewidth": 0,
             "ticks": ""
            },
            "colorscale": [
             [
              0,
              "#0d0887"
             ],
             [
              0.1111111111111111,
              "#46039f"
             ],
             [
              0.2222222222222222,
              "#7201a8"
             ],
             [
              0.3333333333333333,
              "#9c179e"
             ],
             [
              0.4444444444444444,
              "#bd3786"
             ],
             [
              0.5555555555555556,
              "#d8576b"
             ],
             [
              0.6666666666666666,
              "#ed7953"
             ],
             [
              0.7777777777777778,
              "#fb9f3a"
             ],
             [
              0.8888888888888888,
              "#fdca26"
             ],
             [
              1,
              "#f0f921"
             ]
            ],
            "type": "histogram2d"
           }
          ],
          "histogram2dcontour": [
           {
            "colorbar": {
             "outlinewidth": 0,
             "ticks": ""
            },
            "colorscale": [
             [
              0,
              "#0d0887"
             ],
             [
              0.1111111111111111,
              "#46039f"
             ],
             [
              0.2222222222222222,
              "#7201a8"
             ],
             [
              0.3333333333333333,
              "#9c179e"
             ],
             [
              0.4444444444444444,
              "#bd3786"
             ],
             [
              0.5555555555555556,
              "#d8576b"
             ],
             [
              0.6666666666666666,
              "#ed7953"
             ],
             [
              0.7777777777777778,
              "#fb9f3a"
             ],
             [
              0.8888888888888888,
              "#fdca26"
             ],
             [
              1,
              "#f0f921"
             ]
            ],
            "type": "histogram2dcontour"
           }
          ],
          "mesh3d": [
           {
            "colorbar": {
             "outlinewidth": 0,
             "ticks": ""
            },
            "type": "mesh3d"
           }
          ],
          "parcoords": [
           {
            "line": {
             "colorbar": {
              "outlinewidth": 0,
              "ticks": ""
             }
            },
            "type": "parcoords"
           }
          ],
          "pie": [
           {
            "automargin": true,
            "type": "pie"
           }
          ],
          "scatter": [
           {
            "fillpattern": {
             "fillmode": "overlay",
             "size": 10,
             "solidity": 0.2
            },
            "type": "scatter"
           }
          ],
          "scatter3d": [
           {
            "line": {
             "colorbar": {
              "outlinewidth": 0,
              "ticks": ""
             }
            },
            "marker": {
             "colorbar": {
              "outlinewidth": 0,
              "ticks": ""
             }
            },
            "type": "scatter3d"
           }
          ],
          "scattercarpet": [
           {
            "marker": {
             "colorbar": {
              "outlinewidth": 0,
              "ticks": ""
             }
            },
            "type": "scattercarpet"
           }
          ],
          "scattergeo": [
           {
            "marker": {
             "colorbar": {
              "outlinewidth": 0,
              "ticks": ""
             }
            },
            "type": "scattergeo"
           }
          ],
          "scattergl": [
           {
            "marker": {
             "colorbar": {
              "outlinewidth": 0,
              "ticks": ""
             }
            },
            "type": "scattergl"
           }
          ],
          "scattermapbox": [
           {
            "marker": {
             "colorbar": {
              "outlinewidth": 0,
              "ticks": ""
             }
            },
            "type": "scattermapbox"
           }
          ],
          "scatterpolar": [
           {
            "marker": {
             "colorbar": {
              "outlinewidth": 0,
              "ticks": ""
             }
            },
            "type": "scatterpolar"
           }
          ],
          "scatterpolargl": [
           {
            "marker": {
             "colorbar": {
              "outlinewidth": 0,
              "ticks": ""
             }
            },
            "type": "scatterpolargl"
           }
          ],
          "scatterternary": [
           {
            "marker": {
             "colorbar": {
              "outlinewidth": 0,
              "ticks": ""
             }
            },
            "type": "scatterternary"
           }
          ],
          "surface": [
           {
            "colorbar": {
             "outlinewidth": 0,
             "ticks": ""
            },
            "colorscale": [
             [
              0,
              "#0d0887"
             ],
             [
              0.1111111111111111,
              "#46039f"
             ],
             [
              0.2222222222222222,
              "#7201a8"
             ],
             [
              0.3333333333333333,
              "#9c179e"
             ],
             [
              0.4444444444444444,
              "#bd3786"
             ],
             [
              0.5555555555555556,
              "#d8576b"
             ],
             [
              0.6666666666666666,
              "#ed7953"
             ],
             [
              0.7777777777777778,
              "#fb9f3a"
             ],
             [
              0.8888888888888888,
              "#fdca26"
             ],
             [
              1,
              "#f0f921"
             ]
            ],
            "type": "surface"
           }
          ],
          "table": [
           {
            "cells": {
             "fill": {
              "color": "#EBF0F8"
             },
             "line": {
              "color": "white"
             }
            },
            "header": {
             "fill": {
              "color": "#C8D4E3"
             },
             "line": {
              "color": "white"
             }
            },
            "type": "table"
           }
          ]
         },
         "layout": {
          "annotationdefaults": {
           "arrowcolor": "#2a3f5f",
           "arrowhead": 0,
           "arrowwidth": 1
          },
          "autotypenumbers": "strict",
          "coloraxis": {
           "colorbar": {
            "outlinewidth": 0,
            "ticks": ""
           }
          },
          "colorscale": {
           "diverging": [
            [
             0,
             "#8e0152"
            ],
            [
             0.1,
             "#c51b7d"
            ],
            [
             0.2,
             "#de77ae"
            ],
            [
             0.3,
             "#f1b6da"
            ],
            [
             0.4,
             "#fde0ef"
            ],
            [
             0.5,
             "#f7f7f7"
            ],
            [
             0.6,
             "#e6f5d0"
            ],
            [
             0.7,
             "#b8e186"
            ],
            [
             0.8,
             "#7fbc41"
            ],
            [
             0.9,
             "#4d9221"
            ],
            [
             1,
             "#276419"
            ]
           ],
           "sequential": [
            [
             0,
             "#0d0887"
            ],
            [
             0.1111111111111111,
             "#46039f"
            ],
            [
             0.2222222222222222,
             "#7201a8"
            ],
            [
             0.3333333333333333,
             "#9c179e"
            ],
            [
             0.4444444444444444,
             "#bd3786"
            ],
            [
             0.5555555555555556,
             "#d8576b"
            ],
            [
             0.6666666666666666,
             "#ed7953"
            ],
            [
             0.7777777777777778,
             "#fb9f3a"
            ],
            [
             0.8888888888888888,
             "#fdca26"
            ],
            [
             1,
             "#f0f921"
            ]
           ],
           "sequentialminus": [
            [
             0,
             "#0d0887"
            ],
            [
             0.1111111111111111,
             "#46039f"
            ],
            [
             0.2222222222222222,
             "#7201a8"
            ],
            [
             0.3333333333333333,
             "#9c179e"
            ],
            [
             0.4444444444444444,
             "#bd3786"
            ],
            [
             0.5555555555555556,
             "#d8576b"
            ],
            [
             0.6666666666666666,
             "#ed7953"
            ],
            [
             0.7777777777777778,
             "#fb9f3a"
            ],
            [
             0.8888888888888888,
             "#fdca26"
            ],
            [
             1,
             "#f0f921"
            ]
           ]
          },
          "colorway": [
           "#636efa",
           "#EF553B",
           "#00cc96",
           "#ab63fa",
           "#FFA15A",
           "#19d3f3",
           "#FF6692",
           "#B6E880",
           "#FF97FF",
           "#FECB52"
          ],
          "font": {
           "color": "#2a3f5f"
          },
          "geo": {
           "bgcolor": "white",
           "lakecolor": "white",
           "landcolor": "#E5ECF6",
           "showlakes": true,
           "showland": true,
           "subunitcolor": "white"
          },
          "hoverlabel": {
           "align": "left"
          },
          "hovermode": "closest",
          "mapbox": {
           "style": "light"
          },
          "paper_bgcolor": "white",
          "plot_bgcolor": "#E5ECF6",
          "polar": {
           "angularaxis": {
            "gridcolor": "white",
            "linecolor": "white",
            "ticks": ""
           },
           "bgcolor": "#E5ECF6",
           "radialaxis": {
            "gridcolor": "white",
            "linecolor": "white",
            "ticks": ""
           }
          },
          "scene": {
           "xaxis": {
            "backgroundcolor": "#E5ECF6",
            "gridcolor": "white",
            "gridwidth": 2,
            "linecolor": "white",
            "showbackground": true,
            "ticks": "",
            "zerolinecolor": "white"
           },
           "yaxis": {
            "backgroundcolor": "#E5ECF6",
            "gridcolor": "white",
            "gridwidth": 2,
            "linecolor": "white",
            "showbackground": true,
            "ticks": "",
            "zerolinecolor": "white"
           },
           "zaxis": {
            "backgroundcolor": "#E5ECF6",
            "gridcolor": "white",
            "gridwidth": 2,
            "linecolor": "white",
            "showbackground": true,
            "ticks": "",
            "zerolinecolor": "white"
           }
          },
          "shapedefaults": {
           "line": {
            "color": "#2a3f5f"
           }
          },
          "ternary": {
           "aaxis": {
            "gridcolor": "white",
            "linecolor": "white",
            "ticks": ""
           },
           "baxis": {
            "gridcolor": "white",
            "linecolor": "white",
            "ticks": ""
           },
           "bgcolor": "#E5ECF6",
           "caxis": {
            "gridcolor": "white",
            "linecolor": "white",
            "ticks": ""
           }
          },
          "title": {
           "x": 0.05
          },
          "xaxis": {
           "automargin": true,
           "gridcolor": "white",
           "linecolor": "white",
           "ticks": "",
           "title": {
            "standoff": 15
           },
           "zerolinecolor": "white",
           "zerolinewidth": 2
          },
          "yaxis": {
           "automargin": true,
           "gridcolor": "white",
           "linecolor": "white",
           "ticks": "",
           "title": {
            "standoff": 15
           },
           "zerolinecolor": "white",
           "zerolinewidth": 2
          }
         }
        }
       }
      },
      "text/html": [
       "<div>                            <div id=\"7cc606ee-19d9-4169-b5c4-05b08fda92fe\" class=\"plotly-graph-div\" style=\"height:525px; width:100%;\"></div>            <script type=\"text/javascript\">                require([\"plotly\"], function(Plotly) {                    window.PLOTLYENV=window.PLOTLYENV || {};                                    if (document.getElementById(\"7cc606ee-19d9-4169-b5c4-05b08fda92fe\")) {                    Plotly.newPlot(                        \"7cc606ee-19d9-4169-b5c4-05b08fda92fe\",                        [{\"marker\":{\"color\":[[3.916464696941285e-05,0.7554000426473857,0.7445607927056449],[0.02071543826653976,0.862990291239714,0.6162942704937462],[0.19278386814256454,0.9952419141418537,0.3119742177155814],[0.46354278244674196,0.9500887174532765,0.08636850009998133],[0.6565566849569393,0.8329606431448175,0.010482671898243126],[0.7831112430545852,0.7153561575471246,0.0015325993982900938],[0.9518453656525624,0.45948719866261534,0.08866743568482237],[0.9762807773065306,0.393645292952193,0.1300739297412764],[0.9995558864280333,0.23197548857915373,0.26846862499281304],[0.9961478831751678,0.19827945073215245,0.30557266609268],[0.9527072170113415,0.08982002845196088,0.45747275453669767],[0.7724531340142049,0.0006935969728036469,0.7268532690129915],[0.5321551690218083,0.05180607255714405,0.9160387584210479],[0.2457939874085778,0.25422973375961583,0.9999762788318066],[0.15644413450641073,0.3571717893488739,0.9863840761447155],[0.055109245001316566,0.5248241183000185,0.9200666366986648],[0.010985908528422555,0.6542357116553025,0.8347783798162748],[0.0015955557612252677,0.7146369581643911,0.7837674860743836],[0.003051650668121228,0.7962418789465591,0.7007064703853194],[0.04552370951001548,0.9077609306125114,0.5467153598774728],[0.2724841235917475,0.9993450159007713,0.22817086050748106],[0.5350148917883756,0.914442166925162,0.05054294128646218],[0.6929275304845641,0.8030161791677539,0.004056290347681644],[0.7887371966903358,0.7091467810028239,0.002116022306840059],[0.9480368281347945,0.4681982617861416,0.08376491007906395],[0.9992255175118968,0.27447898254131076,0.2262954999467925],[0.9988090344435212,0.2804645364649823,0.2207264290914965],[0.9907394420392904,0.17167788287135516,0.3375826750893544],[0.8673217618078315,0.02256021842962554,0.610118019762543],[0.6539389230185835,0.011051041446366311,0.8350100355350505],[0.5976053727829802,0.026515204963794815,0.8758794222532251],[0.2824007202166083,0.21894336499245584,0.9986559147909361],[0.1650391516933418,0.3459980411581439,0.9889628071485141],[0.0609073090751871,0.5124275230866865,0.9266651678381262],[0.01015950095075026,0.6580743278104394,0.8317661712388105],[1.3623646146878966e-05,0.746796690811472,0.7531896855423813],[0.0035699563480957905,0.7998668254713852,0.6965632181805188],[0.08352277717883318,0.947842539077423,0.4686346837437436],[0.27932914604496456,0.9988946639814352,0.22177618997360007],[0.5929630785831582,0.878981031935616,0.028055889481225633],[0.6909550837623085,0.8047125591820744,0.004332357055616859],[0.7388241097749573,0.7610117659264253,0.00016412429861731683],[0.9159995236150558,0.5322257515419809,0.051774724842963415],[0.9934330483923561,0.32323252916174905,0.18333442244589498],[0.9999214651734063,0.25771367254699346,0.24236486227960047],[0.9763911486216965,0.13031828521733027,0.3932905661609734],[0.8665931216357194,0.02224272469371491,0.6111641536705658],[0.6920226340618578,0.004181878367199203,0.8037954875709432],[0.4346873181740055,0.10335377838334932,0.9619589034426452],[0.26644102078212106,0.23391182001534905,0.9996471592025299],[0.1475185924977168,0.3691289276436355,0.9833524798586478],[0.03219362289952947,0.581037577119478,0.8867687999809925],[0.0034706313962336506,0.6973339510904043,0.7991954175133619],[7.694585290993394e-05,0.7423651497011233,0.7575579044459666],[0.01835246001402769,0.8570637606119461,0.6245837793740259],[0.13049505647793694,0.9764707820100932,0.39303416151196996],[0.23090267970064934,0.9995006763871275,0.26959664391222316],[0.48465311466559635,0.9404821242262708,0.07486476110813288],[0.6550200242352163,0.8341653382066305,0.010814637558153076],[0.8442785242744533,0.6418738320046475,0.013847643720899238],[0.9632444021952333,0.4313301473852619,0.10542545041950463],[0.9987982668605614,0.28060447856353143,0.2205972545759074],[0.9999437492855666,0.2435330762644181,0.25652317445001527],[0.9778265607049805,0.13356678625026724,0.38860665304475234],[0.7599934854736561,0.0001349825579130888,0.7398715319684309],[0.6532784646184561,0.011196620519821959,0.8355249148617219],[0.43106520360335604,0.10558979866167698,0.9633449977349672],[0.2743273517356976,0.2264377062916726,0.99923494197263],[0.10073470795625186,0.4389788144234965,0.9602864776202515],[0.024233178931892602,0.6047126593232094,0.871054161744898],[0.002496047223609075,0.7055389837945328,0.7919649689818582],[0.0030639829462452044,0.796331838462046,0.7006041785917088],[0.03217636675442693,0.8867378161538992,0.5810858170916738],[0.1598051573780716,0.9874310025627459,0.3527638400591825],[0.32473753752771345,0.9931707508098992,0.18209171166238713],[0.5139577036625421,0.9258651002823647,0.06017719605509293],[0.6691771592074304,0.8228845073626241,0.007938333429945607],[0.8950473455501547,0.5679065366592151,0.03704611779063008],[0.9751258423310469,0.3973132274372217,0.1275609302317314],[0.9974558353614118,0.29489855247973684,0.20764561215885152],[0.995057202910278,0.19173611732390325,0.3132066797658186],[0.924290181956695,0.05876239251060191,0.516947425532703],[0.8149298318149272,0.006210239968932797,0.6788599282161402],[0.6269068102915515,0.01771369723726523,0.8553794924711835],[0.4179591477468648,0.11387645283280284,0.9681643994203324],[0.19453630021567925,0.30992148527995134,0.9955422145043694],[0.08805153444412822,0.46056875954104576,0.951379706014826],[0.017868742826968584,0.6263394844755757,0.8557917726974557],[2.073220802013376e-06,0.7512459246471476,0.7487520021320505],[0.0006805555104006346,0.7722444353478795,0.7270750091417195],[0.05736427305769247,0.922701104893302,0.5199346220490053],[0.23979980511252622,0.9998593352396173,0.26034085964785614],[0.32826158746114953,0.9925379144877694,0.17920049805108088],[0.4950105962296906,0.935485844274364,0.06950355949594533],[0.7651279140210574,0.7345605340073441,0.00031155197159859577],[0.9059090682959299,0.5498860701986225,0.04420486150544767],[0.9766521627655104,0.3924486745842172,0.13089916265027263],[0.9933566748547378,0.32367358885903447,0.182969736286228],[0.9795637968373812,0.13768678488151107,0.3827494182811079],[0.9168720885419296,0.052475590587572875,0.5306523208704975],[0.7851793160083889,0.0017355350573036324,0.7130851489343079],[0.568858391727466,0.03668399923720035,0.894457609035334],[0.4008289390421642,0.1251755571024987,0.9739955038553373],[0.1516238811510321,0.3635829083696483,0.9847932104793197],[0.05267900444623178,0.5301974646088154,0.9171235309449527],[0.006965731686994514,0.6744900024504957,0.8185442658625096],[0.0004957222554448344,0.7304750180766889,0.769029259667866],[0.0075886423546746,0.8213607927299384,0.6710505649153867],[0.03828045225811407,0.8970262398764859,0.5646933078654001],[0.2130273845742556,0.9980776760465936,0.2888949393791507],[0.37754666265075565,0.9810526863641218,0.14140065098512244],[0.5335219539422376,0.9152774576072424,0.051200588450520064],[0.7437869296320199,0.7561620201401595,5.105022782064254e-05],[0.9380109904437859,0.4898240505513052,0.07216495900490899],[0.9828943716304355,0.3708460436589367,0.14625958471062786],[0.9832800250488517,0.14731804476208407,0.36940193018906436],[0.9797460732327407,0.13813196793986401,0.3821219588273954],[0.9336511082230323,0.06762854067870748,0.4987203510982602],[0.7776971464286735,0.001063630340089567,0.7212392232312371],[0.5168286394691312,0.05881830895584334,0.9243530515750256],[0.3242410208295506,0.18250116513913264,0.9932578140313169],[0.10895130396118999,0.42568979130963197,0.9653589047291782],[0.03434949197149528,0.5751001663471454,0.8905503416813593],[0.0030009969749108228,0.7011286956923926,0.7958703073326967],[0.001235600364183273,0.7798051392213006,0.718959260414516],[0.01337122810528194,0.842784626588361,0.6438441453063567],[0.07925332185275939,0.9443160128658268,0.47643066528141365],[0.22512220566396496,0.9991454752609759,0.2757323190750593],[0.3857638565081709,0.9786777681592288,0.13555837533260026],[0.597437057764407,0.8759925668413032,0.026570375394289605],[0.7943237495963841,0.7028811908632259,0.0027950595403900312],[0.9330627878991254,0.49989981060000727,0.06703740150086737],[0.9955258750099004,0.3100348167486046,0.1944393082414949],[0.9979024526295063,0.21142730539920615,0.29067024197128766],[0.9693542005135268,0.11605811539933615,0.4145876840871372],[0.8913869987625271,0.03484005948042661,0.5737729417570463],[0.7223396255111677,0.000985091625475414,0.776675282863357],[0.4931792489128065,0.07043796531870156,0.9363827857684919],[0.2779347697578009,0.2230696334616256,0.9989955967805736],[0.12097214433030958,0.40710745930087694,0.9719203963688136],[0.03417741935395728,0.5755677409789325,0.8902548396671102],[0.0007966114949858197,0.725168465263405,0.7740349232416093],[0.006598699738459181,0.8168174646274776,0.6765838356340631],[0.025797641844441218,0.8743931768044508,0.5998091813511075],[0.09852657978982564,0.9588342103807749,0.44263920982939914],[0.24134333096525715,0.9998989022543256,0.25875776678041706],[0.41759193664120015,0.9682949860674424,0.11411307729135715],[0.6136018009934904,0.8648873411086813,0.021510857897828285],[0.8192879129413451,0.673584826030434,0.007127261028220599],[0.9562717976162529,0.44895739588431777,0.09477080649942946],[0.9979698542445785,0.28999607078342043,0.21203407497200116],[0.9897022512191481,0.16772016707312806,0.34257758170772384],[0.9539002040264986,0.09144330782954506,0.4546564881439566],[0.8855627489531239,0.031526723276051154,0.5829105277708249],[0.6541492612272722,0.011004862556084028,0.8348458762166439],[0.45602175021690317,0.09065464312651302,0.9533236066565839],[0.2649586600509849,0.23533396640382,0.9997073735451952],[0.0925812062290494,0.4526965588439367,0.9547222349270139],[0.030706006813482258,0.5852403000589688,0.8840536931275491],[0.002434122488384301,0.7061080263121734,0.7914578511994423],[0.006758493875027708,0.8175757562453253,0.6756657498796472],[0.038643451253028885,0.8975992173261683,0.5637573314208028],[0.09716637923128463,0.9579198424985513,0.4449137782701638],[0.22734653815556985,0.9992937642850066,0.2733596975594234],[0.4360581049203004,0.9614282510523322,0.10251364402736732],[0.6416064985120675,0.8444806291745692,0.013912872313363167],[0.8522327057167421,0.6312093550926513,0.01655793919060648],[0.9773690417531512,0.39011415334703037,0.13251680489981846],[0.994475356095833,0.18857048710975874,0.31695415679440825],[0.9898550049389966,0.1682879620292863,0.34185703303171716],[0.9458087076147601,0.08103201580405708,0.47315927658118284],[0.8603939278834414,0.01965780028306553,0.6199482718334933],[0.6129253492211341,0.02171283685484865,0.8653618139240176],[0.35567382317994184,0.15758201550223347,0.9867441613178248],[0.1503149761002119,0.3653424504876167,0.9843425734121714],[0.13045134721526003,0.39309754480230624,0.9764511079824337],[0.017455691518176022,0.6278559174674733,0.8546883910143507],[0.001002481831364449,0.7769051022580554,0.7220924159105799],[0.004825730312756953,0.8076023994000586,0.6875718702871843],[0.039034372356865674,0.8982118142916065,0.5627538133515276],[0.1415419997928836,0.9811079436647748,0.3773500565423415],[0.24326500605396448,0.9999389667640215,0.2567960271820138],[0.46116983730935085,0.9511200313390249,0.0877101313516242],[0.7475281008836994,0.752463778745043,8.120371257414048e-06],[0.8398331500585671,0.6477075307796956,0.01245931916173735],[0.9762501407677913,0.39374362402078156,0.13000623521142707],[0.9998603407796958,0.23983607239665525,0.260303586823649],[0.9875503657587271,0.16019887980993566,0.35225075443133747],[0.9170731649009098,0.05263820669513403,0.5302886284039563],[0.797025858724697,0.0031600268459839533,0.6998141144293194],[0.757684662415829,7.956236874747364e-05,0.7422357752154236],[0.5818523230319865,0.0319027393788584,0.8862449375891552],[0.29341094333535217,0.20897141050912538,0.9976176461555225],[0.09817931945375152,0.44321845931058357,0.9586022212356651],[0.016506651103876436,0.6314034092258088,0.8520899396703148],[0.0001295728586566528,0.7400778786292075,0.7597925485121358],[0.007874873330993347,0.8226108799440842,0.6695142467249223],[0.03806179047066501,0.8966791465021077,0.5652590630272272],[0.11781832724658399,0.9702912603709252,0.4118904123824906],[0.30565426443970634,0.9961369028787335,0.19820883268155998],[0.6905053237714481,0.8050981732714564,0.004396502957095599],[0.6189448555930499,0.8611094203566751,0.019945724050274966],[0.917879334897843,0.5288262806996777,0.05329438440247941],[0.9970658164870982,0.2983091728375769,0.20462501067532496],[0.9990947099513141,0.22440743675179908,0.27649785329688675],[0.9656881884864592,0.10951427633056185,0.42479753518297914],[0.9162375022768388,0.05196510460748089,0.5317973931156804],[0.8109701938004831,0.00543798863083224,0.6835918175686848],[0.6703394947706522,0.007720510172959295,0.8219399950563886],[0.48720090187091963,0.07352874002873606,0.9392703581003443],[0.2674790242044302,0.23291926018896272,0.999601715606607],[0.05698052287699895,0.5207603745095886,0.9222591026134124],[0.007623977388408266,0.6708594691196367,0.8215165534919552],[0.0002125780209944021,0.7625190673680192,0.7372683546109863],[0.006620547144734108,0.8169217463699558,0.6764577064853098],[0.026503664537585254,0.8758557348429513,0.5976406006194633],[0.134266819853207,0.978128221012442,0.3876049591343508],[0.21542594974462895,0.9983252357749982,0.2862488144803728],[0.5089383329996399,0.928474339806015,0.06258732719434484],[0.7373450183097296,0.7624449356212375,0.00021004606903262058],[0.9420964088024922,0.48122160054490654,0.07668199065260117],[0.9986636903600541,0.28230504685078117,0.2190312627891648],[0.9985246068986244,0.2174974763734842,0.28397791672789136],[0.9855290130808094,0.15381314049573486,0.3606578464234557],[0.9242608880532946,0.05873635420815163,0.5170027577385538],[0.8142813248664497,0.006079830128834591,0.679638845004716],[0.5899392195279284,0.02908062489623629,0.8809801555758354],[0.39325611490378226,0.13034202960349914,0.9764018554927187],[0.18998980023562403,0.3152695306058186,0.9947406691585573],[0.04937187375958005,0.5376955169133222,0.9129326093270977],[0.00380885212774625,0.6947499220054267,0.8014412258668266],[0.001969429663176518,0.7874101189027012,0.7106204514341222],[0.006486648397788849,0.816279541412099,0.6772338101901123],[0.05461906955784484,0.9194819032941303,0.5258990271480245],[0.1612502716574934,0.9878657842316351,0.3508839441108714],[0.38560011280936124,0.9787263358391229,0.13567355135151574],[0.5732396839218759,0.8917222660838673,0.035038049994256505],[0.7862474007645732,0.7119070295083021,0.0018455697271244382],[0.959944575170334,0.4398459706456122,0.10020945418405375],[0.9992536160382526,0.22672218450662848,0.274024199455119],[0.9951124663169915,0.19204729117338726,0.31284024250962134],[0.9785990001542416,0.13537194057378216,0.3860290592719762],[0.9540379610096726,0.09163288062510437,0.4543291583652232],[0.7722639191217843,0.0006817676281233266,0.7270543132500925],[0.5321904224984139,0.05179041439542619,0.9160191631061602],[0.30711993734532356,0.196942896077602,0.9959371665770744],[0.15698443437814075,0.3564597843950741,0.9865557812267852],[0.028313408084420476,0.5921985283701775,0.879488063545402],[0.0036948815343238904,0.6956080824671645,0.8006970359985116],[4.771063793799589e-06,0.7481059800496538,0.7518892488865525],[0.017188861452604617,0.8539669008708577,0.6288442376765375],[0.06948305874655644,0.9354660374139107,0.49505090383953265],[0.22285336018741542,0.9989790704575913,0.27816756935499315],[0.39149483524019096,0.9769462917195811,0.1315588730402278],[0.6525959786848585,0.8360560460045132,0.01134797531062804],[0.8822239517825473,0.5880450372980776,0.029731010919375057],[0.9871344380527012,0.35402903831638444,0.15883652363091455],[0.9995003054940157,0.2308956846893788,0.26960400981660565],[0.994503169467986,0.1887174732177497,0.31677935731426443],[0.9780634668273663,0.13411602473088233,0.38782050844175137],[0.8820831977566503,0.02965691080334631,0.5882598914400036],[0.6892985084133265,0.004570811122990119,0.8061306804636834],[0.4980548999159195,0.06796312469514648,0.9339819753889341],[0.23974922403626078,0.26039284923567857,0.9998579267280608],[0.10227939222247436,0.43644129045450974,0.961279317323016],[0.027634197051428718,0.5942219520777575,0.8781438508708137],[0.0019983734783806406,0.7103254336716428,0.7876761928499766],[0.00165020138874072,0.7843261250038608,0.7140236736073983],[0.016819625105307625,0.8529568969590687,0.6302234779356233],[0.06319016787846204,0.9291129555881334,0.5076968765334043],[0.22529765774563593,0.9991577041941994,0.27554463806016466],[0.4849382544889249,0.940347066845615,0.07471467866545983],[0.669392248624921,0.8227099379636729,0.007897813411406041],[0.929953412433713,0.5060550728386766,0.06399151472761008],[0.9871849092347937,0.35381467120209537,0.15900041956311106],[0.9966262530579291,0.30190413723790455,0.2014696097041665],[0.9967603525358467,0.2024073851484637,0.3008322623156895],[0.974340765539049,0.12589668251106015,0.3997625519498909],[0.886707363444806,0.032159412773572926,0.5811332237816212],[0.6551674483064868,0.010782582814298097,0.8340499688792155],[0.33271260222284443,0.17558586608946247,0.9917015316876933],[0.21248187519895512,0.2894992764620561,0.9980188483389888],[0.0531865601563492,0.5290660075599707,0.91774743228368],[0.018144933432571925,0.6253344058172656,0.8565206607501622],[4.425829066755662e-05,0.7442165993887961,0.7557391423205361],[0.000589116476270621,0.7707191768781168,0.7286917066456122],[0.02760436359492393,0.8780842940523609,0.5943113423527149],[0.1352561495243199,0.9785499842751884,0.3861938662004915],[0.29775132839147217,0.9971314141809507,0.20511725742757692],[0.5083182276685521,0.9287936610919746,0.06288811123947331],[0.7692531547096026,0.7302392253853225,0.0005076199050746757],[0.9208818903956489,0.5233192433560409,0.055798866248310236],[0.9798229052308185,0.3818567070647502,0.1383203877044315],[0.9998702632425112,0.25992843489380435,0.2402013018636847],[0.9975733768473042,0.2086040286725261,0.2938225944801698],[0.9523108478847996,0.08928788378040244,0.4584012683347981],[0.7310672392287824,0.00046644781218831133,0.7684663129590293],[0.6787995831169091,0.006220397115714503,0.8149800197673766],[0.3898060115221031,0.13273108217039642,0.9774629063075004],[0.2065597844419793,0.2961211489671698,0.997319066590851],[0.04198745423886488,0.5553157983459718,0.9026967474151634],[0.007785716894440287,0.6699899645809563,0.8222243185246034],[0.00045434303449551014,0.731317410438804,0.7682282465267004],[0.004038371543371473,0.8029039179642367,0.6930577104923921],[0.03992096867849577,0.8995843879031757,0.5604946434183283],[0.15335522106999547,0.9853769486857037,0.361267830244301],[0.3414934901445349,0.9899316750450787,0.16857483481038615],[0.5598108384275379,0.8999980556558187,0.04019110591664331],[0.7765151832481778,0.7225117461457943,0.0009730706060280126],[0.9099082552807654,0.5430003373113682,0.04709140740786636],[0.9844159069866326,0.3650577064064787,0.15052638660688872],[0.999721078179072,0.2356780288354819,0.26460089298544615],[0.9944388985680828,0.1883784413787184,0.31718266005319884],[0.9777640489724229,0.13342249739452525,0.3888134536330519],[0.7497982131199011,5.427599432307865e-08,0.7502017326041044],[0.5711499177584037,0.03581885019230812,0.8930312320492884],[0.337080000947739,0.17207899675290889,0.9908410022993521],[0.15294981650888273,0.3618086699707565,0.9852415135203608],[0.048939729824003166,0.5386920380585983,0.9123682321173985],[0.006130677981094327,0.6793342203567482,0.8145351016621574],[5.540715298172231e-05,0.743526129944753,0.7564184629022653],[0.00792511343440059,0.8228276087246672,0.6692472778409323],[0.03901810131640591,0.8981864078806361,0.5627954908029577],[0.16466778486692438,0.9888579958832551,0.3464742192498204],[0.5223540475948636,0.921402705752041,0.05624324665309535],[0.5952774044332934,0.8774397166113866,0.027282878955319858],[0.781690680779675,0.7169084440365644,0.0014008751837606226],[0.9311258600946617,0.5037493349271313,0.06512480497820716],[0.9875693926668145,0.35216875853344565,0.16026184879973984],[0.9999724053282475,0.25456302064485264,0.24546457402689992],[0.9866081785888682,0.1571501403392759,0.3562416810718561],[0.9171322016329012,0.05268603056339495,0.5301817678037041],[0.7547680948743094,3.0508167085033506e-05,0.7452013969586059],[0.5344287618567762,0.050800671107267846,0.9147705670359559],[0.27690291451163435,0.22402981050669785,0.9990672749816679],[0.09861028930518996,0.4424997254335111,0.9588899852612988],[0.0374792647044115,0.566773507788956,0.8957472275066326],[0.006210677942596962,0.6788573252007333,0.8149319968566695],[0.001700233134337077,0.7848291036628126,0.7134706632028504],[0.008575286510498192,0.8255641771925077,0.6658605362969939],[0.07204672442966939,0.9379007218995555,0.49005255367077505],[0.1339769319714749,0.9780036275578681,0.38801944047065684],[0.446267565869372,0.9573712915322686,0.09636114259835904],[0.6595795182301946,0.8305768855102477,0.009843596259557665],[0.846089210255931,0.6394721046785977,0.014438685065471498],[0.9644257906563228,0.428197558601553,0.10737665074212421],[0.9939133865489139,0.32040186179345764,0.1856847516576284],[0.9971958844979258,0.20560697800720654,0.29719713749486754],[0.9878680897485597,0.16125801635570705,0.3508738938957334],[0.9304088635275923,0.0644296052390457,0.5051615312333623],[0.7717240920494127,0.0006485960156118111,0.7276273119349755],[0.3135515923636115,0.19144348816923312,0.9950049194671554],[0.26413519952028,0.23612636712750035,0.9997384333522199],[0.1035497344473861,0.43436837199984624,0.9620818935527677],[0.03662538580415373,0.5690128616888855,0.8943617525069607],[0.0028197484977624714,0.7026679291885755,0.7945123223136621],[2.0470799005149183e-06,0.7487599014895642,0.7512380514305355],[0.012841500619039482,0.8410853898082596,0.6460731095727007],[0.06524808214948061,0.9312522723495644,0.5034996455009548],[0.2518067404275788,0.9999956580200072,0.24819760155241385],[0.5318614121019489,0.916201956234755,0.05193663166329595],[0.7508837466852452,0.7491152107405386,1.0425742162011248e-06],[0.8722233517218684,0.6030030631696173,0.02477358510851461],[0.9662291772798247,0.4233231487821476,0.11044767393802785],[0.9925293043894076,0.32830855504666967,0.179162140563923],[0.9949539691032575,0.19115994551458537,0.31388608538215723],[0.9791538793224263,0.13669485034728066,0.3841512703302931],[0.9057681218839112,0.044105715060865656,0.5501261630552232],[0.7201202080052248,0.0011464797455142976,0.778733312249261],[0.42590413561136187,0.10881627507357866,0.9652795893150596],[0.19699229117505462,0.3070626456489266,0.9959450631760189],[0.07587248286205325,0.48274544943339537,0.9413820677045512],[0.030916573802753596,0.5846398970646295,0.8844435291326169],[0.0031653110970178405,0.6997709784309167,0.7970637104720654],[0.0003868666848157931,0.7327760715315549,0.7668370617836293],[0.014801745095408832,0.847179192847927,0.638019062056664],[0.09626753962104766,0.9573071731239797,0.44642528725497244],[0.3462620839048132,0.988904745165693,0.16483317092949346],[0.5812588350057522,0.8866266547771219,0.032114510217125726],[0.7053969623357527,0.7920914197888653,0.0025116178753817795],[0.9050055490535349,0.5514221729023568,0.043572278044108306],[0.9708055436210884,0.4103936790095581,0.11880077736935353],[0.9989379289113444,0.22232275094133022,0.2787393201473255],[0.9987011396490483,0.21945840607309444,0.2818404542778573],[0.9679991912404527,0.11357807088263923,0.41842273787690826],[0.8182292012392002,0.006897927146791314,0.6748728716140086],[0.5851706041504257,0.030730416351762022,0.8840989794978124],[0.2919551600895054,0.21027375844645885,0.9977710814640359],[0.18583238824661538,0.32022473475958413,0.9939428769938006],[0.06899857179832002,0.49600509531521597,0.9349963328864642],[0.011365815121280124,0.6525158123506175,0.8361183725281023],[0.0054335618770608345,0.6836198173946427,0.8109466207282963],[0.00013757452068436117,0.760088313480111,0.7397741119992045],[0.010164833340660425,0.8317860593601769,0.6580491072991626],[0.15313640488394772,0.985303942494658,0.361559652621394],[0.4472850071004187,0.9569569009346295,0.09575809196495164],[0.6436407189661807,0.8429392189369374,0.013420062096882],[0.7800129974486736,0.718733715002612,0.0012532875487145062]],\"size\":2},\"mode\":\"markers\",\"x\":[-5589.852653098818,-4890.848093875686,-3442.765390794769,-1243.7123227337152,1211.0819124020904,3283.464094117289,4720.527008863503,5477.759064244549,5675.802725209502,5395.669188848676,4542.839833272623,2961.4227204778963,766.2530387882814,-1534.1832080268791,-3552.2376604954256,-4927.413375631113,-5556.263943368235,-5694.325631928892,-5246.035148136741,-4208.742207708596,-2428.285988647356,-163.02392824362315,2107.6050197300674,3928.455600879446,5072.280294431938,5563.447432495652,5513.511763157334,4949.991736124384,3775.8383193058135,1954.0045236881956,-239.54987439782923,-2384.078072343884,-4140.363473462157,-5212.849702601255,-5574.036327873961,-5387.106647048962,-4658.759414372944,-3296.9904249860233,-1384.4498965496655,819.0192623928397,2843.639710743811,4368.1794133072335,5220.18903428621,5446.16678067458,5124.944570649853,4242.677690534985,2880.7443810810514,1014.5069742598482,-1084.232180535437,-3045.890114244526,-4581.698779624864,-5256.0883677261845,-5327.376474409696,-4844.004471781933,-3851.2162842068433,-2348.3565915280474,-490.0281918387542,1520.3014194855728,3340.4738454176886,4618.355134611617,5183.737523073002,5099.890845882117,4506.585251165672,3448.303136388209,2016.1330010105323,215.47876700320006,-1694.8819952049078,-3501.539057046059,-4666.230229738322,-5084.910124402136,-4863.850134824221,-4086.3585450188157,-2942.8438235825533,-1514.4663051233665,201.17209728637692,2053.492630448854,3629.4295121857954,4607.574995015809,4897.871885909097,4505.90345681151,3701.8793274934433,2626.4593174891975,1275.7605676814426,-434.3165876086789,-2176.387327082229,-3665.068155834622,-4545.60034111282,-4625.5039653163585,-4140.613904226795,-3262.251067927377,-2167.626874999695,-847.0917407771655,756.1031922117465,2408.3552383055467,3717.3089860296327,4401.661941882223,4342.155964577798,3775.5612436780134,2939.994347720058,1982.3028404622078,717.1028180641794,-885.705656471941,-2429.5185451825787,-3675.1353312272204,-4174.099100257874,-3966.9076338287045,-3343.1989690137048,-2555.2442844806837,-1609.3516297093045,-381.6146699268282,1098.1892479957066,2546.9125092959544,3578.9128372286127,3931.8036710739584,3652.9644642366056,3052.6085851741936,2308.87847312824,1504.4748881080454,303.3010747497458,-1121.0021466128846,-2504.236782168556,-3401.997967168301,-3576.485033015249,-3227.367589685614,-2665.7227840460546,-2035.558538143131,-1223.619491030248,-113.86683785170658,1212.2166025166111,2472.9831438527112,3213.1372918991924,3333.7600126841,2954.775289498916,2483.332203698736,1924.8513922020668,1166.7359315549634,96.34836532899105,-1139.9670688748927,-2247.3201967540376,-2855.3206571234036,-2889.3147014508836,-2598.0411833538374,-2187.315812399569,-1679.8643716000104,-997.5612545574012,-35.80952491811436,1145.822304100127,2140.1432005100446,2627.669276721575,2686.9323432143715,2404.833473039564,2059.2147248117276,1634.5850746754131,1004.8487545022081,67.74923477175238,-954.7681967812908,-1783.4512755814185,-2223.588937088546,-2283.565845293666,-2149.1964284084597,-1898.683419638061,-1497.9143860223555,-934.8692845648312,-110.0336560690336,864.2705325166319,1625.4153838726263,2086.43073687782,2157.145903650191,2043.137803858663,1837.9326277449566,1580.6908446524224,1040.023458008672,261.771449847915,-543.5082532953883,-1259.207141058654,-1729.518108848871,-1902.4011227911571,-1891.317753690393,-1789.581745479009,-1580.1645842313997,-1162.9121589683073,-473.3581102658875,391.4330842771071,1142.8284806755626,1637.3343608088187,1843.6311727337893,1875.3523386603144,1812.1959253299242,1685.355511476675,1331.953912512391,759.6178311214825,1.8202310940392246,-799.1004933571701,-1397.7744376953328,-1690.267939379508,-1801.6130778902811,-1863.8977420502993,-1827.9841576383415,-1551.1106062957438,-946.2484393748488,-74.64761219253478,764.3595770180183,1395.7501913513383,1695.490062023493,1890.0729874400224,2010.8079083888656,2025.9510129407638,1820.4694264430377,1274.369185225211,395.6012986942538,-550.5936659951278,-1245.5568067909003,-1661.184099371543,-1950.360163580491,-2155.021761907735,-2290.6487355119757,-2140.4724939379635,-1427.646031789075,-423.3091387893438,570.30036352203,1304.262755395822,1733.7508612600047,2070.3535286897236,2389.3184527442713,2580.15151902609,2384.975664216259,1682.4143727539824,628.443980347031,-436.241309570314,-1231.4127124798983,-1817.6365070458696,-2295.659563243548,-2673.8439496071114,-2946.5289025111365,-2667.279225959638,-1718.6731236510877,-545.0947019399839,563.8140076094322,1373.8761271015612,1970.6577489331003,2511.340485513534,3034.1574277112095,3247.638160613251,2887.293220626364,1953.6870189822487,661.8383892280135,-566.726965186245,-1487.239590848734,-2186.552928407097,-2844.1278765340508,-3411.142061273018,-3566.599477862253,-2998.582471143787,-1827.7647858929222,-510.3695552741377,721.3140944612451,1689.487998192906,2485.8690528755014,3207.4085053208996,3752.3420537719867,3805.431418234391,3164.1968076305347,1972.906713611005,501.8209831020778,-849.4081513451856,-1916.4306999769788,-2776.9948267407744,-3585.1187199313867,-4103.8853535302815,-3995.277361266103,-3137.983292220884,-1780.9215514598966,-278.02091162317834,1085.711776509162,2186.5381024256244,3159.924284401873,3968.0421690610046,4356.370403799537,4139.395941945177,3242.3441890075205,1807.5907025635368,151.21831674028795,-1330.701538146922,-2559.360223390472,-3593.35743482388,-4324.4384023153425,-4590.645958186116,-4201.620923402616,-3087.7632164777583,-1540.399192279527,127.11467143043993,1655.9210925220723,2942.4843747108002,3972.325082108877,4647.152407491239,4800.445357225126,4312.115840152939,3126.5731396340084,1451.4354463140392,-381.36407002141857,-2015.2861598931224,-3348.2273362652513,-4369.975803481579,-4871.305655203267,-4877.221518153805,-4188.330687753246,-2829.2858270571264,-1078.9808755409713,770.923315301216,2455.9650412157416,3787.6697784037215,4691.32121319821,5132.613892309865,5028.364579574324,4210.714465423692,2761.3343062016465,806.5540523655925,-1215.358503606399,-2933.8308310517587,-4183.754422709406,-4976.763522487187,-5270.543265093738,-5009.554197596477,-4010.8353953952214,-2356.7754291692486,-360.55102783012256,1669.194681750124,3403.1507646089344,4591.480933367834,5251.586935854844,5420.916571126319,5077.378531482293,3969.0975204055594,2226.608070733626,-42.343812435516874,-2155.662059645594,-3817.344348198082,-4835.751533497278,-5366.293141253159,-5425.686485893261,-4882.579709170009,-3614.356582819116,-1697.495505813086,539.9258978632143,2652.806538278018,4241.382215740893,5155.266733386146,5599.95533040469,5503.411144528839,4848.40560994512,3489.400870068284,1365.434028565574,-1021.0485525555838,-3094.231881317874,-4500.856969793698,-5303.193182249278,-5607.330117634653,-5397.933940098847,-4550.443194344398,-2961.6850333582506,-788.4218230823868,1550.0905759261868,3566.0385569739074,4876.862906526044,5524.4399094355185,5710.49190918849,5378.031403330833,4428.4047637965205,2643.8933478538142,306.69868813635236,-2028.4827790442562,-3847.471342878471,-4998.043657825385,-5587.31529113581,-5620.4246415868065,-5135.65990540186,-3977.30419656111,-2044.7592892701336,306.9237817903773,2560.558542026307,4305.859938123404,5294.83670502458,5702.299565317612,5622.970396126995,5058.080273477976,3679.009719178485,1651.078636456496,-765.7729259835727,-2923.719748431975,-4465.598210837917,-5341.17309919687,-5649.2354142876675,-5442.236257581654,-4656.280002168257,-3167.9960206263277,-1035.250080243373,1315.0569113337458,3379.2457718826486],\"y\":[1588.0842850454599,1055.8292843221313,350.5425000277835,-448.6607670524893,-1154.74632906785,-1630.9333636368995,-1846.7102780493567,-1883.5825456208315,-1696.891110195416,-1252.7639721742737,-583.9542823716627,244.58076088310858,1085.7535061369383,1741.979253673198,2030.1402496122776,2072.1656319964836,1985.2110946128846,1572.5440520926231,928.1595205270337,34.461502788247046,-983.8291499338479,-1809.8763778385935,-2222.837545985813,-2271.627109309669,-2126.9485639504173,-1802.32532231304,-1241.9421008126767,-426.8479310701233,604.5697068289596,1645.1908697324504,2363.898721250489,2609.5364075934076,2480.0736452074543,2194.1494850821105,1670.9575944497442,909.5950193335624,-129.62260004932918,-1368.4107591353488,-2381.8369603326328,-2849.563368825344,-2828.449540456637,-2515.7144548321985,-2016.670460266415,-1325.0551356590004,-393.4301773566036,793.3273421627435,2063.3290544331185,2974.2841865318173,3264.466958528912,3039.358449003406,2533.4116449276344,1861.334733741116,985.6687867768467,-168.729766285137,-1575.3248331326477,-2817.181887131789,-3481.947787776674,-3490.2699508950427,-3056.6926737641106,-2369.0735503694696,-1515.4838089975144,-470.13105346311744,855.3052730022036,2295.4003262539545,3454.186783338274,3921.786836467452,3737.1812439298733,3093.533788015277,2189.358667776322,1155.767104430688,-106.39132742582889,-1605.1495468943615,-3034.074101994125,-3946.0667428693687,-4138.0102907245255,-3717.5482361318104,-2909.4530296882226,-1867.4619520954186,-639.4951110079714,785.2178437033123,2358.988741239139,3710.6139396905423,4426.000982997438,4369.6730123797215,3768.0048402641755,2718.7488467848357,1466.671615535835,66.55084976774748,-1572.465789047782,-3130.0668242970496,-4220.278299767836,-4636.662163391276,-4369.582254739292,-3550.0687898286405,-2367.768877736791,-967.5164432491893,611.2978783484178,2318.752484785512,3816.9145346361115,4758.346636085259,4947.393627532224,4417.575234223556,3360.5605583312454,1940.4400955028652,343.47649406446584,-1418.029757019673,-3092.2558785137976,-4347.093859323283,-4973.840717280843,-4922.088604061388,-4219.527310616991,-2994.5648561374933,-1449.3655067188108,319.2320093410891,2181.2640257585217,3819.210577029689,4896.1941261964585,5329.116797259892,5026.853967485475,4042.367096332342,2564.4108587836236,790.4435009894976,-1140.3079401296077,-2955.019666966764,-4340.1143006923885,-5141.921410105645,-5317.9672609309755,-4831.351408117821,-3698.5106538530536,-2060.148787386116,-114.2371121702276,1943.0537569485525,3695.896193466677,4924.549415481387,5495.422798974298,5446.662295782289,4669.578232483608,3281.427413820226,1414.1675390222779,-724.4885370238184,-2727.719672852322,-4255.004083155415,-5172.318921325615,-5509.026304104909,-5257.5971248048945,-4333.507647942505,-2776.362847140063,-741.8376319186463,1492.434259165307,3489.626312244448,4834.684640238304,5514.700054164834,5654.223331881406,5125.117429388405,3913.676953658174,2104.5463760486514,-130.40722873901748,-2323.5131660193874,-4026.4375209999184,-5098.620825808675,-5580.818714569545,-5485.47085741477,-4783.0215115004585,-3433.3424778587823,-1435.7514981718857,920.0684440045193,3121.386298512193,4652.231595090891,5467.987179438843,5734.451165134592,5412.975441062971,4427.808852073163,2769.807470746136,565.8965586174821,-1770.5037105044598,-3696.7277123352887,-4934.13765745929,-5542.282337993174,-5610.469860850466,-5102.476273008346,-3980.207613395805,-2151.338583058543,242.4869341235675,2571.979316547722,4301.987297714248,5303.937017482384,5710.993364545627,5512.17423313857,4760.0659885312525,3325.6653474553564,1261.5858893014029,-1085.0457860188349,-3181.787966812348,-4641.648397664688,-5411.340426903576,-5591.392492231782,-5227.723551629028,-4317.735096385831,-2729.0102005425433,-492.1613810103547,1920.6510601118346,3794.7984311057703,5010.866483655693,5564.419361567568,5523.467684935277,4915.826316423053,3701.460009910809,1841.5603413804988,-393.0157866771343,-2530.279746458272,-4171.384887688607,-5149.691161437439,-5494.050565582007,-5253.769879408503,-4475.509997877447,-3115.2463382790716,-1110.816321293773,1181.147373759427,3152.2531016799203,4554.408082855647,5335.796604283925,5419.054862191682,4936.6200169554995,3893.6509357014234,2264.5816184849596,223.5936235092301,-1837.9044279910506,-3550.9296478548918,-4720.7135049094295,-5261.782463618759,-5180.094162694218,-4546.184556130633,-3309.6400828108876,-1530.814565878302,535.3905750338911,2451.358722939889,3934.13458538038,4911.912269153067,5203.983821892012,4870.283558300249,3963.7807561967356,2514.6232755480373,682.6314403941526,-1202.8392257742532,-2856.3366349422495,-4145.521928503397,-4912.3126459544455,-5001.663491673486,-4497.3652819160125,-3411.4772768142143,-1791.8179232582877,39.68832580563663,1777.6013998164942,3260.352514658348,4327.241741673028,4836.12092027863,4704.159334995711,3935.3473347728686,2615.150185069884,976.5935043362853,-695.4213994305737,-2203.210610210132,-3453.2627140254444,-4355.923594149226,-4669.065691771836,-4356.249556726603,-3388.537300482119,-1877.1195421210464,-214.25171741271538,1271.433869615481,2588.0765568195134,3672.269342920529,4307.523816440825,4373.894950711025,3786.2653551099,2610.276015720455,1098.7577241267197,-411.66503389568953,-1709.6929389379004,-2809.7844178023,-3700.7398378470934,-4180.145266824896,-4073.380889002204,-3289.5887348979286,-1888.3256360652663,-351.78011256175074,964.7234028928626,2047.8565592776506,3007.0281041715566,3662.301437748263,3877.4583994181153,3499.25215605668,2488.4000714337612,1101.2453375615426,-262.80694064809114,-1373.7492698242413,-2262.8117342983014,-3028.5819925635546,-3520.5058327828638,-3610.0931463603665,-3039.1226479173242,-1791.9550935887373,-373.9588921811063,829.6888384281918,1716.4999010024706,2452.7882895814782,3010.3626368225405,3260.169672665601,3050.9115515130743,2250.3874109767276,1013.2652211095519,-234.2143904716738,-1200.269354676433,-1898.558130435784,-2482.6069331631415,-2864.5934781510714,-3020.654783776665,-2645.964188114423,-1586.7359408408176,-299.1389527807471,784.1241646712616,1545.2337533784646,2068.6476797744767,2435.2683152581235,2633.567645328754,2489.572154336648,1861.6068136070169,832.3277358406441,-285.3775477036315,-1155.877992173549,-1718.8133675572694,-2058.4531384929764,-2268.995306355808,-2322.8373153727357,-2065.800287377728,-1217.6434760738164,-123.02512666908231,844.4725192886873,1499.6527334907457,1878.2021737696934,2025.9119687401385,2025.4020641646564,1830.890537191171,1295.6387894772424,443.9159910731313,-480.6060380342196,-1226.2082362546976,-1649.5794451843663,-1866.8592433838148,-1845.4556310291205,-1714.2095004380944,-1377.6538144438555,-684.9801353103559,213.79191756438212,1008.5752114481134,1541.6582348743507,1807.0040980870488,1798.9498395967614,1586.5288050339177,1229.8590922812975,660.747621623071,-102.09468422088042,-829.0654535658983,-1381.8504950752354,-1709.4404864600692,-1791.1853669443371,-1608.9136566211228,-1253.7379599112094,-739.4937551587758,-26.46120538175261,724.5185508549714,1336.2133759257365,1717.6542713670078,1853.3957109507553,1732.4512659932009,1344.861876295911,777.9455421454883,86.84222242128094,-696.506842439792,-1350.9751608275114,-1704.1535808445624,-1866.4950642544968,-1839.7133210542818,-1536.2880190485096,-967.9797329546569,-255.6960796072646,618.7091324884022,1329.8608510734302,1779.3187885304303,1984.1799337870368,1996.9541420766468,1755.1696077203628,1240.8844075918594,491.21391638944664,-434.688617502067,-1344.6088220274846,-1963.0270307537678,-2195.685007391537],\"z\":[-1600.609000437862,-3286.5232524489106,-4280.459943807772,-4634.343782736603,-4648.178797654697,-4104.823296131622,-2859.201673144946,-1193.3230051086773,608.0297766501546,2356.1797381557167,3719.0606698920355,4440.296121887389,4649.936582227474,4483.551910030419,3776.2826783544638,2410.970155173273,731.0733886652516,-1110.6877858503253,-2815.2377612905666,-3956.1800147084214,-4462.701588674617,-4559.968488261793,-4147.279833513198,-3094.0577958668414,-1592.6541568676662,122.39726226212571,1868.710869002934,3318.197204582377,4177.64564319033,4512.997468897011,4439.107202726002,3826.5362514258672,2628.952653155303,1118.7447409034592,-635.6082865022819,-2342.7140882579024,-3547.78674357264,-4182.456955666314,-4413.851215257372,-4090.3357954464927,-3168.7962353708263,-1844.4157002955083,-270.17980877216917,1402.6424044596758,2868.176687083271,3823.6037065515607,4249.393669326598,4306.213505333062,3770.7518291431115,2709.0365358530403,1348.16610259617,-198.1187266779951,-1839.1246252046392,-3063.4947404963027,-3801.7817668623284,-4156.718201412482,-3967.582971215905,-3157.7201626975157,-1969.5786074544465,-573.7550183108567,967.500990011147,2389.9630352628374,3373.6336078188556,3922.877846124424,4112.921585735673,3698.9374592423387,2660.355278601651,1468.0002461573392,85.90007474578337,-1408.8776468805222,-2596.9084827396605,-3336.0499923078046,-3805.8165105865187,-3755.9514397697985,-3054.7344770171026,-1969.6908760556469,-725.1410137629397,649.6925802012091,1965.8435098963457,2906.210567376666,3491.9103871929374,3798.816172202615,3516.055260373724,2599.160243530279,1433.033097534112,205.74008970869863,-1101.6475182849845,-2158.9713929984937,-2875.7960526352704,-3353.823375073215,-3414.9838872698647,-2870.5729048818794,-1890.1733867668931,-741.6890601799597,472.5939384576658,1621.6563727516939,2474.374442525109,3027.8075295266794,3398.463071711394,3228.2249993392156,2457.006625660216,1377.2821267726001,218.41558073583238,-932.9165395671392,-1820.5595015462018,-2441.313786329523,-2896.959635255161,-3002.649996095196,-2576.308212375487,-1733.5774973121793,-679.0707416556376,443.19178498420445,1426.382503376371,2111.2628909919495,2589.497907207023,2946.8652482091247,2871.63534894698,2184.2283920837654,1251.6383146231913,153.83722816265305,-903.8925445524515,-1644.3497368466483,-2090.573488380601,-2460.196616602177,-2561.9105901172898,-2196.500865963905,-1467.1561668130178,-542.773284110806,477.82308616022095,1377.1421148891277,1899.3916997166205,2201.676392091173,2493.266542544477,2428.2761077120044,1831.5090287091716,1013.1418134834959,41.78038768997614,-969.1205930884166,-1599.5546372553965,-1881.8124942874454,-2088.087981223918,-2122.912387208391,-1755.1472842909109,-1086.3069955610424,-295.87357507543567,609.0516130448066,1421.0048788411768,1832.0067829125703,1959.3940224849007,2108.3175472483904,1975.7576823410386,1407.4499987657955,687.4276229643685,-165.62252329682553,-1062.4421767822853,-1650.1395918086264,-1835.0686933816396,-1870.1461658564408,-1755.1770232063136,-1323.556881115328,-658.8080681495757,63.01835826242438,838.9838809834106,1542.3731625917062,1874.7813956865475,1868.1727019417003,1844.6774520723432,1593.0646472252818,958.2540666292356,283.75672526099777,-482.9096818376171,-1257.447742522405,-1758.4843548888427,-1875.6608136517464,-1783.2503582894676,-1494.8708397482762,-941.6759922729844,-232.434067540838,480.5540891609111,1170.4751366765393,1751.8842711055916,1982.1167605645887,1912.2386218164877,1725.0434985050763,1280.816208696269,541.0518299738737,-177.12620919512074,-875.8787468837481,-1553.3243920451898,-1947.166814037036,-1985.5020818700273,-1808.3186697690812,-1392.1917312813098,-671.7785288148186,175.19051245512202,930.7716974533126,1589.1097780234597,2072.512245913326,2173.2659754166166,1996.5064703759615,1741.4730348943033,1139.4421567631855,231.32869530110045,-581.961249274207,-1299.5501424692982,-1920.984780818155,-2215.5076066791135,-2144.8347846045504,-1902.721187373144,-1413.9145684337625,-546.4538456057119,466.3137280658629,1327.8758381371024,2021.7543669014544,2492.6735537138725,2478.8041449170255,2185.0026475773657,1839.1608360770053,1144.5518591865482,75.23014541737136,-901.1874600515713,-1731.5339021970362,-2356.9746444595767,-2604.267662214508,-2434.991638412835,-2069.478050044105,-1508.9754869160215,-568.4795579644476,609.8604598648222,1653.494992540783,2442.0297745203106,2946.2000670005505,2904.0390501970533,2488.2188196563143,2008.2839298551664,1233.069052964981,46.146131179306025,-1110.2242172037897,-2092.4614305094024,-2810.3807793430065,-3038.0869768871453,-2796.764669229468,-2326.6161907842375,-1665.710545384139,-654.6740848868291,628.5808421561441,1843.7615031450168,2813.471449928761,3388.707835668264,3389.728056838568,2869.272583430097,2259.917828904845,1369.5595363466762,138.9778328835975,-1162.2654583031926,-2311.039896615079,-3169.1317434858424,-3483.004447346741,-3228.3902043193584,-2672.356195130233,-1907.266044649023,-805.6372319819808,552.2557460172228,1893.6166204019582,3025.4487994196425,3785.1650360825124,3822.446393474294,3340.818391436585,2633.9089481220176,1637.3729376792364,287.02248433286377,-1081.4595313627954,-2383.944429714378,-3428.1005793734025,-3885.6473619496273,-3690.252707641362,-3111.034488495723,-2259.969249178373,-1034.3071272233517,406.80231218593104,1796.6215223232869,3091.6737408012623,4052.6482894233095,4248.572801630503,3811.091143141713,3114.8315537471276,2007.605590646785,530.4356666908407,-949.8959963036384,-2349.5375097379206,-3550.531000795312,-4190.472672196089,-4125.7859429640785,-3579.706593208318,-2689.723878220342,-1381.6177435632342,195.87539431790248,1696.9856224649416,3036.074586273902,4160.930418356955,4559.166680406425,4231.688198981527,3584.441700683451,2456.8766195577664,888.9725997702205,-719.0182271800572,-2208.6411778135043,-3522.9605762372353,-4337.787500970371,-4449.825245362026,-4016.637297297344,-3158.34511300199,-1803.841876493901,-123.87380998436812,1495.2169421824567,2933.139637941688,4145.676308428476,4718.009323548969,4581.667201696524,4012.665798797716,2945.153050649696,1328.0299698803933,-399.53000901181207,-2025.688461387473,-3423.6030053737304,-4366.801227552486,-4668.167963288332,-4396.014831454196,-3630.4032922364167,-2270.8762563721803,-529.1000036499263,1204.847865983034,2759.5367498908677,4046.30447203236,4713.475388032857,4764.162431359112,4395.784175378834,3396.955609463632,1822.892111830885,25.41068344998668,-1714.9627085077045,-3244.695199285142,-4288.789611366595,-4705.579074590593,-4614.446135667887,-4020.7889504454242,-2766.788288211674,-1006.0229289225166,811.6683594329353,2492.4727681006875,3900.6405571015184,4613.780122003618,4804.085245123993,4608.34122142185,3785.4910698247204,2312.808962871642,534.0918287469846,-1290.3645129886797,-2951.887937039172,-4126.844309392705,-4657.816097587831,-4705.3304192413425,-4305.729917735741,-3199.6305762999054,-1501.4275024563274,334.7568094724244,2113.7919557948485,3661.6436410819265,4498.83516728644,4735.951895594472,4685.0754038587065,4055.496412728409,2717.5829499843057,1007.3317249905415,-822.805269344699,-2562.6487767207404,-3874.619119613611,-4537.905931044952,-4683.259491320162,-4430.298851284189,-3517.7690131282434,-1972.9234354229843,-158.17474652898468,1665.3829299380868,3297.4525406554185,4282.001684062975,4633.443146707409,4656.90390704345,4183.2394581895815,3044.265070694752,1453.146876570033,-325.69024755112787,-2101.173896329328,-3533.076730470504,-4333.265245861839,-4586.578981620038,-4427.576853362496,-3698.1126134685946],\"type\":\"scatter3d\"}],                        {\"scene\":{\"aspectmode\":\"data\"},\"template\":{\"data\":{\"histogram2dcontour\":[{\"type\":\"histogram2dcontour\",\"colorbar\":{\"outlinewidth\":0,\"ticks\":\"\"},\"colorscale\":[[0.0,\"#0d0887\"],[0.1111111111111111,\"#46039f\"],[0.2222222222222222,\"#7201a8\"],[0.3333333333333333,\"#9c179e\"],[0.4444444444444444,\"#bd3786\"],[0.5555555555555556,\"#d8576b\"],[0.6666666666666666,\"#ed7953\"],[0.7777777777777778,\"#fb9f3a\"],[0.8888888888888888,\"#fdca26\"],[1.0,\"#f0f921\"]]}],\"choropleth\":[{\"type\":\"choropleth\",\"colorbar\":{\"outlinewidth\":0,\"ticks\":\"\"}}],\"histogram2d\":[{\"type\":\"histogram2d\",\"colorbar\":{\"outlinewidth\":0,\"ticks\":\"\"},\"colorscale\":[[0.0,\"#0d0887\"],[0.1111111111111111,\"#46039f\"],[0.2222222222222222,\"#7201a8\"],[0.3333333333333333,\"#9c179e\"],[0.4444444444444444,\"#bd3786\"],[0.5555555555555556,\"#d8576b\"],[0.6666666666666666,\"#ed7953\"],[0.7777777777777778,\"#fb9f3a\"],[0.8888888888888888,\"#fdca26\"],[1.0,\"#f0f921\"]]}],\"heatmap\":[{\"type\":\"heatmap\",\"colorbar\":{\"outlinewidth\":0,\"ticks\":\"\"},\"colorscale\":[[0.0,\"#0d0887\"],[0.1111111111111111,\"#46039f\"],[0.2222222222222222,\"#7201a8\"],[0.3333333333333333,\"#9c179e\"],[0.4444444444444444,\"#bd3786\"],[0.5555555555555556,\"#d8576b\"],[0.6666666666666666,\"#ed7953\"],[0.7777777777777778,\"#fb9f3a\"],[0.8888888888888888,\"#fdca26\"],[1.0,\"#f0f921\"]]}],\"heatmapgl\":[{\"type\":\"heatmapgl\",\"colorbar\":{\"outlinewidth\":0,\"ticks\":\"\"},\"colorscale\":[[0.0,\"#0d0887\"],[0.1111111111111111,\"#46039f\"],[0.2222222222222222,\"#7201a8\"],[0.3333333333333333,\"#9c179e\"],[0.4444444444444444,\"#bd3786\"],[0.5555555555555556,\"#d8576b\"],[0.6666666666666666,\"#ed7953\"],[0.7777777777777778,\"#fb9f3a\"],[0.8888888888888888,\"#fdca26\"],[1.0,\"#f0f921\"]]}],\"contourcarpet\":[{\"type\":\"contourcarpet\",\"colorbar\":{\"outlinewidth\":0,\"ticks\":\"\"}}],\"contour\":[{\"type\":\"contour\",\"colorbar\":{\"outlinewidth\":0,\"ticks\":\"\"},\"colorscale\":[[0.0,\"#0d0887\"],[0.1111111111111111,\"#46039f\"],[0.2222222222222222,\"#7201a8\"],[0.3333333333333333,\"#9c179e\"],[0.4444444444444444,\"#bd3786\"],[0.5555555555555556,\"#d8576b\"],[0.6666666666666666,\"#ed7953\"],[0.7777777777777778,\"#fb9f3a\"],[0.8888888888888888,\"#fdca26\"],[1.0,\"#f0f921\"]]}],\"surface\":[{\"type\":\"surface\",\"colorbar\":{\"outlinewidth\":0,\"ticks\":\"\"},\"colorscale\":[[0.0,\"#0d0887\"],[0.1111111111111111,\"#46039f\"],[0.2222222222222222,\"#7201a8\"],[0.3333333333333333,\"#9c179e\"],[0.4444444444444444,\"#bd3786\"],[0.5555555555555556,\"#d8576b\"],[0.6666666666666666,\"#ed7953\"],[0.7777777777777778,\"#fb9f3a\"],[0.8888888888888888,\"#fdca26\"],[1.0,\"#f0f921\"]]}],\"mesh3d\":[{\"type\":\"mesh3d\",\"colorbar\":{\"outlinewidth\":0,\"ticks\":\"\"}}],\"scatter\":[{\"fillpattern\":{\"fillmode\":\"overlay\",\"size\":10,\"solidity\":0.2},\"type\":\"scatter\"}],\"parcoords\":[{\"type\":\"parcoords\",\"line\":{\"colorbar\":{\"outlinewidth\":0,\"ticks\":\"\"}}}],\"scatterpolargl\":[{\"type\":\"scatterpolargl\",\"marker\":{\"colorbar\":{\"outlinewidth\":0,\"ticks\":\"\"}}}],\"bar\":[{\"error_x\":{\"color\":\"#2a3f5f\"},\"error_y\":{\"color\":\"#2a3f5f\"},\"marker\":{\"line\":{\"color\":\"#E5ECF6\",\"width\":0.5},\"pattern\":{\"fillmode\":\"overlay\",\"size\":10,\"solidity\":0.2}},\"type\":\"bar\"}],\"scattergeo\":[{\"type\":\"scattergeo\",\"marker\":{\"colorbar\":{\"outlinewidth\":0,\"ticks\":\"\"}}}],\"scatterpolar\":[{\"type\":\"scatterpolar\",\"marker\":{\"colorbar\":{\"outlinewidth\":0,\"ticks\":\"\"}}}],\"histogram\":[{\"marker\":{\"pattern\":{\"fillmode\":\"overlay\",\"size\":10,\"solidity\":0.2}},\"type\":\"histogram\"}],\"scattergl\":[{\"type\":\"scattergl\",\"marker\":{\"colorbar\":{\"outlinewidth\":0,\"ticks\":\"\"}}}],\"scatter3d\":[{\"type\":\"scatter3d\",\"line\":{\"colorbar\":{\"outlinewidth\":0,\"ticks\":\"\"}},\"marker\":{\"colorbar\":{\"outlinewidth\":0,\"ticks\":\"\"}}}],\"scattermapbox\":[{\"type\":\"scattermapbox\",\"marker\":{\"colorbar\":{\"outlinewidth\":0,\"ticks\":\"\"}}}],\"scatterternary\":[{\"type\":\"scatterternary\",\"marker\":{\"colorbar\":{\"outlinewidth\":0,\"ticks\":\"\"}}}],\"scattercarpet\":[{\"type\":\"scattercarpet\",\"marker\":{\"colorbar\":{\"outlinewidth\":0,\"ticks\":\"\"}}}],\"carpet\":[{\"aaxis\":{\"endlinecolor\":\"#2a3f5f\",\"gridcolor\":\"white\",\"linecolor\":\"white\",\"minorgridcolor\":\"white\",\"startlinecolor\":\"#2a3f5f\"},\"baxis\":{\"endlinecolor\":\"#2a3f5f\",\"gridcolor\":\"white\",\"linecolor\":\"white\",\"minorgridcolor\":\"white\",\"startlinecolor\":\"#2a3f5f\"},\"type\":\"carpet\"}],\"table\":[{\"cells\":{\"fill\":{\"color\":\"#EBF0F8\"},\"line\":{\"color\":\"white\"}},\"header\":{\"fill\":{\"color\":\"#C8D4E3\"},\"line\":{\"color\":\"white\"}},\"type\":\"table\"}],\"barpolar\":[{\"marker\":{\"line\":{\"color\":\"#E5ECF6\",\"width\":0.5},\"pattern\":{\"fillmode\":\"overlay\",\"size\":10,\"solidity\":0.2}},\"type\":\"barpolar\"}],\"pie\":[{\"automargin\":true,\"type\":\"pie\"}]},\"layout\":{\"autotypenumbers\":\"strict\",\"colorway\":[\"#636efa\",\"#EF553B\",\"#00cc96\",\"#ab63fa\",\"#FFA15A\",\"#19d3f3\",\"#FF6692\",\"#B6E880\",\"#FF97FF\",\"#FECB52\"],\"font\":{\"color\":\"#2a3f5f\"},\"hovermode\":\"closest\",\"hoverlabel\":{\"align\":\"left\"},\"paper_bgcolor\":\"white\",\"plot_bgcolor\":\"#E5ECF6\",\"polar\":{\"bgcolor\":\"#E5ECF6\",\"angularaxis\":{\"gridcolor\":\"white\",\"linecolor\":\"white\",\"ticks\":\"\"},\"radialaxis\":{\"gridcolor\":\"white\",\"linecolor\":\"white\",\"ticks\":\"\"}},\"ternary\":{\"bgcolor\":\"#E5ECF6\",\"aaxis\":{\"gridcolor\":\"white\",\"linecolor\":\"white\",\"ticks\":\"\"},\"baxis\":{\"gridcolor\":\"white\",\"linecolor\":\"white\",\"ticks\":\"\"},\"caxis\":{\"gridcolor\":\"white\",\"linecolor\":\"white\",\"ticks\":\"\"}},\"coloraxis\":{\"colorbar\":{\"outlinewidth\":0,\"ticks\":\"\"}},\"colorscale\":{\"sequential\":[[0.0,\"#0d0887\"],[0.1111111111111111,\"#46039f\"],[0.2222222222222222,\"#7201a8\"],[0.3333333333333333,\"#9c179e\"],[0.4444444444444444,\"#bd3786\"],[0.5555555555555556,\"#d8576b\"],[0.6666666666666666,\"#ed7953\"],[0.7777777777777778,\"#fb9f3a\"],[0.8888888888888888,\"#fdca26\"],[1.0,\"#f0f921\"]],\"sequentialminus\":[[0.0,\"#0d0887\"],[0.1111111111111111,\"#46039f\"],[0.2222222222222222,\"#7201a8\"],[0.3333333333333333,\"#9c179e\"],[0.4444444444444444,\"#bd3786\"],[0.5555555555555556,\"#d8576b\"],[0.6666666666666666,\"#ed7953\"],[0.7777777777777778,\"#fb9f3a\"],[0.8888888888888888,\"#fdca26\"],[1.0,\"#f0f921\"]],\"diverging\":[[0,\"#8e0152\"],[0.1,\"#c51b7d\"],[0.2,\"#de77ae\"],[0.3,\"#f1b6da\"],[0.4,\"#fde0ef\"],[0.5,\"#f7f7f7\"],[0.6,\"#e6f5d0\"],[0.7,\"#b8e186\"],[0.8,\"#7fbc41\"],[0.9,\"#4d9221\"],[1,\"#276419\"]]},\"xaxis\":{\"gridcolor\":\"white\",\"linecolor\":\"white\",\"ticks\":\"\",\"title\":{\"standoff\":15},\"zerolinecolor\":\"white\",\"automargin\":true,\"zerolinewidth\":2},\"yaxis\":{\"gridcolor\":\"white\",\"linecolor\":\"white\",\"ticks\":\"\",\"title\":{\"standoff\":15},\"zerolinecolor\":\"white\",\"automargin\":true,\"zerolinewidth\":2},\"scene\":{\"xaxis\":{\"backgroundcolor\":\"#E5ECF6\",\"gridcolor\":\"white\",\"linecolor\":\"white\",\"showbackground\":true,\"ticks\":\"\",\"zerolinecolor\":\"white\",\"gridwidth\":2},\"yaxis\":{\"backgroundcolor\":\"#E5ECF6\",\"gridcolor\":\"white\",\"linecolor\":\"white\",\"showbackground\":true,\"ticks\":\"\",\"zerolinecolor\":\"white\",\"gridwidth\":2},\"zaxis\":{\"backgroundcolor\":\"#E5ECF6\",\"gridcolor\":\"white\",\"linecolor\":\"white\",\"showbackground\":true,\"ticks\":\"\",\"zerolinecolor\":\"white\",\"gridwidth\":2}},\"shapedefaults\":{\"line\":{\"color\":\"#2a3f5f\"}},\"annotationdefaults\":{\"arrowcolor\":\"#2a3f5f\",\"arrowhead\":0,\"arrowwidth\":1},\"geo\":{\"bgcolor\":\"white\",\"landcolor\":\"#E5ECF6\",\"subunitcolor\":\"white\",\"showland\":true,\"showlakes\":true,\"lakecolor\":\"white\"},\"title\":{\"x\":0.05},\"mapbox\":{\"style\":\"light\"}}}},                        {\"responsive\": true}                    ).then(function(){\n",
       "                            \n",
       "var gd = document.getElementById('7cc606ee-19d9-4169-b5c4-05b08fda92fe');\n",
       "var x = new MutationObserver(function (mutations, observer) {{\n",
       "        var display = window.getComputedStyle(gd).display;\n",
       "        if (!display || display === 'none') {{\n",
       "            console.log([gd, 'removed!']);\n",
       "            Plotly.purge(gd);\n",
       "            observer.disconnect();\n",
       "        }}\n",
       "}});\n",
       "\n",
       "// Listen for the removal of the full notebook cells\n",
       "var notebookContainer = gd.closest('#notebook-container');\n",
       "if (notebookContainer) {{\n",
       "    x.observe(notebookContainer, {childList: true});\n",
       "}}\n",
       "\n",
       "// Listen for the clearing of the current output cell\n",
       "var outputEl = gd.closest('.output');\n",
       "if (outputEl) {{\n",
       "    x.observe(outputEl, {childList: true});\n",
       "}}\n",
       "\n",
       "                        })                };                });            </script>        </div>"
      ]
     },
     "metadata": {},
     "output_type": "display_data"
    }
   ],
   "source": [
    "fig = go.Figure(data=[go.Scatter3d(\n",
    "    x=X_pca[:,0], y=X_pca[:,1], z=X_pca[:,2], \n",
    "    mode ='markers', \n",
    "    marker=dict(size = 2, color = theta)\n",
    ")] , layout = go.Layout(scene = dict(aspectmode= 'data')))\n",
    "\n",
    "fig.show()"
   ]
  },
  {
   "cell_type": "code",
   "execution_count": 56,
   "id": "370bc800",
   "metadata": {
    "scrolled": false
   },
   "outputs": [
    {
     "data": {
      "application/vnd.plotly.v1+json": {
       "config": {
        "plotlyServerURL": "https://plot.ly"
       },
       "data": [
        {
         "marker": {
          "color": [
           [
            0.6396332006518749,
            0.8459681119432668,
            0.014398687404858328
           ],
           [
            0.5150887025859194,
            0.925271138599333,
            0.059640158814747504
           ],
           [
            0.27838968265119385,
            0.9989631811773795,
            0.2226471361714265
           ],
           [
            0.12220964127656074,
            0.9725425548858224,
            0.40524780383761677
           ],
           [
            0.01281401336373669,
            0.8409960775554288,
            0.6461899090808345
           ],
           [
            0.007060504553276118,
            0.6739577461543323,
            0.8189817492923916
           ],
           [
            0.04199351364409126,
            0.5553007853889638,
            0.9027057009669449
           ],
           [
            0.13625135246012102,
            0.3847797410867785,
            0.9789689064531006
           ],
           [
            0.3200952647265191,
            0.18594034470965728,
            0.9939643905638238
           ],
           [
            0.4710033493281057,
            0.0822143958551497,
            0.9467822548167447
           ],
           [
            0.5826572939811918,
            0.03161652185328644,
            0.8857261841655217
           ],
           [
            0.8699791257740174,
            0.02374323183814341,
            0.6062776423878393
           ],
           [
            0.9605242311283051,
            0.10110196178660116,
            0.4383738070850938
           ],
           [
            0.9975092103067833,
            0.2080778231643759,
            0.2944129665288409
           ],
           [
            0.9700972145087127,
            0.4124520933655462,
            0.11745069212574132
           ],
           [
            0.9145597069131195,
            0.5348052288039574,
            0.05063506428292314
           ],
           [
            0.757107530351543,
            0.7428244630194176,
            6.800662903960289e-05
           ],
           [
            0.6396863938655238,
            0.8459281146396388,
            0.014385491494837293
           ],
           [
            0.5114602240655867,
            0.9271688339676271,
            0.06137094196678627
           ],
           [
            0.35202703613423914,
            0.9876022474370336,
            0.16037071642872722
           ],
           [
            0.15157050464152116,
            0.9847749915501779,
            0.36365450380830083
           ],
           [
            0.03717468069196694,
            0.8952557030082063,
            0.5675696162998263
           ],
           [
            0.0037157014224521554,
            0.6954503924472764,
            0.8008339061302713
           ],
           [
            0.044373430249053124,
            0.5494784265254046,
            0.9061481432255424
           ],
           [
            0.15587508839253522,
            0.35792310152228307,
            0.9862018100851817
           ],
           [
            0.34160409112323387,
            0.1684875308570873,
            0.989908378019679
           ],
           [
            0.44835292205739297,
            0.09512708611268918,
            0.9565199918299181
           ],
           [
            0.5852374537307502,
            0.03070700350834006,
            0.88405554276091
           ],
           [
            0.8667316996331038,
            0.022302882114353554,
            0.6109654182525428
           ],
           [
            0.9770897577659665,
            0.1318826615582485,
            0.3910275806757852
           ],
           [
            0.9992381836752561,
            0.22648683001582165,
            0.27427498630892233
           ],
           [
            0.9619080275384044,
            0.4348191160549204,
            0.10327285640667512
           ],
           [
            0.881270115592927,
            0.5894985250114836,
            0.029231359395589296
           ],
           [
            0.7593592130418213,
            0.740522499034616,
            0.00011828792356261172
           ],
           [
            0.6498310203976205,
            0.8381982743629686,
            0.011970705239410807
           ],
           [
            0.5195908580803966,
            0.9228847631453873,
            0.05752437877421604
           ],
           [
            0.38173106748445806,
            0.979859251243426,
            0.1384096812721158
           ],
           [
            0.15187577532003124,
            0.9848790088292647,
            0.36324521585070396
           ],
           [
            0.05518188450819092,
            0.9201529150404784,
            0.5246652004513307
           ],
           [
            0.00037369116726662774,
            0.7330750648708539,
            0.7665512439618791
           ],
           [
            0.0907039777474586,
            0.4559361806352679,
            0.9533598416172734
           ],
           [
            0.21973261765883043,
            0.2815424952430754,
            0.9987248870980944
           ],
           [
            0.3861473978357885,
            0.13528879239089794,
            0.9785638097733136
           ],
           [
            0.47853258584027675,
            0.07812029698145616,
            0.9433471171782671
           ],
           [
            0.6408024200007305,
            0.014109910616018255,
            0.8450876693832513
           ],
           [
            0.8420919908352427,
            0.013153747529308453,
            0.6447542616354491
           ],
           [
            0.9711981100473175,
            0.11955876943386667,
            0.40924312051881584
           ],
           [
            0.9997075692166844,
            0.2353388202573166,
            0.2649536105259992
           ],
           [
            0.9608131999907862,
            0.4376362398868486,
            0.10155056012236494
           ],
           [
            0.8809234191020935,
            0.5900253874510758,
            0.029051193446830697
           ],
           [
            0.7820610526969852,
            0.7165043277756912,
            0.0014346195273235959
           ],
           [
            0.657609637972715,
            0.8321324043380601,
            0.010257957689224847
           ],
           [
            0.5310284133101978,
            0.916663914234412,
            0.05230767245539014
           ],
           [
            0.35046182045553315,
            0.9879624460158873,
            0.16157573352857954
           ],
           [
            0.15291081987738744,
            0.985228445564538,
            0.3618607345580742
           ],
           [
            0.01776451666028098,
            0.8555148743091031,
            0.626720609030616
           ],
           [
            0.012653119868310178,
            0.6468758997074697,
            0.8404709804242199
           ],
           [
            0.11186731663703184,
            0.4210924142102027,
            0.9670402691527655
           ],
           [
            0.1729051921886988,
            0.33604665577342746,
            0.9910481520378739
           ],
           [
            0.3429756439645932,
            0.16740694366918607,
            0.9896174123662207
           ],
           [
            0.508296680502688,
            0.06289857473888599,
            0.9288047447584263
           ],
           [
            0.6588915898581477,
            0.009987405385098387,
            0.8311210047567539
           ],
           [
            0.7802276958649058,
            0.0012716949514341833,
            0.71850060918366
           ],
           [
            0.9685860581433003,
            0.11464297923842819,
            0.4167709626182717
           ],
           [
            0.9999974555536416,
            0.2513826953709442,
            0.2486198490754143
           ],
           [
            0.9531063610428342,
            0.4565341461478272,
            0.09035949280933867
           ],
           [
            0.8610747722855334,
            0.618993508113924,
            0.019931719600542862
           ],
           [
            0.7854923802392818,
            0.712740202895594,
            0.0017674168651242589
           ],
           [
            0.6696754003945725,
            0.8224799815643897,
            0.007844618041037513
           ],
           [
            0.5274709654909088,
            0.9186231757098239,
            0.053905858799267285
           ],
           [
            0.34495209437401053,
            0.9891914281140508,
            0.1658564775119384
           ],
           [
            0.16363247117643123,
            0.9885627028032526,
            0.34780482602031587
           ],
           [
            0.042364086822458104,
            0.9032514058684835,
            0.5543845073090584
           ],
           [
            0.00026020161699971976,
            0.7359020634934162,
            0.7638377348895841
           ],
           [
            0.13248342787175493,
            0.39016217418876364,
            0.9773543979394814
           ],
           [
            0.22262712416922903,
            0.278411243355691,
            0.99896163247508
           ],
           [
            0.3159949803752882,
            0.18937785263810628,
            0.9946271669866057
           ],
           [
            0.48325756049406104,
            0.07560134090331756,
            0.9411410986026216
           ],
           [
            0.6502312612260103,
            0.011879616251111834,
            0.8378891225228781
           ],
           [
            0.7919932376450463,
            0.0024995236208738684,
            0.7055072387340798
           ],
           [
            0.9508730085003679,
            0.0873867139247981,
            0.46174027757483405
           ],
           [
            0.9991139366885028,
            0.22467563651229458,
            0.27621042679920277
           ],
           [
            0.9568873247572751,
            0.44745539775843396,
            0.09565727748429091
           ],
           [
            0.87705745535298,
            0.5958491134469902,
            0.02709343120002937
           ],
           [
            0.7721010711705848,
            0.7272272579844014,
            0.0006716708450135528
           ],
           [
            0.6618318945701057,
            0.8287886150826216,
            0.009379490347272701
           ],
           [
            0.5351638223315569,
            0.9143586277967921,
            0.0504775498716508
           ],
           [
            0.358242339591189,
            0.9861240279930917,
            0.15563363241571906
           ],
           [
            0.1705203480935542,
            0.9904427108570959,
            0.3390369410493498
           ],
           [
            0.041974817552037,
            0.9026780719120926,
            0.5553471105358703
           ],
           [
            0.0011763409677213973,
            0.7197265150957598,
            0.7790971439365189
           ],
           [
            0.08630258492366011,
            0.4636598168187008,
            0.9500375982576391
           ],
           [
            0.22896153757813595,
            0.27164615730191943,
            0.9993923051199447
           ],
           [
            0.34446123980021387,
            0.16624080204408528,
            0.9892979581557009
           ],
           [
            0.4700346617266798,
            0.0827482895731829,
            0.9472170487001376
           ],
           [
            0.6280251952051894,
            0.017409856362617607,
            0.8545649484321934
           ],
           [
            0.8224098173990835,
            0.007828427973897191,
            0.6697617546270194
           ],
           [
            0.9340979642258916,
            0.06808078241642783,
            0.49782125335768074
           ],
           [
            0.998415134118756,
            0.216342969069079,
            0.285241896812165
           ],
           [
            0.9514445039581629,
            0.4604185411976862,
            0.08813695484415093
           ],
           [
            0.8649383800749791,
            0.6135290938446766,
            0.021532526080344158
           ],
           [
            0.7707632429155197,
            0.7286450942025108,
            0.0005916628819696172
           ],
           [
            0.6772642913459119,
            0.8162542930481055,
            0.006481415605982724
           ],
           [
            0.5485219652307732,
            0.9067079422128516,
            0.044770092556374985
           ],
           [
            0.38094997112968565,
            0.9800845440733322,
            0.13896548479698198
           ],
           [
            0.17988530126827715,
            0.9926906831463527,
            0.3274240155853698
           ],
           [
            0.06186855090485337,
            0.9277056655592125,
            0.5104257835359343
           ],
           [
            0.00024052402294126924,
            0.7364503065652807,
            0.7633091694117781
           ],
           [
            0.12151025641712525,
            0.40629764084204767,
            0.972192102740827
           ],
           [
            0.2642468406963895,
            0.2360188366259832,
            0.9997343226776273
           ],
           [
            0.3513746043430518,
            0.16087241335638536,
            0.987752982300563
           ],
           [
            0.46791064340017036,
            0.08392466615657904,
            0.9481646904432507
           ],
           [
            0.6093013219510344,
            0.022809499760991288,
            0.8678891782879744
           ],
           [
            0.8159987199954601,
            0.006428581092528356,
            0.6775726989120114
           ],
           [
            0.9322233715486999,
            0.06620226089355005,
            0.5015743675577501
           ],
           [
            0.998415134118756,
            0.216342969069079,
            0.285241896812165
           ],
           [
            0.9637817937935584,
            0.42991094428317145,
            0.10630726192327022
           ],
           [
            0.8746469130484958,
            0.5994338762632931,
            0.025919210688211056
           ],
           [
            0.7718929597258739,
            0.7274481593911779,
            0.0006588808829482501
           ],
           [
            0.6449615878412985,
            0.8419339784245183,
            0.013104433734183053
           ],
           [
            0.5411539250902462,
            0.9109665066874095,
            0.04787956822234431
           ],
           [
            0.41870172026020425,
            0.9678995843208222,
            0.11339869541897349
           ],
           [
            0.20528696061097573,
            0.9971538443134443,
            0.2975591950755797
           ],
           [
            0.06717229426866088,
            0.9331974612485661,
            0.4996302444827728
           ],
           [
            0.00041424700419878343,
            0.7674154913071087,
            0.7321702616886921
           ],
           [
            0.07797276818304402,
            0.4788073246420957,
            0.9432199071748603
           ],
           [
            0.27736225079495314,
            0.223602064969922,
            0.9990356842351249
           ],
           [
            0.36402286952256946,
            0.1512960347196972,
            0.9846810957577333
           ],
           [
            0.4710949682874108,
            0.08216398448370475,
            0.9467410472288846
           ],
           [
            0.6366871554000847,
            0.01513815600005718,
            0.8481746885998582
           ],
           [
            0.8153768803481356,
            0.006301042867893588,
            0.678322076783971
           ],
           [
            0.926738385861669,
            0.060974514171907745,
            0.5122870999664234
           ],
           [
            0.9926166207547242,
            0.17955230253893517,
            0.3278310767063406
           ],
           [
            0.9701643467976376,
            0.4122579611547472,
            0.11757769204761515
           ],
           [
            0.8648564317154426,
            0.6136458258563506,
            0.02149774242820688
           ],
           [
            0.7723600138378344,
            0.726952224020022,
            0.0006877621421437105
           ],
           [
            0.6669313878766605,
            0.8247014701086798,
            0.008367142014659492
           ],
           [
            0.5289800587475647,
            0.9177947345796107,
            0.05322520667282454
           ],
           [
            0.39772520072436035,
            0.9749945678853862,
            0.12728023139025335
           ],
           [
            0.20444393706073008,
            0.9970414853907098,
            0.2985145775485601
           ],
           [
            0.08218048958692765,
            0.9467545418608486,
            0.4710649685522237
           ],
           [
            0.0005073660575973767,
            0.7692484060377791,
            0.7302442279046234
           ],
           [
            0.09014740266643359,
            0.45690283940496845,
            0.9529497579285979
           ],
           [
            0.23575016506946062,
            0.2645259259617742,
            0.9997239089687653
           ],
           [
            0.38513079006440093,
            0.13600394820849546,
            0.9788652617271036
           ],
           [
            0.4908727071532848,
            0.07162309693189717,
            0.9375041959148182
           ],
           [
            0.6218856870755164,
            0.01910726723187547,
            0.8590070456926083
           ],
           [
            0.7797277315823139,
            0.001229047154463871,
            0.7190432212632224
           ],
           [
            0.9157356439945742,
            0.051564296243088774,
            0.5327000597623369
           ],
           [
            0.9913722458126158,
            0.1742202629050465,
            0.33440749128233765
           ],
           [
            0.9747687626710734,
            0.39843154738356995,
            0.1267996899453567
           ],
           [
            0.8833649555208941,
            0.5862986064140826,
            0.030336438065023067
           ],
           [
            0.770593679107616,
            0.728824425439399,
            0.0005818954529848291
           ],
           [
            0.6582845108211366,
            0.8316003771777535,
            0.010115112001109872
           ],
           [
            0.521383876474881,
            0.9219245748202332,
            0.05669154870488573
           ],
           [
            0.410260539542909,
            0.9708510935857382,
            0.11888836687135264
           ],
           [
            0.23460752893551842,
            0.99967733480946,
            0.26571513625502136
           ],
           [
            0.054463277780608756,
            0.919295132480674,
            0.5262415897387172
           ],
           [
            0.00010805300620150745,
            0.7409442515470711,
            0.7589476954467272
           ],
           [
            0.04967389589227455,
            0.5370014194892815,
            0.9133246846184438
           ],
           [
            0.22273410078705103,
            0.27829600194466986,
            0.9989698972682791
           ],
           [
            0.38962122962774143,
            0.13285966176101782,
            0.9775191086112409
           ],
           [
            0.5048511781695783,
            0.06458209048357176,
            0.9305667313468501
           ],
           [
            0.6545550606721334,
            0.0109160225125138,
            0.834528916815353
           ],
           [
            0.8194452920273473,
            0.0071617148290329434,
            0.6733929931436199
           ],
           [
            0.9260922056047034,
            0.06038365589886391,
            0.5135241384964329
           ],
           [
            0.988105509379028,
            0.1620602984787794,
            0.34983419214219275
           ],
           [
            0.9745033557506982,
            0.39925811677688333,
            0.1262385274724184
           ],
           [
            0.8696345969502991,
            0.6067777950244537,
            0.023587608025247103
           ],
           [
            0.7854015556867838,
            0.7128403084021678,
            0.001758135911048125
           ],
           [
            0.6548414538464086,
            0.8343050229735538,
            0.010853523180037513
           ],
           [
            0.5111987840491867,
            0.9273046856033088,
            0.06149653034750443
           ],
           [
            0.36260951066206554,
            0.9850399216850331,
            0.15235056765290111
           ],
           [
            0.2283363906756918,
            0.9993550673657495,
            0.27230854195855864
           ],
           [
            0.09482898527985563,
            0.9563124011316754,
            0.4488586135884688
           ],
           [
            0.0013595250351327642,
            0.781230385478153,
            0.7174100894867144
           ],
           [
            0.062062957629189654,
            0.5100226904310438,
            0.9279143519397667
           ],
           [
            0.2709669663785395,
            0.22960366676203015,
            0.9994293668594305
           ],
           [
            0.3646719427938829,
            0.15081305079490545,
            0.9845150064112118
           ],
           [
            0.5021275177931552,
            0.06592745914740958,
            0.9319450230594353
           ],
           [
            0.648276748126914,
            0.012327462325263178,
            0.839395789547823
           ],
           [
            0.832533871031545,
            0.010366525611415439,
            0.6570996033570397
           ],
           [
            0.9403302960038983,
            0.07469606284339217,
            0.48497364115270974
           ],
           [
            0.9927707309517703,
            0.18024737317449405,
            0.3269818958737358
           ],
           [
            0.9761989384957622,
            0.3939078344577543,
            0.1298932270464835
           ],
           [
            0.8785656907224904,
            0.5935881735782227,
            0.02784613569928692
           ],
           [
            0.7644288731121459,
            0.7352879828896778,
            0.00028314399817635583
           ],
           [
            0.6654422378621052,
            0.8259005269082051,
            0.0086572352296894
           ],
           [
            0.5245929663424418,
            0.9201921172622006,
            0.05521491639535755
           ],
           [
            0.3175023583590904,
            0.9943877027167929,
            0.1881099389241166
           ],
           [
            0.1393427006782145,
            0.9802365260736956,
            0.3804207732480897
           ],
           [
            0.03310097032487006,
            0.8883816679443898,
            0.5785173617307399
           ],
           [
            0.0026114409584785153,
            0.7044962478796438,
            0.7928923111618773
           ],
           [
            0.06830065173482004,
            0.4973851357503525,
            0.9343142125148275
           ],
           [
            0.21953482315830616,
            0.2817573962047495,
            0.9987077806369445
           ],
           [
            0.3854031609008873,
            0.13581215245255,
            0.9787846866465629
           ],
           [
            0.5186207182914657,
            0.057977321133956476,
            0.9234019605745779
           ],
           [
            0.66302423008705,
            0.009138003677154926,
            0.8278377662357952
           ],
           [
            0.8486066086919862,
            0.0152855581569701,
            0.6361078331510438
           ],
           [
            0.9371422296573862,
            0.07123848746573419,
            0.49161928287687984
           ],
           [
            0.9939541535814439,
            0.18588894805712838,
            0.32015689836142763
           ],
           [
            0.9874079510587092,
            0.3528626695069273,
            0.1597293794343637
           ],
           [
            0.8864279492909467,
            0.58156790249546,
            0.032004148213593146
           ],
           [
            0.7631044644262627,
            0.7366624206718768,
            0.0002331149018604283
           ],
           [
            0.6585103511003745,
            0.8314221326195325,
            0.010067516280092934
           ],
           [
            0.5033295078538955,
            0.9313383474280982,
            0.06533214471800632
           ],
           [
            0.3287337770388416,
            0.9924511428588161,
            0.17881508010234234
           ],
           [
            0.18999688139599233,
            0.9947419746809254,
            0.3152611439230823
           ],
           [
            0.03221390986829177,
            0.8868052107344726,
            0.5809808793972354
           ],
           [
            0.0026170867411472926,
            0.7044457992311861,
            0.7929371140276666
           ],
           [
            0.07573332925244264,
            0.48300816419089065,
            0.9412585065566668
           ],
           [
            0.21272447527329114,
            0.2892303983459775,
            0.9980451263807314
           ],
           [
            0.4005695582406893,
            0.12535076614921822,
            0.9740796756100925
           ],
           [
            0.5027395835584141,
            0.06562400617347264,
            0.9316364102681136
           ],
           [
            0.684188757828005,
            0.005343978455539742,
            0.8104672637164554
           ],
           [
            0.865301567688722,
            0.021687122739655826,
            0.6130113095716223
           ],
           [
            0.9451647749246324,
            0.08025970025738485,
            0.474575524817983
           ],
           [
            0.9953638591835583,
            0.1934879313545113,
            0.31114820946193045
           ],
           [
            0.9804673242480172,
            0.37961358543496937,
            0.13991909031701338
           ],
           [
            0.8854645699242779,
            0.5830625645180835,
            0.03147286555763857
           ],
           [
            0.776911609947119,
            0.7220854134847063,
            0.0010029765681746784
           ],
           [
            0.6678708887777721,
            0.8239426299491697,
            0.008186481273058053
           ],
           [
            0.5378597415705478,
            0.9128397205202723,
            0.04930053790917974
           ],
           [
            0.29421948672400566,
            0.9975303271667021,
            0.20825018610929197
           ],
           [
            0.13303919874965808,
            0.9775974313447134,
            0.38936336990562836
           ],
           [
            0.041939710890192786,
            0.9026261659824695,
            0.5554341231273375
           ],
           [
            0.0012858063080381467,
            0.7183230065961885,
            0.7803911870957735
           ],
           [
            0.061608179367912255,
            0.5109665687184619,
            0.9274252519136259
           ],
           [
            0.20619258658822884,
            0.29653546775119183,
            0.9972719456605794
           ],
           [
            0.3661537132638099,
            0.14971350943666228,
            0.9841327772995279
           ],
           [
            0.4794826345670488,
            0.0776106984535554,
            0.9429066669793958
           ],
           [
            0.661280238007465,
            0.009492202810744326,
            0.8292275591817907
           ],
           [
            0.8504642565995401,
            0.015929558606470787,
            0.6336061847939894
           ],
           [
            0.9512377192055741,
            0.08786467845721775,
            0.46089760233720845
           ],
           [
            0.9959459156641828,
            0.19699762683382102,
            0.3070564575019962
           ],
           [
            0.984598325343851,
            0.36434673413358337,
            0.15105494052256524
           ],
           [
            0.883930738397687,
            0.5854294596733892,
            0.030639801928923984
           ],
           [
            0.7933459364824678,
            0.7039851575193392,
            0.002668905998192919
           ],
           [
            0.6663361778123658,
            0.8251812798493958,
            0.008482542338238145
           ],
           [
            0.5262097439507719,
            0.9193125039376621,
            0.05447775211156594
           ],
           [
            0.309116696406832,
            0.9956574352272465,
            0.19522586836592143
           ],
           [
            0.13288670800618096,
            0.9775309189037333,
            0.38958237309008537
           ],
           [
            0.033112396295430314,
            0.8884017772206201,
            0.5784858264839496
           ],
           [
            0.00018458207779320802,
            0.7381428882894008,
            0.7616725296328062
           ],
           [
            0.05214848055941966,
            0.5313854719853005,
            0.9164660474552798
           ],
           [
            0.18214304505150186,
            0.3246752543885902,
            0.9931817005599081
           ],
           [
            0.3563906128948077,
            0.15703697789544274,
            0.9865724092097495
           ],
           [
            0.49245633728860205,
            0.07080841504356702,
            0.9367352476678311
           ],
           [
            0.6355993998596735,
            0.015415461012559988,
            0.8489851391277667
           ],
           [
            0.8376420588031291,
            0.01180711821412118,
            0.6505508229827497
           ],
           [
            0.9592241812739145,
            0.09911367458157555,
            0.44166214414450994
           ],
           [
            0.9969469492945787,
            0.20374789843534735,
            0.2993051522700741
           ],
           [
            0.9793906429863428,
            0.38334312194161685,
            0.13726623507204042
           ],
           [
            0.9087963422542964,
            0.5449292499873994,
            0.04627440775830401
           ],
           [
            0.8119477344128753,
            0.6824289375189451,
            0.005623328068179454
           ],
           [
            0.6770253501847301,
            0.8164521617070539,
            0.006522488108215652
           ],
           [
            0.5597786873134181,
            0.9000174850949559,
            0.040203827591625864
           ],
           [
            0.3203745477838,
            0.9939179385059286,
            0.18570751371027114
           ],
           [
            0.13004010652164497,
            0.9762654731786372,
            0.3936944202997178
           ],
           [
            0.04217602092755224,
            0.902974918213479,
            0.5548490608589689
           ],
           [
            1.0482390117535414e-06,
            0.7491128088433763,
            0.7508861429176121
           ],
           [
            0.040474818605038446,
            0.5590949143555745,
            0.9004302670393872
           ],
           [
            0.1315082239187766,
            0.39156797937584914,
            0.9769237967053743
           ],
           [
            0.32058233591645147,
            0.18553439400653418,
            0.9938832700770145
           ],
           [
            0.48448897903120997,
            0.07495121733172846,
            0.9405598036370617
           ],
           [
            0.6291643501577655,
            0.017102838354485127,
            0.8537328114877494
           ],
           [
            0.8407035147034396,
            0.012724219731836812,
            0.6465722655647237
           ],
           [
            0.9591156960490995,
            0.09894992698838806,
            0.44193437696251264
           ],
           [
            0.9965109826140904,
            0.20067951963300476,
            0.3028094977529049
           ],
           [
            0.9844813074535913,
            0.36480324869666836,
            0.15071544384974048
           ],
           [
            0.9025700948585298,
            0.5555280928969182,
            0.041901812244552125
           ],
           [
            0.8031582311784187,
            0.6927627423827473,
            0.004079026438833801
           ],
           [
            0.7193357795030938,
            0.7794578763862502,
            0.0012063441106558521
           ],
           [
            0.5514814269624373,
            0.9049706132893148,
            0.04354795974824753
           ],
           [
            0.3011164270834506,
            0.9967250523001179,
            0.20215852061643141
           ],
           [
            0.12583000847766412,
            0.9743089729690803,
            0.39986101855325556
           ],
           [
            0.034865993438825675,
            0.8914309921366589,
            0.5737030144245153
           ],
           [
            3.219172843094047e-07,
            0.7495084757485602,
            0.7504912023341553
           ],
           [
            0.022470636043223757,
            0.6104125105153486,
            0.8671168534414277
           ],
           [
            0.14253402209278124,
            0.3759730907188418,
            0.9814928871883769
           ],
           [
            0.3044372761213784,
            0.19926358846881623,
            0.9962991354098054
           ],
           [
            0.43381717554049065,
            0.10388880819534145,
            0.9622940162641679
           ],
           [
            0.6306101687343569,
            0.01671676085988716,
            0.8526730704057561
           ],
           [
            0.8361447254434918,
            0.011373363141424621,
            0.6524819114150835
           ],
           [
            0.9631995144819845,
            0.10535222118946996,
            0.43144826432854577
           ],
           [
            0.9970149407528578,
            0.20424730233736904,
            0.29873775690977317
           ],
           [
            0.9897128288023521,
            0.34252784607975173,
            0.1677593251178962
           ],
           [
            0.9160746249710016,
            0.5320906322469486,
            0.05183474278204982
           ],
           [
            0.8219911278817211,
            0.6702766582180348,
            0.007732213900243621
           ],
           [
            0.7024189750146744,
            0.7947323250301953,
            0.0028486999551303738
           ],
           [
            0.5714416675049203,
            0.8928489576562288,
            0.035709374838850734
           ],
           [
            0.3268403563600502,
            0.9927962707248219,
            0.18036337291512794
           ],
           [
            0.12570572876774633,
            0.9742496415126046,
            0.4000446297196489
           ],
           [
            0.037997534405551266,
            0.8965768691042839,
            0.5654255964901644
           ],
           [
            6.707169248160542e-05,
            0.7428741869875555,
            0.757058741319963
           ],
           [
            0.03537286876869821,
            0.5723410001776109,
            0.8922861310536907
           ],
           [
            0.14092330817965432,
            0.3782113689507288,
            0.9808653228696169
           ],
           [
            0.27286115181124204,
            0.22781567138079464,
            0.9993231768079635
           ],
           [
            0.44846118863774703,
            0.09506322602668446,
            0.9564755853355686
           ],
           [
            0.614335867350175,
            0.0212926469606467,
            0.8643714856891785
           ],
           [
            0.8310751194387531,
            0.009975231031227102,
            0.6589496495300198
           ],
           [
            0.9524514991844953,
            0.08947631047277366,
            0.4580721903427311
           ],
           [
            0.9973883659147017,
            0.20710615539771,
            0.2955054786875885
           ],
           [
            0.9855308945906945,
            0.36065028070803656,
            0.15381882470126892
           ],
           [
            0.9130650684872168,
            0.5374611888247075,
            0.04947374268807557
           ],
           [
            0.8080931590093976,
            0.6869944063440808,
            0.004912434646521561
           ],
           [
            0.7290738423799055,
            0.7703577151106584,
            0.0005684425094361975
           ],
           [
            0.5724532554839039,
            0.8922157771707016,
            0.035330967345394426
           ],
           [
            0.2887509894728611,
            0.9980915633251074,
            0.21315744720203125
           ],
           [
            0.12421096735556612,
            0.9735288143470173,
            0.40226021829741654
           ],
           [
            0.04436303269303754,
            0.906133417176968,
            0.5495035501299942
           ],
           [
            1.6559433782549213e-05,
            0.75351583289138,
            0.7464676076748373
           ],
           [
            0.03347627293872898,
            0.577484108165354,
            0.889039618895917
           ],
           [
            0.11508075114383598,
            0.41609414377790244,
            0.9688251050782617
           ],
           [
            0.2657367116854196,
            0.23458683134311828,
            0.999676456971462
           ],
           [
            0.44836313059431954,
            0.0951210638164074,
            0.9565158055892732
           ],
           [
            0.6364065635778593,
            0.01520946797450878,
            0.8483839684476319
           ],
           [
            0.819515716629023,
            0.007177162859612203,
            0.6733071205113651
           ],
           [
            0.9438605812463672,
            0.07871866646073886,
            0.477420752292894
           ],
           [
            0.9976940166209308,
            0.20961386116428765,
            0.29269212221478164
           ],
           [
            0.9889356684234705,
            0.346121536618791,
            0.1649427949577386
           ],
           [
            0.9155692640008805,
            0.5329987563662093,
            0.05143197963291018
           ],
           [
            0.7898926242937954,
            0.7078591580275914,
            0.002248217678613258
           ],
           [
            0.7038925784190581,
            0.7934280427206318,
            0.002679378860309858
           ],
           [
            0.5899616778134213,
            0.8809653694268601,
            0.02907295275971857
           ],
           [
            0.34398209509358274,
            0.9894014779218409,
            0.16661642698457627
           ],
           [
            0.12028493164176529,
            0.971570775164123,
            0.4081442931941115
           ],
           [
            0.03383195497173953,
            0.8896583350494159,
            0.5765097099788444
           ],
           [
            0.0005464036427451759,
            0.7699648517993016,
            0.7294887445579531
           ],
           [
            0.02390363255621404,
            0.6057636922645658,
            0.8703326751792199
           ],
           [
            0.14428587592952213,
            0.37355360091036205,
            0.9821605231601158
           ],
           [
            0.29605026464138556,
            0.2066226461282411,
            0.9973270892303735
           ],
           [
            0.4002153430450124,
            0.12559023482571663,
            0.9741944221292711
           ],
           [
            0.5899499587605196,
            0.02907695607520492,
            0.8809730851642756
           ],
           [
            0.8061730293870722,
            0.004578040082109023,
            0.6892489305308188
           ],
           [
            0.9366741428946574,
            0.07074405861588205,
            0.4925817984894607
           ],
           [
            0.9962958980010307,
            0.1992422969560294,
            0.3044618050429399
           ],
           [
            0.9842257570180611,
            0.3657947772907974,
            0.14997946569114146
           ],
           [
            0.915270286851247,
            0.5335348000662266,
            0.051194913082526286
           ],
           [
            0.8305835938168062,
            0.6595710443405979,
            0.009845361842595863
           ],
           [
            0.7018877909889699,
            0.7952012671507197,
            0.0029109418603105825
           ],
           [
            0.5883862773236819,
            0.88200036138907,
            0.02961336128724796
           ],
           [
            0.34113597245478505,
            0.9900068127606663,
            0.16885721478454846
           ],
           [
            0.14122540498629066,
            0.9809840356847761,
            0.3777905593289332
           ],
           [
            0.04487367246314364,
            0.9068534855571702,
            0.5482728419796861
           ],
           [
            0.00030472044345521767,
            0.7649628867719512,
            0.7347323927845932
           ],
           [
            0.03051763159825517,
            0.5857790100763107,
            0.8837033583254341
           ],
           [
            0.10294372736382859,
            0.43535568853868256,
            0.9617005840974889
           ],
           [
            0.2617795915401741,
            0.23840260285462475,
            0.9998178056052011
           ],
           [
            0.3969872069342163,
            0.1277832872402908,
            0.975229505825493
           ],
           [
            0.572349802958191,
            0.03536958214967934,
            0.8922806148921297
           ],
           [
            0.816070445707514,
            0.006443384366751084,
            0.677486169925735
           ],
           [
            0.934649581075361,
            0.06864295429207663,
            0.49670746463256255
           ],
           [
            0.9945197557657842,
            0.1888053243305199,
            0.31667491990369606
           ],
           [
            0.9823490365302413,
            0.37286299845091864,
            0.14478796501883986
           ],
           [
            0.9285567713516931,
            0.5087783790645652,
            0.06266484958374163
           ],
           [
            0.8174611873230218,
            0.6758046001635827,
            0.00673421251339551
           ],
           [
            0.6868792155656154,
            0.808190967612275,
            0.004929816822109625
           ],
           [
            0.6074033478127187,
            0.8692030324507173,
            0.023393619736564036
           ],
           [
            0.3887766481880785,
            0.9777751803788026,
            0.13344817143311874
           ],
           [
            0.15040698025470092,
            0.9843745136277972,
            0.36521850611750173
           ],
           [
            0.04201105507409963,
            0.9027316151361433,
            0.5552573297897571
           ],
           [
            0.00011211616400473416,
            0.7407745528719446,
            0.7591133309640505
           ],
           [
            0.027937529983907226,
            0.5933155445541614,
            0.8787469254619313
           ],
           [
            0.10883229195607018,
            0.42587870364892494,
            0.9652890043950051
           ],
           [
            0.2600677230062779,
            0.2400656556826696,
            0.9998666213110525
           ],
           [
            0.4065952374558182,
            0.1213123687535214,
            0.9720923937906605
           ],
           [
            0.5533197576930208,
            0.04279656635366667,
            0.9038836759533126
           ],
           [
            0.8534747574958254,
            0.017008320286450926,
            0.6295169222177238
           ],
           [
            0.9362014678416645,
            0.07024811538637554,
            0.49355041677196015
           ],
           [
            0.9949776933224126,
            0.19129177458567564,
            0.3137305320919118
           ],
           [
            0.9869698387211473,
            0.3547254779093937,
            0.15830468336945902
           ],
           [
            0.9259677016197307,
            0.5137619052311307,
            0.06027039314913843
           ],
           [
            0.7908412320551741,
            0.7067988231044279,
            0.002359944840397899
           ],
           [
            0.6888229295464461,
            0.8065366939183007,
            0.004640376535253081
           ],
           [
            0.5701532799883896,
            0.8936527478253864,
            0.03619397218622392
           ],
           [
            0.4263271999913556,
            0.9651227982288803,
            0.10855000177976395
           ],
           [
            0.17800714613148727,
            0.9922673908644022,
            0.3297254630041105
           ],
           [
            0.06594737773488579,
            0.9319652346168426,
            0.5020873876482712
           ],
           [
            0.00015052630346845919,
            0.7393003435020404,
            0.7605491301944909
           ],
           [
            0.016449691717233324,
            0.6316192440878099,
            0.8519310641949568
           ],
           [
            0.11130967995663879,
            0.4219669738017815,
            0.9667233462415799
           ],
           [
            0.2969492275073816,
            0.2058262734818083,
            0.9972244990108101
           ],
           [
            0.38893829393141605,
            0.13333543254296124,
            0.9777262735256228
           ],
           [
            0.5481587837291159,
            0.04492113172938058,
            0.9069200845415037
           ],
           [
            0.8617115449556141,
            0.020190102806765926,
            0.6180983522376201
           ],
           [
            0.9447339680740654,
            0.07974725793368882,
            0.4755187739922458
           ],
           [
            0.9910109985045912,
            0.17275620182581994,
            0.336232799669589
           ],
           [
            0.982811544914858,
            0.3711542518526958,
            0.14603420323244604
           ],
           [
            0.9255645472814237,
            0.5145305330219743,
            0.059904919696602124
           ],
           [
            0.8154868776247003,
            0.6781896237685202,
            0.006323498606779419
           ],
           [
            0.7026565708717025,
            0.7945223628039766,
            0.002821066324320821
           ],
           [
            0.5767788499514361,
            0.889487608937182,
            0.03373354111138172
           ],
           [
            0.46562727756531136,
            0.9491746561563633,
            0.08519806627832513
           ],
           [
            0.1986964694328804,
            0.9962123776959723,
            0.30509115287114696
           ],
           [
            0.09814204487343942,
            0.9585772609383582,
            0.44328069418820226
           ],
           [
            6.760035985630613e-05,
            0.7570863713443919,
            0.7428460282957516
           ],
           [
            0.025424132461841404,
            0.600967321010762,
            0.8736085465273965
           ]
          ],
          "size": 2
         },
         "mode": "markers",
         "scene": "scene",
         "type": "scatter3d",
         "x": [
          -5589.852653098818,
          -4890.848093875686,
          -3442.765390794769,
          -1243.7123227337152,
          1211.0819124020904,
          3283.464094117289,
          4720.527008863503,
          5477.759064244549,
          5675.802725209502,
          5395.669188848676,
          4542.839833272623,
          2961.4227204778963,
          766.2530387882814,
          -1534.1832080268791,
          -3552.2376604954256,
          -4927.413375631113,
          -5556.263943368235,
          -5694.325631928892,
          -5246.035148136741,
          -4208.742207708596,
          -2428.285988647356,
          -163.02392824362315,
          2107.6050197300674,
          3928.455600879446,
          5072.280294431938,
          5563.447432495652,
          5513.511763157334,
          4949.991736124384,
          3775.8383193058135,
          1954.0045236881956,
          -239.54987439782923,
          -2384.078072343884,
          -4140.363473462157,
          -5212.849702601255,
          -5574.036327873961,
          -5387.106647048962,
          -4658.759414372944,
          -3296.9904249860233,
          -1384.4498965496655,
          819.0192623928397,
          2843.639710743811,
          4368.1794133072335,
          5220.18903428621,
          5446.16678067458,
          5124.944570649853,
          4242.677690534985,
          2880.7443810810514,
          1014.5069742598482,
          -1084.232180535437,
          -3045.890114244526,
          -4581.698779624864,
          -5256.0883677261845,
          -5327.376474409696,
          -4844.004471781933,
          -3851.2162842068433,
          -2348.3565915280474,
          -490.0281918387542,
          1520.3014194855728,
          3340.4738454176886,
          4618.355134611617,
          5183.737523073002,
          5099.890845882117,
          4506.585251165672,
          3448.303136388209,
          2016.1330010105323,
          215.47876700320006,
          -1694.8819952049078,
          -3501.539057046059,
          -4666.230229738322,
          -5084.910124402136,
          -4863.850134824221,
          -4086.3585450188157,
          -2942.8438235825533,
          -1514.4663051233665,
          201.17209728637692,
          2053.492630448854,
          3629.4295121857954,
          4607.574995015809,
          4897.871885909097,
          4505.90345681151,
          3701.8793274934433,
          2626.4593174891975,
          1275.7605676814426,
          -434.3165876086789,
          -2176.387327082229,
          -3665.068155834622,
          -4545.60034111282,
          -4625.5039653163585,
          -4140.613904226795,
          -3262.251067927377,
          -2167.626874999695,
          -847.0917407771655,
          756.1031922117465,
          2408.3552383055467,
          3717.3089860296327,
          4401.661941882223,
          4342.155964577798,
          3775.5612436780134,
          2939.994347720058,
          1982.3028404622078,
          717.1028180641794,
          -885.705656471941,
          -2429.5185451825787,
          -3675.1353312272204,
          -4174.099100257874,
          -3966.9076338287045,
          -3343.1989690137048,
          -2555.2442844806837,
          -1609.3516297093045,
          -381.6146699268282,
          1098.1892479957066,
          2546.9125092959544,
          3578.9128372286127,
          3931.8036710739584,
          3652.9644642366056,
          3052.6085851741936,
          2308.87847312824,
          1504.4748881080454,
          303.3010747497458,
          -1121.0021466128846,
          -2504.236782168556,
          -3401.997967168301,
          -3576.485033015249,
          -3227.367589685614,
          -2665.7227840460546,
          -2035.558538143131,
          -1223.619491030248,
          -113.86683785170658,
          1212.2166025166111,
          2472.9831438527112,
          3213.1372918991924,
          3333.7600126841,
          2954.775289498916,
          2483.332203698736,
          1924.8513922020668,
          1166.7359315549634,
          96.34836532899105,
          -1139.9670688748927,
          -2247.3201967540376,
          -2855.3206571234036,
          -2889.3147014508836,
          -2598.0411833538374,
          -2187.315812399569,
          -1679.8643716000104,
          -997.5612545574012,
          -35.80952491811436,
          1145.822304100127,
          2140.1432005100446,
          2627.669276721575,
          2686.9323432143715,
          2404.833473039564,
          2059.2147248117276,
          1634.5850746754131,
          1004.8487545022081,
          67.74923477175238,
          -954.7681967812908,
          -1783.4512755814185,
          -2223.588937088546,
          -2283.565845293666,
          -2149.1964284084597,
          -1898.683419638061,
          -1497.9143860223555,
          -934.8692845648312,
          -110.0336560690336,
          864.2705325166319,
          1625.4153838726263,
          2086.43073687782,
          2157.145903650191,
          2043.137803858663,
          1837.9326277449566,
          1580.6908446524224,
          1040.023458008672,
          261.771449847915,
          -543.5082532953883,
          -1259.207141058654,
          -1729.518108848871,
          -1902.4011227911571,
          -1891.317753690393,
          -1789.581745479009,
          -1580.1645842313997,
          -1162.9121589683073,
          -473.3581102658875,
          391.4330842771071,
          1142.8284806755626,
          1637.3343608088187,
          1843.6311727337893,
          1875.3523386603144,
          1812.1959253299242,
          1685.355511476675,
          1331.953912512391,
          759.6178311214825,
          1.8202310940392246,
          -799.1004933571701,
          -1397.7744376953328,
          -1690.267939379508,
          -1801.6130778902811,
          -1863.8977420502993,
          -1827.9841576383415,
          -1551.1106062957438,
          -946.2484393748488,
          -74.64761219253478,
          764.3595770180183,
          1395.7501913513383,
          1695.490062023493,
          1890.0729874400224,
          2010.8079083888656,
          2025.9510129407638,
          1820.4694264430377,
          1274.369185225211,
          395.6012986942538,
          -550.5936659951278,
          -1245.5568067909003,
          -1661.184099371543,
          -1950.360163580491,
          -2155.021761907735,
          -2290.6487355119757,
          -2140.4724939379635,
          -1427.646031789075,
          -423.3091387893438,
          570.30036352203,
          1304.262755395822,
          1733.7508612600047,
          2070.3535286897236,
          2389.3184527442713,
          2580.15151902609,
          2384.975664216259,
          1682.4143727539824,
          628.443980347031,
          -436.241309570314,
          -1231.4127124798983,
          -1817.6365070458696,
          -2295.659563243548,
          -2673.8439496071114,
          -2946.5289025111365,
          -2667.279225959638,
          -1718.6731236510877,
          -545.0947019399839,
          563.8140076094322,
          1373.8761271015612,
          1970.6577489331003,
          2511.340485513534,
          3034.1574277112095,
          3247.638160613251,
          2887.293220626364,
          1953.6870189822487,
          661.8383892280135,
          -566.726965186245,
          -1487.239590848734,
          -2186.552928407097,
          -2844.1278765340508,
          -3411.142061273018,
          -3566.599477862253,
          -2998.582471143787,
          -1827.7647858929222,
          -510.3695552741377,
          721.3140944612451,
          1689.487998192906,
          2485.8690528755014,
          3207.4085053208996,
          3752.3420537719867,
          3805.431418234391,
          3164.1968076305347,
          1972.906713611005,
          501.8209831020778,
          -849.4081513451856,
          -1916.4306999769788,
          -2776.9948267407744,
          -3585.1187199313867,
          -4103.8853535302815,
          -3995.277361266103,
          -3137.983292220884,
          -1780.9215514598966,
          -278.02091162317834,
          1085.711776509162,
          2186.5381024256244,
          3159.924284401873,
          3968.0421690610046,
          4356.370403799537,
          4139.395941945177,
          3242.3441890075205,
          1807.5907025635368,
          151.21831674028795,
          -1330.701538146922,
          -2559.360223390472,
          -3593.35743482388,
          -4324.4384023153425,
          -4590.645958186116,
          -4201.620923402616,
          -3087.7632164777583,
          -1540.399192279527,
          127.11467143043993,
          1655.9210925220723,
          2942.4843747108002,
          3972.325082108877,
          4647.152407491239,
          4800.445357225126,
          4312.115840152939,
          3126.5731396340084,
          1451.4354463140392,
          -381.36407002141857,
          -2015.2861598931224,
          -3348.2273362652513,
          -4369.975803481579,
          -4871.305655203267,
          -4877.221518153805,
          -4188.330687753246,
          -2829.2858270571264,
          -1078.9808755409713,
          770.923315301216,
          2455.9650412157416,
          3787.6697784037215,
          4691.32121319821,
          5132.613892309865,
          5028.364579574324,
          4210.714465423692,
          2761.3343062016465,
          806.5540523655925,
          -1215.358503606399,
          -2933.8308310517587,
          -4183.754422709406,
          -4976.763522487187,
          -5270.543265093738,
          -5009.554197596477,
          -4010.8353953952214,
          -2356.7754291692486,
          -360.55102783012256,
          1669.194681750124,
          3403.1507646089344,
          4591.480933367834,
          5251.586935854844,
          5420.916571126319,
          5077.378531482293,
          3969.0975204055594,
          2226.608070733626,
          -42.343812435516874,
          -2155.662059645594,
          -3817.344348198082,
          -4835.751533497278,
          -5366.293141253159,
          -5425.686485893261,
          -4882.579709170009,
          -3614.356582819116,
          -1697.495505813086,
          539.9258978632143,
          2652.806538278018,
          4241.382215740893,
          5155.266733386146,
          5599.95533040469,
          5503.411144528839,
          4848.40560994512,
          3489.400870068284,
          1365.434028565574,
          -1021.0485525555838,
          -3094.231881317874,
          -4500.856969793698,
          -5303.193182249278,
          -5607.330117634653,
          -5397.933940098847,
          -4550.443194344398,
          -2961.6850333582506,
          -788.4218230823868,
          1550.0905759261868,
          3566.0385569739074,
          4876.862906526044,
          5524.4399094355185,
          5710.49190918849,
          5378.031403330833,
          4428.4047637965205,
          2643.8933478538142,
          306.69868813635236,
          -2028.4827790442562,
          -3847.471342878471,
          -4998.043657825385,
          -5587.31529113581,
          -5620.4246415868065,
          -5135.65990540186,
          -3977.30419656111,
          -2044.7592892701336,
          306.9237817903773,
          2560.558542026307,
          4305.859938123404,
          5294.83670502458,
          5702.299565317612,
          5622.970396126995,
          5058.080273477976,
          3679.009719178485,
          1651.078636456496,
          -765.7729259835727,
          -2923.719748431975,
          -4465.598210837917,
          -5341.17309919687,
          -5649.2354142876675,
          -5442.236257581654,
          -4656.280002168257,
          -3167.9960206263277,
          -1035.250080243373,
          1315.0569113337458,
          3379.2457718826486
         ],
         "y": [
          1588.0842850454599,
          1055.8292843221313,
          350.5425000277835,
          -448.6607670524893,
          -1154.74632906785,
          -1630.9333636368995,
          -1846.7102780493567,
          -1883.5825456208315,
          -1696.891110195416,
          -1252.7639721742737,
          -583.9542823716627,
          244.58076088310858,
          1085.7535061369383,
          1741.979253673198,
          2030.1402496122776,
          2072.1656319964836,
          1985.2110946128846,
          1572.5440520926231,
          928.1595205270337,
          34.461502788247046,
          -983.8291499338479,
          -1809.8763778385935,
          -2222.837545985813,
          -2271.627109309669,
          -2126.9485639504173,
          -1802.32532231304,
          -1241.9421008126767,
          -426.8479310701233,
          604.5697068289596,
          1645.1908697324504,
          2363.898721250489,
          2609.5364075934076,
          2480.0736452074543,
          2194.1494850821105,
          1670.9575944497442,
          909.5950193335624,
          -129.62260004932918,
          -1368.4107591353488,
          -2381.8369603326328,
          -2849.563368825344,
          -2828.449540456637,
          -2515.7144548321985,
          -2016.670460266415,
          -1325.0551356590004,
          -393.4301773566036,
          793.3273421627435,
          2063.3290544331185,
          2974.2841865318173,
          3264.466958528912,
          3039.358449003406,
          2533.4116449276344,
          1861.334733741116,
          985.6687867768467,
          -168.729766285137,
          -1575.3248331326477,
          -2817.181887131789,
          -3481.947787776674,
          -3490.2699508950427,
          -3056.6926737641106,
          -2369.0735503694696,
          -1515.4838089975144,
          -470.13105346311744,
          855.3052730022036,
          2295.4003262539545,
          3454.186783338274,
          3921.786836467452,
          3737.1812439298733,
          3093.533788015277,
          2189.358667776322,
          1155.767104430688,
          -106.39132742582889,
          -1605.1495468943615,
          -3034.074101994125,
          -3946.0667428693687,
          -4138.0102907245255,
          -3717.5482361318104,
          -2909.4530296882226,
          -1867.4619520954186,
          -639.4951110079714,
          785.2178437033123,
          2358.988741239139,
          3710.6139396905423,
          4426.000982997438,
          4369.6730123797215,
          3768.0048402641755,
          2718.7488467848357,
          1466.671615535835,
          66.55084976774748,
          -1572.465789047782,
          -3130.0668242970496,
          -4220.278299767836,
          -4636.662163391276,
          -4369.582254739292,
          -3550.0687898286405,
          -2367.768877736791,
          -967.5164432491893,
          611.2978783484178,
          2318.752484785512,
          3816.9145346361115,
          4758.346636085259,
          4947.393627532224,
          4417.575234223556,
          3360.5605583312454,
          1940.4400955028652,
          343.47649406446584,
          -1418.029757019673,
          -3092.2558785137976,
          -4347.093859323283,
          -4973.840717280843,
          -4922.088604061388,
          -4219.527310616991,
          -2994.5648561374933,
          -1449.3655067188108,
          319.2320093410891,
          2181.2640257585217,
          3819.210577029689,
          4896.1941261964585,
          5329.116797259892,
          5026.853967485475,
          4042.367096332342,
          2564.4108587836236,
          790.4435009894976,
          -1140.3079401296077,
          -2955.019666966764,
          -4340.1143006923885,
          -5141.921410105645,
          -5317.9672609309755,
          -4831.351408117821,
          -3698.5106538530536,
          -2060.148787386116,
          -114.2371121702276,
          1943.0537569485525,
          3695.896193466677,
          4924.549415481387,
          5495.422798974298,
          5446.662295782289,
          4669.578232483608,
          3281.427413820226,
          1414.1675390222779,
          -724.4885370238184,
          -2727.719672852322,
          -4255.004083155415,
          -5172.318921325615,
          -5509.026304104909,
          -5257.5971248048945,
          -4333.507647942505,
          -2776.362847140063,
          -741.8376319186463,
          1492.434259165307,
          3489.626312244448,
          4834.684640238304,
          5514.700054164834,
          5654.223331881406,
          5125.117429388405,
          3913.676953658174,
          2104.5463760486514,
          -130.40722873901748,
          -2323.5131660193874,
          -4026.4375209999184,
          -5098.620825808675,
          -5580.818714569545,
          -5485.47085741477,
          -4783.0215115004585,
          -3433.3424778587823,
          -1435.7514981718857,
          920.0684440045193,
          3121.386298512193,
          4652.231595090891,
          5467.987179438843,
          5734.451165134592,
          5412.975441062971,
          4427.808852073163,
          2769.807470746136,
          565.8965586174821,
          -1770.5037105044598,
          -3696.7277123352887,
          -4934.13765745929,
          -5542.282337993174,
          -5610.469860850466,
          -5102.476273008346,
          -3980.207613395805,
          -2151.338583058543,
          242.4869341235675,
          2571.979316547722,
          4301.987297714248,
          5303.937017482384,
          5710.993364545627,
          5512.17423313857,
          4760.0659885312525,
          3325.6653474553564,
          1261.5858893014029,
          -1085.0457860188349,
          -3181.787966812348,
          -4641.648397664688,
          -5411.340426903576,
          -5591.392492231782,
          -5227.723551629028,
          -4317.735096385831,
          -2729.0102005425433,
          -492.1613810103547,
          1920.6510601118346,
          3794.7984311057703,
          5010.866483655693,
          5564.419361567568,
          5523.467684935277,
          4915.826316423053,
          3701.460009910809,
          1841.5603413804988,
          -393.0157866771343,
          -2530.279746458272,
          -4171.384887688607,
          -5149.691161437439,
          -5494.050565582007,
          -5253.769879408503,
          -4475.509997877447,
          -3115.2463382790716,
          -1110.816321293773,
          1181.147373759427,
          3152.2531016799203,
          4554.408082855647,
          5335.796604283925,
          5419.054862191682,
          4936.6200169554995,
          3893.6509357014234,
          2264.5816184849596,
          223.5936235092301,
          -1837.9044279910506,
          -3550.9296478548918,
          -4720.7135049094295,
          -5261.782463618759,
          -5180.094162694218,
          -4546.184556130633,
          -3309.6400828108876,
          -1530.814565878302,
          535.3905750338911,
          2451.358722939889,
          3934.13458538038,
          4911.912269153067,
          5203.983821892012,
          4870.283558300249,
          3963.7807561967356,
          2514.6232755480373,
          682.6314403941526,
          -1202.8392257742532,
          -2856.3366349422495,
          -4145.521928503397,
          -4912.3126459544455,
          -5001.663491673486,
          -4497.3652819160125,
          -3411.4772768142143,
          -1791.8179232582877,
          39.68832580563663,
          1777.6013998164942,
          3260.352514658348,
          4327.241741673028,
          4836.12092027863,
          4704.159334995711,
          3935.3473347728686,
          2615.150185069884,
          976.5935043362853,
          -695.4213994305737,
          -2203.210610210132,
          -3453.2627140254444,
          -4355.923594149226,
          -4669.065691771836,
          -4356.249556726603,
          -3388.537300482119,
          -1877.1195421210464,
          -214.25171741271538,
          1271.433869615481,
          2588.0765568195134,
          3672.269342920529,
          4307.523816440825,
          4373.894950711025,
          3786.2653551099,
          2610.276015720455,
          1098.7577241267197,
          -411.66503389568953,
          -1709.6929389379004,
          -2809.7844178023,
          -3700.7398378470934,
          -4180.145266824896,
          -4073.380889002204,
          -3289.5887348979286,
          -1888.3256360652663,
          -351.78011256175074,
          964.7234028928626,
          2047.8565592776506,
          3007.0281041715566,
          3662.301437748263,
          3877.4583994181153,
          3499.25215605668,
          2488.4000714337612,
          1101.2453375615426,
          -262.80694064809114,
          -1373.7492698242413,
          -2262.8117342983014,
          -3028.5819925635546,
          -3520.5058327828638,
          -3610.0931463603665,
          -3039.1226479173242,
          -1791.9550935887373,
          -373.9588921811063,
          829.6888384281918,
          1716.4999010024706,
          2452.7882895814782,
          3010.3626368225405,
          3260.169672665601,
          3050.9115515130743,
          2250.3874109767276,
          1013.2652211095519,
          -234.2143904716738,
          -1200.269354676433,
          -1898.558130435784,
          -2482.6069331631415,
          -2864.5934781510714,
          -3020.654783776665,
          -2645.964188114423,
          -1586.7359408408176,
          -299.1389527807471,
          784.1241646712616,
          1545.2337533784646,
          2068.6476797744767,
          2435.2683152581235,
          2633.567645328754,
          2489.572154336648,
          1861.6068136070169,
          832.3277358406441,
          -285.3775477036315,
          -1155.877992173549,
          -1718.8133675572694,
          -2058.4531384929764,
          -2268.995306355808,
          -2322.8373153727357,
          -2065.800287377728,
          -1217.6434760738164,
          -123.02512666908231,
          844.4725192886873,
          1499.6527334907457,
          1878.2021737696934,
          2025.9119687401385,
          2025.4020641646564,
          1830.890537191171,
          1295.6387894772424,
          443.9159910731313,
          -480.6060380342196,
          -1226.2082362546976,
          -1649.5794451843663,
          -1866.8592433838148,
          -1845.4556310291205,
          -1714.2095004380944,
          -1377.6538144438555,
          -684.9801353103559,
          213.79191756438212,
          1008.5752114481134,
          1541.6582348743507,
          1807.0040980870488,
          1798.9498395967614,
          1586.5288050339177,
          1229.8590922812975,
          660.747621623071,
          -102.09468422088042,
          -829.0654535658983,
          -1381.8504950752354,
          -1709.4404864600692,
          -1791.1853669443371,
          -1608.9136566211228,
          -1253.7379599112094,
          -739.4937551587758,
          -26.46120538175261,
          724.5185508549714,
          1336.2133759257365,
          1717.6542713670078,
          1853.3957109507553,
          1732.4512659932009,
          1344.861876295911,
          777.9455421454883,
          86.84222242128094,
          -696.506842439792,
          -1350.9751608275114,
          -1704.1535808445624,
          -1866.4950642544968,
          -1839.7133210542818,
          -1536.2880190485096,
          -967.9797329546569,
          -255.6960796072646,
          618.7091324884022,
          1329.8608510734302,
          1779.3187885304303,
          1984.1799337870368,
          1996.9541420766468,
          1755.1696077203628,
          1240.8844075918594,
          491.21391638944664,
          -434.688617502067,
          -1344.6088220274846,
          -1963.0270307537678,
          -2195.685007391537
         ],
         "z": [
          -1600.609000437862,
          -3286.5232524489106,
          -4280.459943807772,
          -4634.343782736603,
          -4648.178797654697,
          -4104.823296131622,
          -2859.201673144946,
          -1193.3230051086773,
          608.0297766501546,
          2356.1797381557167,
          3719.0606698920355,
          4440.296121887389,
          4649.936582227474,
          4483.551910030419,
          3776.2826783544638,
          2410.970155173273,
          731.0733886652516,
          -1110.6877858503253,
          -2815.2377612905666,
          -3956.1800147084214,
          -4462.701588674617,
          -4559.968488261793,
          -4147.279833513198,
          -3094.0577958668414,
          -1592.6541568676662,
          122.39726226212571,
          1868.710869002934,
          3318.197204582377,
          4177.64564319033,
          4512.997468897011,
          4439.107202726002,
          3826.5362514258672,
          2628.952653155303,
          1118.7447409034592,
          -635.6082865022819,
          -2342.7140882579024,
          -3547.78674357264,
          -4182.456955666314,
          -4413.851215257372,
          -4090.3357954464927,
          -3168.7962353708263,
          -1844.4157002955083,
          -270.17980877216917,
          1402.6424044596758,
          2868.176687083271,
          3823.6037065515607,
          4249.393669326598,
          4306.213505333062,
          3770.7518291431115,
          2709.0365358530403,
          1348.16610259617,
          -198.1187266779951,
          -1839.1246252046392,
          -3063.4947404963027,
          -3801.7817668623284,
          -4156.718201412482,
          -3967.582971215905,
          -3157.7201626975157,
          -1969.5786074544465,
          -573.7550183108567,
          967.500990011147,
          2389.9630352628374,
          3373.6336078188556,
          3922.877846124424,
          4112.921585735673,
          3698.9374592423387,
          2660.355278601651,
          1468.0002461573392,
          85.90007474578337,
          -1408.8776468805222,
          -2596.9084827396605,
          -3336.0499923078046,
          -3805.8165105865187,
          -3755.9514397697985,
          -3054.7344770171026,
          -1969.6908760556469,
          -725.1410137629397,
          649.6925802012091,
          1965.8435098963457,
          2906.210567376666,
          3491.9103871929374,
          3798.816172202615,
          3516.055260373724,
          2599.160243530279,
          1433.033097534112,
          205.74008970869863,
          -1101.6475182849845,
          -2158.9713929984937,
          -2875.7960526352704,
          -3353.823375073215,
          -3414.9838872698647,
          -2870.5729048818794,
          -1890.1733867668931,
          -741.6890601799597,
          472.5939384576658,
          1621.6563727516939,
          2474.374442525109,
          3027.8075295266794,
          3398.463071711394,
          3228.2249993392156,
          2457.006625660216,
          1377.2821267726001,
          218.41558073583238,
          -932.9165395671392,
          -1820.5595015462018,
          -2441.313786329523,
          -2896.959635255161,
          -3002.649996095196,
          -2576.308212375487,
          -1733.5774973121793,
          -679.0707416556376,
          443.19178498420445,
          1426.382503376371,
          2111.2628909919495,
          2589.497907207023,
          2946.8652482091247,
          2871.63534894698,
          2184.2283920837654,
          1251.6383146231913,
          153.83722816265305,
          -903.8925445524515,
          -1644.3497368466483,
          -2090.573488380601,
          -2460.196616602177,
          -2561.9105901172898,
          -2196.500865963905,
          -1467.1561668130178,
          -542.773284110806,
          477.82308616022095,
          1377.1421148891277,
          1899.3916997166205,
          2201.676392091173,
          2493.266542544477,
          2428.2761077120044,
          1831.5090287091716,
          1013.1418134834959,
          41.78038768997614,
          -969.1205930884166,
          -1599.5546372553965,
          -1881.8124942874454,
          -2088.087981223918,
          -2122.912387208391,
          -1755.1472842909109,
          -1086.3069955610424,
          -295.87357507543567,
          609.0516130448066,
          1421.0048788411768,
          1832.0067829125703,
          1959.3940224849007,
          2108.3175472483904,
          1975.7576823410386,
          1407.4499987657955,
          687.4276229643685,
          -165.62252329682553,
          -1062.4421767822853,
          -1650.1395918086264,
          -1835.0686933816396,
          -1870.1461658564408,
          -1755.1770232063136,
          -1323.556881115328,
          -658.8080681495757,
          63.01835826242438,
          838.9838809834106,
          1542.3731625917062,
          1874.7813956865475,
          1868.1727019417003,
          1844.6774520723432,
          1593.0646472252818,
          958.2540666292356,
          283.75672526099777,
          -482.9096818376171,
          -1257.447742522405,
          -1758.4843548888427,
          -1875.6608136517464,
          -1783.2503582894676,
          -1494.8708397482762,
          -941.6759922729844,
          -232.434067540838,
          480.5540891609111,
          1170.4751366765393,
          1751.8842711055916,
          1982.1167605645887,
          1912.2386218164877,
          1725.0434985050763,
          1280.816208696269,
          541.0518299738737,
          -177.12620919512074,
          -875.8787468837481,
          -1553.3243920451898,
          -1947.166814037036,
          -1985.5020818700273,
          -1808.3186697690812,
          -1392.1917312813098,
          -671.7785288148186,
          175.19051245512202,
          930.7716974533126,
          1589.1097780234597,
          2072.512245913326,
          2173.2659754166166,
          1996.5064703759615,
          1741.4730348943033,
          1139.4421567631855,
          231.32869530110045,
          -581.961249274207,
          -1299.5501424692982,
          -1920.984780818155,
          -2215.5076066791135,
          -2144.8347846045504,
          -1902.721187373144,
          -1413.9145684337625,
          -546.4538456057119,
          466.3137280658629,
          1327.8758381371024,
          2021.7543669014544,
          2492.6735537138725,
          2478.8041449170255,
          2185.0026475773657,
          1839.1608360770053,
          1144.5518591865482,
          75.23014541737136,
          -901.1874600515713,
          -1731.5339021970362,
          -2356.9746444595767,
          -2604.267662214508,
          -2434.991638412835,
          -2069.478050044105,
          -1508.9754869160215,
          -568.4795579644476,
          609.8604598648222,
          1653.494992540783,
          2442.0297745203106,
          2946.2000670005505,
          2904.0390501970533,
          2488.2188196563143,
          2008.2839298551664,
          1233.069052964981,
          46.146131179306025,
          -1110.2242172037897,
          -2092.4614305094024,
          -2810.3807793430065,
          -3038.0869768871453,
          -2796.764669229468,
          -2326.6161907842375,
          -1665.710545384139,
          -654.6740848868291,
          628.5808421561441,
          1843.7615031450168,
          2813.471449928761,
          3388.707835668264,
          3389.728056838568,
          2869.272583430097,
          2259.917828904845,
          1369.5595363466762,
          138.9778328835975,
          -1162.2654583031926,
          -2311.039896615079,
          -3169.1317434858424,
          -3483.004447346741,
          -3228.3902043193584,
          -2672.356195130233,
          -1907.266044649023,
          -805.6372319819808,
          552.2557460172228,
          1893.6166204019582,
          3025.4487994196425,
          3785.1650360825124,
          3822.446393474294,
          3340.818391436585,
          2633.9089481220176,
          1637.3729376792364,
          287.02248433286377,
          -1081.4595313627954,
          -2383.944429714378,
          -3428.1005793734025,
          -3885.6473619496273,
          -3690.252707641362,
          -3111.034488495723,
          -2259.969249178373,
          -1034.3071272233517,
          406.80231218593104,
          1796.6215223232869,
          3091.6737408012623,
          4052.6482894233095,
          4248.572801630503,
          3811.091143141713,
          3114.8315537471276,
          2007.605590646785,
          530.4356666908407,
          -949.8959963036384,
          -2349.5375097379206,
          -3550.531000795312,
          -4190.472672196089,
          -4125.7859429640785,
          -3579.706593208318,
          -2689.723878220342,
          -1381.6177435632342,
          195.87539431790248,
          1696.9856224649416,
          3036.074586273902,
          4160.930418356955,
          4559.166680406425,
          4231.688198981527,
          3584.441700683451,
          2456.8766195577664,
          888.9725997702205,
          -719.0182271800572,
          -2208.6411778135043,
          -3522.9605762372353,
          -4337.787500970371,
          -4449.825245362026,
          -4016.637297297344,
          -3158.34511300199,
          -1803.841876493901,
          -123.87380998436812,
          1495.2169421824567,
          2933.139637941688,
          4145.676308428476,
          4718.009323548969,
          4581.667201696524,
          4012.665798797716,
          2945.153050649696,
          1328.0299698803933,
          -399.53000901181207,
          -2025.688461387473,
          -3423.6030053737304,
          -4366.801227552486,
          -4668.167963288332,
          -4396.014831454196,
          -3630.4032922364167,
          -2270.8762563721803,
          -529.1000036499263,
          1204.847865983034,
          2759.5367498908677,
          4046.30447203236,
          4713.475388032857,
          4764.162431359112,
          4395.784175378834,
          3396.955609463632,
          1822.892111830885,
          25.41068344998668,
          -1714.9627085077045,
          -3244.695199285142,
          -4288.789611366595,
          -4705.579074590593,
          -4614.446135667887,
          -4020.7889504454242,
          -2766.788288211674,
          -1006.0229289225166,
          811.6683594329353,
          2492.4727681006875,
          3900.6405571015184,
          4613.780122003618,
          4804.085245123993,
          4608.34122142185,
          3785.4910698247204,
          2312.808962871642,
          534.0918287469846,
          -1290.3645129886797,
          -2951.887937039172,
          -4126.844309392705,
          -4657.816097587831,
          -4705.3304192413425,
          -4305.729917735741,
          -3199.6305762999054,
          -1501.4275024563274,
          334.7568094724244,
          2113.7919557948485,
          3661.6436410819265,
          4498.83516728644,
          4735.951895594472,
          4685.0754038587065,
          4055.496412728409,
          2717.5829499843057,
          1007.3317249905415,
          -822.805269344699,
          -2562.6487767207404,
          -3874.619119613611,
          -4537.905931044952,
          -4683.259491320162,
          -4430.298851284189,
          -3517.7690131282434,
          -1972.9234354229843,
          -158.17474652898468,
          1665.3829299380868,
          3297.4525406554185,
          4282.001684062975,
          4633.443146707409,
          4656.90390704345,
          4183.2394581895815,
          3044.265070694752,
          1453.146876570033,
          -325.69024755112787,
          -2101.173896329328,
          -3533.076730470504,
          -4333.265245861839,
          -4586.578981620038,
          -4427.576853362496,
          -3698.1126134685946
         ]
        },
        {
         "marker": {
          "color": [
           [
            3.916464696941285e-05,
            0.7554000426473857,
            0.7445607927056449
           ],
           [
            0.02071543826653976,
            0.862990291239714,
            0.6162942704937462
           ],
           [
            0.19278386814256454,
            0.9952419141418537,
            0.3119742177155814
           ],
           [
            0.46354278244674196,
            0.9500887174532765,
            0.08636850009998133
           ],
           [
            0.6565566849569393,
            0.8329606431448175,
            0.010482671898243126
           ],
           [
            0.7831112430545852,
            0.7153561575471246,
            0.0015325993982900938
           ],
           [
            0.9518453656525624,
            0.45948719866261534,
            0.08866743568482237
           ],
           [
            0.9762807773065306,
            0.393645292952193,
            0.1300739297412764
           ],
           [
            0.9995558864280333,
            0.23197548857915373,
            0.26846862499281304
           ],
           [
            0.9961478831751678,
            0.19827945073215245,
            0.30557266609268
           ],
           [
            0.9527072170113415,
            0.08982002845196088,
            0.45747275453669767
           ],
           [
            0.7724531340142049,
            0.0006935969728036469,
            0.7268532690129915
           ],
           [
            0.5321551690218083,
            0.05180607255714405,
            0.9160387584210479
           ],
           [
            0.2457939874085778,
            0.25422973375961583,
            0.9999762788318066
           ],
           [
            0.15644413450641073,
            0.3571717893488739,
            0.9863840761447155
           ],
           [
            0.055109245001316566,
            0.5248241183000185,
            0.9200666366986648
           ],
           [
            0.010985908528422555,
            0.6542357116553025,
            0.8347783798162748
           ],
           [
            0.0015955557612252677,
            0.7146369581643911,
            0.7837674860743836
           ],
           [
            0.003051650668121228,
            0.7962418789465591,
            0.7007064703853194
           ],
           [
            0.04552370951001548,
            0.9077609306125114,
            0.5467153598774728
           ],
           [
            0.2724841235917475,
            0.9993450159007713,
            0.22817086050748106
           ],
           [
            0.5350148917883756,
            0.914442166925162,
            0.05054294128646218
           ],
           [
            0.6929275304845641,
            0.8030161791677539,
            0.004056290347681644
           ],
           [
            0.7887371966903358,
            0.7091467810028239,
            0.002116022306840059
           ],
           [
            0.9480368281347945,
            0.4681982617861416,
            0.08376491007906395
           ],
           [
            0.9992255175118968,
            0.27447898254131076,
            0.2262954999467925
           ],
           [
            0.9988090344435212,
            0.2804645364649823,
            0.2207264290914965
           ],
           [
            0.9907394420392904,
            0.17167788287135516,
            0.3375826750893544
           ],
           [
            0.8673217618078315,
            0.02256021842962554,
            0.610118019762543
           ],
           [
            0.6539389230185835,
            0.011051041446366311,
            0.8350100355350505
           ],
           [
            0.5976053727829802,
            0.026515204963794815,
            0.8758794222532251
           ],
           [
            0.2824007202166083,
            0.21894336499245584,
            0.9986559147909361
           ],
           [
            0.1650391516933418,
            0.3459980411581439,
            0.9889628071485141
           ],
           [
            0.0609073090751871,
            0.5124275230866865,
            0.9266651678381262
           ],
           [
            0.01015950095075026,
            0.6580743278104394,
            0.8317661712388105
           ],
           [
            1.3623646146878966e-05,
            0.746796690811472,
            0.7531896855423813
           ],
           [
            0.0035699563480957905,
            0.7998668254713852,
            0.6965632181805188
           ],
           [
            0.08352277717883318,
            0.947842539077423,
            0.4686346837437436
           ],
           [
            0.27932914604496456,
            0.9988946639814352,
            0.22177618997360007
           ],
           [
            0.5929630785831582,
            0.878981031935616,
            0.028055889481225633
           ],
           [
            0.6909550837623085,
            0.8047125591820744,
            0.004332357055616859
           ],
           [
            0.7388241097749573,
            0.7610117659264253,
            0.00016412429861731683
           ],
           [
            0.9159995236150558,
            0.5322257515419809,
            0.051774724842963415
           ],
           [
            0.9934330483923561,
            0.32323252916174905,
            0.18333442244589498
           ],
           [
            0.9999214651734063,
            0.25771367254699346,
            0.24236486227960047
           ],
           [
            0.9763911486216965,
            0.13031828521733027,
            0.3932905661609734
           ],
           [
            0.8665931216357194,
            0.02224272469371491,
            0.6111641536705658
           ],
           [
            0.6920226340618578,
            0.004181878367199203,
            0.8037954875709432
           ],
           [
            0.4346873181740055,
            0.10335377838334932,
            0.9619589034426452
           ],
           [
            0.26644102078212106,
            0.23391182001534905,
            0.9996471592025299
           ],
           [
            0.1475185924977168,
            0.3691289276436355,
            0.9833524798586478
           ],
           [
            0.03219362289952947,
            0.581037577119478,
            0.8867687999809925
           ],
           [
            0.0034706313962336506,
            0.6973339510904043,
            0.7991954175133619
           ],
           [
            7.694585290993394e-05,
            0.7423651497011233,
            0.7575579044459666
           ],
           [
            0.01835246001402769,
            0.8570637606119461,
            0.6245837793740259
           ],
           [
            0.13049505647793694,
            0.9764707820100932,
            0.39303416151196996
           ],
           [
            0.23090267970064934,
            0.9995006763871275,
            0.26959664391222316
           ],
           [
            0.48465311466559635,
            0.9404821242262708,
            0.07486476110813288
           ],
           [
            0.6550200242352163,
            0.8341653382066305,
            0.010814637558153076
           ],
           [
            0.8442785242744533,
            0.6418738320046475,
            0.013847643720899238
           ],
           [
            0.9632444021952333,
            0.4313301473852619,
            0.10542545041950463
           ],
           [
            0.9987982668605614,
            0.28060447856353143,
            0.2205972545759074
           ],
           [
            0.9999437492855666,
            0.2435330762644181,
            0.25652317445001527
           ],
           [
            0.9778265607049805,
            0.13356678625026724,
            0.38860665304475234
           ],
           [
            0.7599934854736561,
            0.0001349825579130888,
            0.7398715319684309
           ],
           [
            0.6532784646184561,
            0.011196620519821959,
            0.8355249148617219
           ],
           [
            0.43106520360335604,
            0.10558979866167698,
            0.9633449977349672
           ],
           [
            0.2743273517356976,
            0.2264377062916726,
            0.99923494197263
           ],
           [
            0.10073470795625186,
            0.4389788144234965,
            0.9602864776202515
           ],
           [
            0.024233178931892602,
            0.6047126593232094,
            0.871054161744898
           ],
           [
            0.002496047223609075,
            0.7055389837945328,
            0.7919649689818582
           ],
           [
            0.0030639829462452044,
            0.796331838462046,
            0.7006041785917088
           ],
           [
            0.03217636675442693,
            0.8867378161538992,
            0.5810858170916738
           ],
           [
            0.1598051573780716,
            0.9874310025627459,
            0.3527638400591825
           ],
           [
            0.32473753752771345,
            0.9931707508098992,
            0.18209171166238713
           ],
           [
            0.5139577036625421,
            0.9258651002823647,
            0.06017719605509293
           ],
           [
            0.6691771592074304,
            0.8228845073626241,
            0.007938333429945607
           ],
           [
            0.8950473455501547,
            0.5679065366592151,
            0.03704611779063008
           ],
           [
            0.9751258423310469,
            0.3973132274372217,
            0.1275609302317314
           ],
           [
            0.9974558353614118,
            0.29489855247973684,
            0.20764561215885152
           ],
           [
            0.995057202910278,
            0.19173611732390325,
            0.3132066797658186
           ],
           [
            0.924290181956695,
            0.05876239251060191,
            0.516947425532703
           ],
           [
            0.8149298318149272,
            0.006210239968932797,
            0.6788599282161402
           ],
           [
            0.6269068102915515,
            0.01771369723726523,
            0.8553794924711835
           ],
           [
            0.4179591477468648,
            0.11387645283280284,
            0.9681643994203324
           ],
           [
            0.19453630021567925,
            0.30992148527995134,
            0.9955422145043694
           ],
           [
            0.08805153444412822,
            0.46056875954104576,
            0.951379706014826
           ],
           [
            0.017868742826968584,
            0.6263394844755757,
            0.8557917726974557
           ],
           [
            2.073220802013376e-06,
            0.7512459246471476,
            0.7487520021320505
           ],
           [
            0.0006805555104006346,
            0.7722444353478795,
            0.7270750091417195
           ],
           [
            0.05736427305769247,
            0.922701104893302,
            0.5199346220490053
           ],
           [
            0.23979980511252622,
            0.9998593352396173,
            0.26034085964785614
           ],
           [
            0.32826158746114953,
            0.9925379144877694,
            0.17920049805108088
           ],
           [
            0.4950105962296906,
            0.935485844274364,
            0.06950355949594533
           ],
           [
            0.7651279140210574,
            0.7345605340073441,
            0.00031155197159859577
           ],
           [
            0.9059090682959299,
            0.5498860701986225,
            0.04420486150544767
           ],
           [
            0.9766521627655104,
            0.3924486745842172,
            0.13089916265027263
           ],
           [
            0.9933566748547378,
            0.32367358885903447,
            0.182969736286228
           ],
           [
            0.9795637968373812,
            0.13768678488151107,
            0.3827494182811079
           ],
           [
            0.9168720885419296,
            0.052475590587572875,
            0.5306523208704975
           ],
           [
            0.7851793160083889,
            0.0017355350573036324,
            0.7130851489343079
           ],
           [
            0.568858391727466,
            0.03668399923720035,
            0.894457609035334
           ],
           [
            0.4008289390421642,
            0.1251755571024987,
            0.9739955038553373
           ],
           [
            0.1516238811510321,
            0.3635829083696483,
            0.9847932104793197
           ],
           [
            0.05267900444623178,
            0.5301974646088154,
            0.9171235309449527
           ],
           [
            0.006965731686994514,
            0.6744900024504957,
            0.8185442658625096
           ],
           [
            0.0004957222554448344,
            0.7304750180766889,
            0.769029259667866
           ],
           [
            0.0075886423546746,
            0.8213607927299384,
            0.6710505649153867
           ],
           [
            0.03828045225811407,
            0.8970262398764859,
            0.5646933078654001
           ],
           [
            0.2130273845742556,
            0.9980776760465936,
            0.2888949393791507
           ],
           [
            0.37754666265075565,
            0.9810526863641218,
            0.14140065098512244
           ],
           [
            0.5335219539422376,
            0.9152774576072424,
            0.051200588450520064
           ],
           [
            0.7437869296320199,
            0.7561620201401595,
            5.105022782064254e-05
           ],
           [
            0.9380109904437859,
            0.4898240505513052,
            0.07216495900490899
           ],
           [
            0.9828943716304355,
            0.3708460436589367,
            0.14625958471062786
           ],
           [
            0.9832800250488517,
            0.14731804476208407,
            0.36940193018906436
           ],
           [
            0.9797460732327407,
            0.13813196793986401,
            0.3821219588273954
           ],
           [
            0.9336511082230323,
            0.06762854067870748,
            0.4987203510982602
           ],
           [
            0.7776971464286735,
            0.001063630340089567,
            0.7212392232312371
           ],
           [
            0.5168286394691312,
            0.05881830895584334,
            0.9243530515750256
           ],
           [
            0.3242410208295506,
            0.18250116513913264,
            0.9932578140313169
           ],
           [
            0.10895130396118999,
            0.42568979130963197,
            0.9653589047291782
           ],
           [
            0.03434949197149528,
            0.5751001663471454,
            0.8905503416813593
           ],
           [
            0.0030009969749108228,
            0.7011286956923926,
            0.7958703073326967
           ],
           [
            0.001235600364183273,
            0.7798051392213006,
            0.718959260414516
           ],
           [
            0.01337122810528194,
            0.842784626588361,
            0.6438441453063567
           ],
           [
            0.07925332185275939,
            0.9443160128658268,
            0.47643066528141365
           ],
           [
            0.22512220566396496,
            0.9991454752609759,
            0.2757323190750593
           ],
           [
            0.3857638565081709,
            0.9786777681592288,
            0.13555837533260026
           ],
           [
            0.597437057764407,
            0.8759925668413032,
            0.026570375394289605
           ],
           [
            0.7943237495963841,
            0.7028811908632259,
            0.0027950595403900312
           ],
           [
            0.9330627878991254,
            0.49989981060000727,
            0.06703740150086737
           ],
           [
            0.9955258750099004,
            0.3100348167486046,
            0.1944393082414949
           ],
           [
            0.9979024526295063,
            0.21142730539920615,
            0.29067024197128766
           ],
           [
            0.9693542005135268,
            0.11605811539933615,
            0.4145876840871372
           ],
           [
            0.8913869987625271,
            0.03484005948042661,
            0.5737729417570463
           ],
           [
            0.7223396255111677,
            0.000985091625475414,
            0.776675282863357
           ],
           [
            0.4931792489128065,
            0.07043796531870156,
            0.9363827857684919
           ],
           [
            0.2779347697578009,
            0.2230696334616256,
            0.9989955967805736
           ],
           [
            0.12097214433030958,
            0.40710745930087694,
            0.9719203963688136
           ],
           [
            0.03417741935395728,
            0.5755677409789325,
            0.8902548396671102
           ],
           [
            0.0007966114949858197,
            0.725168465263405,
            0.7740349232416093
           ],
           [
            0.006598699738459181,
            0.8168174646274776,
            0.6765838356340631
           ],
           [
            0.025797641844441218,
            0.8743931768044508,
            0.5998091813511075
           ],
           [
            0.09852657978982564,
            0.9588342103807749,
            0.44263920982939914
           ],
           [
            0.24134333096525715,
            0.9998989022543256,
            0.25875776678041706
           ],
           [
            0.41759193664120015,
            0.9682949860674424,
            0.11411307729135715
           ],
           [
            0.6136018009934904,
            0.8648873411086813,
            0.021510857897828285
           ],
           [
            0.8192879129413451,
            0.673584826030434,
            0.007127261028220599
           ],
           [
            0.9562717976162529,
            0.44895739588431777,
            0.09477080649942946
           ],
           [
            0.9979698542445785,
            0.28999607078342043,
            0.21203407497200116
           ],
           [
            0.9897022512191481,
            0.16772016707312806,
            0.34257758170772384
           ],
           [
            0.9539002040264986,
            0.09144330782954506,
            0.4546564881439566
           ],
           [
            0.8855627489531239,
            0.031526723276051154,
            0.5829105277708249
           ],
           [
            0.6541492612272722,
            0.011004862556084028,
            0.8348458762166439
           ],
           [
            0.45602175021690317,
            0.09065464312651302,
            0.9533236066565839
           ],
           [
            0.2649586600509849,
            0.23533396640382,
            0.9997073735451952
           ],
           [
            0.0925812062290494,
            0.4526965588439367,
            0.9547222349270139
           ],
           [
            0.030706006813482258,
            0.5852403000589688,
            0.8840536931275491
           ],
           [
            0.002434122488384301,
            0.7061080263121734,
            0.7914578511994423
           ],
           [
            0.006758493875027708,
            0.8175757562453253,
            0.6756657498796472
           ],
           [
            0.038643451253028885,
            0.8975992173261683,
            0.5637573314208028
           ],
           [
            0.09716637923128463,
            0.9579198424985513,
            0.4449137782701638
           ],
           [
            0.22734653815556985,
            0.9992937642850066,
            0.2733596975594234
           ],
           [
            0.4360581049203004,
            0.9614282510523322,
            0.10251364402736732
           ],
           [
            0.6416064985120675,
            0.8444806291745692,
            0.013912872313363167
           ],
           [
            0.8522327057167421,
            0.6312093550926513,
            0.01655793919060648
           ],
           [
            0.9773690417531512,
            0.39011415334703037,
            0.13251680489981846
           ],
           [
            0.994475356095833,
            0.18857048710975874,
            0.31695415679440825
           ],
           [
            0.9898550049389966,
            0.1682879620292863,
            0.34185703303171716
           ],
           [
            0.9458087076147601,
            0.08103201580405708,
            0.47315927658118284
           ],
           [
            0.8603939278834414,
            0.01965780028306553,
            0.6199482718334933
           ],
           [
            0.6129253492211341,
            0.02171283685484865,
            0.8653618139240176
           ],
           [
            0.35567382317994184,
            0.15758201550223347,
            0.9867441613178248
           ],
           [
            0.1503149761002119,
            0.3653424504876167,
            0.9843425734121714
           ],
           [
            0.13045134721526003,
            0.39309754480230624,
            0.9764511079824337
           ],
           [
            0.017455691518176022,
            0.6278559174674733,
            0.8546883910143507
           ],
           [
            0.001002481831364449,
            0.7769051022580554,
            0.7220924159105799
           ],
           [
            0.004825730312756953,
            0.8076023994000586,
            0.6875718702871843
           ],
           [
            0.039034372356865674,
            0.8982118142916065,
            0.5627538133515276
           ],
           [
            0.1415419997928836,
            0.9811079436647748,
            0.3773500565423415
           ],
           [
            0.24326500605396448,
            0.9999389667640215,
            0.2567960271820138
           ],
           [
            0.46116983730935085,
            0.9511200313390249,
            0.0877101313516242
           ],
           [
            0.7475281008836994,
            0.752463778745043,
            8.120371257414048e-06
           ],
           [
            0.8398331500585671,
            0.6477075307796956,
            0.01245931916173735
           ],
           [
            0.9762501407677913,
            0.39374362402078156,
            0.13000623521142707
           ],
           [
            0.9998603407796958,
            0.23983607239665525,
            0.260303586823649
           ],
           [
            0.9875503657587271,
            0.16019887980993566,
            0.35225075443133747
           ],
           [
            0.9170731649009098,
            0.05263820669513403,
            0.5302886284039563
           ],
           [
            0.797025858724697,
            0.0031600268459839533,
            0.6998141144293194
           ],
           [
            0.757684662415829,
            7.956236874747364e-05,
            0.7422357752154236
           ],
           [
            0.5818523230319865,
            0.0319027393788584,
            0.8862449375891552
           ],
           [
            0.29341094333535217,
            0.20897141050912538,
            0.9976176461555225
           ],
           [
            0.09817931945375152,
            0.44321845931058357,
            0.9586022212356651
           ],
           [
            0.016506651103876436,
            0.6314034092258088,
            0.8520899396703148
           ],
           [
            0.0001295728586566528,
            0.7400778786292075,
            0.7597925485121358
           ],
           [
            0.007874873330993347,
            0.8226108799440842,
            0.6695142467249223
           ],
           [
            0.03806179047066501,
            0.8966791465021077,
            0.5652590630272272
           ],
           [
            0.11781832724658399,
            0.9702912603709252,
            0.4118904123824906
           ],
           [
            0.30565426443970634,
            0.9961369028787335,
            0.19820883268155998
           ],
           [
            0.6905053237714481,
            0.8050981732714564,
            0.004396502957095599
           ],
           [
            0.6189448555930499,
            0.8611094203566751,
            0.019945724050274966
           ],
           [
            0.917879334897843,
            0.5288262806996777,
            0.05329438440247941
           ],
           [
            0.9970658164870982,
            0.2983091728375769,
            0.20462501067532496
           ],
           [
            0.9990947099513141,
            0.22440743675179908,
            0.27649785329688675
           ],
           [
            0.9656881884864592,
            0.10951427633056185,
            0.42479753518297914
           ],
           [
            0.9162375022768388,
            0.05196510460748089,
            0.5317973931156804
           ],
           [
            0.8109701938004831,
            0.00543798863083224,
            0.6835918175686848
           ],
           [
            0.6703394947706522,
            0.007720510172959295,
            0.8219399950563886
           ],
           [
            0.48720090187091963,
            0.07352874002873606,
            0.9392703581003443
           ],
           [
            0.2674790242044302,
            0.23291926018896272,
            0.999601715606607
           ],
           [
            0.05698052287699895,
            0.5207603745095886,
            0.9222591026134124
           ],
           [
            0.007623977388408266,
            0.6708594691196367,
            0.8215165534919552
           ],
           [
            0.0002125780209944021,
            0.7625190673680192,
            0.7372683546109863
           ],
           [
            0.006620547144734108,
            0.8169217463699558,
            0.6764577064853098
           ],
           [
            0.026503664537585254,
            0.8758557348429513,
            0.5976406006194633
           ],
           [
            0.134266819853207,
            0.978128221012442,
            0.3876049591343508
           ],
           [
            0.21542594974462895,
            0.9983252357749982,
            0.2862488144803728
           ],
           [
            0.5089383329996399,
            0.928474339806015,
            0.06258732719434484
           ],
           [
            0.7373450183097296,
            0.7624449356212375,
            0.00021004606903262058
           ],
           [
            0.9420964088024922,
            0.48122160054490654,
            0.07668199065260117
           ],
           [
            0.9986636903600541,
            0.28230504685078117,
            0.2190312627891648
           ],
           [
            0.9985246068986244,
            0.2174974763734842,
            0.28397791672789136
           ],
           [
            0.9855290130808094,
            0.15381314049573486,
            0.3606578464234557
           ],
           [
            0.9242608880532946,
            0.05873635420815163,
            0.5170027577385538
           ],
           [
            0.8142813248664497,
            0.006079830128834591,
            0.679638845004716
           ],
           [
            0.5899392195279284,
            0.02908062489623629,
            0.8809801555758354
           ],
           [
            0.39325611490378226,
            0.13034202960349914,
            0.9764018554927187
           ],
           [
            0.18998980023562403,
            0.3152695306058186,
            0.9947406691585573
           ],
           [
            0.04937187375958005,
            0.5376955169133222,
            0.9129326093270977
           ],
           [
            0.00380885212774625,
            0.6947499220054267,
            0.8014412258668266
           ],
           [
            0.001969429663176518,
            0.7874101189027012,
            0.7106204514341222
           ],
           [
            0.006486648397788849,
            0.816279541412099,
            0.6772338101901123
           ],
           [
            0.05461906955784484,
            0.9194819032941303,
            0.5258990271480245
           ],
           [
            0.1612502716574934,
            0.9878657842316351,
            0.3508839441108714
           ],
           [
            0.38560011280936124,
            0.9787263358391229,
            0.13567355135151574
           ],
           [
            0.5732396839218759,
            0.8917222660838673,
            0.035038049994256505
           ],
           [
            0.7862474007645732,
            0.7119070295083021,
            0.0018455697271244382
           ],
           [
            0.959944575170334,
            0.4398459706456122,
            0.10020945418405375
           ],
           [
            0.9992536160382526,
            0.22672218450662848,
            0.274024199455119
           ],
           [
            0.9951124663169915,
            0.19204729117338726,
            0.31284024250962134
           ],
           [
            0.9785990001542416,
            0.13537194057378216,
            0.3860290592719762
           ],
           [
            0.9540379610096726,
            0.09163288062510437,
            0.4543291583652232
           ],
           [
            0.7722639191217843,
            0.0006817676281233266,
            0.7270543132500925
           ],
           [
            0.5321904224984139,
            0.05179041439542619,
            0.9160191631061602
           ],
           [
            0.30711993734532356,
            0.196942896077602,
            0.9959371665770744
           ],
           [
            0.15698443437814075,
            0.3564597843950741,
            0.9865557812267852
           ],
           [
            0.028313408084420476,
            0.5921985283701775,
            0.879488063545402
           ],
           [
            0.0036948815343238904,
            0.6956080824671645,
            0.8006970359985116
           ],
           [
            4.771063793799589e-06,
            0.7481059800496538,
            0.7518892488865525
           ],
           [
            0.017188861452604617,
            0.8539669008708577,
            0.6288442376765375
           ],
           [
            0.06948305874655644,
            0.9354660374139107,
            0.49505090383953265
           ],
           [
            0.22285336018741542,
            0.9989790704575913,
            0.27816756935499315
           ],
           [
            0.39149483524019096,
            0.9769462917195811,
            0.1315588730402278
           ],
           [
            0.6525959786848585,
            0.8360560460045132,
            0.01134797531062804
           ],
           [
            0.8822239517825473,
            0.5880450372980776,
            0.029731010919375057
           ],
           [
            0.9871344380527012,
            0.35402903831638444,
            0.15883652363091455
           ],
           [
            0.9995003054940157,
            0.2308956846893788,
            0.26960400981660565
           ],
           [
            0.994503169467986,
            0.1887174732177497,
            0.31677935731426443
           ],
           [
            0.9780634668273663,
            0.13411602473088233,
            0.38782050844175137
           ],
           [
            0.8820831977566503,
            0.02965691080334631,
            0.5882598914400036
           ],
           [
            0.6892985084133265,
            0.004570811122990119,
            0.8061306804636834
           ],
           [
            0.4980548999159195,
            0.06796312469514648,
            0.9339819753889341
           ],
           [
            0.23974922403626078,
            0.26039284923567857,
            0.9998579267280608
           ],
           [
            0.10227939222247436,
            0.43644129045450974,
            0.961279317323016
           ],
           [
            0.027634197051428718,
            0.5942219520777575,
            0.8781438508708137
           ],
           [
            0.0019983734783806406,
            0.7103254336716428,
            0.7876761928499766
           ],
           [
            0.00165020138874072,
            0.7843261250038608,
            0.7140236736073983
           ],
           [
            0.016819625105307625,
            0.8529568969590687,
            0.6302234779356233
           ],
           [
            0.06319016787846204,
            0.9291129555881334,
            0.5076968765334043
           ],
           [
            0.22529765774563593,
            0.9991577041941994,
            0.27554463806016466
           ],
           [
            0.4849382544889249,
            0.940347066845615,
            0.07471467866545983
           ],
           [
            0.669392248624921,
            0.8227099379636729,
            0.007897813411406041
           ],
           [
            0.929953412433713,
            0.5060550728386766,
            0.06399151472761008
           ],
           [
            0.9871849092347937,
            0.35381467120209537,
            0.15900041956311106
           ],
           [
            0.9966262530579291,
            0.30190413723790455,
            0.2014696097041665
           ],
           [
            0.9967603525358467,
            0.2024073851484637,
            0.3008322623156895
           ],
           [
            0.974340765539049,
            0.12589668251106015,
            0.3997625519498909
           ],
           [
            0.886707363444806,
            0.032159412773572926,
            0.5811332237816212
           ],
           [
            0.6551674483064868,
            0.010782582814298097,
            0.8340499688792155
           ],
           [
            0.33271260222284443,
            0.17558586608946247,
            0.9917015316876933
           ],
           [
            0.21248187519895512,
            0.2894992764620561,
            0.9980188483389888
           ],
           [
            0.0531865601563492,
            0.5290660075599707,
            0.91774743228368
           ],
           [
            0.018144933432571925,
            0.6253344058172656,
            0.8565206607501622
           ],
           [
            4.425829066755662e-05,
            0.7442165993887961,
            0.7557391423205361
           ],
           [
            0.000589116476270621,
            0.7707191768781168,
            0.7286917066456122
           ],
           [
            0.02760436359492393,
            0.8780842940523609,
            0.5943113423527149
           ],
           [
            0.1352561495243199,
            0.9785499842751884,
            0.3861938662004915
           ],
           [
            0.29775132839147217,
            0.9971314141809507,
            0.20511725742757692
           ],
           [
            0.5083182276685521,
            0.9287936610919746,
            0.06288811123947331
           ],
           [
            0.7692531547096026,
            0.7302392253853225,
            0.0005076199050746757
           ],
           [
            0.9208818903956489,
            0.5233192433560409,
            0.055798866248310236
           ],
           [
            0.9798229052308185,
            0.3818567070647502,
            0.1383203877044315
           ],
           [
            0.9998702632425112,
            0.25992843489380435,
            0.2402013018636847
           ],
           [
            0.9975733768473042,
            0.2086040286725261,
            0.2938225944801698
           ],
           [
            0.9523108478847996,
            0.08928788378040244,
            0.4584012683347981
           ],
           [
            0.7310672392287824,
            0.00046644781218831133,
            0.7684663129590293
           ],
           [
            0.6787995831169091,
            0.006220397115714503,
            0.8149800197673766
           ],
           [
            0.3898060115221031,
            0.13273108217039642,
            0.9774629063075004
           ],
           [
            0.2065597844419793,
            0.2961211489671698,
            0.997319066590851
           ],
           [
            0.04198745423886488,
            0.5553157983459718,
            0.9026967474151634
           ],
           [
            0.007785716894440287,
            0.6699899645809563,
            0.8222243185246034
           ],
           [
            0.00045434303449551014,
            0.731317410438804,
            0.7682282465267004
           ],
           [
            0.004038371543371473,
            0.8029039179642367,
            0.6930577104923921
           ],
           [
            0.03992096867849577,
            0.8995843879031757,
            0.5604946434183283
           ],
           [
            0.15335522106999547,
            0.9853769486857037,
            0.361267830244301
           ],
           [
            0.3414934901445349,
            0.9899316750450787,
            0.16857483481038615
           ],
           [
            0.5598108384275379,
            0.8999980556558187,
            0.04019110591664331
           ],
           [
            0.7765151832481778,
            0.7225117461457943,
            0.0009730706060280126
           ],
           [
            0.9099082552807654,
            0.5430003373113682,
            0.04709140740786636
           ],
           [
            0.9844159069866326,
            0.3650577064064787,
            0.15052638660688872
           ],
           [
            0.999721078179072,
            0.2356780288354819,
            0.26460089298544615
           ],
           [
            0.9944388985680828,
            0.1883784413787184,
            0.31718266005319884
           ],
           [
            0.9777640489724229,
            0.13342249739452525,
            0.3888134536330519
           ],
           [
            0.7497982131199011,
            5.427599432307865e-08,
            0.7502017326041044
           ],
           [
            0.5711499177584037,
            0.03581885019230812,
            0.8930312320492884
           ],
           [
            0.337080000947739,
            0.17207899675290889,
            0.9908410022993521
           ],
           [
            0.15294981650888273,
            0.3618086699707565,
            0.9852415135203608
           ],
           [
            0.048939729824003166,
            0.5386920380585983,
            0.9123682321173985
           ],
           [
            0.006130677981094327,
            0.6793342203567482,
            0.8145351016621574
           ],
           [
            5.540715298172231e-05,
            0.743526129944753,
            0.7564184629022653
           ],
           [
            0.00792511343440059,
            0.8228276087246672,
            0.6692472778409323
           ],
           [
            0.03901810131640591,
            0.8981864078806361,
            0.5627954908029577
           ],
           [
            0.16466778486692438,
            0.9888579958832551,
            0.3464742192498204
           ],
           [
            0.5223540475948636,
            0.921402705752041,
            0.05624324665309535
           ],
           [
            0.5952774044332934,
            0.8774397166113866,
            0.027282878955319858
           ],
           [
            0.781690680779675,
            0.7169084440365644,
            0.0014008751837606226
           ],
           [
            0.9311258600946617,
            0.5037493349271313,
            0.06512480497820716
           ],
           [
            0.9875693926668145,
            0.35216875853344565,
            0.16026184879973984
           ],
           [
            0.9999724053282475,
            0.25456302064485264,
            0.24546457402689992
           ],
           [
            0.9866081785888682,
            0.1571501403392759,
            0.3562416810718561
           ],
           [
            0.9171322016329012,
            0.05268603056339495,
            0.5301817678037041
           ],
           [
            0.7547680948743094,
            3.0508167085033506e-05,
            0.7452013969586059
           ],
           [
            0.5344287618567762,
            0.050800671107267846,
            0.9147705670359559
           ],
           [
            0.27690291451163435,
            0.22402981050669785,
            0.9990672749816679
           ],
           [
            0.09861028930518996,
            0.4424997254335111,
            0.9588899852612988
           ],
           [
            0.0374792647044115,
            0.566773507788956,
            0.8957472275066326
           ],
           [
            0.006210677942596962,
            0.6788573252007333,
            0.8149319968566695
           ],
           [
            0.001700233134337077,
            0.7848291036628126,
            0.7134706632028504
           ],
           [
            0.008575286510498192,
            0.8255641771925077,
            0.6658605362969939
           ],
           [
            0.07204672442966939,
            0.9379007218995555,
            0.49005255367077505
           ],
           [
            0.1339769319714749,
            0.9780036275578681,
            0.38801944047065684
           ],
           [
            0.446267565869372,
            0.9573712915322686,
            0.09636114259835904
           ],
           [
            0.6595795182301946,
            0.8305768855102477,
            0.009843596259557665
           ],
           [
            0.846089210255931,
            0.6394721046785977,
            0.014438685065471498
           ],
           [
            0.9644257906563228,
            0.428197558601553,
            0.10737665074212421
           ],
           [
            0.9939133865489139,
            0.32040186179345764,
            0.1856847516576284
           ],
           [
            0.9971958844979258,
            0.20560697800720654,
            0.29719713749486754
           ],
           [
            0.9878680897485597,
            0.16125801635570705,
            0.3508738938957334
           ],
           [
            0.9304088635275923,
            0.0644296052390457,
            0.5051615312333623
           ],
           [
            0.7717240920494127,
            0.0006485960156118111,
            0.7276273119349755
           ],
           [
            0.3135515923636115,
            0.19144348816923312,
            0.9950049194671554
           ],
           [
            0.26413519952028,
            0.23612636712750035,
            0.9997384333522199
           ],
           [
            0.1035497344473861,
            0.43436837199984624,
            0.9620818935527677
           ],
           [
            0.03662538580415373,
            0.5690128616888855,
            0.8943617525069607
           ],
           [
            0.0028197484977624714,
            0.7026679291885755,
            0.7945123223136621
           ],
           [
            2.0470799005149183e-06,
            0.7487599014895642,
            0.7512380514305355
           ],
           [
            0.012841500619039482,
            0.8410853898082596,
            0.6460731095727007
           ],
           [
            0.06524808214948061,
            0.9312522723495644,
            0.5034996455009548
           ],
           [
            0.2518067404275788,
            0.9999956580200072,
            0.24819760155241385
           ],
           [
            0.5318614121019489,
            0.916201956234755,
            0.05193663166329595
           ],
           [
            0.7508837466852452,
            0.7491152107405386,
            1.0425742162011248e-06
           ],
           [
            0.8722233517218684,
            0.6030030631696173,
            0.02477358510851461
           ],
           [
            0.9662291772798247,
            0.4233231487821476,
            0.11044767393802785
           ],
           [
            0.9925293043894076,
            0.32830855504666967,
            0.179162140563923
           ],
           [
            0.9949539691032575,
            0.19115994551458537,
            0.31388608538215723
           ],
           [
            0.9791538793224263,
            0.13669485034728066,
            0.3841512703302931
           ],
           [
            0.9057681218839112,
            0.044105715060865656,
            0.5501261630552232
           ],
           [
            0.7201202080052248,
            0.0011464797455142976,
            0.778733312249261
           ],
           [
            0.42590413561136187,
            0.10881627507357866,
            0.9652795893150596
           ],
           [
            0.19699229117505462,
            0.3070626456489266,
            0.9959450631760189
           ],
           [
            0.07587248286205325,
            0.48274544943339537,
            0.9413820677045512
           ],
           [
            0.030916573802753596,
            0.5846398970646295,
            0.8844435291326169
           ],
           [
            0.0031653110970178405,
            0.6997709784309167,
            0.7970637104720654
           ],
           [
            0.0003868666848157931,
            0.7327760715315549,
            0.7668370617836293
           ],
           [
            0.014801745095408832,
            0.847179192847927,
            0.638019062056664
           ],
           [
            0.09626753962104766,
            0.9573071731239797,
            0.44642528725497244
           ],
           [
            0.3462620839048132,
            0.988904745165693,
            0.16483317092949346
           ],
           [
            0.5812588350057522,
            0.8866266547771219,
            0.032114510217125726
           ],
           [
            0.7053969623357527,
            0.7920914197888653,
            0.0025116178753817795
           ],
           [
            0.9050055490535349,
            0.5514221729023568,
            0.043572278044108306
           ],
           [
            0.9708055436210884,
            0.4103936790095581,
            0.11880077736935353
           ],
           [
            0.9989379289113444,
            0.22232275094133022,
            0.2787393201473255
           ],
           [
            0.9987011396490483,
            0.21945840607309444,
            0.2818404542778573
           ],
           [
            0.9679991912404527,
            0.11357807088263923,
            0.41842273787690826
           ],
           [
            0.8182292012392002,
            0.006897927146791314,
            0.6748728716140086
           ],
           [
            0.5851706041504257,
            0.030730416351762022,
            0.8840989794978124
           ],
           [
            0.2919551600895054,
            0.21027375844645885,
            0.9977710814640359
           ],
           [
            0.18583238824661538,
            0.32022473475958413,
            0.9939428769938006
           ],
           [
            0.06899857179832002,
            0.49600509531521597,
            0.9349963328864642
           ],
           [
            0.011365815121280124,
            0.6525158123506175,
            0.8361183725281023
           ],
           [
            0.0054335618770608345,
            0.6836198173946427,
            0.8109466207282963
           ],
           [
            0.00013757452068436117,
            0.760088313480111,
            0.7397741119992045
           ],
           [
            0.010164833340660425,
            0.8317860593601769,
            0.6580491072991626
           ],
           [
            0.15313640488394772,
            0.985303942494658,
            0.361559652621394
           ],
           [
            0.4472850071004187,
            0.9569569009346295,
            0.09575809196495164
           ],
           [
            0.6436407189661807,
            0.8429392189369374,
            0.013420062096882
           ],
           [
            0.7800129974486736,
            0.718733715002612,
            0.0012532875487145062
           ]
          ],
          "size": 2
         },
         "mode": "markers",
         "scene": "scene2",
         "type": "scatter3d",
         "x": [
          -5589.852653098818,
          -4890.848093875686,
          -3442.765390794769,
          -1243.7123227337152,
          1211.0819124020904,
          3283.464094117289,
          4720.527008863503,
          5477.759064244549,
          5675.802725209502,
          5395.669188848676,
          4542.839833272623,
          2961.4227204778963,
          766.2530387882814,
          -1534.1832080268791,
          -3552.2376604954256,
          -4927.413375631113,
          -5556.263943368235,
          -5694.325631928892,
          -5246.035148136741,
          -4208.742207708596,
          -2428.285988647356,
          -163.02392824362315,
          2107.6050197300674,
          3928.455600879446,
          5072.280294431938,
          5563.447432495652,
          5513.511763157334,
          4949.991736124384,
          3775.8383193058135,
          1954.0045236881956,
          -239.54987439782923,
          -2384.078072343884,
          -4140.363473462157,
          -5212.849702601255,
          -5574.036327873961,
          -5387.106647048962,
          -4658.759414372944,
          -3296.9904249860233,
          -1384.4498965496655,
          819.0192623928397,
          2843.639710743811,
          4368.1794133072335,
          5220.18903428621,
          5446.16678067458,
          5124.944570649853,
          4242.677690534985,
          2880.7443810810514,
          1014.5069742598482,
          -1084.232180535437,
          -3045.890114244526,
          -4581.698779624864,
          -5256.0883677261845,
          -5327.376474409696,
          -4844.004471781933,
          -3851.2162842068433,
          -2348.3565915280474,
          -490.0281918387542,
          1520.3014194855728,
          3340.4738454176886,
          4618.355134611617,
          5183.737523073002,
          5099.890845882117,
          4506.585251165672,
          3448.303136388209,
          2016.1330010105323,
          215.47876700320006,
          -1694.8819952049078,
          -3501.539057046059,
          -4666.230229738322,
          -5084.910124402136,
          -4863.850134824221,
          -4086.3585450188157,
          -2942.8438235825533,
          -1514.4663051233665,
          201.17209728637692,
          2053.492630448854,
          3629.4295121857954,
          4607.574995015809,
          4897.871885909097,
          4505.90345681151,
          3701.8793274934433,
          2626.4593174891975,
          1275.7605676814426,
          -434.3165876086789,
          -2176.387327082229,
          -3665.068155834622,
          -4545.60034111282,
          -4625.5039653163585,
          -4140.613904226795,
          -3262.251067927377,
          -2167.626874999695,
          -847.0917407771655,
          756.1031922117465,
          2408.3552383055467,
          3717.3089860296327,
          4401.661941882223,
          4342.155964577798,
          3775.5612436780134,
          2939.994347720058,
          1982.3028404622078,
          717.1028180641794,
          -885.705656471941,
          -2429.5185451825787,
          -3675.1353312272204,
          -4174.099100257874,
          -3966.9076338287045,
          -3343.1989690137048,
          -2555.2442844806837,
          -1609.3516297093045,
          -381.6146699268282,
          1098.1892479957066,
          2546.9125092959544,
          3578.9128372286127,
          3931.8036710739584,
          3652.9644642366056,
          3052.6085851741936,
          2308.87847312824,
          1504.4748881080454,
          303.3010747497458,
          -1121.0021466128846,
          -2504.236782168556,
          -3401.997967168301,
          -3576.485033015249,
          -3227.367589685614,
          -2665.7227840460546,
          -2035.558538143131,
          -1223.619491030248,
          -113.86683785170658,
          1212.2166025166111,
          2472.9831438527112,
          3213.1372918991924,
          3333.7600126841,
          2954.775289498916,
          2483.332203698736,
          1924.8513922020668,
          1166.7359315549634,
          96.34836532899105,
          -1139.9670688748927,
          -2247.3201967540376,
          -2855.3206571234036,
          -2889.3147014508836,
          -2598.0411833538374,
          -2187.315812399569,
          -1679.8643716000104,
          -997.5612545574012,
          -35.80952491811436,
          1145.822304100127,
          2140.1432005100446,
          2627.669276721575,
          2686.9323432143715,
          2404.833473039564,
          2059.2147248117276,
          1634.5850746754131,
          1004.8487545022081,
          67.74923477175238,
          -954.7681967812908,
          -1783.4512755814185,
          -2223.588937088546,
          -2283.565845293666,
          -2149.1964284084597,
          -1898.683419638061,
          -1497.9143860223555,
          -934.8692845648312,
          -110.0336560690336,
          864.2705325166319,
          1625.4153838726263,
          2086.43073687782,
          2157.145903650191,
          2043.137803858663,
          1837.9326277449566,
          1580.6908446524224,
          1040.023458008672,
          261.771449847915,
          -543.5082532953883,
          -1259.207141058654,
          -1729.518108848871,
          -1902.4011227911571,
          -1891.317753690393,
          -1789.581745479009,
          -1580.1645842313997,
          -1162.9121589683073,
          -473.3581102658875,
          391.4330842771071,
          1142.8284806755626,
          1637.3343608088187,
          1843.6311727337893,
          1875.3523386603144,
          1812.1959253299242,
          1685.355511476675,
          1331.953912512391,
          759.6178311214825,
          1.8202310940392246,
          -799.1004933571701,
          -1397.7744376953328,
          -1690.267939379508,
          -1801.6130778902811,
          -1863.8977420502993,
          -1827.9841576383415,
          -1551.1106062957438,
          -946.2484393748488,
          -74.64761219253478,
          764.3595770180183,
          1395.7501913513383,
          1695.490062023493,
          1890.0729874400224,
          2010.8079083888656,
          2025.9510129407638,
          1820.4694264430377,
          1274.369185225211,
          395.6012986942538,
          -550.5936659951278,
          -1245.5568067909003,
          -1661.184099371543,
          -1950.360163580491,
          -2155.021761907735,
          -2290.6487355119757,
          -2140.4724939379635,
          -1427.646031789075,
          -423.3091387893438,
          570.30036352203,
          1304.262755395822,
          1733.7508612600047,
          2070.3535286897236,
          2389.3184527442713,
          2580.15151902609,
          2384.975664216259,
          1682.4143727539824,
          628.443980347031,
          -436.241309570314,
          -1231.4127124798983,
          -1817.6365070458696,
          -2295.659563243548,
          -2673.8439496071114,
          -2946.5289025111365,
          -2667.279225959638,
          -1718.6731236510877,
          -545.0947019399839,
          563.8140076094322,
          1373.8761271015612,
          1970.6577489331003,
          2511.340485513534,
          3034.1574277112095,
          3247.638160613251,
          2887.293220626364,
          1953.6870189822487,
          661.8383892280135,
          -566.726965186245,
          -1487.239590848734,
          -2186.552928407097,
          -2844.1278765340508,
          -3411.142061273018,
          -3566.599477862253,
          -2998.582471143787,
          -1827.7647858929222,
          -510.3695552741377,
          721.3140944612451,
          1689.487998192906,
          2485.8690528755014,
          3207.4085053208996,
          3752.3420537719867,
          3805.431418234391,
          3164.1968076305347,
          1972.906713611005,
          501.8209831020778,
          -849.4081513451856,
          -1916.4306999769788,
          -2776.9948267407744,
          -3585.1187199313867,
          -4103.8853535302815,
          -3995.277361266103,
          -3137.983292220884,
          -1780.9215514598966,
          -278.02091162317834,
          1085.711776509162,
          2186.5381024256244,
          3159.924284401873,
          3968.0421690610046,
          4356.370403799537,
          4139.395941945177,
          3242.3441890075205,
          1807.5907025635368,
          151.21831674028795,
          -1330.701538146922,
          -2559.360223390472,
          -3593.35743482388,
          -4324.4384023153425,
          -4590.645958186116,
          -4201.620923402616,
          -3087.7632164777583,
          -1540.399192279527,
          127.11467143043993,
          1655.9210925220723,
          2942.4843747108002,
          3972.325082108877,
          4647.152407491239,
          4800.445357225126,
          4312.115840152939,
          3126.5731396340084,
          1451.4354463140392,
          -381.36407002141857,
          -2015.2861598931224,
          -3348.2273362652513,
          -4369.975803481579,
          -4871.305655203267,
          -4877.221518153805,
          -4188.330687753246,
          -2829.2858270571264,
          -1078.9808755409713,
          770.923315301216,
          2455.9650412157416,
          3787.6697784037215,
          4691.32121319821,
          5132.613892309865,
          5028.364579574324,
          4210.714465423692,
          2761.3343062016465,
          806.5540523655925,
          -1215.358503606399,
          -2933.8308310517587,
          -4183.754422709406,
          -4976.763522487187,
          -5270.543265093738,
          -5009.554197596477,
          -4010.8353953952214,
          -2356.7754291692486,
          -360.55102783012256,
          1669.194681750124,
          3403.1507646089344,
          4591.480933367834,
          5251.586935854844,
          5420.916571126319,
          5077.378531482293,
          3969.0975204055594,
          2226.608070733626,
          -42.343812435516874,
          -2155.662059645594,
          -3817.344348198082,
          -4835.751533497278,
          -5366.293141253159,
          -5425.686485893261,
          -4882.579709170009,
          -3614.356582819116,
          -1697.495505813086,
          539.9258978632143,
          2652.806538278018,
          4241.382215740893,
          5155.266733386146,
          5599.95533040469,
          5503.411144528839,
          4848.40560994512,
          3489.400870068284,
          1365.434028565574,
          -1021.0485525555838,
          -3094.231881317874,
          -4500.856969793698,
          -5303.193182249278,
          -5607.330117634653,
          -5397.933940098847,
          -4550.443194344398,
          -2961.6850333582506,
          -788.4218230823868,
          1550.0905759261868,
          3566.0385569739074,
          4876.862906526044,
          5524.4399094355185,
          5710.49190918849,
          5378.031403330833,
          4428.4047637965205,
          2643.8933478538142,
          306.69868813635236,
          -2028.4827790442562,
          -3847.471342878471,
          -4998.043657825385,
          -5587.31529113581,
          -5620.4246415868065,
          -5135.65990540186,
          -3977.30419656111,
          -2044.7592892701336,
          306.9237817903773,
          2560.558542026307,
          4305.859938123404,
          5294.83670502458,
          5702.299565317612,
          5622.970396126995,
          5058.080273477976,
          3679.009719178485,
          1651.078636456496,
          -765.7729259835727,
          -2923.719748431975,
          -4465.598210837917,
          -5341.17309919687,
          -5649.2354142876675,
          -5442.236257581654,
          -4656.280002168257,
          -3167.9960206263277,
          -1035.250080243373,
          1315.0569113337458,
          3379.2457718826486
         ],
         "y": [
          1588.0842850454599,
          1055.8292843221313,
          350.5425000277835,
          -448.6607670524893,
          -1154.74632906785,
          -1630.9333636368995,
          -1846.7102780493567,
          -1883.5825456208315,
          -1696.891110195416,
          -1252.7639721742737,
          -583.9542823716627,
          244.58076088310858,
          1085.7535061369383,
          1741.979253673198,
          2030.1402496122776,
          2072.1656319964836,
          1985.2110946128846,
          1572.5440520926231,
          928.1595205270337,
          34.461502788247046,
          -983.8291499338479,
          -1809.8763778385935,
          -2222.837545985813,
          -2271.627109309669,
          -2126.9485639504173,
          -1802.32532231304,
          -1241.9421008126767,
          -426.8479310701233,
          604.5697068289596,
          1645.1908697324504,
          2363.898721250489,
          2609.5364075934076,
          2480.0736452074543,
          2194.1494850821105,
          1670.9575944497442,
          909.5950193335624,
          -129.62260004932918,
          -1368.4107591353488,
          -2381.8369603326328,
          -2849.563368825344,
          -2828.449540456637,
          -2515.7144548321985,
          -2016.670460266415,
          -1325.0551356590004,
          -393.4301773566036,
          793.3273421627435,
          2063.3290544331185,
          2974.2841865318173,
          3264.466958528912,
          3039.358449003406,
          2533.4116449276344,
          1861.334733741116,
          985.6687867768467,
          -168.729766285137,
          -1575.3248331326477,
          -2817.181887131789,
          -3481.947787776674,
          -3490.2699508950427,
          -3056.6926737641106,
          -2369.0735503694696,
          -1515.4838089975144,
          -470.13105346311744,
          855.3052730022036,
          2295.4003262539545,
          3454.186783338274,
          3921.786836467452,
          3737.1812439298733,
          3093.533788015277,
          2189.358667776322,
          1155.767104430688,
          -106.39132742582889,
          -1605.1495468943615,
          -3034.074101994125,
          -3946.0667428693687,
          -4138.0102907245255,
          -3717.5482361318104,
          -2909.4530296882226,
          -1867.4619520954186,
          -639.4951110079714,
          785.2178437033123,
          2358.988741239139,
          3710.6139396905423,
          4426.000982997438,
          4369.6730123797215,
          3768.0048402641755,
          2718.7488467848357,
          1466.671615535835,
          66.55084976774748,
          -1572.465789047782,
          -3130.0668242970496,
          -4220.278299767836,
          -4636.662163391276,
          -4369.582254739292,
          -3550.0687898286405,
          -2367.768877736791,
          -967.5164432491893,
          611.2978783484178,
          2318.752484785512,
          3816.9145346361115,
          4758.346636085259,
          4947.393627532224,
          4417.575234223556,
          3360.5605583312454,
          1940.4400955028652,
          343.47649406446584,
          -1418.029757019673,
          -3092.2558785137976,
          -4347.093859323283,
          -4973.840717280843,
          -4922.088604061388,
          -4219.527310616991,
          -2994.5648561374933,
          -1449.3655067188108,
          319.2320093410891,
          2181.2640257585217,
          3819.210577029689,
          4896.1941261964585,
          5329.116797259892,
          5026.853967485475,
          4042.367096332342,
          2564.4108587836236,
          790.4435009894976,
          -1140.3079401296077,
          -2955.019666966764,
          -4340.1143006923885,
          -5141.921410105645,
          -5317.9672609309755,
          -4831.351408117821,
          -3698.5106538530536,
          -2060.148787386116,
          -114.2371121702276,
          1943.0537569485525,
          3695.896193466677,
          4924.549415481387,
          5495.422798974298,
          5446.662295782289,
          4669.578232483608,
          3281.427413820226,
          1414.1675390222779,
          -724.4885370238184,
          -2727.719672852322,
          -4255.004083155415,
          -5172.318921325615,
          -5509.026304104909,
          -5257.5971248048945,
          -4333.507647942505,
          -2776.362847140063,
          -741.8376319186463,
          1492.434259165307,
          3489.626312244448,
          4834.684640238304,
          5514.700054164834,
          5654.223331881406,
          5125.117429388405,
          3913.676953658174,
          2104.5463760486514,
          -130.40722873901748,
          -2323.5131660193874,
          -4026.4375209999184,
          -5098.620825808675,
          -5580.818714569545,
          -5485.47085741477,
          -4783.0215115004585,
          -3433.3424778587823,
          -1435.7514981718857,
          920.0684440045193,
          3121.386298512193,
          4652.231595090891,
          5467.987179438843,
          5734.451165134592,
          5412.975441062971,
          4427.808852073163,
          2769.807470746136,
          565.8965586174821,
          -1770.5037105044598,
          -3696.7277123352887,
          -4934.13765745929,
          -5542.282337993174,
          -5610.469860850466,
          -5102.476273008346,
          -3980.207613395805,
          -2151.338583058543,
          242.4869341235675,
          2571.979316547722,
          4301.987297714248,
          5303.937017482384,
          5710.993364545627,
          5512.17423313857,
          4760.0659885312525,
          3325.6653474553564,
          1261.5858893014029,
          -1085.0457860188349,
          -3181.787966812348,
          -4641.648397664688,
          -5411.340426903576,
          -5591.392492231782,
          -5227.723551629028,
          -4317.735096385831,
          -2729.0102005425433,
          -492.1613810103547,
          1920.6510601118346,
          3794.7984311057703,
          5010.866483655693,
          5564.419361567568,
          5523.467684935277,
          4915.826316423053,
          3701.460009910809,
          1841.5603413804988,
          -393.0157866771343,
          -2530.279746458272,
          -4171.384887688607,
          -5149.691161437439,
          -5494.050565582007,
          -5253.769879408503,
          -4475.509997877447,
          -3115.2463382790716,
          -1110.816321293773,
          1181.147373759427,
          3152.2531016799203,
          4554.408082855647,
          5335.796604283925,
          5419.054862191682,
          4936.6200169554995,
          3893.6509357014234,
          2264.5816184849596,
          223.5936235092301,
          -1837.9044279910506,
          -3550.9296478548918,
          -4720.7135049094295,
          -5261.782463618759,
          -5180.094162694218,
          -4546.184556130633,
          -3309.6400828108876,
          -1530.814565878302,
          535.3905750338911,
          2451.358722939889,
          3934.13458538038,
          4911.912269153067,
          5203.983821892012,
          4870.283558300249,
          3963.7807561967356,
          2514.6232755480373,
          682.6314403941526,
          -1202.8392257742532,
          -2856.3366349422495,
          -4145.521928503397,
          -4912.3126459544455,
          -5001.663491673486,
          -4497.3652819160125,
          -3411.4772768142143,
          -1791.8179232582877,
          39.68832580563663,
          1777.6013998164942,
          3260.352514658348,
          4327.241741673028,
          4836.12092027863,
          4704.159334995711,
          3935.3473347728686,
          2615.150185069884,
          976.5935043362853,
          -695.4213994305737,
          -2203.210610210132,
          -3453.2627140254444,
          -4355.923594149226,
          -4669.065691771836,
          -4356.249556726603,
          -3388.537300482119,
          -1877.1195421210464,
          -214.25171741271538,
          1271.433869615481,
          2588.0765568195134,
          3672.269342920529,
          4307.523816440825,
          4373.894950711025,
          3786.2653551099,
          2610.276015720455,
          1098.7577241267197,
          -411.66503389568953,
          -1709.6929389379004,
          -2809.7844178023,
          -3700.7398378470934,
          -4180.145266824896,
          -4073.380889002204,
          -3289.5887348979286,
          -1888.3256360652663,
          -351.78011256175074,
          964.7234028928626,
          2047.8565592776506,
          3007.0281041715566,
          3662.301437748263,
          3877.4583994181153,
          3499.25215605668,
          2488.4000714337612,
          1101.2453375615426,
          -262.80694064809114,
          -1373.7492698242413,
          -2262.8117342983014,
          -3028.5819925635546,
          -3520.5058327828638,
          -3610.0931463603665,
          -3039.1226479173242,
          -1791.9550935887373,
          -373.9588921811063,
          829.6888384281918,
          1716.4999010024706,
          2452.7882895814782,
          3010.3626368225405,
          3260.169672665601,
          3050.9115515130743,
          2250.3874109767276,
          1013.2652211095519,
          -234.2143904716738,
          -1200.269354676433,
          -1898.558130435784,
          -2482.6069331631415,
          -2864.5934781510714,
          -3020.654783776665,
          -2645.964188114423,
          -1586.7359408408176,
          -299.1389527807471,
          784.1241646712616,
          1545.2337533784646,
          2068.6476797744767,
          2435.2683152581235,
          2633.567645328754,
          2489.572154336648,
          1861.6068136070169,
          832.3277358406441,
          -285.3775477036315,
          -1155.877992173549,
          -1718.8133675572694,
          -2058.4531384929764,
          -2268.995306355808,
          -2322.8373153727357,
          -2065.800287377728,
          -1217.6434760738164,
          -123.02512666908231,
          844.4725192886873,
          1499.6527334907457,
          1878.2021737696934,
          2025.9119687401385,
          2025.4020641646564,
          1830.890537191171,
          1295.6387894772424,
          443.9159910731313,
          -480.6060380342196,
          -1226.2082362546976,
          -1649.5794451843663,
          -1866.8592433838148,
          -1845.4556310291205,
          -1714.2095004380944,
          -1377.6538144438555,
          -684.9801353103559,
          213.79191756438212,
          1008.5752114481134,
          1541.6582348743507,
          1807.0040980870488,
          1798.9498395967614,
          1586.5288050339177,
          1229.8590922812975,
          660.747621623071,
          -102.09468422088042,
          -829.0654535658983,
          -1381.8504950752354,
          -1709.4404864600692,
          -1791.1853669443371,
          -1608.9136566211228,
          -1253.7379599112094,
          -739.4937551587758,
          -26.46120538175261,
          724.5185508549714,
          1336.2133759257365,
          1717.6542713670078,
          1853.3957109507553,
          1732.4512659932009,
          1344.861876295911,
          777.9455421454883,
          86.84222242128094,
          -696.506842439792,
          -1350.9751608275114,
          -1704.1535808445624,
          -1866.4950642544968,
          -1839.7133210542818,
          -1536.2880190485096,
          -967.9797329546569,
          -255.6960796072646,
          618.7091324884022,
          1329.8608510734302,
          1779.3187885304303,
          1984.1799337870368,
          1996.9541420766468,
          1755.1696077203628,
          1240.8844075918594,
          491.21391638944664,
          -434.688617502067,
          -1344.6088220274846,
          -1963.0270307537678,
          -2195.685007391537
         ],
         "z": [
          -1600.609000437862,
          -3286.5232524489106,
          -4280.459943807772,
          -4634.343782736603,
          -4648.178797654697,
          -4104.823296131622,
          -2859.201673144946,
          -1193.3230051086773,
          608.0297766501546,
          2356.1797381557167,
          3719.0606698920355,
          4440.296121887389,
          4649.936582227474,
          4483.551910030419,
          3776.2826783544638,
          2410.970155173273,
          731.0733886652516,
          -1110.6877858503253,
          -2815.2377612905666,
          -3956.1800147084214,
          -4462.701588674617,
          -4559.968488261793,
          -4147.279833513198,
          -3094.0577958668414,
          -1592.6541568676662,
          122.39726226212571,
          1868.710869002934,
          3318.197204582377,
          4177.64564319033,
          4512.997468897011,
          4439.107202726002,
          3826.5362514258672,
          2628.952653155303,
          1118.7447409034592,
          -635.6082865022819,
          -2342.7140882579024,
          -3547.78674357264,
          -4182.456955666314,
          -4413.851215257372,
          -4090.3357954464927,
          -3168.7962353708263,
          -1844.4157002955083,
          -270.17980877216917,
          1402.6424044596758,
          2868.176687083271,
          3823.6037065515607,
          4249.393669326598,
          4306.213505333062,
          3770.7518291431115,
          2709.0365358530403,
          1348.16610259617,
          -198.1187266779951,
          -1839.1246252046392,
          -3063.4947404963027,
          -3801.7817668623284,
          -4156.718201412482,
          -3967.582971215905,
          -3157.7201626975157,
          -1969.5786074544465,
          -573.7550183108567,
          967.500990011147,
          2389.9630352628374,
          3373.6336078188556,
          3922.877846124424,
          4112.921585735673,
          3698.9374592423387,
          2660.355278601651,
          1468.0002461573392,
          85.90007474578337,
          -1408.8776468805222,
          -2596.9084827396605,
          -3336.0499923078046,
          -3805.8165105865187,
          -3755.9514397697985,
          -3054.7344770171026,
          -1969.6908760556469,
          -725.1410137629397,
          649.6925802012091,
          1965.8435098963457,
          2906.210567376666,
          3491.9103871929374,
          3798.816172202615,
          3516.055260373724,
          2599.160243530279,
          1433.033097534112,
          205.74008970869863,
          -1101.6475182849845,
          -2158.9713929984937,
          -2875.7960526352704,
          -3353.823375073215,
          -3414.9838872698647,
          -2870.5729048818794,
          -1890.1733867668931,
          -741.6890601799597,
          472.5939384576658,
          1621.6563727516939,
          2474.374442525109,
          3027.8075295266794,
          3398.463071711394,
          3228.2249993392156,
          2457.006625660216,
          1377.2821267726001,
          218.41558073583238,
          -932.9165395671392,
          -1820.5595015462018,
          -2441.313786329523,
          -2896.959635255161,
          -3002.649996095196,
          -2576.308212375487,
          -1733.5774973121793,
          -679.0707416556376,
          443.19178498420445,
          1426.382503376371,
          2111.2628909919495,
          2589.497907207023,
          2946.8652482091247,
          2871.63534894698,
          2184.2283920837654,
          1251.6383146231913,
          153.83722816265305,
          -903.8925445524515,
          -1644.3497368466483,
          -2090.573488380601,
          -2460.196616602177,
          -2561.9105901172898,
          -2196.500865963905,
          -1467.1561668130178,
          -542.773284110806,
          477.82308616022095,
          1377.1421148891277,
          1899.3916997166205,
          2201.676392091173,
          2493.266542544477,
          2428.2761077120044,
          1831.5090287091716,
          1013.1418134834959,
          41.78038768997614,
          -969.1205930884166,
          -1599.5546372553965,
          -1881.8124942874454,
          -2088.087981223918,
          -2122.912387208391,
          -1755.1472842909109,
          -1086.3069955610424,
          -295.87357507543567,
          609.0516130448066,
          1421.0048788411768,
          1832.0067829125703,
          1959.3940224849007,
          2108.3175472483904,
          1975.7576823410386,
          1407.4499987657955,
          687.4276229643685,
          -165.62252329682553,
          -1062.4421767822853,
          -1650.1395918086264,
          -1835.0686933816396,
          -1870.1461658564408,
          -1755.1770232063136,
          -1323.556881115328,
          -658.8080681495757,
          63.01835826242438,
          838.9838809834106,
          1542.3731625917062,
          1874.7813956865475,
          1868.1727019417003,
          1844.6774520723432,
          1593.0646472252818,
          958.2540666292356,
          283.75672526099777,
          -482.9096818376171,
          -1257.447742522405,
          -1758.4843548888427,
          -1875.6608136517464,
          -1783.2503582894676,
          -1494.8708397482762,
          -941.6759922729844,
          -232.434067540838,
          480.5540891609111,
          1170.4751366765393,
          1751.8842711055916,
          1982.1167605645887,
          1912.2386218164877,
          1725.0434985050763,
          1280.816208696269,
          541.0518299738737,
          -177.12620919512074,
          -875.8787468837481,
          -1553.3243920451898,
          -1947.166814037036,
          -1985.5020818700273,
          -1808.3186697690812,
          -1392.1917312813098,
          -671.7785288148186,
          175.19051245512202,
          930.7716974533126,
          1589.1097780234597,
          2072.512245913326,
          2173.2659754166166,
          1996.5064703759615,
          1741.4730348943033,
          1139.4421567631855,
          231.32869530110045,
          -581.961249274207,
          -1299.5501424692982,
          -1920.984780818155,
          -2215.5076066791135,
          -2144.8347846045504,
          -1902.721187373144,
          -1413.9145684337625,
          -546.4538456057119,
          466.3137280658629,
          1327.8758381371024,
          2021.7543669014544,
          2492.6735537138725,
          2478.8041449170255,
          2185.0026475773657,
          1839.1608360770053,
          1144.5518591865482,
          75.23014541737136,
          -901.1874600515713,
          -1731.5339021970362,
          -2356.9746444595767,
          -2604.267662214508,
          -2434.991638412835,
          -2069.478050044105,
          -1508.9754869160215,
          -568.4795579644476,
          609.8604598648222,
          1653.494992540783,
          2442.0297745203106,
          2946.2000670005505,
          2904.0390501970533,
          2488.2188196563143,
          2008.2839298551664,
          1233.069052964981,
          46.146131179306025,
          -1110.2242172037897,
          -2092.4614305094024,
          -2810.3807793430065,
          -3038.0869768871453,
          -2796.764669229468,
          -2326.6161907842375,
          -1665.710545384139,
          -654.6740848868291,
          628.5808421561441,
          1843.7615031450168,
          2813.471449928761,
          3388.707835668264,
          3389.728056838568,
          2869.272583430097,
          2259.917828904845,
          1369.5595363466762,
          138.9778328835975,
          -1162.2654583031926,
          -2311.039896615079,
          -3169.1317434858424,
          -3483.004447346741,
          -3228.3902043193584,
          -2672.356195130233,
          -1907.266044649023,
          -805.6372319819808,
          552.2557460172228,
          1893.6166204019582,
          3025.4487994196425,
          3785.1650360825124,
          3822.446393474294,
          3340.818391436585,
          2633.9089481220176,
          1637.3729376792364,
          287.02248433286377,
          -1081.4595313627954,
          -2383.944429714378,
          -3428.1005793734025,
          -3885.6473619496273,
          -3690.252707641362,
          -3111.034488495723,
          -2259.969249178373,
          -1034.3071272233517,
          406.80231218593104,
          1796.6215223232869,
          3091.6737408012623,
          4052.6482894233095,
          4248.572801630503,
          3811.091143141713,
          3114.8315537471276,
          2007.605590646785,
          530.4356666908407,
          -949.8959963036384,
          -2349.5375097379206,
          -3550.531000795312,
          -4190.472672196089,
          -4125.7859429640785,
          -3579.706593208318,
          -2689.723878220342,
          -1381.6177435632342,
          195.87539431790248,
          1696.9856224649416,
          3036.074586273902,
          4160.930418356955,
          4559.166680406425,
          4231.688198981527,
          3584.441700683451,
          2456.8766195577664,
          888.9725997702205,
          -719.0182271800572,
          -2208.6411778135043,
          -3522.9605762372353,
          -4337.787500970371,
          -4449.825245362026,
          -4016.637297297344,
          -3158.34511300199,
          -1803.841876493901,
          -123.87380998436812,
          1495.2169421824567,
          2933.139637941688,
          4145.676308428476,
          4718.009323548969,
          4581.667201696524,
          4012.665798797716,
          2945.153050649696,
          1328.0299698803933,
          -399.53000901181207,
          -2025.688461387473,
          -3423.6030053737304,
          -4366.801227552486,
          -4668.167963288332,
          -4396.014831454196,
          -3630.4032922364167,
          -2270.8762563721803,
          -529.1000036499263,
          1204.847865983034,
          2759.5367498908677,
          4046.30447203236,
          4713.475388032857,
          4764.162431359112,
          4395.784175378834,
          3396.955609463632,
          1822.892111830885,
          25.41068344998668,
          -1714.9627085077045,
          -3244.695199285142,
          -4288.789611366595,
          -4705.579074590593,
          -4614.446135667887,
          -4020.7889504454242,
          -2766.788288211674,
          -1006.0229289225166,
          811.6683594329353,
          2492.4727681006875,
          3900.6405571015184,
          4613.780122003618,
          4804.085245123993,
          4608.34122142185,
          3785.4910698247204,
          2312.808962871642,
          534.0918287469846,
          -1290.3645129886797,
          -2951.887937039172,
          -4126.844309392705,
          -4657.816097587831,
          -4705.3304192413425,
          -4305.729917735741,
          -3199.6305762999054,
          -1501.4275024563274,
          334.7568094724244,
          2113.7919557948485,
          3661.6436410819265,
          4498.83516728644,
          4735.951895594472,
          4685.0754038587065,
          4055.496412728409,
          2717.5829499843057,
          1007.3317249905415,
          -822.805269344699,
          -2562.6487767207404,
          -3874.619119613611,
          -4537.905931044952,
          -4683.259491320162,
          -4430.298851284189,
          -3517.7690131282434,
          -1972.9234354229843,
          -158.17474652898468,
          1665.3829299380868,
          3297.4525406554185,
          4282.001684062975,
          4633.443146707409,
          4656.90390704345,
          4183.2394581895815,
          3044.265070694752,
          1453.146876570033,
          -325.69024755112787,
          -2101.173896329328,
          -3533.076730470504,
          -4333.265245861839,
          -4586.578981620038,
          -4427.576853362496,
          -3698.1126134685946
         ]
        }
       ],
       "layout": {
        "annotations": [
         {
          "font": {
           "size": 16
          },
          "showarrow": false,
          "text": "Circ Coord 1",
          "x": 0.225,
          "xanchor": "center",
          "xref": "paper",
          "y": 1,
          "yanchor": "bottom",
          "yref": "paper"
         },
         {
          "font": {
           "size": 16
          },
          "showarrow": false,
          "text": "Circ Coord 2",
          "x": 0.775,
          "xanchor": "center",
          "xref": "paper",
          "y": 1,
          "yanchor": "bottom",
          "yref": "paper"
         }
        ],
        "scene": {
         "aspectmode": "data",
         "domain": {
          "x": [
           0,
           0.45
          ],
          "y": [
           0,
           1
          ]
         },
         "xaxis": {
          "showticklabels": false,
          "ticks": ""
         },
         "yaxis": {
          "showticklabels": false,
          "ticks": ""
         },
         "zaxis": {
          "showticklabels": false,
          "ticks": ""
         }
        },
        "scene2": {
         "aspectmode": "data",
         "domain": {
          "x": [
           0.55,
           1
          ],
          "y": [
           0,
           1
          ]
         },
         "xaxis": {
          "showticklabels": false,
          "ticks": ""
         },
         "yaxis": {
          "showticklabels": false,
          "ticks": ""
         },
         "zaxis": {
          "showticklabels": false,
          "ticks": ""
         }
        },
        "showlegend": false,
        "template": {
         "data": {
          "bar": [
           {
            "error_x": {
             "color": "#2a3f5f"
            },
            "error_y": {
             "color": "#2a3f5f"
            },
            "marker": {
             "line": {
              "color": "#E5ECF6",
              "width": 0.5
             },
             "pattern": {
              "fillmode": "overlay",
              "size": 10,
              "solidity": 0.2
             }
            },
            "type": "bar"
           }
          ],
          "barpolar": [
           {
            "marker": {
             "line": {
              "color": "#E5ECF6",
              "width": 0.5
             },
             "pattern": {
              "fillmode": "overlay",
              "size": 10,
              "solidity": 0.2
             }
            },
            "type": "barpolar"
           }
          ],
          "carpet": [
           {
            "aaxis": {
             "endlinecolor": "#2a3f5f",
             "gridcolor": "white",
             "linecolor": "white",
             "minorgridcolor": "white",
             "startlinecolor": "#2a3f5f"
            },
            "baxis": {
             "endlinecolor": "#2a3f5f",
             "gridcolor": "white",
             "linecolor": "white",
             "minorgridcolor": "white",
             "startlinecolor": "#2a3f5f"
            },
            "type": "carpet"
           }
          ],
          "choropleth": [
           {
            "colorbar": {
             "outlinewidth": 0,
             "ticks": ""
            },
            "type": "choropleth"
           }
          ],
          "contour": [
           {
            "colorbar": {
             "outlinewidth": 0,
             "ticks": ""
            },
            "colorscale": [
             [
              0,
              "#0d0887"
             ],
             [
              0.1111111111111111,
              "#46039f"
             ],
             [
              0.2222222222222222,
              "#7201a8"
             ],
             [
              0.3333333333333333,
              "#9c179e"
             ],
             [
              0.4444444444444444,
              "#bd3786"
             ],
             [
              0.5555555555555556,
              "#d8576b"
             ],
             [
              0.6666666666666666,
              "#ed7953"
             ],
             [
              0.7777777777777778,
              "#fb9f3a"
             ],
             [
              0.8888888888888888,
              "#fdca26"
             ],
             [
              1,
              "#f0f921"
             ]
            ],
            "type": "contour"
           }
          ],
          "contourcarpet": [
           {
            "colorbar": {
             "outlinewidth": 0,
             "ticks": ""
            },
            "type": "contourcarpet"
           }
          ],
          "heatmap": [
           {
            "colorbar": {
             "outlinewidth": 0,
             "ticks": ""
            },
            "colorscale": [
             [
              0,
              "#0d0887"
             ],
             [
              0.1111111111111111,
              "#46039f"
             ],
             [
              0.2222222222222222,
              "#7201a8"
             ],
             [
              0.3333333333333333,
              "#9c179e"
             ],
             [
              0.4444444444444444,
              "#bd3786"
             ],
             [
              0.5555555555555556,
              "#d8576b"
             ],
             [
              0.6666666666666666,
              "#ed7953"
             ],
             [
              0.7777777777777778,
              "#fb9f3a"
             ],
             [
              0.8888888888888888,
              "#fdca26"
             ],
             [
              1,
              "#f0f921"
             ]
            ],
            "type": "heatmap"
           }
          ],
          "heatmapgl": [
           {
            "colorbar": {
             "outlinewidth": 0,
             "ticks": ""
            },
            "colorscale": [
             [
              0,
              "#0d0887"
             ],
             [
              0.1111111111111111,
              "#46039f"
             ],
             [
              0.2222222222222222,
              "#7201a8"
             ],
             [
              0.3333333333333333,
              "#9c179e"
             ],
             [
              0.4444444444444444,
              "#bd3786"
             ],
             [
              0.5555555555555556,
              "#d8576b"
             ],
             [
              0.6666666666666666,
              "#ed7953"
             ],
             [
              0.7777777777777778,
              "#fb9f3a"
             ],
             [
              0.8888888888888888,
              "#fdca26"
             ],
             [
              1,
              "#f0f921"
             ]
            ],
            "type": "heatmapgl"
           }
          ],
          "histogram": [
           {
            "marker": {
             "pattern": {
              "fillmode": "overlay",
              "size": 10,
              "solidity": 0.2
             }
            },
            "type": "histogram"
           }
          ],
          "histogram2d": [
           {
            "colorbar": {
             "outlinewidth": 0,
             "ticks": ""
            },
            "colorscale": [
             [
              0,
              "#0d0887"
             ],
             [
              0.1111111111111111,
              "#46039f"
             ],
             [
              0.2222222222222222,
              "#7201a8"
             ],
             [
              0.3333333333333333,
              "#9c179e"
             ],
             [
              0.4444444444444444,
              "#bd3786"
             ],
             [
              0.5555555555555556,
              "#d8576b"
             ],
             [
              0.6666666666666666,
              "#ed7953"
             ],
             [
              0.7777777777777778,
              "#fb9f3a"
             ],
             [
              0.8888888888888888,
              "#fdca26"
             ],
             [
              1,
              "#f0f921"
             ]
            ],
            "type": "histogram2d"
           }
          ],
          "histogram2dcontour": [
           {
            "colorbar": {
             "outlinewidth": 0,
             "ticks": ""
            },
            "colorscale": [
             [
              0,
              "#0d0887"
             ],
             [
              0.1111111111111111,
              "#46039f"
             ],
             [
              0.2222222222222222,
              "#7201a8"
             ],
             [
              0.3333333333333333,
              "#9c179e"
             ],
             [
              0.4444444444444444,
              "#bd3786"
             ],
             [
              0.5555555555555556,
              "#d8576b"
             ],
             [
              0.6666666666666666,
              "#ed7953"
             ],
             [
              0.7777777777777778,
              "#fb9f3a"
             ],
             [
              0.8888888888888888,
              "#fdca26"
             ],
             [
              1,
              "#f0f921"
             ]
            ],
            "type": "histogram2dcontour"
           }
          ],
          "mesh3d": [
           {
            "colorbar": {
             "outlinewidth": 0,
             "ticks": ""
            },
            "type": "mesh3d"
           }
          ],
          "parcoords": [
           {
            "line": {
             "colorbar": {
              "outlinewidth": 0,
              "ticks": ""
             }
            },
            "type": "parcoords"
           }
          ],
          "pie": [
           {
            "automargin": true,
            "type": "pie"
           }
          ],
          "scatter": [
           {
            "fillpattern": {
             "fillmode": "overlay",
             "size": 10,
             "solidity": 0.2
            },
            "type": "scatter"
           }
          ],
          "scatter3d": [
           {
            "line": {
             "colorbar": {
              "outlinewidth": 0,
              "ticks": ""
             }
            },
            "marker": {
             "colorbar": {
              "outlinewidth": 0,
              "ticks": ""
             }
            },
            "type": "scatter3d"
           }
          ],
          "scattercarpet": [
           {
            "marker": {
             "colorbar": {
              "outlinewidth": 0,
              "ticks": ""
             }
            },
            "type": "scattercarpet"
           }
          ],
          "scattergeo": [
           {
            "marker": {
             "colorbar": {
              "outlinewidth": 0,
              "ticks": ""
             }
            },
            "type": "scattergeo"
           }
          ],
          "scattergl": [
           {
            "marker": {
             "colorbar": {
              "outlinewidth": 0,
              "ticks": ""
             }
            },
            "type": "scattergl"
           }
          ],
          "scattermapbox": [
           {
            "marker": {
             "colorbar": {
              "outlinewidth": 0,
              "ticks": ""
             }
            },
            "type": "scattermapbox"
           }
          ],
          "scatterpolar": [
           {
            "marker": {
             "colorbar": {
              "outlinewidth": 0,
              "ticks": ""
             }
            },
            "type": "scatterpolar"
           }
          ],
          "scatterpolargl": [
           {
            "marker": {
             "colorbar": {
              "outlinewidth": 0,
              "ticks": ""
             }
            },
            "type": "scatterpolargl"
           }
          ],
          "scatterternary": [
           {
            "marker": {
             "colorbar": {
              "outlinewidth": 0,
              "ticks": ""
             }
            },
            "type": "scatterternary"
           }
          ],
          "surface": [
           {
            "colorbar": {
             "outlinewidth": 0,
             "ticks": ""
            },
            "colorscale": [
             [
              0,
              "#0d0887"
             ],
             [
              0.1111111111111111,
              "#46039f"
             ],
             [
              0.2222222222222222,
              "#7201a8"
             ],
             [
              0.3333333333333333,
              "#9c179e"
             ],
             [
              0.4444444444444444,
              "#bd3786"
             ],
             [
              0.5555555555555556,
              "#d8576b"
             ],
             [
              0.6666666666666666,
              "#ed7953"
             ],
             [
              0.7777777777777778,
              "#fb9f3a"
             ],
             [
              0.8888888888888888,
              "#fdca26"
             ],
             [
              1,
              "#f0f921"
             ]
            ],
            "type": "surface"
           }
          ],
          "table": [
           {
            "cells": {
             "fill": {
              "color": "#EBF0F8"
             },
             "line": {
              "color": "white"
             }
            },
            "header": {
             "fill": {
              "color": "#C8D4E3"
             },
             "line": {
              "color": "white"
             }
            },
            "type": "table"
           }
          ]
         },
         "layout": {
          "annotationdefaults": {
           "arrowcolor": "#2a3f5f",
           "arrowhead": 0,
           "arrowwidth": 1
          },
          "autotypenumbers": "strict",
          "coloraxis": {
           "colorbar": {
            "outlinewidth": 0,
            "ticks": ""
           }
          },
          "colorscale": {
           "diverging": [
            [
             0,
             "#8e0152"
            ],
            [
             0.1,
             "#c51b7d"
            ],
            [
             0.2,
             "#de77ae"
            ],
            [
             0.3,
             "#f1b6da"
            ],
            [
             0.4,
             "#fde0ef"
            ],
            [
             0.5,
             "#f7f7f7"
            ],
            [
             0.6,
             "#e6f5d0"
            ],
            [
             0.7,
             "#b8e186"
            ],
            [
             0.8,
             "#7fbc41"
            ],
            [
             0.9,
             "#4d9221"
            ],
            [
             1,
             "#276419"
            ]
           ],
           "sequential": [
            [
             0,
             "#0d0887"
            ],
            [
             0.1111111111111111,
             "#46039f"
            ],
            [
             0.2222222222222222,
             "#7201a8"
            ],
            [
             0.3333333333333333,
             "#9c179e"
            ],
            [
             0.4444444444444444,
             "#bd3786"
            ],
            [
             0.5555555555555556,
             "#d8576b"
            ],
            [
             0.6666666666666666,
             "#ed7953"
            ],
            [
             0.7777777777777778,
             "#fb9f3a"
            ],
            [
             0.8888888888888888,
             "#fdca26"
            ],
            [
             1,
             "#f0f921"
            ]
           ],
           "sequentialminus": [
            [
             0,
             "#0d0887"
            ],
            [
             0.1111111111111111,
             "#46039f"
            ],
            [
             0.2222222222222222,
             "#7201a8"
            ],
            [
             0.3333333333333333,
             "#9c179e"
            ],
            [
             0.4444444444444444,
             "#bd3786"
            ],
            [
             0.5555555555555556,
             "#d8576b"
            ],
            [
             0.6666666666666666,
             "#ed7953"
            ],
            [
             0.7777777777777778,
             "#fb9f3a"
            ],
            [
             0.8888888888888888,
             "#fdca26"
            ],
            [
             1,
             "#f0f921"
            ]
           ]
          },
          "colorway": [
           "#636efa",
           "#EF553B",
           "#00cc96",
           "#ab63fa",
           "#FFA15A",
           "#19d3f3",
           "#FF6692",
           "#B6E880",
           "#FF97FF",
           "#FECB52"
          ],
          "font": {
           "color": "#2a3f5f"
          },
          "geo": {
           "bgcolor": "white",
           "lakecolor": "white",
           "landcolor": "#E5ECF6",
           "showlakes": true,
           "showland": true,
           "subunitcolor": "white"
          },
          "hoverlabel": {
           "align": "left"
          },
          "hovermode": "closest",
          "mapbox": {
           "style": "light"
          },
          "paper_bgcolor": "white",
          "plot_bgcolor": "#E5ECF6",
          "polar": {
           "angularaxis": {
            "gridcolor": "white",
            "linecolor": "white",
            "ticks": ""
           },
           "bgcolor": "#E5ECF6",
           "radialaxis": {
            "gridcolor": "white",
            "linecolor": "white",
            "ticks": ""
           }
          },
          "scene": {
           "xaxis": {
            "backgroundcolor": "#E5ECF6",
            "gridcolor": "white",
            "gridwidth": 2,
            "linecolor": "white",
            "showbackground": true,
            "ticks": "",
            "zerolinecolor": "white"
           },
           "yaxis": {
            "backgroundcolor": "#E5ECF6",
            "gridcolor": "white",
            "gridwidth": 2,
            "linecolor": "white",
            "showbackground": true,
            "ticks": "",
            "zerolinecolor": "white"
           },
           "zaxis": {
            "backgroundcolor": "#E5ECF6",
            "gridcolor": "white",
            "gridwidth": 2,
            "linecolor": "white",
            "showbackground": true,
            "ticks": "",
            "zerolinecolor": "white"
           }
          },
          "shapedefaults": {
           "line": {
            "color": "#2a3f5f"
           }
          },
          "ternary": {
           "aaxis": {
            "gridcolor": "white",
            "linecolor": "white",
            "ticks": ""
           },
           "baxis": {
            "gridcolor": "white",
            "linecolor": "white",
            "ticks": ""
           },
           "bgcolor": "#E5ECF6",
           "caxis": {
            "gridcolor": "white",
            "linecolor": "white",
            "ticks": ""
           }
          },
          "title": {
           "x": 0.05
          },
          "xaxis": {
           "automargin": true,
           "gridcolor": "white",
           "linecolor": "white",
           "ticks": "",
           "title": {
            "standoff": 15
           },
           "zerolinecolor": "white",
           "zerolinewidth": 2
          },
          "yaxis": {
           "automargin": true,
           "gridcolor": "white",
           "linecolor": "white",
           "ticks": "",
           "title": {
            "standoff": 15
           },
           "zerolinecolor": "white",
           "zerolinewidth": 2
          }
         }
        }
       }
      },
      "text/html": [
       "<div>                            <div id=\"4e2a423f-592c-4a69-846c-e0493887a83c\" class=\"plotly-graph-div\" style=\"height:525px; width:100%;\"></div>            <script type=\"text/javascript\">                require([\"plotly\"], function(Plotly) {                    window.PLOTLYENV=window.PLOTLYENV || {};                                    if (document.getElementById(\"4e2a423f-592c-4a69-846c-e0493887a83c\")) {                    Plotly.newPlot(                        \"4e2a423f-592c-4a69-846c-e0493887a83c\",                        [{\"marker\":{\"color\":[[0.6396332006518749,0.8459681119432668,0.014398687404858328],[0.5150887025859194,0.925271138599333,0.059640158814747504],[0.27838968265119385,0.9989631811773795,0.2226471361714265],[0.12220964127656074,0.9725425548858224,0.40524780383761677],[0.01281401336373669,0.8409960775554288,0.6461899090808345],[0.007060504553276118,0.6739577461543323,0.8189817492923916],[0.04199351364409126,0.5553007853889638,0.9027057009669449],[0.13625135246012102,0.3847797410867785,0.9789689064531006],[0.3200952647265191,0.18594034470965728,0.9939643905638238],[0.4710033493281057,0.0822143958551497,0.9467822548167447],[0.5826572939811918,0.03161652185328644,0.8857261841655217],[0.8699791257740174,0.02374323183814341,0.6062776423878393],[0.9605242311283051,0.10110196178660116,0.4383738070850938],[0.9975092103067833,0.2080778231643759,0.2944129665288409],[0.9700972145087127,0.4124520933655462,0.11745069212574132],[0.9145597069131195,0.5348052288039574,0.05063506428292314],[0.757107530351543,0.7428244630194176,6.800662903960289e-05],[0.6396863938655238,0.8459281146396388,0.014385491494837293],[0.5114602240655867,0.9271688339676271,0.06137094196678627],[0.35202703613423914,0.9876022474370336,0.16037071642872722],[0.15157050464152116,0.9847749915501779,0.36365450380830083],[0.03717468069196694,0.8952557030082063,0.5675696162998263],[0.0037157014224521554,0.6954503924472764,0.8008339061302713],[0.044373430249053124,0.5494784265254046,0.9061481432255424],[0.15587508839253522,0.35792310152228307,0.9862018100851817],[0.34160409112323387,0.1684875308570873,0.989908378019679],[0.44835292205739297,0.09512708611268918,0.9565199918299181],[0.5852374537307502,0.03070700350834006,0.88405554276091],[0.8667316996331038,0.022302882114353554,0.6109654182525428],[0.9770897577659665,0.1318826615582485,0.3910275806757852],[0.9992381836752561,0.22648683001582165,0.27427498630892233],[0.9619080275384044,0.4348191160549204,0.10327285640667512],[0.881270115592927,0.5894985250114836,0.029231359395589296],[0.7593592130418213,0.740522499034616,0.00011828792356261172],[0.6498310203976205,0.8381982743629686,0.011970705239410807],[0.5195908580803966,0.9228847631453873,0.05752437877421604],[0.38173106748445806,0.979859251243426,0.1384096812721158],[0.15187577532003124,0.9848790088292647,0.36324521585070396],[0.05518188450819092,0.9201529150404784,0.5246652004513307],[0.00037369116726662774,0.7330750648708539,0.7665512439618791],[0.0907039777474586,0.4559361806352679,0.9533598416172734],[0.21973261765883043,0.2815424952430754,0.9987248870980944],[0.3861473978357885,0.13528879239089794,0.9785638097733136],[0.47853258584027675,0.07812029698145616,0.9433471171782671],[0.6408024200007305,0.014109910616018255,0.8450876693832513],[0.8420919908352427,0.013153747529308453,0.6447542616354491],[0.9711981100473175,0.11955876943386667,0.40924312051881584],[0.9997075692166844,0.2353388202573166,0.2649536105259992],[0.9608131999907862,0.4376362398868486,0.10155056012236494],[0.8809234191020935,0.5900253874510758,0.029051193446830697],[0.7820610526969852,0.7165043277756912,0.0014346195273235959],[0.657609637972715,0.8321324043380601,0.010257957689224847],[0.5310284133101978,0.916663914234412,0.05230767245539014],[0.35046182045553315,0.9879624460158873,0.16157573352857954],[0.15291081987738744,0.985228445564538,0.3618607345580742],[0.01776451666028098,0.8555148743091031,0.626720609030616],[0.012653119868310178,0.6468758997074697,0.8404709804242199],[0.11186731663703184,0.4210924142102027,0.9670402691527655],[0.1729051921886988,0.33604665577342746,0.9910481520378739],[0.3429756439645932,0.16740694366918607,0.9896174123662207],[0.508296680502688,0.06289857473888599,0.9288047447584263],[0.6588915898581477,0.009987405385098387,0.8311210047567539],[0.7802276958649058,0.0012716949514341833,0.71850060918366],[0.9685860581433003,0.11464297923842819,0.4167709626182717],[0.9999974555536416,0.2513826953709442,0.2486198490754143],[0.9531063610428342,0.4565341461478272,0.09035949280933867],[0.8610747722855334,0.618993508113924,0.019931719600542862],[0.7854923802392818,0.712740202895594,0.0017674168651242589],[0.6696754003945725,0.8224799815643897,0.007844618041037513],[0.5274709654909088,0.9186231757098239,0.053905858799267285],[0.34495209437401053,0.9891914281140508,0.1658564775119384],[0.16363247117643123,0.9885627028032526,0.34780482602031587],[0.042364086822458104,0.9032514058684835,0.5543845073090584],[0.00026020161699971976,0.7359020634934162,0.7638377348895841],[0.13248342787175493,0.39016217418876364,0.9773543979394814],[0.22262712416922903,0.278411243355691,0.99896163247508],[0.3159949803752882,0.18937785263810628,0.9946271669866057],[0.48325756049406104,0.07560134090331756,0.9411410986026216],[0.6502312612260103,0.011879616251111834,0.8378891225228781],[0.7919932376450463,0.0024995236208738684,0.7055072387340798],[0.9508730085003679,0.0873867139247981,0.46174027757483405],[0.9991139366885028,0.22467563651229458,0.27621042679920277],[0.9568873247572751,0.44745539775843396,0.09565727748429091],[0.87705745535298,0.5958491134469902,0.02709343120002937],[0.7721010711705848,0.7272272579844014,0.0006716708450135528],[0.6618318945701057,0.8287886150826216,0.009379490347272701],[0.5351638223315569,0.9143586277967921,0.0504775498716508],[0.358242339591189,0.9861240279930917,0.15563363241571906],[0.1705203480935542,0.9904427108570959,0.3390369410493498],[0.041974817552037,0.9026780719120926,0.5553471105358703],[0.0011763409677213973,0.7197265150957598,0.7790971439365189],[0.08630258492366011,0.4636598168187008,0.9500375982576391],[0.22896153757813595,0.27164615730191943,0.9993923051199447],[0.34446123980021387,0.16624080204408528,0.9892979581557009],[0.4700346617266798,0.0827482895731829,0.9472170487001376],[0.6280251952051894,0.017409856362617607,0.8545649484321934],[0.8224098173990835,0.007828427973897191,0.6697617546270194],[0.9340979642258916,0.06808078241642783,0.49782125335768074],[0.998415134118756,0.216342969069079,0.285241896812165],[0.9514445039581629,0.4604185411976862,0.08813695484415093],[0.8649383800749791,0.6135290938446766,0.021532526080344158],[0.7707632429155197,0.7286450942025108,0.0005916628819696172],[0.6772642913459119,0.8162542930481055,0.006481415605982724],[0.5485219652307732,0.9067079422128516,0.044770092556374985],[0.38094997112968565,0.9800845440733322,0.13896548479698198],[0.17988530126827715,0.9926906831463527,0.3274240155853698],[0.06186855090485337,0.9277056655592125,0.5104257835359343],[0.00024052402294126924,0.7364503065652807,0.7633091694117781],[0.12151025641712525,0.40629764084204767,0.972192102740827],[0.2642468406963895,0.2360188366259832,0.9997343226776273],[0.3513746043430518,0.16087241335638536,0.987752982300563],[0.46791064340017036,0.08392466615657904,0.9481646904432507],[0.6093013219510344,0.022809499760991288,0.8678891782879744],[0.8159987199954601,0.006428581092528356,0.6775726989120114],[0.9322233715486999,0.06620226089355005,0.5015743675577501],[0.998415134118756,0.216342969069079,0.285241896812165],[0.9637817937935584,0.42991094428317145,0.10630726192327022],[0.8746469130484958,0.5994338762632931,0.025919210688211056],[0.7718929597258739,0.7274481593911779,0.0006588808829482501],[0.6449615878412985,0.8419339784245183,0.013104433734183053],[0.5411539250902462,0.9109665066874095,0.04787956822234431],[0.41870172026020425,0.9678995843208222,0.11339869541897349],[0.20528696061097573,0.9971538443134443,0.2975591950755797],[0.06717229426866088,0.9331974612485661,0.4996302444827728],[0.00041424700419878343,0.7674154913071087,0.7321702616886921],[0.07797276818304402,0.4788073246420957,0.9432199071748603],[0.27736225079495314,0.223602064969922,0.9990356842351249],[0.36402286952256946,0.1512960347196972,0.9846810957577333],[0.4710949682874108,0.08216398448370475,0.9467410472288846],[0.6366871554000847,0.01513815600005718,0.8481746885998582],[0.8153768803481356,0.006301042867893588,0.678322076783971],[0.926738385861669,0.060974514171907745,0.5122870999664234],[0.9926166207547242,0.17955230253893517,0.3278310767063406],[0.9701643467976376,0.4122579611547472,0.11757769204761515],[0.8648564317154426,0.6136458258563506,0.02149774242820688],[0.7723600138378344,0.726952224020022,0.0006877621421437105],[0.6669313878766605,0.8247014701086798,0.008367142014659492],[0.5289800587475647,0.9177947345796107,0.05322520667282454],[0.39772520072436035,0.9749945678853862,0.12728023139025335],[0.20444393706073008,0.9970414853907098,0.2985145775485601],[0.08218048958692765,0.9467545418608486,0.4710649685522237],[0.0005073660575973767,0.7692484060377791,0.7302442279046234],[0.09014740266643359,0.45690283940496845,0.9529497579285979],[0.23575016506946062,0.2645259259617742,0.9997239089687653],[0.38513079006440093,0.13600394820849546,0.9788652617271036],[0.4908727071532848,0.07162309693189717,0.9375041959148182],[0.6218856870755164,0.01910726723187547,0.8590070456926083],[0.7797277315823139,0.001229047154463871,0.7190432212632224],[0.9157356439945742,0.051564296243088774,0.5327000597623369],[0.9913722458126158,0.1742202629050465,0.33440749128233765],[0.9747687626710734,0.39843154738356995,0.1267996899453567],[0.8833649555208941,0.5862986064140826,0.030336438065023067],[0.770593679107616,0.728824425439399,0.0005818954529848291],[0.6582845108211366,0.8316003771777535,0.010115112001109872],[0.521383876474881,0.9219245748202332,0.05669154870488573],[0.410260539542909,0.9708510935857382,0.11888836687135264],[0.23460752893551842,0.99967733480946,0.26571513625502136],[0.054463277780608756,0.919295132480674,0.5262415897387172],[0.00010805300620150745,0.7409442515470711,0.7589476954467272],[0.04967389589227455,0.5370014194892815,0.9133246846184438],[0.22273410078705103,0.27829600194466986,0.9989698972682791],[0.38962122962774143,0.13285966176101782,0.9775191086112409],[0.5048511781695783,0.06458209048357176,0.9305667313468501],[0.6545550606721334,0.0109160225125138,0.834528916815353],[0.8194452920273473,0.0071617148290329434,0.6733929931436199],[0.9260922056047034,0.06038365589886391,0.5135241384964329],[0.988105509379028,0.1620602984787794,0.34983419214219275],[0.9745033557506982,0.39925811677688333,0.1262385274724184],[0.8696345969502991,0.6067777950244537,0.023587608025247103],[0.7854015556867838,0.7128403084021678,0.001758135911048125],[0.6548414538464086,0.8343050229735538,0.010853523180037513],[0.5111987840491867,0.9273046856033088,0.06149653034750443],[0.36260951066206554,0.9850399216850331,0.15235056765290111],[0.2283363906756918,0.9993550673657495,0.27230854195855864],[0.09482898527985563,0.9563124011316754,0.4488586135884688],[0.0013595250351327642,0.781230385478153,0.7174100894867144],[0.062062957629189654,0.5100226904310438,0.9279143519397667],[0.2709669663785395,0.22960366676203015,0.9994293668594305],[0.3646719427938829,0.15081305079490545,0.9845150064112118],[0.5021275177931552,0.06592745914740958,0.9319450230594353],[0.648276748126914,0.012327462325263178,0.839395789547823],[0.832533871031545,0.010366525611415439,0.6570996033570397],[0.9403302960038983,0.07469606284339217,0.48497364115270974],[0.9927707309517703,0.18024737317449405,0.3269818958737358],[0.9761989384957622,0.3939078344577543,0.1298932270464835],[0.8785656907224904,0.5935881735782227,0.02784613569928692],[0.7644288731121459,0.7352879828896778,0.00028314399817635583],[0.6654422378621052,0.8259005269082051,0.0086572352296894],[0.5245929663424418,0.9201921172622006,0.05521491639535755],[0.3175023583590904,0.9943877027167929,0.1881099389241166],[0.1393427006782145,0.9802365260736956,0.3804207732480897],[0.03310097032487006,0.8883816679443898,0.5785173617307399],[0.0026114409584785153,0.7044962478796438,0.7928923111618773],[0.06830065173482004,0.4973851357503525,0.9343142125148275],[0.21953482315830616,0.2817573962047495,0.9987077806369445],[0.3854031609008873,0.13581215245255,0.9787846866465629],[0.5186207182914657,0.057977321133956476,0.9234019605745779],[0.66302423008705,0.009138003677154926,0.8278377662357952],[0.8486066086919862,0.0152855581569701,0.6361078331510438],[0.9371422296573862,0.07123848746573419,0.49161928287687984],[0.9939541535814439,0.18588894805712838,0.32015689836142763],[0.9874079510587092,0.3528626695069273,0.1597293794343637],[0.8864279492909467,0.58156790249546,0.032004148213593146],[0.7631044644262627,0.7366624206718768,0.0002331149018604283],[0.6585103511003745,0.8314221326195325,0.010067516280092934],[0.5033295078538955,0.9313383474280982,0.06533214471800632],[0.3287337770388416,0.9924511428588161,0.17881508010234234],[0.18999688139599233,0.9947419746809254,0.3152611439230823],[0.03221390986829177,0.8868052107344726,0.5809808793972354],[0.0026170867411472926,0.7044457992311861,0.7929371140276666],[0.07573332925244264,0.48300816419089065,0.9412585065566668],[0.21272447527329114,0.2892303983459775,0.9980451263807314],[0.4005695582406893,0.12535076614921822,0.9740796756100925],[0.5027395835584141,0.06562400617347264,0.9316364102681136],[0.684188757828005,0.005343978455539742,0.8104672637164554],[0.865301567688722,0.021687122739655826,0.6130113095716223],[0.9451647749246324,0.08025970025738485,0.474575524817983],[0.9953638591835583,0.1934879313545113,0.31114820946193045],[0.9804673242480172,0.37961358543496937,0.13991909031701338],[0.8854645699242779,0.5830625645180835,0.03147286555763857],[0.776911609947119,0.7220854134847063,0.0010029765681746784],[0.6678708887777721,0.8239426299491697,0.008186481273058053],[0.5378597415705478,0.9128397205202723,0.04930053790917974],[0.29421948672400566,0.9975303271667021,0.20825018610929197],[0.13303919874965808,0.9775974313447134,0.38936336990562836],[0.041939710890192786,0.9026261659824695,0.5554341231273375],[0.0012858063080381467,0.7183230065961885,0.7803911870957735],[0.061608179367912255,0.5109665687184619,0.9274252519136259],[0.20619258658822884,0.29653546775119183,0.9972719456605794],[0.3661537132638099,0.14971350943666228,0.9841327772995279],[0.4794826345670488,0.0776106984535554,0.9429066669793958],[0.661280238007465,0.009492202810744326,0.8292275591817907],[0.8504642565995401,0.015929558606470787,0.6336061847939894],[0.9512377192055741,0.08786467845721775,0.46089760233720845],[0.9959459156641828,0.19699762683382102,0.3070564575019962],[0.984598325343851,0.36434673413358337,0.15105494052256524],[0.883930738397687,0.5854294596733892,0.030639801928923984],[0.7933459364824678,0.7039851575193392,0.002668905998192919],[0.6663361778123658,0.8251812798493958,0.008482542338238145],[0.5262097439507719,0.9193125039376621,0.05447775211156594],[0.309116696406832,0.9956574352272465,0.19522586836592143],[0.13288670800618096,0.9775309189037333,0.38958237309008537],[0.033112396295430314,0.8884017772206201,0.5784858264839496],[0.00018458207779320802,0.7381428882894008,0.7616725296328062],[0.05214848055941966,0.5313854719853005,0.9164660474552798],[0.18214304505150186,0.3246752543885902,0.9931817005599081],[0.3563906128948077,0.15703697789544274,0.9865724092097495],[0.49245633728860205,0.07080841504356702,0.9367352476678311],[0.6355993998596735,0.015415461012559988,0.8489851391277667],[0.8376420588031291,0.01180711821412118,0.6505508229827497],[0.9592241812739145,0.09911367458157555,0.44166214414450994],[0.9969469492945787,0.20374789843534735,0.2993051522700741],[0.9793906429863428,0.38334312194161685,0.13726623507204042],[0.9087963422542964,0.5449292499873994,0.04627440775830401],[0.8119477344128753,0.6824289375189451,0.005623328068179454],[0.6770253501847301,0.8164521617070539,0.006522488108215652],[0.5597786873134181,0.9000174850949559,0.040203827591625864],[0.3203745477838,0.9939179385059286,0.18570751371027114],[0.13004010652164497,0.9762654731786372,0.3936944202997178],[0.04217602092755224,0.902974918213479,0.5548490608589689],[1.0482390117535414e-06,0.7491128088433763,0.7508861429176121],[0.040474818605038446,0.5590949143555745,0.9004302670393872],[0.1315082239187766,0.39156797937584914,0.9769237967053743],[0.32058233591645147,0.18553439400653418,0.9938832700770145],[0.48448897903120997,0.07495121733172846,0.9405598036370617],[0.6291643501577655,0.017102838354485127,0.8537328114877494],[0.8407035147034396,0.012724219731836812,0.6465722655647237],[0.9591156960490995,0.09894992698838806,0.44193437696251264],[0.9965109826140904,0.20067951963300476,0.3028094977529049],[0.9844813074535913,0.36480324869666836,0.15071544384974048],[0.9025700948585298,0.5555280928969182,0.041901812244552125],[0.8031582311784187,0.6927627423827473,0.004079026438833801],[0.7193357795030938,0.7794578763862502,0.0012063441106558521],[0.5514814269624373,0.9049706132893148,0.04354795974824753],[0.3011164270834506,0.9967250523001179,0.20215852061643141],[0.12583000847766412,0.9743089729690803,0.39986101855325556],[0.034865993438825675,0.8914309921366589,0.5737030144245153],[3.219172843094047e-07,0.7495084757485602,0.7504912023341553],[0.022470636043223757,0.6104125105153486,0.8671168534414277],[0.14253402209278124,0.3759730907188418,0.9814928871883769],[0.3044372761213784,0.19926358846881623,0.9962991354098054],[0.43381717554049065,0.10388880819534145,0.9622940162641679],[0.6306101687343569,0.01671676085988716,0.8526730704057561],[0.8361447254434918,0.011373363141424621,0.6524819114150835],[0.9631995144819845,0.10535222118946996,0.43144826432854577],[0.9970149407528578,0.20424730233736904,0.29873775690977317],[0.9897128288023521,0.34252784607975173,0.1677593251178962],[0.9160746249710016,0.5320906322469486,0.05183474278204982],[0.8219911278817211,0.6702766582180348,0.007732213900243621],[0.7024189750146744,0.7947323250301953,0.0028486999551303738],[0.5714416675049203,0.8928489576562288,0.035709374838850734],[0.3268403563600502,0.9927962707248219,0.18036337291512794],[0.12570572876774633,0.9742496415126046,0.4000446297196489],[0.037997534405551266,0.8965768691042839,0.5654255964901644],[6.707169248160542e-05,0.7428741869875555,0.757058741319963],[0.03537286876869821,0.5723410001776109,0.8922861310536907],[0.14092330817965432,0.3782113689507288,0.9808653228696169],[0.27286115181124204,0.22781567138079464,0.9993231768079635],[0.44846118863774703,0.09506322602668446,0.9564755853355686],[0.614335867350175,0.0212926469606467,0.8643714856891785],[0.8310751194387531,0.009975231031227102,0.6589496495300198],[0.9524514991844953,0.08947631047277366,0.4580721903427311],[0.9973883659147017,0.20710615539771,0.2955054786875885],[0.9855308945906945,0.36065028070803656,0.15381882470126892],[0.9130650684872168,0.5374611888247075,0.04947374268807557],[0.8080931590093976,0.6869944063440808,0.004912434646521561],[0.7290738423799055,0.7703577151106584,0.0005684425094361975],[0.5724532554839039,0.8922157771707016,0.035330967345394426],[0.2887509894728611,0.9980915633251074,0.21315744720203125],[0.12421096735556612,0.9735288143470173,0.40226021829741654],[0.04436303269303754,0.906133417176968,0.5495035501299942],[1.6559433782549213e-05,0.75351583289138,0.7464676076748373],[0.03347627293872898,0.577484108165354,0.889039618895917],[0.11508075114383598,0.41609414377790244,0.9688251050782617],[0.2657367116854196,0.23458683134311828,0.999676456971462],[0.44836313059431954,0.0951210638164074,0.9565158055892732],[0.6364065635778593,0.01520946797450878,0.8483839684476319],[0.819515716629023,0.007177162859612203,0.6733071205113651],[0.9438605812463672,0.07871866646073886,0.477420752292894],[0.9976940166209308,0.20961386116428765,0.29269212221478164],[0.9889356684234705,0.346121536618791,0.1649427949577386],[0.9155692640008805,0.5329987563662093,0.05143197963291018],[0.7898926242937954,0.7078591580275914,0.002248217678613258],[0.7038925784190581,0.7934280427206318,0.002679378860309858],[0.5899616778134213,0.8809653694268601,0.02907295275971857],[0.34398209509358274,0.9894014779218409,0.16661642698457627],[0.12028493164176529,0.971570775164123,0.4081442931941115],[0.03383195497173953,0.8896583350494159,0.5765097099788444],[0.0005464036427451759,0.7699648517993016,0.7294887445579531],[0.02390363255621404,0.6057636922645658,0.8703326751792199],[0.14428587592952213,0.37355360091036205,0.9821605231601158],[0.29605026464138556,0.2066226461282411,0.9973270892303735],[0.4002153430450124,0.12559023482571663,0.9741944221292711],[0.5899499587605196,0.02907695607520492,0.8809730851642756],[0.8061730293870722,0.004578040082109023,0.6892489305308188],[0.9366741428946574,0.07074405861588205,0.4925817984894607],[0.9962958980010307,0.1992422969560294,0.3044618050429399],[0.9842257570180611,0.3657947772907974,0.14997946569114146],[0.915270286851247,0.5335348000662266,0.051194913082526286],[0.8305835938168062,0.6595710443405979,0.009845361842595863],[0.7018877909889699,0.7952012671507197,0.0029109418603105825],[0.5883862773236819,0.88200036138907,0.02961336128724796],[0.34113597245478505,0.9900068127606663,0.16885721478454846],[0.14122540498629066,0.9809840356847761,0.3777905593289332],[0.04487367246314364,0.9068534855571702,0.5482728419796861],[0.00030472044345521767,0.7649628867719512,0.7347323927845932],[0.03051763159825517,0.5857790100763107,0.8837033583254341],[0.10294372736382859,0.43535568853868256,0.9617005840974889],[0.2617795915401741,0.23840260285462475,0.9998178056052011],[0.3969872069342163,0.1277832872402908,0.975229505825493],[0.572349802958191,0.03536958214967934,0.8922806148921297],[0.816070445707514,0.006443384366751084,0.677486169925735],[0.934649581075361,0.06864295429207663,0.49670746463256255],[0.9945197557657842,0.1888053243305199,0.31667491990369606],[0.9823490365302413,0.37286299845091864,0.14478796501883986],[0.9285567713516931,0.5087783790645652,0.06266484958374163],[0.8174611873230218,0.6758046001635827,0.00673421251339551],[0.6868792155656154,0.808190967612275,0.004929816822109625],[0.6074033478127187,0.8692030324507173,0.023393619736564036],[0.3887766481880785,0.9777751803788026,0.13344817143311874],[0.15040698025470092,0.9843745136277972,0.36521850611750173],[0.04201105507409963,0.9027316151361433,0.5552573297897571],[0.00011211616400473416,0.7407745528719446,0.7591133309640505],[0.027937529983907226,0.5933155445541614,0.8787469254619313],[0.10883229195607018,0.42587870364892494,0.9652890043950051],[0.2600677230062779,0.2400656556826696,0.9998666213110525],[0.4065952374558182,0.1213123687535214,0.9720923937906605],[0.5533197576930208,0.04279656635366667,0.9038836759533126],[0.8534747574958254,0.017008320286450926,0.6295169222177238],[0.9362014678416645,0.07024811538637554,0.49355041677196015],[0.9949776933224126,0.19129177458567564,0.3137305320919118],[0.9869698387211473,0.3547254779093937,0.15830468336945902],[0.9259677016197307,0.5137619052311307,0.06027039314913843],[0.7908412320551741,0.7067988231044279,0.002359944840397899],[0.6888229295464461,0.8065366939183007,0.004640376535253081],[0.5701532799883896,0.8936527478253864,0.03619397218622392],[0.4263271999913556,0.9651227982288803,0.10855000177976395],[0.17800714613148727,0.9922673908644022,0.3297254630041105],[0.06594737773488579,0.9319652346168426,0.5020873876482712],[0.00015052630346845919,0.7393003435020404,0.7605491301944909],[0.016449691717233324,0.6316192440878099,0.8519310641949568],[0.11130967995663879,0.4219669738017815,0.9667233462415799],[0.2969492275073816,0.2058262734818083,0.9972244990108101],[0.38893829393141605,0.13333543254296124,0.9777262735256228],[0.5481587837291159,0.04492113172938058,0.9069200845415037],[0.8617115449556141,0.020190102806765926,0.6180983522376201],[0.9447339680740654,0.07974725793368882,0.4755187739922458],[0.9910109985045912,0.17275620182581994,0.336232799669589],[0.982811544914858,0.3711542518526958,0.14603420323244604],[0.9255645472814237,0.5145305330219743,0.059904919696602124],[0.8154868776247003,0.6781896237685202,0.006323498606779419],[0.7026565708717025,0.7945223628039766,0.002821066324320821],[0.5767788499514361,0.889487608937182,0.03373354111138172],[0.46562727756531136,0.9491746561563633,0.08519806627832513],[0.1986964694328804,0.9962123776959723,0.30509115287114696],[0.09814204487343942,0.9585772609383582,0.44328069418820226],[6.760035985630613e-05,0.7570863713443919,0.7428460282957516],[0.025424132461841404,0.600967321010762,0.8736085465273965]],\"size\":2},\"mode\":\"markers\",\"x\":[-5589.852653098818,-4890.848093875686,-3442.765390794769,-1243.7123227337152,1211.0819124020904,3283.464094117289,4720.527008863503,5477.759064244549,5675.802725209502,5395.669188848676,4542.839833272623,2961.4227204778963,766.2530387882814,-1534.1832080268791,-3552.2376604954256,-4927.413375631113,-5556.263943368235,-5694.325631928892,-5246.035148136741,-4208.742207708596,-2428.285988647356,-163.02392824362315,2107.6050197300674,3928.455600879446,5072.280294431938,5563.447432495652,5513.511763157334,4949.991736124384,3775.8383193058135,1954.0045236881956,-239.54987439782923,-2384.078072343884,-4140.363473462157,-5212.849702601255,-5574.036327873961,-5387.106647048962,-4658.759414372944,-3296.9904249860233,-1384.4498965496655,819.0192623928397,2843.639710743811,4368.1794133072335,5220.18903428621,5446.16678067458,5124.944570649853,4242.677690534985,2880.7443810810514,1014.5069742598482,-1084.232180535437,-3045.890114244526,-4581.698779624864,-5256.0883677261845,-5327.376474409696,-4844.004471781933,-3851.2162842068433,-2348.3565915280474,-490.0281918387542,1520.3014194855728,3340.4738454176886,4618.355134611617,5183.737523073002,5099.890845882117,4506.585251165672,3448.303136388209,2016.1330010105323,215.47876700320006,-1694.8819952049078,-3501.539057046059,-4666.230229738322,-5084.910124402136,-4863.850134824221,-4086.3585450188157,-2942.8438235825533,-1514.4663051233665,201.17209728637692,2053.492630448854,3629.4295121857954,4607.574995015809,4897.871885909097,4505.90345681151,3701.8793274934433,2626.4593174891975,1275.7605676814426,-434.3165876086789,-2176.387327082229,-3665.068155834622,-4545.60034111282,-4625.5039653163585,-4140.613904226795,-3262.251067927377,-2167.626874999695,-847.0917407771655,756.1031922117465,2408.3552383055467,3717.3089860296327,4401.661941882223,4342.155964577798,3775.5612436780134,2939.994347720058,1982.3028404622078,717.1028180641794,-885.705656471941,-2429.5185451825787,-3675.1353312272204,-4174.099100257874,-3966.9076338287045,-3343.1989690137048,-2555.2442844806837,-1609.3516297093045,-381.6146699268282,1098.1892479957066,2546.9125092959544,3578.9128372286127,3931.8036710739584,3652.9644642366056,3052.6085851741936,2308.87847312824,1504.4748881080454,303.3010747497458,-1121.0021466128846,-2504.236782168556,-3401.997967168301,-3576.485033015249,-3227.367589685614,-2665.7227840460546,-2035.558538143131,-1223.619491030248,-113.86683785170658,1212.2166025166111,2472.9831438527112,3213.1372918991924,3333.7600126841,2954.775289498916,2483.332203698736,1924.8513922020668,1166.7359315549634,96.34836532899105,-1139.9670688748927,-2247.3201967540376,-2855.3206571234036,-2889.3147014508836,-2598.0411833538374,-2187.315812399569,-1679.8643716000104,-997.5612545574012,-35.80952491811436,1145.822304100127,2140.1432005100446,2627.669276721575,2686.9323432143715,2404.833473039564,2059.2147248117276,1634.5850746754131,1004.8487545022081,67.74923477175238,-954.7681967812908,-1783.4512755814185,-2223.588937088546,-2283.565845293666,-2149.1964284084597,-1898.683419638061,-1497.9143860223555,-934.8692845648312,-110.0336560690336,864.2705325166319,1625.4153838726263,2086.43073687782,2157.145903650191,2043.137803858663,1837.9326277449566,1580.6908446524224,1040.023458008672,261.771449847915,-543.5082532953883,-1259.207141058654,-1729.518108848871,-1902.4011227911571,-1891.317753690393,-1789.581745479009,-1580.1645842313997,-1162.9121589683073,-473.3581102658875,391.4330842771071,1142.8284806755626,1637.3343608088187,1843.6311727337893,1875.3523386603144,1812.1959253299242,1685.355511476675,1331.953912512391,759.6178311214825,1.8202310940392246,-799.1004933571701,-1397.7744376953328,-1690.267939379508,-1801.6130778902811,-1863.8977420502993,-1827.9841576383415,-1551.1106062957438,-946.2484393748488,-74.64761219253478,764.3595770180183,1395.7501913513383,1695.490062023493,1890.0729874400224,2010.8079083888656,2025.9510129407638,1820.4694264430377,1274.369185225211,395.6012986942538,-550.5936659951278,-1245.5568067909003,-1661.184099371543,-1950.360163580491,-2155.021761907735,-2290.6487355119757,-2140.4724939379635,-1427.646031789075,-423.3091387893438,570.30036352203,1304.262755395822,1733.7508612600047,2070.3535286897236,2389.3184527442713,2580.15151902609,2384.975664216259,1682.4143727539824,628.443980347031,-436.241309570314,-1231.4127124798983,-1817.6365070458696,-2295.659563243548,-2673.8439496071114,-2946.5289025111365,-2667.279225959638,-1718.6731236510877,-545.0947019399839,563.8140076094322,1373.8761271015612,1970.6577489331003,2511.340485513534,3034.1574277112095,3247.638160613251,2887.293220626364,1953.6870189822487,661.8383892280135,-566.726965186245,-1487.239590848734,-2186.552928407097,-2844.1278765340508,-3411.142061273018,-3566.599477862253,-2998.582471143787,-1827.7647858929222,-510.3695552741377,721.3140944612451,1689.487998192906,2485.8690528755014,3207.4085053208996,3752.3420537719867,3805.431418234391,3164.1968076305347,1972.906713611005,501.8209831020778,-849.4081513451856,-1916.4306999769788,-2776.9948267407744,-3585.1187199313867,-4103.8853535302815,-3995.277361266103,-3137.983292220884,-1780.9215514598966,-278.02091162317834,1085.711776509162,2186.5381024256244,3159.924284401873,3968.0421690610046,4356.370403799537,4139.395941945177,3242.3441890075205,1807.5907025635368,151.21831674028795,-1330.701538146922,-2559.360223390472,-3593.35743482388,-4324.4384023153425,-4590.645958186116,-4201.620923402616,-3087.7632164777583,-1540.399192279527,127.11467143043993,1655.9210925220723,2942.4843747108002,3972.325082108877,4647.152407491239,4800.445357225126,4312.115840152939,3126.5731396340084,1451.4354463140392,-381.36407002141857,-2015.2861598931224,-3348.2273362652513,-4369.975803481579,-4871.305655203267,-4877.221518153805,-4188.330687753246,-2829.2858270571264,-1078.9808755409713,770.923315301216,2455.9650412157416,3787.6697784037215,4691.32121319821,5132.613892309865,5028.364579574324,4210.714465423692,2761.3343062016465,806.5540523655925,-1215.358503606399,-2933.8308310517587,-4183.754422709406,-4976.763522487187,-5270.543265093738,-5009.554197596477,-4010.8353953952214,-2356.7754291692486,-360.55102783012256,1669.194681750124,3403.1507646089344,4591.480933367834,5251.586935854844,5420.916571126319,5077.378531482293,3969.0975204055594,2226.608070733626,-42.343812435516874,-2155.662059645594,-3817.344348198082,-4835.751533497278,-5366.293141253159,-5425.686485893261,-4882.579709170009,-3614.356582819116,-1697.495505813086,539.9258978632143,2652.806538278018,4241.382215740893,5155.266733386146,5599.95533040469,5503.411144528839,4848.40560994512,3489.400870068284,1365.434028565574,-1021.0485525555838,-3094.231881317874,-4500.856969793698,-5303.193182249278,-5607.330117634653,-5397.933940098847,-4550.443194344398,-2961.6850333582506,-788.4218230823868,1550.0905759261868,3566.0385569739074,4876.862906526044,5524.4399094355185,5710.49190918849,5378.031403330833,4428.4047637965205,2643.8933478538142,306.69868813635236,-2028.4827790442562,-3847.471342878471,-4998.043657825385,-5587.31529113581,-5620.4246415868065,-5135.65990540186,-3977.30419656111,-2044.7592892701336,306.9237817903773,2560.558542026307,4305.859938123404,5294.83670502458,5702.299565317612,5622.970396126995,5058.080273477976,3679.009719178485,1651.078636456496,-765.7729259835727,-2923.719748431975,-4465.598210837917,-5341.17309919687,-5649.2354142876675,-5442.236257581654,-4656.280002168257,-3167.9960206263277,-1035.250080243373,1315.0569113337458,3379.2457718826486],\"y\":[1588.0842850454599,1055.8292843221313,350.5425000277835,-448.6607670524893,-1154.74632906785,-1630.9333636368995,-1846.7102780493567,-1883.5825456208315,-1696.891110195416,-1252.7639721742737,-583.9542823716627,244.58076088310858,1085.7535061369383,1741.979253673198,2030.1402496122776,2072.1656319964836,1985.2110946128846,1572.5440520926231,928.1595205270337,34.461502788247046,-983.8291499338479,-1809.8763778385935,-2222.837545985813,-2271.627109309669,-2126.9485639504173,-1802.32532231304,-1241.9421008126767,-426.8479310701233,604.5697068289596,1645.1908697324504,2363.898721250489,2609.5364075934076,2480.0736452074543,2194.1494850821105,1670.9575944497442,909.5950193335624,-129.62260004932918,-1368.4107591353488,-2381.8369603326328,-2849.563368825344,-2828.449540456637,-2515.7144548321985,-2016.670460266415,-1325.0551356590004,-393.4301773566036,793.3273421627435,2063.3290544331185,2974.2841865318173,3264.466958528912,3039.358449003406,2533.4116449276344,1861.334733741116,985.6687867768467,-168.729766285137,-1575.3248331326477,-2817.181887131789,-3481.947787776674,-3490.2699508950427,-3056.6926737641106,-2369.0735503694696,-1515.4838089975144,-470.13105346311744,855.3052730022036,2295.4003262539545,3454.186783338274,3921.786836467452,3737.1812439298733,3093.533788015277,2189.358667776322,1155.767104430688,-106.39132742582889,-1605.1495468943615,-3034.074101994125,-3946.0667428693687,-4138.0102907245255,-3717.5482361318104,-2909.4530296882226,-1867.4619520954186,-639.4951110079714,785.2178437033123,2358.988741239139,3710.6139396905423,4426.000982997438,4369.6730123797215,3768.0048402641755,2718.7488467848357,1466.671615535835,66.55084976774748,-1572.465789047782,-3130.0668242970496,-4220.278299767836,-4636.662163391276,-4369.582254739292,-3550.0687898286405,-2367.768877736791,-967.5164432491893,611.2978783484178,2318.752484785512,3816.9145346361115,4758.346636085259,4947.393627532224,4417.575234223556,3360.5605583312454,1940.4400955028652,343.47649406446584,-1418.029757019673,-3092.2558785137976,-4347.093859323283,-4973.840717280843,-4922.088604061388,-4219.527310616991,-2994.5648561374933,-1449.3655067188108,319.2320093410891,2181.2640257585217,3819.210577029689,4896.1941261964585,5329.116797259892,5026.853967485475,4042.367096332342,2564.4108587836236,790.4435009894976,-1140.3079401296077,-2955.019666966764,-4340.1143006923885,-5141.921410105645,-5317.9672609309755,-4831.351408117821,-3698.5106538530536,-2060.148787386116,-114.2371121702276,1943.0537569485525,3695.896193466677,4924.549415481387,5495.422798974298,5446.662295782289,4669.578232483608,3281.427413820226,1414.1675390222779,-724.4885370238184,-2727.719672852322,-4255.004083155415,-5172.318921325615,-5509.026304104909,-5257.5971248048945,-4333.507647942505,-2776.362847140063,-741.8376319186463,1492.434259165307,3489.626312244448,4834.684640238304,5514.700054164834,5654.223331881406,5125.117429388405,3913.676953658174,2104.5463760486514,-130.40722873901748,-2323.5131660193874,-4026.4375209999184,-5098.620825808675,-5580.818714569545,-5485.47085741477,-4783.0215115004585,-3433.3424778587823,-1435.7514981718857,920.0684440045193,3121.386298512193,4652.231595090891,5467.987179438843,5734.451165134592,5412.975441062971,4427.808852073163,2769.807470746136,565.8965586174821,-1770.5037105044598,-3696.7277123352887,-4934.13765745929,-5542.282337993174,-5610.469860850466,-5102.476273008346,-3980.207613395805,-2151.338583058543,242.4869341235675,2571.979316547722,4301.987297714248,5303.937017482384,5710.993364545627,5512.17423313857,4760.0659885312525,3325.6653474553564,1261.5858893014029,-1085.0457860188349,-3181.787966812348,-4641.648397664688,-5411.340426903576,-5591.392492231782,-5227.723551629028,-4317.735096385831,-2729.0102005425433,-492.1613810103547,1920.6510601118346,3794.7984311057703,5010.866483655693,5564.419361567568,5523.467684935277,4915.826316423053,3701.460009910809,1841.5603413804988,-393.0157866771343,-2530.279746458272,-4171.384887688607,-5149.691161437439,-5494.050565582007,-5253.769879408503,-4475.509997877447,-3115.2463382790716,-1110.816321293773,1181.147373759427,3152.2531016799203,4554.408082855647,5335.796604283925,5419.054862191682,4936.6200169554995,3893.6509357014234,2264.5816184849596,223.5936235092301,-1837.9044279910506,-3550.9296478548918,-4720.7135049094295,-5261.782463618759,-5180.094162694218,-4546.184556130633,-3309.6400828108876,-1530.814565878302,535.3905750338911,2451.358722939889,3934.13458538038,4911.912269153067,5203.983821892012,4870.283558300249,3963.7807561967356,2514.6232755480373,682.6314403941526,-1202.8392257742532,-2856.3366349422495,-4145.521928503397,-4912.3126459544455,-5001.663491673486,-4497.3652819160125,-3411.4772768142143,-1791.8179232582877,39.68832580563663,1777.6013998164942,3260.352514658348,4327.241741673028,4836.12092027863,4704.159334995711,3935.3473347728686,2615.150185069884,976.5935043362853,-695.4213994305737,-2203.210610210132,-3453.2627140254444,-4355.923594149226,-4669.065691771836,-4356.249556726603,-3388.537300482119,-1877.1195421210464,-214.25171741271538,1271.433869615481,2588.0765568195134,3672.269342920529,4307.523816440825,4373.894950711025,3786.2653551099,2610.276015720455,1098.7577241267197,-411.66503389568953,-1709.6929389379004,-2809.7844178023,-3700.7398378470934,-4180.145266824896,-4073.380889002204,-3289.5887348979286,-1888.3256360652663,-351.78011256175074,964.7234028928626,2047.8565592776506,3007.0281041715566,3662.301437748263,3877.4583994181153,3499.25215605668,2488.4000714337612,1101.2453375615426,-262.80694064809114,-1373.7492698242413,-2262.8117342983014,-3028.5819925635546,-3520.5058327828638,-3610.0931463603665,-3039.1226479173242,-1791.9550935887373,-373.9588921811063,829.6888384281918,1716.4999010024706,2452.7882895814782,3010.3626368225405,3260.169672665601,3050.9115515130743,2250.3874109767276,1013.2652211095519,-234.2143904716738,-1200.269354676433,-1898.558130435784,-2482.6069331631415,-2864.5934781510714,-3020.654783776665,-2645.964188114423,-1586.7359408408176,-299.1389527807471,784.1241646712616,1545.2337533784646,2068.6476797744767,2435.2683152581235,2633.567645328754,2489.572154336648,1861.6068136070169,832.3277358406441,-285.3775477036315,-1155.877992173549,-1718.8133675572694,-2058.4531384929764,-2268.995306355808,-2322.8373153727357,-2065.800287377728,-1217.6434760738164,-123.02512666908231,844.4725192886873,1499.6527334907457,1878.2021737696934,2025.9119687401385,2025.4020641646564,1830.890537191171,1295.6387894772424,443.9159910731313,-480.6060380342196,-1226.2082362546976,-1649.5794451843663,-1866.8592433838148,-1845.4556310291205,-1714.2095004380944,-1377.6538144438555,-684.9801353103559,213.79191756438212,1008.5752114481134,1541.6582348743507,1807.0040980870488,1798.9498395967614,1586.5288050339177,1229.8590922812975,660.747621623071,-102.09468422088042,-829.0654535658983,-1381.8504950752354,-1709.4404864600692,-1791.1853669443371,-1608.9136566211228,-1253.7379599112094,-739.4937551587758,-26.46120538175261,724.5185508549714,1336.2133759257365,1717.6542713670078,1853.3957109507553,1732.4512659932009,1344.861876295911,777.9455421454883,86.84222242128094,-696.506842439792,-1350.9751608275114,-1704.1535808445624,-1866.4950642544968,-1839.7133210542818,-1536.2880190485096,-967.9797329546569,-255.6960796072646,618.7091324884022,1329.8608510734302,1779.3187885304303,1984.1799337870368,1996.9541420766468,1755.1696077203628,1240.8844075918594,491.21391638944664,-434.688617502067,-1344.6088220274846,-1963.0270307537678,-2195.685007391537],\"z\":[-1600.609000437862,-3286.5232524489106,-4280.459943807772,-4634.343782736603,-4648.178797654697,-4104.823296131622,-2859.201673144946,-1193.3230051086773,608.0297766501546,2356.1797381557167,3719.0606698920355,4440.296121887389,4649.936582227474,4483.551910030419,3776.2826783544638,2410.970155173273,731.0733886652516,-1110.6877858503253,-2815.2377612905666,-3956.1800147084214,-4462.701588674617,-4559.968488261793,-4147.279833513198,-3094.0577958668414,-1592.6541568676662,122.39726226212571,1868.710869002934,3318.197204582377,4177.64564319033,4512.997468897011,4439.107202726002,3826.5362514258672,2628.952653155303,1118.7447409034592,-635.6082865022819,-2342.7140882579024,-3547.78674357264,-4182.456955666314,-4413.851215257372,-4090.3357954464927,-3168.7962353708263,-1844.4157002955083,-270.17980877216917,1402.6424044596758,2868.176687083271,3823.6037065515607,4249.393669326598,4306.213505333062,3770.7518291431115,2709.0365358530403,1348.16610259617,-198.1187266779951,-1839.1246252046392,-3063.4947404963027,-3801.7817668623284,-4156.718201412482,-3967.582971215905,-3157.7201626975157,-1969.5786074544465,-573.7550183108567,967.500990011147,2389.9630352628374,3373.6336078188556,3922.877846124424,4112.921585735673,3698.9374592423387,2660.355278601651,1468.0002461573392,85.90007474578337,-1408.8776468805222,-2596.9084827396605,-3336.0499923078046,-3805.8165105865187,-3755.9514397697985,-3054.7344770171026,-1969.6908760556469,-725.1410137629397,649.6925802012091,1965.8435098963457,2906.210567376666,3491.9103871929374,3798.816172202615,3516.055260373724,2599.160243530279,1433.033097534112,205.74008970869863,-1101.6475182849845,-2158.9713929984937,-2875.7960526352704,-3353.823375073215,-3414.9838872698647,-2870.5729048818794,-1890.1733867668931,-741.6890601799597,472.5939384576658,1621.6563727516939,2474.374442525109,3027.8075295266794,3398.463071711394,3228.2249993392156,2457.006625660216,1377.2821267726001,218.41558073583238,-932.9165395671392,-1820.5595015462018,-2441.313786329523,-2896.959635255161,-3002.649996095196,-2576.308212375487,-1733.5774973121793,-679.0707416556376,443.19178498420445,1426.382503376371,2111.2628909919495,2589.497907207023,2946.8652482091247,2871.63534894698,2184.2283920837654,1251.6383146231913,153.83722816265305,-903.8925445524515,-1644.3497368466483,-2090.573488380601,-2460.196616602177,-2561.9105901172898,-2196.500865963905,-1467.1561668130178,-542.773284110806,477.82308616022095,1377.1421148891277,1899.3916997166205,2201.676392091173,2493.266542544477,2428.2761077120044,1831.5090287091716,1013.1418134834959,41.78038768997614,-969.1205930884166,-1599.5546372553965,-1881.8124942874454,-2088.087981223918,-2122.912387208391,-1755.1472842909109,-1086.3069955610424,-295.87357507543567,609.0516130448066,1421.0048788411768,1832.0067829125703,1959.3940224849007,2108.3175472483904,1975.7576823410386,1407.4499987657955,687.4276229643685,-165.62252329682553,-1062.4421767822853,-1650.1395918086264,-1835.0686933816396,-1870.1461658564408,-1755.1770232063136,-1323.556881115328,-658.8080681495757,63.01835826242438,838.9838809834106,1542.3731625917062,1874.7813956865475,1868.1727019417003,1844.6774520723432,1593.0646472252818,958.2540666292356,283.75672526099777,-482.9096818376171,-1257.447742522405,-1758.4843548888427,-1875.6608136517464,-1783.2503582894676,-1494.8708397482762,-941.6759922729844,-232.434067540838,480.5540891609111,1170.4751366765393,1751.8842711055916,1982.1167605645887,1912.2386218164877,1725.0434985050763,1280.816208696269,541.0518299738737,-177.12620919512074,-875.8787468837481,-1553.3243920451898,-1947.166814037036,-1985.5020818700273,-1808.3186697690812,-1392.1917312813098,-671.7785288148186,175.19051245512202,930.7716974533126,1589.1097780234597,2072.512245913326,2173.2659754166166,1996.5064703759615,1741.4730348943033,1139.4421567631855,231.32869530110045,-581.961249274207,-1299.5501424692982,-1920.984780818155,-2215.5076066791135,-2144.8347846045504,-1902.721187373144,-1413.9145684337625,-546.4538456057119,466.3137280658629,1327.8758381371024,2021.7543669014544,2492.6735537138725,2478.8041449170255,2185.0026475773657,1839.1608360770053,1144.5518591865482,75.23014541737136,-901.1874600515713,-1731.5339021970362,-2356.9746444595767,-2604.267662214508,-2434.991638412835,-2069.478050044105,-1508.9754869160215,-568.4795579644476,609.8604598648222,1653.494992540783,2442.0297745203106,2946.2000670005505,2904.0390501970533,2488.2188196563143,2008.2839298551664,1233.069052964981,46.146131179306025,-1110.2242172037897,-2092.4614305094024,-2810.3807793430065,-3038.0869768871453,-2796.764669229468,-2326.6161907842375,-1665.710545384139,-654.6740848868291,628.5808421561441,1843.7615031450168,2813.471449928761,3388.707835668264,3389.728056838568,2869.272583430097,2259.917828904845,1369.5595363466762,138.9778328835975,-1162.2654583031926,-2311.039896615079,-3169.1317434858424,-3483.004447346741,-3228.3902043193584,-2672.356195130233,-1907.266044649023,-805.6372319819808,552.2557460172228,1893.6166204019582,3025.4487994196425,3785.1650360825124,3822.446393474294,3340.818391436585,2633.9089481220176,1637.3729376792364,287.02248433286377,-1081.4595313627954,-2383.944429714378,-3428.1005793734025,-3885.6473619496273,-3690.252707641362,-3111.034488495723,-2259.969249178373,-1034.3071272233517,406.80231218593104,1796.6215223232869,3091.6737408012623,4052.6482894233095,4248.572801630503,3811.091143141713,3114.8315537471276,2007.605590646785,530.4356666908407,-949.8959963036384,-2349.5375097379206,-3550.531000795312,-4190.472672196089,-4125.7859429640785,-3579.706593208318,-2689.723878220342,-1381.6177435632342,195.87539431790248,1696.9856224649416,3036.074586273902,4160.930418356955,4559.166680406425,4231.688198981527,3584.441700683451,2456.8766195577664,888.9725997702205,-719.0182271800572,-2208.6411778135043,-3522.9605762372353,-4337.787500970371,-4449.825245362026,-4016.637297297344,-3158.34511300199,-1803.841876493901,-123.87380998436812,1495.2169421824567,2933.139637941688,4145.676308428476,4718.009323548969,4581.667201696524,4012.665798797716,2945.153050649696,1328.0299698803933,-399.53000901181207,-2025.688461387473,-3423.6030053737304,-4366.801227552486,-4668.167963288332,-4396.014831454196,-3630.4032922364167,-2270.8762563721803,-529.1000036499263,1204.847865983034,2759.5367498908677,4046.30447203236,4713.475388032857,4764.162431359112,4395.784175378834,3396.955609463632,1822.892111830885,25.41068344998668,-1714.9627085077045,-3244.695199285142,-4288.789611366595,-4705.579074590593,-4614.446135667887,-4020.7889504454242,-2766.788288211674,-1006.0229289225166,811.6683594329353,2492.4727681006875,3900.6405571015184,4613.780122003618,4804.085245123993,4608.34122142185,3785.4910698247204,2312.808962871642,534.0918287469846,-1290.3645129886797,-2951.887937039172,-4126.844309392705,-4657.816097587831,-4705.3304192413425,-4305.729917735741,-3199.6305762999054,-1501.4275024563274,334.7568094724244,2113.7919557948485,3661.6436410819265,4498.83516728644,4735.951895594472,4685.0754038587065,4055.496412728409,2717.5829499843057,1007.3317249905415,-822.805269344699,-2562.6487767207404,-3874.619119613611,-4537.905931044952,-4683.259491320162,-4430.298851284189,-3517.7690131282434,-1972.9234354229843,-158.17474652898468,1665.3829299380868,3297.4525406554185,4282.001684062975,4633.443146707409,4656.90390704345,4183.2394581895815,3044.265070694752,1453.146876570033,-325.69024755112787,-2101.173896329328,-3533.076730470504,-4333.265245861839,-4586.578981620038,-4427.576853362496,-3698.1126134685946],\"type\":\"scatter3d\",\"scene\":\"scene\"},{\"marker\":{\"color\":[[3.916464696941285e-05,0.7554000426473857,0.7445607927056449],[0.02071543826653976,0.862990291239714,0.6162942704937462],[0.19278386814256454,0.9952419141418537,0.3119742177155814],[0.46354278244674196,0.9500887174532765,0.08636850009998133],[0.6565566849569393,0.8329606431448175,0.010482671898243126],[0.7831112430545852,0.7153561575471246,0.0015325993982900938],[0.9518453656525624,0.45948719866261534,0.08866743568482237],[0.9762807773065306,0.393645292952193,0.1300739297412764],[0.9995558864280333,0.23197548857915373,0.26846862499281304],[0.9961478831751678,0.19827945073215245,0.30557266609268],[0.9527072170113415,0.08982002845196088,0.45747275453669767],[0.7724531340142049,0.0006935969728036469,0.7268532690129915],[0.5321551690218083,0.05180607255714405,0.9160387584210479],[0.2457939874085778,0.25422973375961583,0.9999762788318066],[0.15644413450641073,0.3571717893488739,0.9863840761447155],[0.055109245001316566,0.5248241183000185,0.9200666366986648],[0.010985908528422555,0.6542357116553025,0.8347783798162748],[0.0015955557612252677,0.7146369581643911,0.7837674860743836],[0.003051650668121228,0.7962418789465591,0.7007064703853194],[0.04552370951001548,0.9077609306125114,0.5467153598774728],[0.2724841235917475,0.9993450159007713,0.22817086050748106],[0.5350148917883756,0.914442166925162,0.05054294128646218],[0.6929275304845641,0.8030161791677539,0.004056290347681644],[0.7887371966903358,0.7091467810028239,0.002116022306840059],[0.9480368281347945,0.4681982617861416,0.08376491007906395],[0.9992255175118968,0.27447898254131076,0.2262954999467925],[0.9988090344435212,0.2804645364649823,0.2207264290914965],[0.9907394420392904,0.17167788287135516,0.3375826750893544],[0.8673217618078315,0.02256021842962554,0.610118019762543],[0.6539389230185835,0.011051041446366311,0.8350100355350505],[0.5976053727829802,0.026515204963794815,0.8758794222532251],[0.2824007202166083,0.21894336499245584,0.9986559147909361],[0.1650391516933418,0.3459980411581439,0.9889628071485141],[0.0609073090751871,0.5124275230866865,0.9266651678381262],[0.01015950095075026,0.6580743278104394,0.8317661712388105],[1.3623646146878966e-05,0.746796690811472,0.7531896855423813],[0.0035699563480957905,0.7998668254713852,0.6965632181805188],[0.08352277717883318,0.947842539077423,0.4686346837437436],[0.27932914604496456,0.9988946639814352,0.22177618997360007],[0.5929630785831582,0.878981031935616,0.028055889481225633],[0.6909550837623085,0.8047125591820744,0.004332357055616859],[0.7388241097749573,0.7610117659264253,0.00016412429861731683],[0.9159995236150558,0.5322257515419809,0.051774724842963415],[0.9934330483923561,0.32323252916174905,0.18333442244589498],[0.9999214651734063,0.25771367254699346,0.24236486227960047],[0.9763911486216965,0.13031828521733027,0.3932905661609734],[0.8665931216357194,0.02224272469371491,0.6111641536705658],[0.6920226340618578,0.004181878367199203,0.8037954875709432],[0.4346873181740055,0.10335377838334932,0.9619589034426452],[0.26644102078212106,0.23391182001534905,0.9996471592025299],[0.1475185924977168,0.3691289276436355,0.9833524798586478],[0.03219362289952947,0.581037577119478,0.8867687999809925],[0.0034706313962336506,0.6973339510904043,0.7991954175133619],[7.694585290993394e-05,0.7423651497011233,0.7575579044459666],[0.01835246001402769,0.8570637606119461,0.6245837793740259],[0.13049505647793694,0.9764707820100932,0.39303416151196996],[0.23090267970064934,0.9995006763871275,0.26959664391222316],[0.48465311466559635,0.9404821242262708,0.07486476110813288],[0.6550200242352163,0.8341653382066305,0.010814637558153076],[0.8442785242744533,0.6418738320046475,0.013847643720899238],[0.9632444021952333,0.4313301473852619,0.10542545041950463],[0.9987982668605614,0.28060447856353143,0.2205972545759074],[0.9999437492855666,0.2435330762644181,0.25652317445001527],[0.9778265607049805,0.13356678625026724,0.38860665304475234],[0.7599934854736561,0.0001349825579130888,0.7398715319684309],[0.6532784646184561,0.011196620519821959,0.8355249148617219],[0.43106520360335604,0.10558979866167698,0.9633449977349672],[0.2743273517356976,0.2264377062916726,0.99923494197263],[0.10073470795625186,0.4389788144234965,0.9602864776202515],[0.024233178931892602,0.6047126593232094,0.871054161744898],[0.002496047223609075,0.7055389837945328,0.7919649689818582],[0.0030639829462452044,0.796331838462046,0.7006041785917088],[0.03217636675442693,0.8867378161538992,0.5810858170916738],[0.1598051573780716,0.9874310025627459,0.3527638400591825],[0.32473753752771345,0.9931707508098992,0.18209171166238713],[0.5139577036625421,0.9258651002823647,0.06017719605509293],[0.6691771592074304,0.8228845073626241,0.007938333429945607],[0.8950473455501547,0.5679065366592151,0.03704611779063008],[0.9751258423310469,0.3973132274372217,0.1275609302317314],[0.9974558353614118,0.29489855247973684,0.20764561215885152],[0.995057202910278,0.19173611732390325,0.3132066797658186],[0.924290181956695,0.05876239251060191,0.516947425532703],[0.8149298318149272,0.006210239968932797,0.6788599282161402],[0.6269068102915515,0.01771369723726523,0.8553794924711835],[0.4179591477468648,0.11387645283280284,0.9681643994203324],[0.19453630021567925,0.30992148527995134,0.9955422145043694],[0.08805153444412822,0.46056875954104576,0.951379706014826],[0.017868742826968584,0.6263394844755757,0.8557917726974557],[2.073220802013376e-06,0.7512459246471476,0.7487520021320505],[0.0006805555104006346,0.7722444353478795,0.7270750091417195],[0.05736427305769247,0.922701104893302,0.5199346220490053],[0.23979980511252622,0.9998593352396173,0.26034085964785614],[0.32826158746114953,0.9925379144877694,0.17920049805108088],[0.4950105962296906,0.935485844274364,0.06950355949594533],[0.7651279140210574,0.7345605340073441,0.00031155197159859577],[0.9059090682959299,0.5498860701986225,0.04420486150544767],[0.9766521627655104,0.3924486745842172,0.13089916265027263],[0.9933566748547378,0.32367358885903447,0.182969736286228],[0.9795637968373812,0.13768678488151107,0.3827494182811079],[0.9168720885419296,0.052475590587572875,0.5306523208704975],[0.7851793160083889,0.0017355350573036324,0.7130851489343079],[0.568858391727466,0.03668399923720035,0.894457609035334],[0.4008289390421642,0.1251755571024987,0.9739955038553373],[0.1516238811510321,0.3635829083696483,0.9847932104793197],[0.05267900444623178,0.5301974646088154,0.9171235309449527],[0.006965731686994514,0.6744900024504957,0.8185442658625096],[0.0004957222554448344,0.7304750180766889,0.769029259667866],[0.0075886423546746,0.8213607927299384,0.6710505649153867],[0.03828045225811407,0.8970262398764859,0.5646933078654001],[0.2130273845742556,0.9980776760465936,0.2888949393791507],[0.37754666265075565,0.9810526863641218,0.14140065098512244],[0.5335219539422376,0.9152774576072424,0.051200588450520064],[0.7437869296320199,0.7561620201401595,5.105022782064254e-05],[0.9380109904437859,0.4898240505513052,0.07216495900490899],[0.9828943716304355,0.3708460436589367,0.14625958471062786],[0.9832800250488517,0.14731804476208407,0.36940193018906436],[0.9797460732327407,0.13813196793986401,0.3821219588273954],[0.9336511082230323,0.06762854067870748,0.4987203510982602],[0.7776971464286735,0.001063630340089567,0.7212392232312371],[0.5168286394691312,0.05881830895584334,0.9243530515750256],[0.3242410208295506,0.18250116513913264,0.9932578140313169],[0.10895130396118999,0.42568979130963197,0.9653589047291782],[0.03434949197149528,0.5751001663471454,0.8905503416813593],[0.0030009969749108228,0.7011286956923926,0.7958703073326967],[0.001235600364183273,0.7798051392213006,0.718959260414516],[0.01337122810528194,0.842784626588361,0.6438441453063567],[0.07925332185275939,0.9443160128658268,0.47643066528141365],[0.22512220566396496,0.9991454752609759,0.2757323190750593],[0.3857638565081709,0.9786777681592288,0.13555837533260026],[0.597437057764407,0.8759925668413032,0.026570375394289605],[0.7943237495963841,0.7028811908632259,0.0027950595403900312],[0.9330627878991254,0.49989981060000727,0.06703740150086737],[0.9955258750099004,0.3100348167486046,0.1944393082414949],[0.9979024526295063,0.21142730539920615,0.29067024197128766],[0.9693542005135268,0.11605811539933615,0.4145876840871372],[0.8913869987625271,0.03484005948042661,0.5737729417570463],[0.7223396255111677,0.000985091625475414,0.776675282863357],[0.4931792489128065,0.07043796531870156,0.9363827857684919],[0.2779347697578009,0.2230696334616256,0.9989955967805736],[0.12097214433030958,0.40710745930087694,0.9719203963688136],[0.03417741935395728,0.5755677409789325,0.8902548396671102],[0.0007966114949858197,0.725168465263405,0.7740349232416093],[0.006598699738459181,0.8168174646274776,0.6765838356340631],[0.025797641844441218,0.8743931768044508,0.5998091813511075],[0.09852657978982564,0.9588342103807749,0.44263920982939914],[0.24134333096525715,0.9998989022543256,0.25875776678041706],[0.41759193664120015,0.9682949860674424,0.11411307729135715],[0.6136018009934904,0.8648873411086813,0.021510857897828285],[0.8192879129413451,0.673584826030434,0.007127261028220599],[0.9562717976162529,0.44895739588431777,0.09477080649942946],[0.9979698542445785,0.28999607078342043,0.21203407497200116],[0.9897022512191481,0.16772016707312806,0.34257758170772384],[0.9539002040264986,0.09144330782954506,0.4546564881439566],[0.8855627489531239,0.031526723276051154,0.5829105277708249],[0.6541492612272722,0.011004862556084028,0.8348458762166439],[0.45602175021690317,0.09065464312651302,0.9533236066565839],[0.2649586600509849,0.23533396640382,0.9997073735451952],[0.0925812062290494,0.4526965588439367,0.9547222349270139],[0.030706006813482258,0.5852403000589688,0.8840536931275491],[0.002434122488384301,0.7061080263121734,0.7914578511994423],[0.006758493875027708,0.8175757562453253,0.6756657498796472],[0.038643451253028885,0.8975992173261683,0.5637573314208028],[0.09716637923128463,0.9579198424985513,0.4449137782701638],[0.22734653815556985,0.9992937642850066,0.2733596975594234],[0.4360581049203004,0.9614282510523322,0.10251364402736732],[0.6416064985120675,0.8444806291745692,0.013912872313363167],[0.8522327057167421,0.6312093550926513,0.01655793919060648],[0.9773690417531512,0.39011415334703037,0.13251680489981846],[0.994475356095833,0.18857048710975874,0.31695415679440825],[0.9898550049389966,0.1682879620292863,0.34185703303171716],[0.9458087076147601,0.08103201580405708,0.47315927658118284],[0.8603939278834414,0.01965780028306553,0.6199482718334933],[0.6129253492211341,0.02171283685484865,0.8653618139240176],[0.35567382317994184,0.15758201550223347,0.9867441613178248],[0.1503149761002119,0.3653424504876167,0.9843425734121714],[0.13045134721526003,0.39309754480230624,0.9764511079824337],[0.017455691518176022,0.6278559174674733,0.8546883910143507],[0.001002481831364449,0.7769051022580554,0.7220924159105799],[0.004825730312756953,0.8076023994000586,0.6875718702871843],[0.039034372356865674,0.8982118142916065,0.5627538133515276],[0.1415419997928836,0.9811079436647748,0.3773500565423415],[0.24326500605396448,0.9999389667640215,0.2567960271820138],[0.46116983730935085,0.9511200313390249,0.0877101313516242],[0.7475281008836994,0.752463778745043,8.120371257414048e-06],[0.8398331500585671,0.6477075307796956,0.01245931916173735],[0.9762501407677913,0.39374362402078156,0.13000623521142707],[0.9998603407796958,0.23983607239665525,0.260303586823649],[0.9875503657587271,0.16019887980993566,0.35225075443133747],[0.9170731649009098,0.05263820669513403,0.5302886284039563],[0.797025858724697,0.0031600268459839533,0.6998141144293194],[0.757684662415829,7.956236874747364e-05,0.7422357752154236],[0.5818523230319865,0.0319027393788584,0.8862449375891552],[0.29341094333535217,0.20897141050912538,0.9976176461555225],[0.09817931945375152,0.44321845931058357,0.9586022212356651],[0.016506651103876436,0.6314034092258088,0.8520899396703148],[0.0001295728586566528,0.7400778786292075,0.7597925485121358],[0.007874873330993347,0.8226108799440842,0.6695142467249223],[0.03806179047066501,0.8966791465021077,0.5652590630272272],[0.11781832724658399,0.9702912603709252,0.4118904123824906],[0.30565426443970634,0.9961369028787335,0.19820883268155998],[0.6905053237714481,0.8050981732714564,0.004396502957095599],[0.6189448555930499,0.8611094203566751,0.019945724050274966],[0.917879334897843,0.5288262806996777,0.05329438440247941],[0.9970658164870982,0.2983091728375769,0.20462501067532496],[0.9990947099513141,0.22440743675179908,0.27649785329688675],[0.9656881884864592,0.10951427633056185,0.42479753518297914],[0.9162375022768388,0.05196510460748089,0.5317973931156804],[0.8109701938004831,0.00543798863083224,0.6835918175686848],[0.6703394947706522,0.007720510172959295,0.8219399950563886],[0.48720090187091963,0.07352874002873606,0.9392703581003443],[0.2674790242044302,0.23291926018896272,0.999601715606607],[0.05698052287699895,0.5207603745095886,0.9222591026134124],[0.007623977388408266,0.6708594691196367,0.8215165534919552],[0.0002125780209944021,0.7625190673680192,0.7372683546109863],[0.006620547144734108,0.8169217463699558,0.6764577064853098],[0.026503664537585254,0.8758557348429513,0.5976406006194633],[0.134266819853207,0.978128221012442,0.3876049591343508],[0.21542594974462895,0.9983252357749982,0.2862488144803728],[0.5089383329996399,0.928474339806015,0.06258732719434484],[0.7373450183097296,0.7624449356212375,0.00021004606903262058],[0.9420964088024922,0.48122160054490654,0.07668199065260117],[0.9986636903600541,0.28230504685078117,0.2190312627891648],[0.9985246068986244,0.2174974763734842,0.28397791672789136],[0.9855290130808094,0.15381314049573486,0.3606578464234557],[0.9242608880532946,0.05873635420815163,0.5170027577385538],[0.8142813248664497,0.006079830128834591,0.679638845004716],[0.5899392195279284,0.02908062489623629,0.8809801555758354],[0.39325611490378226,0.13034202960349914,0.9764018554927187],[0.18998980023562403,0.3152695306058186,0.9947406691585573],[0.04937187375958005,0.5376955169133222,0.9129326093270977],[0.00380885212774625,0.6947499220054267,0.8014412258668266],[0.001969429663176518,0.7874101189027012,0.7106204514341222],[0.006486648397788849,0.816279541412099,0.6772338101901123],[0.05461906955784484,0.9194819032941303,0.5258990271480245],[0.1612502716574934,0.9878657842316351,0.3508839441108714],[0.38560011280936124,0.9787263358391229,0.13567355135151574],[0.5732396839218759,0.8917222660838673,0.035038049994256505],[0.7862474007645732,0.7119070295083021,0.0018455697271244382],[0.959944575170334,0.4398459706456122,0.10020945418405375],[0.9992536160382526,0.22672218450662848,0.274024199455119],[0.9951124663169915,0.19204729117338726,0.31284024250962134],[0.9785990001542416,0.13537194057378216,0.3860290592719762],[0.9540379610096726,0.09163288062510437,0.4543291583652232],[0.7722639191217843,0.0006817676281233266,0.7270543132500925],[0.5321904224984139,0.05179041439542619,0.9160191631061602],[0.30711993734532356,0.196942896077602,0.9959371665770744],[0.15698443437814075,0.3564597843950741,0.9865557812267852],[0.028313408084420476,0.5921985283701775,0.879488063545402],[0.0036948815343238904,0.6956080824671645,0.8006970359985116],[4.771063793799589e-06,0.7481059800496538,0.7518892488865525],[0.017188861452604617,0.8539669008708577,0.6288442376765375],[0.06948305874655644,0.9354660374139107,0.49505090383953265],[0.22285336018741542,0.9989790704575913,0.27816756935499315],[0.39149483524019096,0.9769462917195811,0.1315588730402278],[0.6525959786848585,0.8360560460045132,0.01134797531062804],[0.8822239517825473,0.5880450372980776,0.029731010919375057],[0.9871344380527012,0.35402903831638444,0.15883652363091455],[0.9995003054940157,0.2308956846893788,0.26960400981660565],[0.994503169467986,0.1887174732177497,0.31677935731426443],[0.9780634668273663,0.13411602473088233,0.38782050844175137],[0.8820831977566503,0.02965691080334631,0.5882598914400036],[0.6892985084133265,0.004570811122990119,0.8061306804636834],[0.4980548999159195,0.06796312469514648,0.9339819753889341],[0.23974922403626078,0.26039284923567857,0.9998579267280608],[0.10227939222247436,0.43644129045450974,0.961279317323016],[0.027634197051428718,0.5942219520777575,0.8781438508708137],[0.0019983734783806406,0.7103254336716428,0.7876761928499766],[0.00165020138874072,0.7843261250038608,0.7140236736073983],[0.016819625105307625,0.8529568969590687,0.6302234779356233],[0.06319016787846204,0.9291129555881334,0.5076968765334043],[0.22529765774563593,0.9991577041941994,0.27554463806016466],[0.4849382544889249,0.940347066845615,0.07471467866545983],[0.669392248624921,0.8227099379636729,0.007897813411406041],[0.929953412433713,0.5060550728386766,0.06399151472761008],[0.9871849092347937,0.35381467120209537,0.15900041956311106],[0.9966262530579291,0.30190413723790455,0.2014696097041665],[0.9967603525358467,0.2024073851484637,0.3008322623156895],[0.974340765539049,0.12589668251106015,0.3997625519498909],[0.886707363444806,0.032159412773572926,0.5811332237816212],[0.6551674483064868,0.010782582814298097,0.8340499688792155],[0.33271260222284443,0.17558586608946247,0.9917015316876933],[0.21248187519895512,0.2894992764620561,0.9980188483389888],[0.0531865601563492,0.5290660075599707,0.91774743228368],[0.018144933432571925,0.6253344058172656,0.8565206607501622],[4.425829066755662e-05,0.7442165993887961,0.7557391423205361],[0.000589116476270621,0.7707191768781168,0.7286917066456122],[0.02760436359492393,0.8780842940523609,0.5943113423527149],[0.1352561495243199,0.9785499842751884,0.3861938662004915],[0.29775132839147217,0.9971314141809507,0.20511725742757692],[0.5083182276685521,0.9287936610919746,0.06288811123947331],[0.7692531547096026,0.7302392253853225,0.0005076199050746757],[0.9208818903956489,0.5233192433560409,0.055798866248310236],[0.9798229052308185,0.3818567070647502,0.1383203877044315],[0.9998702632425112,0.25992843489380435,0.2402013018636847],[0.9975733768473042,0.2086040286725261,0.2938225944801698],[0.9523108478847996,0.08928788378040244,0.4584012683347981],[0.7310672392287824,0.00046644781218831133,0.7684663129590293],[0.6787995831169091,0.006220397115714503,0.8149800197673766],[0.3898060115221031,0.13273108217039642,0.9774629063075004],[0.2065597844419793,0.2961211489671698,0.997319066590851],[0.04198745423886488,0.5553157983459718,0.9026967474151634],[0.007785716894440287,0.6699899645809563,0.8222243185246034],[0.00045434303449551014,0.731317410438804,0.7682282465267004],[0.004038371543371473,0.8029039179642367,0.6930577104923921],[0.03992096867849577,0.8995843879031757,0.5604946434183283],[0.15335522106999547,0.9853769486857037,0.361267830244301],[0.3414934901445349,0.9899316750450787,0.16857483481038615],[0.5598108384275379,0.8999980556558187,0.04019110591664331],[0.7765151832481778,0.7225117461457943,0.0009730706060280126],[0.9099082552807654,0.5430003373113682,0.04709140740786636],[0.9844159069866326,0.3650577064064787,0.15052638660688872],[0.999721078179072,0.2356780288354819,0.26460089298544615],[0.9944388985680828,0.1883784413787184,0.31718266005319884],[0.9777640489724229,0.13342249739452525,0.3888134536330519],[0.7497982131199011,5.427599432307865e-08,0.7502017326041044],[0.5711499177584037,0.03581885019230812,0.8930312320492884],[0.337080000947739,0.17207899675290889,0.9908410022993521],[0.15294981650888273,0.3618086699707565,0.9852415135203608],[0.048939729824003166,0.5386920380585983,0.9123682321173985],[0.006130677981094327,0.6793342203567482,0.8145351016621574],[5.540715298172231e-05,0.743526129944753,0.7564184629022653],[0.00792511343440059,0.8228276087246672,0.6692472778409323],[0.03901810131640591,0.8981864078806361,0.5627954908029577],[0.16466778486692438,0.9888579958832551,0.3464742192498204],[0.5223540475948636,0.921402705752041,0.05624324665309535],[0.5952774044332934,0.8774397166113866,0.027282878955319858],[0.781690680779675,0.7169084440365644,0.0014008751837606226],[0.9311258600946617,0.5037493349271313,0.06512480497820716],[0.9875693926668145,0.35216875853344565,0.16026184879973984],[0.9999724053282475,0.25456302064485264,0.24546457402689992],[0.9866081785888682,0.1571501403392759,0.3562416810718561],[0.9171322016329012,0.05268603056339495,0.5301817678037041],[0.7547680948743094,3.0508167085033506e-05,0.7452013969586059],[0.5344287618567762,0.050800671107267846,0.9147705670359559],[0.27690291451163435,0.22402981050669785,0.9990672749816679],[0.09861028930518996,0.4424997254335111,0.9588899852612988],[0.0374792647044115,0.566773507788956,0.8957472275066326],[0.006210677942596962,0.6788573252007333,0.8149319968566695],[0.001700233134337077,0.7848291036628126,0.7134706632028504],[0.008575286510498192,0.8255641771925077,0.6658605362969939],[0.07204672442966939,0.9379007218995555,0.49005255367077505],[0.1339769319714749,0.9780036275578681,0.38801944047065684],[0.446267565869372,0.9573712915322686,0.09636114259835904],[0.6595795182301946,0.8305768855102477,0.009843596259557665],[0.846089210255931,0.6394721046785977,0.014438685065471498],[0.9644257906563228,0.428197558601553,0.10737665074212421],[0.9939133865489139,0.32040186179345764,0.1856847516576284],[0.9971958844979258,0.20560697800720654,0.29719713749486754],[0.9878680897485597,0.16125801635570705,0.3508738938957334],[0.9304088635275923,0.0644296052390457,0.5051615312333623],[0.7717240920494127,0.0006485960156118111,0.7276273119349755],[0.3135515923636115,0.19144348816923312,0.9950049194671554],[0.26413519952028,0.23612636712750035,0.9997384333522199],[0.1035497344473861,0.43436837199984624,0.9620818935527677],[0.03662538580415373,0.5690128616888855,0.8943617525069607],[0.0028197484977624714,0.7026679291885755,0.7945123223136621],[2.0470799005149183e-06,0.7487599014895642,0.7512380514305355],[0.012841500619039482,0.8410853898082596,0.6460731095727007],[0.06524808214948061,0.9312522723495644,0.5034996455009548],[0.2518067404275788,0.9999956580200072,0.24819760155241385],[0.5318614121019489,0.916201956234755,0.05193663166329595],[0.7508837466852452,0.7491152107405386,1.0425742162011248e-06],[0.8722233517218684,0.6030030631696173,0.02477358510851461],[0.9662291772798247,0.4233231487821476,0.11044767393802785],[0.9925293043894076,0.32830855504666967,0.179162140563923],[0.9949539691032575,0.19115994551458537,0.31388608538215723],[0.9791538793224263,0.13669485034728066,0.3841512703302931],[0.9057681218839112,0.044105715060865656,0.5501261630552232],[0.7201202080052248,0.0011464797455142976,0.778733312249261],[0.42590413561136187,0.10881627507357866,0.9652795893150596],[0.19699229117505462,0.3070626456489266,0.9959450631760189],[0.07587248286205325,0.48274544943339537,0.9413820677045512],[0.030916573802753596,0.5846398970646295,0.8844435291326169],[0.0031653110970178405,0.6997709784309167,0.7970637104720654],[0.0003868666848157931,0.7327760715315549,0.7668370617836293],[0.014801745095408832,0.847179192847927,0.638019062056664],[0.09626753962104766,0.9573071731239797,0.44642528725497244],[0.3462620839048132,0.988904745165693,0.16483317092949346],[0.5812588350057522,0.8866266547771219,0.032114510217125726],[0.7053969623357527,0.7920914197888653,0.0025116178753817795],[0.9050055490535349,0.5514221729023568,0.043572278044108306],[0.9708055436210884,0.4103936790095581,0.11880077736935353],[0.9989379289113444,0.22232275094133022,0.2787393201473255],[0.9987011396490483,0.21945840607309444,0.2818404542778573],[0.9679991912404527,0.11357807088263923,0.41842273787690826],[0.8182292012392002,0.006897927146791314,0.6748728716140086],[0.5851706041504257,0.030730416351762022,0.8840989794978124],[0.2919551600895054,0.21027375844645885,0.9977710814640359],[0.18583238824661538,0.32022473475958413,0.9939428769938006],[0.06899857179832002,0.49600509531521597,0.9349963328864642],[0.011365815121280124,0.6525158123506175,0.8361183725281023],[0.0054335618770608345,0.6836198173946427,0.8109466207282963],[0.00013757452068436117,0.760088313480111,0.7397741119992045],[0.010164833340660425,0.8317860593601769,0.6580491072991626],[0.15313640488394772,0.985303942494658,0.361559652621394],[0.4472850071004187,0.9569569009346295,0.09575809196495164],[0.6436407189661807,0.8429392189369374,0.013420062096882],[0.7800129974486736,0.718733715002612,0.0012532875487145062]],\"size\":2},\"mode\":\"markers\",\"x\":[-5589.852653098818,-4890.848093875686,-3442.765390794769,-1243.7123227337152,1211.0819124020904,3283.464094117289,4720.527008863503,5477.759064244549,5675.802725209502,5395.669188848676,4542.839833272623,2961.4227204778963,766.2530387882814,-1534.1832080268791,-3552.2376604954256,-4927.413375631113,-5556.263943368235,-5694.325631928892,-5246.035148136741,-4208.742207708596,-2428.285988647356,-163.02392824362315,2107.6050197300674,3928.455600879446,5072.280294431938,5563.447432495652,5513.511763157334,4949.991736124384,3775.8383193058135,1954.0045236881956,-239.54987439782923,-2384.078072343884,-4140.363473462157,-5212.849702601255,-5574.036327873961,-5387.106647048962,-4658.759414372944,-3296.9904249860233,-1384.4498965496655,819.0192623928397,2843.639710743811,4368.1794133072335,5220.18903428621,5446.16678067458,5124.944570649853,4242.677690534985,2880.7443810810514,1014.5069742598482,-1084.232180535437,-3045.890114244526,-4581.698779624864,-5256.0883677261845,-5327.376474409696,-4844.004471781933,-3851.2162842068433,-2348.3565915280474,-490.0281918387542,1520.3014194855728,3340.4738454176886,4618.355134611617,5183.737523073002,5099.890845882117,4506.585251165672,3448.303136388209,2016.1330010105323,215.47876700320006,-1694.8819952049078,-3501.539057046059,-4666.230229738322,-5084.910124402136,-4863.850134824221,-4086.3585450188157,-2942.8438235825533,-1514.4663051233665,201.17209728637692,2053.492630448854,3629.4295121857954,4607.574995015809,4897.871885909097,4505.90345681151,3701.8793274934433,2626.4593174891975,1275.7605676814426,-434.3165876086789,-2176.387327082229,-3665.068155834622,-4545.60034111282,-4625.5039653163585,-4140.613904226795,-3262.251067927377,-2167.626874999695,-847.0917407771655,756.1031922117465,2408.3552383055467,3717.3089860296327,4401.661941882223,4342.155964577798,3775.5612436780134,2939.994347720058,1982.3028404622078,717.1028180641794,-885.705656471941,-2429.5185451825787,-3675.1353312272204,-4174.099100257874,-3966.9076338287045,-3343.1989690137048,-2555.2442844806837,-1609.3516297093045,-381.6146699268282,1098.1892479957066,2546.9125092959544,3578.9128372286127,3931.8036710739584,3652.9644642366056,3052.6085851741936,2308.87847312824,1504.4748881080454,303.3010747497458,-1121.0021466128846,-2504.236782168556,-3401.997967168301,-3576.485033015249,-3227.367589685614,-2665.7227840460546,-2035.558538143131,-1223.619491030248,-113.86683785170658,1212.2166025166111,2472.9831438527112,3213.1372918991924,3333.7600126841,2954.775289498916,2483.332203698736,1924.8513922020668,1166.7359315549634,96.34836532899105,-1139.9670688748927,-2247.3201967540376,-2855.3206571234036,-2889.3147014508836,-2598.0411833538374,-2187.315812399569,-1679.8643716000104,-997.5612545574012,-35.80952491811436,1145.822304100127,2140.1432005100446,2627.669276721575,2686.9323432143715,2404.833473039564,2059.2147248117276,1634.5850746754131,1004.8487545022081,67.74923477175238,-954.7681967812908,-1783.4512755814185,-2223.588937088546,-2283.565845293666,-2149.1964284084597,-1898.683419638061,-1497.9143860223555,-934.8692845648312,-110.0336560690336,864.2705325166319,1625.4153838726263,2086.43073687782,2157.145903650191,2043.137803858663,1837.9326277449566,1580.6908446524224,1040.023458008672,261.771449847915,-543.5082532953883,-1259.207141058654,-1729.518108848871,-1902.4011227911571,-1891.317753690393,-1789.581745479009,-1580.1645842313997,-1162.9121589683073,-473.3581102658875,391.4330842771071,1142.8284806755626,1637.3343608088187,1843.6311727337893,1875.3523386603144,1812.1959253299242,1685.355511476675,1331.953912512391,759.6178311214825,1.8202310940392246,-799.1004933571701,-1397.7744376953328,-1690.267939379508,-1801.6130778902811,-1863.8977420502993,-1827.9841576383415,-1551.1106062957438,-946.2484393748488,-74.64761219253478,764.3595770180183,1395.7501913513383,1695.490062023493,1890.0729874400224,2010.8079083888656,2025.9510129407638,1820.4694264430377,1274.369185225211,395.6012986942538,-550.5936659951278,-1245.5568067909003,-1661.184099371543,-1950.360163580491,-2155.021761907735,-2290.6487355119757,-2140.4724939379635,-1427.646031789075,-423.3091387893438,570.30036352203,1304.262755395822,1733.7508612600047,2070.3535286897236,2389.3184527442713,2580.15151902609,2384.975664216259,1682.4143727539824,628.443980347031,-436.241309570314,-1231.4127124798983,-1817.6365070458696,-2295.659563243548,-2673.8439496071114,-2946.5289025111365,-2667.279225959638,-1718.6731236510877,-545.0947019399839,563.8140076094322,1373.8761271015612,1970.6577489331003,2511.340485513534,3034.1574277112095,3247.638160613251,2887.293220626364,1953.6870189822487,661.8383892280135,-566.726965186245,-1487.239590848734,-2186.552928407097,-2844.1278765340508,-3411.142061273018,-3566.599477862253,-2998.582471143787,-1827.7647858929222,-510.3695552741377,721.3140944612451,1689.487998192906,2485.8690528755014,3207.4085053208996,3752.3420537719867,3805.431418234391,3164.1968076305347,1972.906713611005,501.8209831020778,-849.4081513451856,-1916.4306999769788,-2776.9948267407744,-3585.1187199313867,-4103.8853535302815,-3995.277361266103,-3137.983292220884,-1780.9215514598966,-278.02091162317834,1085.711776509162,2186.5381024256244,3159.924284401873,3968.0421690610046,4356.370403799537,4139.395941945177,3242.3441890075205,1807.5907025635368,151.21831674028795,-1330.701538146922,-2559.360223390472,-3593.35743482388,-4324.4384023153425,-4590.645958186116,-4201.620923402616,-3087.7632164777583,-1540.399192279527,127.11467143043993,1655.9210925220723,2942.4843747108002,3972.325082108877,4647.152407491239,4800.445357225126,4312.115840152939,3126.5731396340084,1451.4354463140392,-381.36407002141857,-2015.2861598931224,-3348.2273362652513,-4369.975803481579,-4871.305655203267,-4877.221518153805,-4188.330687753246,-2829.2858270571264,-1078.9808755409713,770.923315301216,2455.9650412157416,3787.6697784037215,4691.32121319821,5132.613892309865,5028.364579574324,4210.714465423692,2761.3343062016465,806.5540523655925,-1215.358503606399,-2933.8308310517587,-4183.754422709406,-4976.763522487187,-5270.543265093738,-5009.554197596477,-4010.8353953952214,-2356.7754291692486,-360.55102783012256,1669.194681750124,3403.1507646089344,4591.480933367834,5251.586935854844,5420.916571126319,5077.378531482293,3969.0975204055594,2226.608070733626,-42.343812435516874,-2155.662059645594,-3817.344348198082,-4835.751533497278,-5366.293141253159,-5425.686485893261,-4882.579709170009,-3614.356582819116,-1697.495505813086,539.9258978632143,2652.806538278018,4241.382215740893,5155.266733386146,5599.95533040469,5503.411144528839,4848.40560994512,3489.400870068284,1365.434028565574,-1021.0485525555838,-3094.231881317874,-4500.856969793698,-5303.193182249278,-5607.330117634653,-5397.933940098847,-4550.443194344398,-2961.6850333582506,-788.4218230823868,1550.0905759261868,3566.0385569739074,4876.862906526044,5524.4399094355185,5710.49190918849,5378.031403330833,4428.4047637965205,2643.8933478538142,306.69868813635236,-2028.4827790442562,-3847.471342878471,-4998.043657825385,-5587.31529113581,-5620.4246415868065,-5135.65990540186,-3977.30419656111,-2044.7592892701336,306.9237817903773,2560.558542026307,4305.859938123404,5294.83670502458,5702.299565317612,5622.970396126995,5058.080273477976,3679.009719178485,1651.078636456496,-765.7729259835727,-2923.719748431975,-4465.598210837917,-5341.17309919687,-5649.2354142876675,-5442.236257581654,-4656.280002168257,-3167.9960206263277,-1035.250080243373,1315.0569113337458,3379.2457718826486],\"y\":[1588.0842850454599,1055.8292843221313,350.5425000277835,-448.6607670524893,-1154.74632906785,-1630.9333636368995,-1846.7102780493567,-1883.5825456208315,-1696.891110195416,-1252.7639721742737,-583.9542823716627,244.58076088310858,1085.7535061369383,1741.979253673198,2030.1402496122776,2072.1656319964836,1985.2110946128846,1572.5440520926231,928.1595205270337,34.461502788247046,-983.8291499338479,-1809.8763778385935,-2222.837545985813,-2271.627109309669,-2126.9485639504173,-1802.32532231304,-1241.9421008126767,-426.8479310701233,604.5697068289596,1645.1908697324504,2363.898721250489,2609.5364075934076,2480.0736452074543,2194.1494850821105,1670.9575944497442,909.5950193335624,-129.62260004932918,-1368.4107591353488,-2381.8369603326328,-2849.563368825344,-2828.449540456637,-2515.7144548321985,-2016.670460266415,-1325.0551356590004,-393.4301773566036,793.3273421627435,2063.3290544331185,2974.2841865318173,3264.466958528912,3039.358449003406,2533.4116449276344,1861.334733741116,985.6687867768467,-168.729766285137,-1575.3248331326477,-2817.181887131789,-3481.947787776674,-3490.2699508950427,-3056.6926737641106,-2369.0735503694696,-1515.4838089975144,-470.13105346311744,855.3052730022036,2295.4003262539545,3454.186783338274,3921.786836467452,3737.1812439298733,3093.533788015277,2189.358667776322,1155.767104430688,-106.39132742582889,-1605.1495468943615,-3034.074101994125,-3946.0667428693687,-4138.0102907245255,-3717.5482361318104,-2909.4530296882226,-1867.4619520954186,-639.4951110079714,785.2178437033123,2358.988741239139,3710.6139396905423,4426.000982997438,4369.6730123797215,3768.0048402641755,2718.7488467848357,1466.671615535835,66.55084976774748,-1572.465789047782,-3130.0668242970496,-4220.278299767836,-4636.662163391276,-4369.582254739292,-3550.0687898286405,-2367.768877736791,-967.5164432491893,611.2978783484178,2318.752484785512,3816.9145346361115,4758.346636085259,4947.393627532224,4417.575234223556,3360.5605583312454,1940.4400955028652,343.47649406446584,-1418.029757019673,-3092.2558785137976,-4347.093859323283,-4973.840717280843,-4922.088604061388,-4219.527310616991,-2994.5648561374933,-1449.3655067188108,319.2320093410891,2181.2640257585217,3819.210577029689,4896.1941261964585,5329.116797259892,5026.853967485475,4042.367096332342,2564.4108587836236,790.4435009894976,-1140.3079401296077,-2955.019666966764,-4340.1143006923885,-5141.921410105645,-5317.9672609309755,-4831.351408117821,-3698.5106538530536,-2060.148787386116,-114.2371121702276,1943.0537569485525,3695.896193466677,4924.549415481387,5495.422798974298,5446.662295782289,4669.578232483608,3281.427413820226,1414.1675390222779,-724.4885370238184,-2727.719672852322,-4255.004083155415,-5172.318921325615,-5509.026304104909,-5257.5971248048945,-4333.507647942505,-2776.362847140063,-741.8376319186463,1492.434259165307,3489.626312244448,4834.684640238304,5514.700054164834,5654.223331881406,5125.117429388405,3913.676953658174,2104.5463760486514,-130.40722873901748,-2323.5131660193874,-4026.4375209999184,-5098.620825808675,-5580.818714569545,-5485.47085741477,-4783.0215115004585,-3433.3424778587823,-1435.7514981718857,920.0684440045193,3121.386298512193,4652.231595090891,5467.987179438843,5734.451165134592,5412.975441062971,4427.808852073163,2769.807470746136,565.8965586174821,-1770.5037105044598,-3696.7277123352887,-4934.13765745929,-5542.282337993174,-5610.469860850466,-5102.476273008346,-3980.207613395805,-2151.338583058543,242.4869341235675,2571.979316547722,4301.987297714248,5303.937017482384,5710.993364545627,5512.17423313857,4760.0659885312525,3325.6653474553564,1261.5858893014029,-1085.0457860188349,-3181.787966812348,-4641.648397664688,-5411.340426903576,-5591.392492231782,-5227.723551629028,-4317.735096385831,-2729.0102005425433,-492.1613810103547,1920.6510601118346,3794.7984311057703,5010.866483655693,5564.419361567568,5523.467684935277,4915.826316423053,3701.460009910809,1841.5603413804988,-393.0157866771343,-2530.279746458272,-4171.384887688607,-5149.691161437439,-5494.050565582007,-5253.769879408503,-4475.509997877447,-3115.2463382790716,-1110.816321293773,1181.147373759427,3152.2531016799203,4554.408082855647,5335.796604283925,5419.054862191682,4936.6200169554995,3893.6509357014234,2264.5816184849596,223.5936235092301,-1837.9044279910506,-3550.9296478548918,-4720.7135049094295,-5261.782463618759,-5180.094162694218,-4546.184556130633,-3309.6400828108876,-1530.814565878302,535.3905750338911,2451.358722939889,3934.13458538038,4911.912269153067,5203.983821892012,4870.283558300249,3963.7807561967356,2514.6232755480373,682.6314403941526,-1202.8392257742532,-2856.3366349422495,-4145.521928503397,-4912.3126459544455,-5001.663491673486,-4497.3652819160125,-3411.4772768142143,-1791.8179232582877,39.68832580563663,1777.6013998164942,3260.352514658348,4327.241741673028,4836.12092027863,4704.159334995711,3935.3473347728686,2615.150185069884,976.5935043362853,-695.4213994305737,-2203.210610210132,-3453.2627140254444,-4355.923594149226,-4669.065691771836,-4356.249556726603,-3388.537300482119,-1877.1195421210464,-214.25171741271538,1271.433869615481,2588.0765568195134,3672.269342920529,4307.523816440825,4373.894950711025,3786.2653551099,2610.276015720455,1098.7577241267197,-411.66503389568953,-1709.6929389379004,-2809.7844178023,-3700.7398378470934,-4180.145266824896,-4073.380889002204,-3289.5887348979286,-1888.3256360652663,-351.78011256175074,964.7234028928626,2047.8565592776506,3007.0281041715566,3662.301437748263,3877.4583994181153,3499.25215605668,2488.4000714337612,1101.2453375615426,-262.80694064809114,-1373.7492698242413,-2262.8117342983014,-3028.5819925635546,-3520.5058327828638,-3610.0931463603665,-3039.1226479173242,-1791.9550935887373,-373.9588921811063,829.6888384281918,1716.4999010024706,2452.7882895814782,3010.3626368225405,3260.169672665601,3050.9115515130743,2250.3874109767276,1013.2652211095519,-234.2143904716738,-1200.269354676433,-1898.558130435784,-2482.6069331631415,-2864.5934781510714,-3020.654783776665,-2645.964188114423,-1586.7359408408176,-299.1389527807471,784.1241646712616,1545.2337533784646,2068.6476797744767,2435.2683152581235,2633.567645328754,2489.572154336648,1861.6068136070169,832.3277358406441,-285.3775477036315,-1155.877992173549,-1718.8133675572694,-2058.4531384929764,-2268.995306355808,-2322.8373153727357,-2065.800287377728,-1217.6434760738164,-123.02512666908231,844.4725192886873,1499.6527334907457,1878.2021737696934,2025.9119687401385,2025.4020641646564,1830.890537191171,1295.6387894772424,443.9159910731313,-480.6060380342196,-1226.2082362546976,-1649.5794451843663,-1866.8592433838148,-1845.4556310291205,-1714.2095004380944,-1377.6538144438555,-684.9801353103559,213.79191756438212,1008.5752114481134,1541.6582348743507,1807.0040980870488,1798.9498395967614,1586.5288050339177,1229.8590922812975,660.747621623071,-102.09468422088042,-829.0654535658983,-1381.8504950752354,-1709.4404864600692,-1791.1853669443371,-1608.9136566211228,-1253.7379599112094,-739.4937551587758,-26.46120538175261,724.5185508549714,1336.2133759257365,1717.6542713670078,1853.3957109507553,1732.4512659932009,1344.861876295911,777.9455421454883,86.84222242128094,-696.506842439792,-1350.9751608275114,-1704.1535808445624,-1866.4950642544968,-1839.7133210542818,-1536.2880190485096,-967.9797329546569,-255.6960796072646,618.7091324884022,1329.8608510734302,1779.3187885304303,1984.1799337870368,1996.9541420766468,1755.1696077203628,1240.8844075918594,491.21391638944664,-434.688617502067,-1344.6088220274846,-1963.0270307537678,-2195.685007391537],\"z\":[-1600.609000437862,-3286.5232524489106,-4280.459943807772,-4634.343782736603,-4648.178797654697,-4104.823296131622,-2859.201673144946,-1193.3230051086773,608.0297766501546,2356.1797381557167,3719.0606698920355,4440.296121887389,4649.936582227474,4483.551910030419,3776.2826783544638,2410.970155173273,731.0733886652516,-1110.6877858503253,-2815.2377612905666,-3956.1800147084214,-4462.701588674617,-4559.968488261793,-4147.279833513198,-3094.0577958668414,-1592.6541568676662,122.39726226212571,1868.710869002934,3318.197204582377,4177.64564319033,4512.997468897011,4439.107202726002,3826.5362514258672,2628.952653155303,1118.7447409034592,-635.6082865022819,-2342.7140882579024,-3547.78674357264,-4182.456955666314,-4413.851215257372,-4090.3357954464927,-3168.7962353708263,-1844.4157002955083,-270.17980877216917,1402.6424044596758,2868.176687083271,3823.6037065515607,4249.393669326598,4306.213505333062,3770.7518291431115,2709.0365358530403,1348.16610259617,-198.1187266779951,-1839.1246252046392,-3063.4947404963027,-3801.7817668623284,-4156.718201412482,-3967.582971215905,-3157.7201626975157,-1969.5786074544465,-573.7550183108567,967.500990011147,2389.9630352628374,3373.6336078188556,3922.877846124424,4112.921585735673,3698.9374592423387,2660.355278601651,1468.0002461573392,85.90007474578337,-1408.8776468805222,-2596.9084827396605,-3336.0499923078046,-3805.8165105865187,-3755.9514397697985,-3054.7344770171026,-1969.6908760556469,-725.1410137629397,649.6925802012091,1965.8435098963457,2906.210567376666,3491.9103871929374,3798.816172202615,3516.055260373724,2599.160243530279,1433.033097534112,205.74008970869863,-1101.6475182849845,-2158.9713929984937,-2875.7960526352704,-3353.823375073215,-3414.9838872698647,-2870.5729048818794,-1890.1733867668931,-741.6890601799597,472.5939384576658,1621.6563727516939,2474.374442525109,3027.8075295266794,3398.463071711394,3228.2249993392156,2457.006625660216,1377.2821267726001,218.41558073583238,-932.9165395671392,-1820.5595015462018,-2441.313786329523,-2896.959635255161,-3002.649996095196,-2576.308212375487,-1733.5774973121793,-679.0707416556376,443.19178498420445,1426.382503376371,2111.2628909919495,2589.497907207023,2946.8652482091247,2871.63534894698,2184.2283920837654,1251.6383146231913,153.83722816265305,-903.8925445524515,-1644.3497368466483,-2090.573488380601,-2460.196616602177,-2561.9105901172898,-2196.500865963905,-1467.1561668130178,-542.773284110806,477.82308616022095,1377.1421148891277,1899.3916997166205,2201.676392091173,2493.266542544477,2428.2761077120044,1831.5090287091716,1013.1418134834959,41.78038768997614,-969.1205930884166,-1599.5546372553965,-1881.8124942874454,-2088.087981223918,-2122.912387208391,-1755.1472842909109,-1086.3069955610424,-295.87357507543567,609.0516130448066,1421.0048788411768,1832.0067829125703,1959.3940224849007,2108.3175472483904,1975.7576823410386,1407.4499987657955,687.4276229643685,-165.62252329682553,-1062.4421767822853,-1650.1395918086264,-1835.0686933816396,-1870.1461658564408,-1755.1770232063136,-1323.556881115328,-658.8080681495757,63.01835826242438,838.9838809834106,1542.3731625917062,1874.7813956865475,1868.1727019417003,1844.6774520723432,1593.0646472252818,958.2540666292356,283.75672526099777,-482.9096818376171,-1257.447742522405,-1758.4843548888427,-1875.6608136517464,-1783.2503582894676,-1494.8708397482762,-941.6759922729844,-232.434067540838,480.5540891609111,1170.4751366765393,1751.8842711055916,1982.1167605645887,1912.2386218164877,1725.0434985050763,1280.816208696269,541.0518299738737,-177.12620919512074,-875.8787468837481,-1553.3243920451898,-1947.166814037036,-1985.5020818700273,-1808.3186697690812,-1392.1917312813098,-671.7785288148186,175.19051245512202,930.7716974533126,1589.1097780234597,2072.512245913326,2173.2659754166166,1996.5064703759615,1741.4730348943033,1139.4421567631855,231.32869530110045,-581.961249274207,-1299.5501424692982,-1920.984780818155,-2215.5076066791135,-2144.8347846045504,-1902.721187373144,-1413.9145684337625,-546.4538456057119,466.3137280658629,1327.8758381371024,2021.7543669014544,2492.6735537138725,2478.8041449170255,2185.0026475773657,1839.1608360770053,1144.5518591865482,75.23014541737136,-901.1874600515713,-1731.5339021970362,-2356.9746444595767,-2604.267662214508,-2434.991638412835,-2069.478050044105,-1508.9754869160215,-568.4795579644476,609.8604598648222,1653.494992540783,2442.0297745203106,2946.2000670005505,2904.0390501970533,2488.2188196563143,2008.2839298551664,1233.069052964981,46.146131179306025,-1110.2242172037897,-2092.4614305094024,-2810.3807793430065,-3038.0869768871453,-2796.764669229468,-2326.6161907842375,-1665.710545384139,-654.6740848868291,628.5808421561441,1843.7615031450168,2813.471449928761,3388.707835668264,3389.728056838568,2869.272583430097,2259.917828904845,1369.5595363466762,138.9778328835975,-1162.2654583031926,-2311.039896615079,-3169.1317434858424,-3483.004447346741,-3228.3902043193584,-2672.356195130233,-1907.266044649023,-805.6372319819808,552.2557460172228,1893.6166204019582,3025.4487994196425,3785.1650360825124,3822.446393474294,3340.818391436585,2633.9089481220176,1637.3729376792364,287.02248433286377,-1081.4595313627954,-2383.944429714378,-3428.1005793734025,-3885.6473619496273,-3690.252707641362,-3111.034488495723,-2259.969249178373,-1034.3071272233517,406.80231218593104,1796.6215223232869,3091.6737408012623,4052.6482894233095,4248.572801630503,3811.091143141713,3114.8315537471276,2007.605590646785,530.4356666908407,-949.8959963036384,-2349.5375097379206,-3550.531000795312,-4190.472672196089,-4125.7859429640785,-3579.706593208318,-2689.723878220342,-1381.6177435632342,195.87539431790248,1696.9856224649416,3036.074586273902,4160.930418356955,4559.166680406425,4231.688198981527,3584.441700683451,2456.8766195577664,888.9725997702205,-719.0182271800572,-2208.6411778135043,-3522.9605762372353,-4337.787500970371,-4449.825245362026,-4016.637297297344,-3158.34511300199,-1803.841876493901,-123.87380998436812,1495.2169421824567,2933.139637941688,4145.676308428476,4718.009323548969,4581.667201696524,4012.665798797716,2945.153050649696,1328.0299698803933,-399.53000901181207,-2025.688461387473,-3423.6030053737304,-4366.801227552486,-4668.167963288332,-4396.014831454196,-3630.4032922364167,-2270.8762563721803,-529.1000036499263,1204.847865983034,2759.5367498908677,4046.30447203236,4713.475388032857,4764.162431359112,4395.784175378834,3396.955609463632,1822.892111830885,25.41068344998668,-1714.9627085077045,-3244.695199285142,-4288.789611366595,-4705.579074590593,-4614.446135667887,-4020.7889504454242,-2766.788288211674,-1006.0229289225166,811.6683594329353,2492.4727681006875,3900.6405571015184,4613.780122003618,4804.085245123993,4608.34122142185,3785.4910698247204,2312.808962871642,534.0918287469846,-1290.3645129886797,-2951.887937039172,-4126.844309392705,-4657.816097587831,-4705.3304192413425,-4305.729917735741,-3199.6305762999054,-1501.4275024563274,334.7568094724244,2113.7919557948485,3661.6436410819265,4498.83516728644,4735.951895594472,4685.0754038587065,4055.496412728409,2717.5829499843057,1007.3317249905415,-822.805269344699,-2562.6487767207404,-3874.619119613611,-4537.905931044952,-4683.259491320162,-4430.298851284189,-3517.7690131282434,-1972.9234354229843,-158.17474652898468,1665.3829299380868,3297.4525406554185,4282.001684062975,4633.443146707409,4656.90390704345,4183.2394581895815,3044.265070694752,1453.146876570033,-325.69024755112787,-2101.173896329328,-3533.076730470504,-4333.265245861839,-4586.578981620038,-4427.576853362496,-3698.1126134685946],\"type\":\"scatter3d\",\"scene\":\"scene2\"}],                        {\"template\":{\"data\":{\"histogram2dcontour\":[{\"type\":\"histogram2dcontour\",\"colorbar\":{\"outlinewidth\":0,\"ticks\":\"\"},\"colorscale\":[[0.0,\"#0d0887\"],[0.1111111111111111,\"#46039f\"],[0.2222222222222222,\"#7201a8\"],[0.3333333333333333,\"#9c179e\"],[0.4444444444444444,\"#bd3786\"],[0.5555555555555556,\"#d8576b\"],[0.6666666666666666,\"#ed7953\"],[0.7777777777777778,\"#fb9f3a\"],[0.8888888888888888,\"#fdca26\"],[1.0,\"#f0f921\"]]}],\"choropleth\":[{\"type\":\"choropleth\",\"colorbar\":{\"outlinewidth\":0,\"ticks\":\"\"}}],\"histogram2d\":[{\"type\":\"histogram2d\",\"colorbar\":{\"outlinewidth\":0,\"ticks\":\"\"},\"colorscale\":[[0.0,\"#0d0887\"],[0.1111111111111111,\"#46039f\"],[0.2222222222222222,\"#7201a8\"],[0.3333333333333333,\"#9c179e\"],[0.4444444444444444,\"#bd3786\"],[0.5555555555555556,\"#d8576b\"],[0.6666666666666666,\"#ed7953\"],[0.7777777777777778,\"#fb9f3a\"],[0.8888888888888888,\"#fdca26\"],[1.0,\"#f0f921\"]]}],\"heatmap\":[{\"type\":\"heatmap\",\"colorbar\":{\"outlinewidth\":0,\"ticks\":\"\"},\"colorscale\":[[0.0,\"#0d0887\"],[0.1111111111111111,\"#46039f\"],[0.2222222222222222,\"#7201a8\"],[0.3333333333333333,\"#9c179e\"],[0.4444444444444444,\"#bd3786\"],[0.5555555555555556,\"#d8576b\"],[0.6666666666666666,\"#ed7953\"],[0.7777777777777778,\"#fb9f3a\"],[0.8888888888888888,\"#fdca26\"],[1.0,\"#f0f921\"]]}],\"heatmapgl\":[{\"type\":\"heatmapgl\",\"colorbar\":{\"outlinewidth\":0,\"ticks\":\"\"},\"colorscale\":[[0.0,\"#0d0887\"],[0.1111111111111111,\"#46039f\"],[0.2222222222222222,\"#7201a8\"],[0.3333333333333333,\"#9c179e\"],[0.4444444444444444,\"#bd3786\"],[0.5555555555555556,\"#d8576b\"],[0.6666666666666666,\"#ed7953\"],[0.7777777777777778,\"#fb9f3a\"],[0.8888888888888888,\"#fdca26\"],[1.0,\"#f0f921\"]]}],\"contourcarpet\":[{\"type\":\"contourcarpet\",\"colorbar\":{\"outlinewidth\":0,\"ticks\":\"\"}}],\"contour\":[{\"type\":\"contour\",\"colorbar\":{\"outlinewidth\":0,\"ticks\":\"\"},\"colorscale\":[[0.0,\"#0d0887\"],[0.1111111111111111,\"#46039f\"],[0.2222222222222222,\"#7201a8\"],[0.3333333333333333,\"#9c179e\"],[0.4444444444444444,\"#bd3786\"],[0.5555555555555556,\"#d8576b\"],[0.6666666666666666,\"#ed7953\"],[0.7777777777777778,\"#fb9f3a\"],[0.8888888888888888,\"#fdca26\"],[1.0,\"#f0f921\"]]}],\"surface\":[{\"type\":\"surface\",\"colorbar\":{\"outlinewidth\":0,\"ticks\":\"\"},\"colorscale\":[[0.0,\"#0d0887\"],[0.1111111111111111,\"#46039f\"],[0.2222222222222222,\"#7201a8\"],[0.3333333333333333,\"#9c179e\"],[0.4444444444444444,\"#bd3786\"],[0.5555555555555556,\"#d8576b\"],[0.6666666666666666,\"#ed7953\"],[0.7777777777777778,\"#fb9f3a\"],[0.8888888888888888,\"#fdca26\"],[1.0,\"#f0f921\"]]}],\"mesh3d\":[{\"type\":\"mesh3d\",\"colorbar\":{\"outlinewidth\":0,\"ticks\":\"\"}}],\"scatter\":[{\"fillpattern\":{\"fillmode\":\"overlay\",\"size\":10,\"solidity\":0.2},\"type\":\"scatter\"}],\"parcoords\":[{\"type\":\"parcoords\",\"line\":{\"colorbar\":{\"outlinewidth\":0,\"ticks\":\"\"}}}],\"scatterpolargl\":[{\"type\":\"scatterpolargl\",\"marker\":{\"colorbar\":{\"outlinewidth\":0,\"ticks\":\"\"}}}],\"bar\":[{\"error_x\":{\"color\":\"#2a3f5f\"},\"error_y\":{\"color\":\"#2a3f5f\"},\"marker\":{\"line\":{\"color\":\"#E5ECF6\",\"width\":0.5},\"pattern\":{\"fillmode\":\"overlay\",\"size\":10,\"solidity\":0.2}},\"type\":\"bar\"}],\"scattergeo\":[{\"type\":\"scattergeo\",\"marker\":{\"colorbar\":{\"outlinewidth\":0,\"ticks\":\"\"}}}],\"scatterpolar\":[{\"type\":\"scatterpolar\",\"marker\":{\"colorbar\":{\"outlinewidth\":0,\"ticks\":\"\"}}}],\"histogram\":[{\"marker\":{\"pattern\":{\"fillmode\":\"overlay\",\"size\":10,\"solidity\":0.2}},\"type\":\"histogram\"}],\"scattergl\":[{\"type\":\"scattergl\",\"marker\":{\"colorbar\":{\"outlinewidth\":0,\"ticks\":\"\"}}}],\"scatter3d\":[{\"type\":\"scatter3d\",\"line\":{\"colorbar\":{\"outlinewidth\":0,\"ticks\":\"\"}},\"marker\":{\"colorbar\":{\"outlinewidth\":0,\"ticks\":\"\"}}}],\"scattermapbox\":[{\"type\":\"scattermapbox\",\"marker\":{\"colorbar\":{\"outlinewidth\":0,\"ticks\":\"\"}}}],\"scatterternary\":[{\"type\":\"scatterternary\",\"marker\":{\"colorbar\":{\"outlinewidth\":0,\"ticks\":\"\"}}}],\"scattercarpet\":[{\"type\":\"scattercarpet\",\"marker\":{\"colorbar\":{\"outlinewidth\":0,\"ticks\":\"\"}}}],\"carpet\":[{\"aaxis\":{\"endlinecolor\":\"#2a3f5f\",\"gridcolor\":\"white\",\"linecolor\":\"white\",\"minorgridcolor\":\"white\",\"startlinecolor\":\"#2a3f5f\"},\"baxis\":{\"endlinecolor\":\"#2a3f5f\",\"gridcolor\":\"white\",\"linecolor\":\"white\",\"minorgridcolor\":\"white\",\"startlinecolor\":\"#2a3f5f\"},\"type\":\"carpet\"}],\"table\":[{\"cells\":{\"fill\":{\"color\":\"#EBF0F8\"},\"line\":{\"color\":\"white\"}},\"header\":{\"fill\":{\"color\":\"#C8D4E3\"},\"line\":{\"color\":\"white\"}},\"type\":\"table\"}],\"barpolar\":[{\"marker\":{\"line\":{\"color\":\"#E5ECF6\",\"width\":0.5},\"pattern\":{\"fillmode\":\"overlay\",\"size\":10,\"solidity\":0.2}},\"type\":\"barpolar\"}],\"pie\":[{\"automargin\":true,\"type\":\"pie\"}]},\"layout\":{\"autotypenumbers\":\"strict\",\"colorway\":[\"#636efa\",\"#EF553B\",\"#00cc96\",\"#ab63fa\",\"#FFA15A\",\"#19d3f3\",\"#FF6692\",\"#B6E880\",\"#FF97FF\",\"#FECB52\"],\"font\":{\"color\":\"#2a3f5f\"},\"hovermode\":\"closest\",\"hoverlabel\":{\"align\":\"left\"},\"paper_bgcolor\":\"white\",\"plot_bgcolor\":\"#E5ECF6\",\"polar\":{\"bgcolor\":\"#E5ECF6\",\"angularaxis\":{\"gridcolor\":\"white\",\"linecolor\":\"white\",\"ticks\":\"\"},\"radialaxis\":{\"gridcolor\":\"white\",\"linecolor\":\"white\",\"ticks\":\"\"}},\"ternary\":{\"bgcolor\":\"#E5ECF6\",\"aaxis\":{\"gridcolor\":\"white\",\"linecolor\":\"white\",\"ticks\":\"\"},\"baxis\":{\"gridcolor\":\"white\",\"linecolor\":\"white\",\"ticks\":\"\"},\"caxis\":{\"gridcolor\":\"white\",\"linecolor\":\"white\",\"ticks\":\"\"}},\"coloraxis\":{\"colorbar\":{\"outlinewidth\":0,\"ticks\":\"\"}},\"colorscale\":{\"sequential\":[[0.0,\"#0d0887\"],[0.1111111111111111,\"#46039f\"],[0.2222222222222222,\"#7201a8\"],[0.3333333333333333,\"#9c179e\"],[0.4444444444444444,\"#bd3786\"],[0.5555555555555556,\"#d8576b\"],[0.6666666666666666,\"#ed7953\"],[0.7777777777777778,\"#fb9f3a\"],[0.8888888888888888,\"#fdca26\"],[1.0,\"#f0f921\"]],\"sequentialminus\":[[0.0,\"#0d0887\"],[0.1111111111111111,\"#46039f\"],[0.2222222222222222,\"#7201a8\"],[0.3333333333333333,\"#9c179e\"],[0.4444444444444444,\"#bd3786\"],[0.5555555555555556,\"#d8576b\"],[0.6666666666666666,\"#ed7953\"],[0.7777777777777778,\"#fb9f3a\"],[0.8888888888888888,\"#fdca26\"],[1.0,\"#f0f921\"]],\"diverging\":[[0,\"#8e0152\"],[0.1,\"#c51b7d\"],[0.2,\"#de77ae\"],[0.3,\"#f1b6da\"],[0.4,\"#fde0ef\"],[0.5,\"#f7f7f7\"],[0.6,\"#e6f5d0\"],[0.7,\"#b8e186\"],[0.8,\"#7fbc41\"],[0.9,\"#4d9221\"],[1,\"#276419\"]]},\"xaxis\":{\"gridcolor\":\"white\",\"linecolor\":\"white\",\"ticks\":\"\",\"title\":{\"standoff\":15},\"zerolinecolor\":\"white\",\"automargin\":true,\"zerolinewidth\":2},\"yaxis\":{\"gridcolor\":\"white\",\"linecolor\":\"white\",\"ticks\":\"\",\"title\":{\"standoff\":15},\"zerolinecolor\":\"white\",\"automargin\":true,\"zerolinewidth\":2},\"scene\":{\"xaxis\":{\"backgroundcolor\":\"#E5ECF6\",\"gridcolor\":\"white\",\"linecolor\":\"white\",\"showbackground\":true,\"ticks\":\"\",\"zerolinecolor\":\"white\",\"gridwidth\":2},\"yaxis\":{\"backgroundcolor\":\"#E5ECF6\",\"gridcolor\":\"white\",\"linecolor\":\"white\",\"showbackground\":true,\"ticks\":\"\",\"zerolinecolor\":\"white\",\"gridwidth\":2},\"zaxis\":{\"backgroundcolor\":\"#E5ECF6\",\"gridcolor\":\"white\",\"linecolor\":\"white\",\"showbackground\":true,\"ticks\":\"\",\"zerolinecolor\":\"white\",\"gridwidth\":2}},\"shapedefaults\":{\"line\":{\"color\":\"#2a3f5f\"}},\"annotationdefaults\":{\"arrowcolor\":\"#2a3f5f\",\"arrowhead\":0,\"arrowwidth\":1},\"geo\":{\"bgcolor\":\"white\",\"landcolor\":\"#E5ECF6\",\"subunitcolor\":\"white\",\"showland\":true,\"showlakes\":true,\"lakecolor\":\"white\"},\"title\":{\"x\":0.05},\"mapbox\":{\"style\":\"light\"}}},\"scene\":{\"domain\":{\"x\":[0.0,0.45],\"y\":[0.0,1.0]},\"xaxis\":{\"ticks\":\"\",\"showticklabels\":false},\"yaxis\":{\"ticks\":\"\",\"showticklabels\":false},\"zaxis\":{\"ticks\":\"\",\"showticklabels\":false},\"aspectmode\":\"data\"},\"scene2\":{\"domain\":{\"x\":[0.55,1.0],\"y\":[0.0,1.0]},\"xaxis\":{\"ticks\":\"\",\"showticklabels\":false},\"yaxis\":{\"ticks\":\"\",\"showticklabels\":false},\"zaxis\":{\"ticks\":\"\",\"showticklabels\":false},\"aspectmode\":\"data\"},\"annotations\":[{\"font\":{\"size\":16},\"showarrow\":false,\"text\":\"Circ Coord 1\",\"x\":0.225,\"xanchor\":\"center\",\"xref\":\"paper\",\"y\":1.0,\"yanchor\":\"bottom\",\"yref\":\"paper\"},{\"font\":{\"size\":16},\"showarrow\":false,\"text\":\"Circ Coord 2\",\"x\":0.775,\"xanchor\":\"center\",\"xref\":\"paper\",\"y\":1.0,\"yanchor\":\"bottom\",\"yref\":\"paper\"}],\"showlegend\":false},                        {\"responsive\": true}                    ).then(function(){\n",
       "                            \n",
       "var gd = document.getElementById('4e2a423f-592c-4a69-846c-e0493887a83c');\n",
       "var x = new MutationObserver(function (mutations, observer) {{\n",
       "        var display = window.getComputedStyle(gd).display;\n",
       "        if (!display || display === 'none') {{\n",
       "            console.log([gd, 'removed!']);\n",
       "            Plotly.purge(gd);\n",
       "            observer.disconnect();\n",
       "        }}\n",
       "}});\n",
       "\n",
       "// Listen for the removal of the full notebook cells\n",
       "var notebookContainer = gd.closest('#notebook-container');\n",
       "if (notebookContainer) {{\n",
       "    x.observe(notebookContainer, {childList: true});\n",
       "}}\n",
       "\n",
       "// Listen for the clearing of the current output cell\n",
       "var outputEl = gd.closest('.output');\n",
       "if (outputEl) {{\n",
       "    x.observe(outputEl, {childList: true});\n",
       "}}\n",
       "\n",
       "                        })                };                });            </script>        </div>"
      ]
     },
     "metadata": {},
     "output_type": "display_data"
    }
   ],
   "source": [
    "\n",
    "fig = make_subplots(rows=1, cols=len(coho_classes), \n",
    "                    subplot_titles = tuple('Circ Coord '+str(i+1) for i in coho_classes),\n",
    "                    specs = [[{'type': 'scatter3d'} for i in coho_classes]])\n",
    "\n",
    "for i, coord in enumerate(circular_coords):\n",
    "    fig.add_trace(\n",
    "        go.Scatter3d(x=X_pca.T[0], y=X_pca.T[1], z=X_pca.T[2],   mode ='markers', \n",
    "        marker=dict(size = 2 , color = circular_coords[i])),  \n",
    "        row=1, col=i+1)\n",
    "    fig.update_scenes(xaxis=dict( ticks='', showticklabels=False), \n",
    "                      yaxis=dict( ticks='', showticklabels=False), \n",
    "                      zaxis=dict( ticks='', showticklabels=False), \n",
    "                      aspectmode='data', row=1, col=i+1)\n",
    "\n",
    "fig.update_layout( showlegend=False )\n",
    "fig.show()\n"
   ]
  },
  {
   "cell_type": "code",
   "execution_count": 57,
   "id": "b33f8acf",
   "metadata": {},
   "outputs": [],
   "source": [
    "def writeVideo(filename, frame_data, fps, resol ):\n",
    "    n_row, n_col = resol\n",
    "    out = cv2.VideoWriter(filename, cv2.VideoWriter_fourcc(*'mp4v'), fps, (n_col, n_row))\n",
    "    if frame_data.dtype !='uint8':\n",
    "        frame_data -= np.amin(frame_data)\n",
    "        frame_data *= 255/np.amax(frame_data)\n",
    "        frame_data = np.uint8(frame_data)\n",
    "    for frame in frame_data:\n",
    "        out.write(frame.reshape((n_row, n_col,-1)))\n",
    "    out.release()\n",
    "\n",
    "def playVideo(filepath):\n",
    "    cap = cv2.VideoCapture(filepath)\n",
    "    while cap.isOpened():\n",
    "        ret, frame = cap.read()\n",
    "        if not ret:\n",
    "            break\n",
    "        frame = cv2.cvtColor(frame, cv2.COLOR_BGR2GRAY)\n",
    "        cv2.imshow('frame', frame)\n",
    "        if cv2.waitKey(24) == ord('q'):\n",
    "            break\n",
    "    cap.release()\n",
    "    cv2.destroyAllWindows() "
   ]
  },
  {
   "cell_type": "code",
   "execution_count": 95,
   "id": "02d80503",
   "metadata": {},
   "outputs": [],
   "source": [
    "X_sorted = X[np.argsort(circular_coords[1])]"
   ]
  },
  {
   "cell_type": "code",
   "execution_count": 99,
   "id": "587bbd54",
   "metadata": {},
   "outputs": [
    {
     "data": {
      "text/plain": [
       "array([[125., 125., 125., ..., 125., 125., 125.],\n",
       "       [125., 125., 125., ..., 125., 125., 125.],\n",
       "       [125., 125., 125., ..., 125., 125., 125.],\n",
       "       ...,\n",
       "       [125., 125., 125., ..., 125., 125., 125.],\n",
       "       [125., 125., 125., ..., 125., 125., 125.],\n",
       "       [125., 125., 125., ..., 125., 125., 125.]])"
      ]
     },
     "execution_count": 99,
     "metadata": {},
     "output_type": "execute_result"
    }
   ],
   "source": [
    "X"
   ]
  },
  {
   "cell_type": "code",
   "execution_count": 100,
   "id": "4ccdbab8",
   "metadata": {},
   "outputs": [
    {
     "data": {
      "text/plain": [
       "array([[125., 125., 125., ..., 125., 125., 125.],\n",
       "       [125., 125., 125., ..., 125., 125., 125.],\n",
       "       [125., 125., 125., ..., 125., 125., 125.],\n",
       "       ...,\n",
       "       [125., 125., 125., ..., 125., 125., 125.],\n",
       "       [125., 125., 125., ..., 125., 125., 125.],\n",
       "       [125., 125., 125., ..., 125., 125., 125.]])"
      ]
     },
     "execution_count": 100,
     "metadata": {},
     "output_type": "execute_result"
    }
   ],
   "source": [
    "X_sorted[:,0]"
   ]
  },
  {
   "cell_type": "code",
   "execution_count": 68,
   "id": "3f626337",
   "metadata": {},
   "outputs": [],
   "source": [
    "import numpy as np\n",
    "from scipy import interpolate\n",
    "\n",
    "def reverseSlidingWindowVideo(X, dim, Tau, dT, original_shape):\n",
    "    NWindows, dimP = X.shape\n",
    "    N = original_shape[0]\n",
    "    P = original_shape[1]\n",
    "    pix = np.arange(P)\n",
    "    I = np.zeros((N, P))\n",
    "\n",
    "    idx = np.arange(N)\n",
    "    for i in range(NWindows):\n",
    "        idxx = dT*i + Tau*np.arange(dim)\n",
    "        start = int(np.floor(idxx[0]))\n",
    "        end = int(np.ceil(idxx[-1]))\n",
    "\n",
    "        f = interpolate.interp2d(pix, idxx, X[i, :].reshape(dim, P), kind='linear')\n",
    "        I[idx[start:end+1], :] = f(pix, idx[start:end+1])\n",
    "\n",
    "    return I\n"
   ]
  },
  {
   "cell_type": "code",
   "execution_count": 74,
   "id": "08d43b5a",
   "metadata": {},
   "outputs": [
    {
     "name": "stderr",
     "output_type": "stream",
     "text": [
      "/var/folders/2f/76h8xtxd6yn1mn8rfx554nth0000gn/T/ipykernel_9559/513802197.py:17: DeprecationWarning:\n",
      "\n",
      "`interp2d` is deprecated!\n",
      "`interp2d` is deprecated in SciPy 1.10 and will be removed in SciPy 1.12.0.\n",
      "\n",
      "For legacy code, nearly bug-for-bug compatible replacements are\n",
      "`RectBivariateSpline` on regular grids, and `bisplrep`/`bisplev` for\n",
      "scattered 2D data.\n",
      "\n",
      "In new code, for regular grids use `RegularGridInterpolator` instead.\n",
      "For scattered data, prefer `LinearNDInterpolator` or\n",
      "`CloughTocher2DInterpolator`.\n",
      "\n",
      "For more details see\n",
      "`https://gist.github.com/ev-br/8544371b40f414b7eaf3fe6217209bff`\n",
      "\n",
      "\n",
      "/var/folders/2f/76h8xtxd6yn1mn8rfx554nth0000gn/T/ipykernel_9559/513802197.py:18: DeprecationWarning:\n",
      "\n",
      "        `interp2d` is deprecated!\n",
      "        `interp2d` is deprecated in SciPy 1.10 and will be removed in SciPy 1.12.0.\n",
      "\n",
      "        For legacy code, nearly bug-for-bug compatible replacements are\n",
      "        `RectBivariateSpline` on regular grids, and `bisplrep`/`bisplev` for\n",
      "        scattered 2D data.\n",
      "\n",
      "        In new code, for regular grids use `RegularGridInterpolator` instead.\n",
      "        For scattered data, prefer `LinearNDInterpolator` or\n",
      "        `CloughTocher2DInterpolator`.\n",
      "\n",
      "        For more details see\n",
      "        `https://gist.github.com/ev-br/8544371b40f414b7eaf3fe6217209bff`\n",
      "\n",
      "\n"
     ]
    }
   ],
   "source": [
    "Y = reverseSlidingWindowVideo(X, dim, Tau, dT, (390, 60000))"
   ]
  },
  {
   "cell_type": "code",
   "execution_count": 77,
   "id": "b88ce895",
   "metadata": {},
   "outputs": [],
   "source": [
    "writeVideo('test.wmv', Y_sorted, 30, (100, 200))"
   ]
  },
  {
   "cell_type": "code",
   "execution_count": 78,
   "id": "0774901b",
   "metadata": {},
   "outputs": [],
   "source": [
    "playVideo('test.wmv')"
   ]
  },
  {
   "cell_type": "code",
   "execution_count": null,
   "id": "885282fd",
   "metadata": {},
   "outputs": [],
   "source": []
  }
 ],
 "metadata": {
  "kernelspec": {
   "display_name": "Python 3 (ipykernel)",
   "language": "python",
   "name": "python3"
  },
  "language_info": {
   "codemirror_mode": {
    "name": "ipython",
    "version": 3
   },
   "file_extension": ".py",
   "mimetype": "text/x-python",
   "name": "python",
   "nbconvert_exporter": "python",
   "pygments_lexer": "ipython3",
   "version": "3.10.9"
  }
 },
 "nbformat": 4,
 "nbformat_minor": 5
}
