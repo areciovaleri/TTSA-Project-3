{
 "cells": [
  {
   "cell_type": "code",
   "execution_count": 1,
   "id": "412b6012",
   "metadata": {},
   "outputs": [
    {
     "name": "stdout",
     "output_type": "stream",
     "text": [
      "Number of frames: 390\n"
     ]
    }
   ],
   "source": [
    "import cv2\n",
    "import numpy as np\n",
    "\n",
    "def video_to_frames(video_path):\n",
    "    # Read the video\n",
    "    video = cv2.VideoCapture(video_path)\n",
    "\n",
    "    frames = []\n",
    "\n",
    "    while video.isOpened():\n",
    "        ret, frame = video.read()\n",
    "\n",
    "        if not ret:\n",
    "            break\n",
    "\n",
    "        # Convert the frame to grayscale if needed\n",
    "        # gray_frame = cv2.cvtColor(frame, cv2.COLOR_BGR2GRAY)\n",
    "\n",
    "        # Add the frame to the list\n",
    "        frames.append(frame)\n",
    "\n",
    "    video.release()\n",
    "\n",
    "    return frames\n",
    "\n",
    "# Example usage\n",
    "video_path = \"dots_quasi.wmv\"\n",
    "frames = video_to_frames(video_path)\n",
    "print(\"Number of frames:\", len(frames))"
   ]
  },
  {
   "cell_type": "code",
   "execution_count": 2,
   "id": "bfab494b",
   "metadata": {},
   "outputs": [],
   "source": [
    "from PIL import Image\n",
    "import cv2\n",
    "import glob\n",
    "from scipy import interpolate\n",
    "from scipy.interpolate import CubicSpline\n",
    "from matplotlib import pyplot as plt\n"
   ]
  },
  {
   "cell_type": "code",
   "execution_count": 3,
   "id": "8170a24b",
   "metadata": {},
   "outputs": [
    {
     "name": "stdout",
     "output_type": "stream",
     "text": [
      "390  frames extracted\n",
      "frame size =  (100, 200)\n",
      "data shape = (390, 60000)\n"
     ]
    }
   ],
   "source": [
    "def loadVideo(filepath):\n",
    "    vid = cv2.VideoCapture(filepath)\n",
    "    _, image = vid.read()\n",
    "    count = 0\n",
    "    success = True\n",
    "    n_row, n_col, _ = image.shape\n",
    "    data = []\n",
    "    while success:\n",
    "        data.append(image.flatten()) \n",
    "        success,image = vid.read()\n",
    "        count += 1\n",
    "    vid.release() \n",
    "    data = np.array(data)\n",
    "    print(count, \" frames extracted\")\n",
    "    print(\"frame size = \", (n_row , n_col))\n",
    "    print(\"data shape =\", data.shape)\n",
    "    return data , (n_row, n_col)\n",
    "\n",
    "data , shape = loadVideo('dots_quasi.wmv')\n",
    "n_row, n_col = shape"
   ]
  },
  {
   "cell_type": "code",
   "execution_count": 4,
   "id": "1e8092aa",
   "metadata": {},
   "outputs": [],
   "source": [
    "def loadFrame(framefilepath): \n",
    "    image_path = framefilepath\n",
    "    image = cv2.imread(image_path)\n",
    "    blue_channel, green_channel, red_channel = cv2.split(image)\n",
    "    \n",
    "    pixels = image.reshape(-1, 3)\n",
    "\n",
    "    return pixels "
   ]
  },
  {
   "cell_type": "code",
   "execution_count": 5,
   "id": "c98c2862",
   "metadata": {},
   "outputs": [
    {
     "name": "stdout",
     "output_type": "stream",
     "text": [
      "20000\n"
     ]
    }
   ],
   "source": [
    "import os\n",
    "from pathlib import Path\n",
    "\n",
    "folder_path = \"/Users/acrv/Documents/GitHub/MSRI-UP2023/frames\"\n",
    "\n",
    "#Get a list of file names in the folder\n",
    "file_names = os.listdir(folder_path)\n",
    "\n",
    "#Define the custom sorting key function\n",
    "def get_file_number(file_path):\n",
    "    # Extract the number from the file name\n",
    "    try:\n",
    "        file_name = os.path.basename(file_path)  # Extract the file name from the full path\n",
    "        number = int(file_name.split('.')[0].replace('frame_', ''))  # Assuming the number is before the file extension\n",
    "    except ValueError:\n",
    "        number = float('inf')  # Assign a high value if the file name doesn't contain a number\n",
    "    return number\n",
    "#Sort the file names based on the custom sorting key\n",
    "\n",
    "sorted_file_names = sorted(file_names, key=get_file_number)\n",
    "\n",
    "filepath_list=[]\n",
    "\n",
    "#Iterate over the sorted file names\n",
    "for file_name in sorted_file_names:\n",
    "    file_path = os.path.join(folder_path, file_name)\n",
    "    filepath_list.append(file_path)\n",
    "    \n",
    "filepath_array=np.array(filepath_list)\n",
    "filepath2=[]\n",
    "\n",
    "for i in range(len(filepath_array)-1):\n",
    "    filepath2.append(filepath_array[i])\n",
    "dummy_matrix=[]    \n",
    "for path in np.array(filepath2): \n",
    "    pixels=loadFrame(path)\n",
    "    dummy_matrix.append(pixels)\n",
    "    \n",
    "print(len(dummy_matrix[0]))"
   ]
  },
  {
   "cell_type": "code",
   "execution_count": 6,
   "id": "b6cc4054",
   "metadata": {},
   "outputs": [],
   "source": [
    "import os\n",
    "import cv2\n",
    "import numpy as np\n",
    "\n",
    "# Folder path containing the images\n",
    "folder_path = '/Users/acrv/Documents/GitHub/MSRI-UP2023/frames'  # Replace with the actual folder path\n",
    "\n",
    "# Create an empty array to store all RGB values\n",
    "rgb_array = []\n",
    "\n",
    "# Iterate over each file in the folder\n",
    "for filename in os.listdir(folder_path):\n",
    "    if filename.endswith('.jpg') or filename.endswith('.png'):\n",
    "        # Get the full file path\n",
    "        file_path = os.path.join(folder_path, filename)\n",
    "\n",
    "        # Read the image using OpenCV\n",
    "        image = cv2.imread(file_path)\n",
    "\n",
    "        # Convert the image to RGB format\n",
    "        image = cv2.cvtColor(image, cv2.COLOR_BGR2RGB)\n",
    "\n",
    "        # Get the dimensions of the image\n",
    "        height, width, _ = image.shape\n",
    "\n",
    "        # Reshape the image array to a 2D array of shape (height * width, 3)\n",
    "        reshaped_image = np.reshape(image, (height * width, 3))\n",
    "\n",
    "        # Append the RGB values of the current image to the array\n",
    "        rgb_array.append(reshaped_image)\n",
    "\n",
    "# Convert the RGB values array to a NumPy array\n",
    "rgb_array = np.array(rgb_array)\n",
    "\n",
    "#print(type(rgb_array))"
   ]
  },
  {
   "cell_type": "code",
   "execution_count": 84,
   "id": "ccccda6d",
   "metadata": {},
   "outputs": [
    {
     "data": {
      "text/plain": [
       "(390, 20000, 3)"
      ]
     },
     "execution_count": 84,
     "metadata": {},
     "output_type": "execute_result"
    }
   ],
   "source": [
    "rgb_array.shape"
   ]
  },
  {
   "cell_type": "code",
   "execution_count": 8,
   "id": "b3baca87",
   "metadata": {},
   "outputs": [],
   "source": [
    "#This cell contains rgb array that has 100 by 200 (wrong wording but itll do the trick for now)\n",
    "\n",
    "import os\n",
    "import numpy as np\n",
    "from PIL import Image\n",
    "\n",
    "# Folder path containing the images\n",
    "folder_path = '/Users/acrv/Documents/GitHub/MSRI-UP2023/frames'  # Replace with the actual folder path\n",
    "\n",
    "# Create an empty array to store all RGB values\n",
    "rgb = []\n",
    "\n",
    "# Iterate over each file in the folder\n",
    "for filename in os.listdir(folder_path):\n",
    "    if filename.endswith('.jpg') or filename.endswith('.png'):\n",
    "        # Get the full file path\n",
    "        file_path = os.path.join(folder_path, filename)\n",
    "\n",
    "        # Open the image file\n",
    "        image = Image.open(file_path)\n",
    "\n",
    "        # Convert the image to RGB mode (if not already in RGB)\n",
    "        image = image.convert('RGB')\n",
    "\n",
    "        # Get the dimensions of the image\n",
    "        width, height = image.size\n",
    "\n",
    "        # Create an empty NumPy array to store RGB values for the current image\n",
    "        image_rgb_values = np.empty((height, width, 3), dtype=np.uint8)\n",
    "\n",
    "        # Iterate over each pixel in the image\n",
    "        for y in range(height):\n",
    "            for x in range(width):\n",
    "                # Get the RGB values of the pixel at (x, y)\n",
    "                r, g, b = image.getpixel((x, y))\n",
    "\n",
    "                # Assign the RGB values to the corresponding position in the NumPy array\n",
    "                image_rgb_values[y, x] = [r, g, b]\n",
    "\n",
    "        # Append the RGB values of the current image as a single entry in the array\n",
    "        rgb.append(image_rgb_values)\n",
    "\n",
    "rgb = np.array(rgb)\n",
    "        \n",
    "#print(rgb[0][50])\n"
   ]
  },
  {
   "cell_type": "code",
   "execution_count": 3,
   "id": "3ac57be0",
   "metadata": {},
   "outputs": [
    {
     "ename": "NameError",
     "evalue": "name 'rgb' is not defined",
     "output_type": "error",
     "traceback": [
      "\u001b[0;31m---------------------------------------------------------------------------\u001b[0m",
      "\u001b[0;31mNameError\u001b[0m                                 Traceback (most recent call last)",
      "Cell \u001b[0;32mIn[3], line 34\u001b[0m\n\u001b[1;32m     31\u001b[0m dim \u001b[38;5;241m=\u001b[39m \u001b[38;5;241m5\u001b[39m\n\u001b[1;32m     32\u001b[0m Tau \u001b[38;5;241m=\u001b[39m wSize\u001b[38;5;241m/\u001b[39m\u001b[38;5;28mfloat\u001b[39m(dim)\n\u001b[0;32m---> 34\u001b[0m data \u001b[38;5;241m=\u001b[39m \u001b[43mrgb\u001b[49m\n\u001b[1;32m     35\u001b[0m desiredSamples \u001b[38;5;241m=\u001b[39m \u001b[38;5;241m600\u001b[39m\n\u001b[1;32m     36\u001b[0m M \u001b[38;5;241m=\u001b[39m data\u001b[38;5;241m.\u001b[39mshape[\u001b[38;5;241m0\u001b[39m] \u001b[38;5;241m-\u001b[39m wSize \u001b[38;5;241m+\u001b[39m \u001b[38;5;241m1\u001b[39m\n",
      "\u001b[0;31mNameError\u001b[0m: name 'rgb' is not defined"
     ]
    }
   ],
   "source": [
    "\n",
    "\n",
    "def getSlidingWindowVideo(I, dim, Tau, dT):\n",
    "    N = I.shape[0]  # Number of frames\n",
    "    H = I.shape[1]  # Height\n",
    "    W = I.shape[2]  # Width\n",
    "    C = I.shape[3]  # Color channels\n",
    "\n",
    "    P = H * W * C  # Number of pixels (possibly after PCA)\n",
    "    pix = np.arange(P)\n",
    "\n",
    "    NWindows = int(np.floor((N - dim * Tau) / dT))\n",
    "    X = np.zeros((NWindows, dim * P))\n",
    "    idx = np.arange(N)\n",
    "\n",
    "    for i in range(NWindows):\n",
    "        idxx = dT * i + Tau * np.arange(dim)\n",
    "        start = int(np.floor(idxx[0]))\n",
    "        end = int(np.ceil(idxx[-1]))\n",
    "        t_values = idx[start:end + 1]\n",
    "        x_values = pix\n",
    "        z_values = I[t_values, :, :, :].reshape(-1, H * W * C)\n",
    "        \n",
    "        # Perform interpolation\n",
    "        f = interpolate.interp2d(x_values, t_values, z_values, kind='linear')\n",
    "        interpolated_values = f(pix, idxx)\n",
    "\n",
    "        X[i, :] = interpolated_values.flatten()\n",
    "\n",
    "    return X\n",
    "\n",
    "wSize = 16\n",
    "dim = 5\n",
    "Tau = wSize/float(dim)\n",
    "\n",
    "data = rgb\n",
    "desiredSamples = 600\n",
    "M = data.shape[0] - wSize + 1\n",
    "dT = M/float(desiredSamples)\n",
    "\n",
    "Z = getSlidingWindowVideo(data, dim, Tau, dT)\n",
    "\n",
    "#print(Z[50][70])"
   ]
  },
  {
   "cell_type": "code",
   "execution_count": 87,
   "id": "c4d68075",
   "metadata": {
    "scrolled": false
   },
   "outputs": [
    {
     "ename": "ValueError",
     "evalue": "There are 14 points and 60000 values in dimension 0",
     "output_type": "error",
     "traceback": [
      "\u001b[0;31m---------------------------------------------------------------------------\u001b[0m",
      "\u001b[0;31mValueError\u001b[0m                                Traceback (most recent call last)",
      "Cell \u001b[0;32mIn[87], line 38\u001b[0m\n\u001b[1;32m     35\u001b[0m M \u001b[38;5;241m=\u001b[39m data\u001b[38;5;241m.\u001b[39mshape[\u001b[38;5;241m0\u001b[39m] \u001b[38;5;241m-\u001b[39m wSize \u001b[38;5;241m+\u001b[39m \u001b[38;5;241m1\u001b[39m\n\u001b[1;32m     36\u001b[0m dT \u001b[38;5;241m=\u001b[39m M\u001b[38;5;241m/\u001b[39m\u001b[38;5;28mfloat\u001b[39m(desiredSamples)\n\u001b[0;32m---> 38\u001b[0m X \u001b[38;5;241m=\u001b[39m \u001b[43mgetSlidingWindowVideo\u001b[49m\u001b[43m(\u001b[49m\u001b[43mdata\u001b[49m\u001b[43m,\u001b[49m\u001b[43m \u001b[49m\u001b[43mdim\u001b[49m\u001b[43m,\u001b[49m\u001b[43m \u001b[49m\u001b[43mTau\u001b[49m\u001b[43m,\u001b[49m\u001b[43m \u001b[49m\u001b[43mdT\u001b[49m\u001b[43m)\u001b[49m\n",
      "Cell \u001b[0;32mIn[87], line 21\u001b[0m, in \u001b[0;36mgetSlidingWindowVideo\u001b[0;34m(I, dim, Tau, dT)\u001b[0m\n\u001b[1;32m     18\u001b[0m values \u001b[38;5;241m=\u001b[39m I[start:end \u001b[38;5;241m+\u001b[39m \u001b[38;5;241m1\u001b[39m, :, :]\u001b[38;5;241m.\u001b[39mreshape((end \u001b[38;5;241m-\u001b[39m start \u001b[38;5;241m+\u001b[39m \u001b[38;5;241m1\u001b[39m, \u001b[38;5;241m-\u001b[39m\u001b[38;5;241m1\u001b[39m))\u001b[38;5;241m.\u001b[39mT\n\u001b[1;32m     20\u001b[0m \u001b[38;5;66;03m# Create RegularGridInterpolator object\u001b[39;00m\n\u001b[0;32m---> 21\u001b[0m f \u001b[38;5;241m=\u001b[39m \u001b[43minterpolate\u001b[49m\u001b[38;5;241;43m.\u001b[39;49m\u001b[43mRegularGridInterpolator\u001b[49m\u001b[43m(\u001b[49m\u001b[43m(\u001b[49m\u001b[43midx\u001b[49m\u001b[43m[\u001b[49m\u001b[43mstart\u001b[49m\u001b[43m:\u001b[49m\u001b[43mend\u001b[49m\u001b[43m \u001b[49m\u001b[38;5;241;43m+\u001b[39;49m\u001b[43m \u001b[49m\u001b[38;5;241;43m1\u001b[39;49m\u001b[43m]\u001b[49m\u001b[43m,\u001b[49m\u001b[43m \u001b[49m\u001b[43mpix\u001b[49m\u001b[43m)\u001b[49m\u001b[43m,\u001b[49m\u001b[43m \u001b[49m\u001b[43mvalues\u001b[49m\u001b[43m,\u001b[49m\u001b[43m \u001b[49m\u001b[43mmethod\u001b[49m\u001b[38;5;241;43m=\u001b[39;49m\u001b[38;5;124;43m'\u001b[39;49m\u001b[38;5;124;43mlinear\u001b[39;49m\u001b[38;5;124;43m'\u001b[39;49m\u001b[43m)\u001b[49m\n\u001b[1;32m     23\u001b[0m \u001b[38;5;66;03m# Evaluate the interpolated values on the grid points\u001b[39;00m\n\u001b[1;32m     24\u001b[0m X[i, :] \u001b[38;5;241m=\u001b[39m f(np\u001b[38;5;241m.\u001b[39mcolumn_stack((grid_y\u001b[38;5;241m.\u001b[39mflatten(), grid_x\u001b[38;5;241m.\u001b[39mflatten())))\n",
      "File \u001b[0;32m~/anaconda3/lib/python3.10/site-packages/scipy/interpolate/_rgi.py:241\u001b[0m, in \u001b[0;36mRegularGridInterpolator.__init__\u001b[0;34m(self, points, values, method, bounds_error, fill_value)\u001b[0m\n\u001b[1;32m    239\u001b[0m \u001b[38;5;28mself\u001b[39m\u001b[38;5;241m.\u001b[39mgrid, \u001b[38;5;28mself\u001b[39m\u001b[38;5;241m.\u001b[39m_descending_dimensions \u001b[38;5;241m=\u001b[39m _check_points(points)\n\u001b[1;32m    240\u001b[0m \u001b[38;5;28mself\u001b[39m\u001b[38;5;241m.\u001b[39mvalues \u001b[38;5;241m=\u001b[39m \u001b[38;5;28mself\u001b[39m\u001b[38;5;241m.\u001b[39m_check_values(values)\n\u001b[0;32m--> 241\u001b[0m \u001b[38;5;28;43mself\u001b[39;49m\u001b[38;5;241;43m.\u001b[39;49m\u001b[43m_check_dimensionality\u001b[49m\u001b[43m(\u001b[49m\u001b[38;5;28;43mself\u001b[39;49m\u001b[38;5;241;43m.\u001b[39;49m\u001b[43mgrid\u001b[49m\u001b[43m,\u001b[49m\u001b[43m \u001b[49m\u001b[38;5;28;43mself\u001b[39;49m\u001b[38;5;241;43m.\u001b[39;49m\u001b[43mvalues\u001b[49m\u001b[43m)\u001b[49m\n\u001b[1;32m    242\u001b[0m \u001b[38;5;28mself\u001b[39m\u001b[38;5;241m.\u001b[39mfill_value \u001b[38;5;241m=\u001b[39m \u001b[38;5;28mself\u001b[39m\u001b[38;5;241m.\u001b[39m_check_fill_value(\u001b[38;5;28mself\u001b[39m\u001b[38;5;241m.\u001b[39mvalues, fill_value)\n\u001b[1;32m    243\u001b[0m \u001b[38;5;28;01mif\u001b[39;00m \u001b[38;5;28mself\u001b[39m\u001b[38;5;241m.\u001b[39m_descending_dimensions:\n",
      "File \u001b[0;32m~/anaconda3/lib/python3.10/site-packages/scipy/interpolate/_rgi.py:247\u001b[0m, in \u001b[0;36mRegularGridInterpolator._check_dimensionality\u001b[0;34m(self, grid, values)\u001b[0m\n\u001b[1;32m    246\u001b[0m \u001b[38;5;28;01mdef\u001b[39;00m \u001b[38;5;21m_check_dimensionality\u001b[39m(\u001b[38;5;28mself\u001b[39m, grid, values):\n\u001b[0;32m--> 247\u001b[0m     \u001b[43m_check_dimensionality\u001b[49m\u001b[43m(\u001b[49m\u001b[43mgrid\u001b[49m\u001b[43m,\u001b[49m\u001b[43m \u001b[49m\u001b[43mvalues\u001b[49m\u001b[43m)\u001b[49m\n",
      "File \u001b[0;32m~/anaconda3/lib/python3.10/site-packages/scipy/interpolate/_rgi.py:44\u001b[0m, in \u001b[0;36m_check_dimensionality\u001b[0;34m(points, values)\u001b[0m\n\u001b[1;32m     41\u001b[0m     \u001b[38;5;28;01mraise\u001b[39;00m \u001b[38;5;167;01mValueError\u001b[39;00m(\u001b[38;5;124m\"\u001b[39m\u001b[38;5;124mThe points in dimension \u001b[39m\u001b[38;5;132;01m%d\u001b[39;00m\u001b[38;5;124m must be \u001b[39m\u001b[38;5;124m\"\u001b[39m\n\u001b[1;32m     42\u001b[0m                      \u001b[38;5;124m\"\u001b[39m\u001b[38;5;124m1-dimensional\u001b[39m\u001b[38;5;124m\"\u001b[39m \u001b[38;5;241m%\u001b[39m i)\n\u001b[1;32m     43\u001b[0m \u001b[38;5;28;01mif\u001b[39;00m \u001b[38;5;129;01mnot\u001b[39;00m values\u001b[38;5;241m.\u001b[39mshape[i] \u001b[38;5;241m==\u001b[39m \u001b[38;5;28mlen\u001b[39m(p):\n\u001b[0;32m---> 44\u001b[0m     \u001b[38;5;28;01mraise\u001b[39;00m \u001b[38;5;167;01mValueError\u001b[39;00m(\u001b[38;5;124m\"\u001b[39m\u001b[38;5;124mThere are \u001b[39m\u001b[38;5;132;01m%d\u001b[39;00m\u001b[38;5;124m points and \u001b[39m\u001b[38;5;132;01m%d\u001b[39;00m\u001b[38;5;124m values in \u001b[39m\u001b[38;5;124m\"\u001b[39m\n\u001b[1;32m     45\u001b[0m                      \u001b[38;5;124m\"\u001b[39m\u001b[38;5;124mdimension \u001b[39m\u001b[38;5;132;01m%d\u001b[39;00m\u001b[38;5;124m\"\u001b[39m \u001b[38;5;241m%\u001b[39m (\u001b[38;5;28mlen\u001b[39m(p), values\u001b[38;5;241m.\u001b[39mshape[i], i))\n",
      "\u001b[0;31mValueError\u001b[0m: There are 14 points and 60000 values in dimension 0"
     ]
    }
   ],
   "source": [
    "# Auxiliary video functions\n",
    "def getSlidingWindowVideo(I, dim, Tau, dT):\n",
    "    N = I.shape[0] #Number of frames\n",
    "    P = I.shape[1] #Number of pixels (possibly after PCA)\n",
    "    pix = np.arange(P)\n",
    "    NWindows = int(np.floor((N-dim*Tau)/dT))\n",
    "    X = np.zeros((NWindows, dim*P))\n",
    "    idx = np.arange(N)\n",
    "    for i in range(NWindows):\n",
    "        idxx = dT*i + Tau*np.arange(dim)\n",
    "        start = int(np.floor(idxx[0]))\n",
    "        end = int(np.ceil(idxx[-1]))\n",
    "        \n",
    "        # Create grid points for each dimension\n",
    "        grid_x, grid_y = np.meshgrid(pix, idx[start:end + 1], indexing='ij')\n",
    "\n",
    "        # Reshape the input array\n",
    "        values = I[start:end + 1, :, :].reshape((end - start + 1, -1)).T\n",
    "\n",
    "        # Create RegularGridInterpolator object\n",
    "        f = interpolate.RegularGridInterpolator((idx[start:end + 1], pix), values, method='linear')\n",
    "\n",
    "        # Evaluate the interpolated values on the grid points\n",
    "        X[i, :] = f(np.column_stack((grid_y.flatten(), grid_x.flatten())))\n",
    "\n",
    "    return X\n",
    "\n",
    "wSize = 16\n",
    "dim = 5\n",
    "Tau = wSize/float(dim)\n",
    "\n",
    "data = rgb_array\n",
    "\n",
    "desiredSamples = 600\n",
    "M = data.shape[0] - wSize + 1\n",
    "dT = M/float(desiredSamples)\n",
    "\n",
    "X = getSlidingWindowVideo(data, dim, Tau, dT)\n",
    "\n",
    "#XS = X - np.mean(X, 1)[:, None]\n",
    "#XS = XS/np.sqrt(np.sum(XS**2, 1))[:, None]\n"
   ]
  },
  {
   "cell_type": "markdown",
   "id": "c15dfd73",
   "metadata": {},
   "source": [
    "# Auxiliary video functions\n",
    "def getSlidingWindowVideo(I, dim, Tau, dT):\n",
    "    N = I.shape[0] #Number of frames\n",
    "    P = I.shape[1] #Number of pixels (possibly after PCA)\n",
    "    pix = np.arange(P)\n",
    "    NWindows = int(np.floor((N-dim*Tau)/dT))\n",
    "    X = np.zeros((NWindows, dim*P))\n",
    "    idx = np.arange(N)\n",
    "    for i in range(NWindows):\n",
    "        idxx = dT*i + Tau*np.arange(dim)\n",
    "        start = int(np.floor(idxx[0]))\n",
    "        end = int(np.ceil(idxx[-1]))\n",
    "        f = interpolate.interp2d(pix, idx[start:end+1], I[idx[start:end+1], :], kind='linear')\n",
    "        X[i, :] = f(pix, idxx).flatten()\n",
    "    return X\n",
    "\n",
    "wSize = 16\n",
    "dim = 5\n",
    "Tau = wSize/float(dim)\n",
    "\n",
    "data = np.array(dummy_matrix)\n",
    "desiredSamples = 600\n",
    "M = data.shape[0] - wSize + 1\n",
    "dT = M/float(desiredSamples)\n",
    "\n",
    "Z = getSlidingWindowVideo(data, dim, Tau, dT)\n"
   ]
  },
  {
   "cell_type": "code",
   "execution_count": 67,
   "id": "5c8a813a",
   "metadata": {},
   "outputs": [
    {
     "data": {
      "text/plain": [
       "(390, 20000, 3)"
      ]
     },
     "execution_count": 67,
     "metadata": {},
     "output_type": "execute_result"
    }
   ],
   "source": [
    "rgb_array.shape"
   ]
  },
  {
   "cell_type": "code",
   "execution_count": 64,
   "id": "df49b70d",
   "metadata": {},
   "outputs": [],
   "source": [
    "# Persistence Computation\n",
    "from ripser import ripser \n",
    "from persim import plot_diagrams\n",
    "\n",
    "rips_persistence = ripser(X.T, maxdim=1)\n",
    "\n",
    "#dgms = rips_persistence['dgms']\n",
    "\n",
    "#plt.figure(figsize = (5,5)) \n",
    "#plot_diagrams(dgms, title='Persistence Diagrams')"
   ]
  },
  {
   "cell_type": "code",
   "execution_count": 1,
   "id": "c37c5f12",
   "metadata": {},
   "outputs": [
    {
     "ename": "NameError",
     "evalue": "name 'Z' is not defined",
     "output_type": "error",
     "traceback": [
      "\u001b[0;31m---------------------------------------------------------------------------\u001b[0m",
      "\u001b[0;31mNameError\u001b[0m                                 Traceback (most recent call last)",
      "Cell \u001b[0;32mIn[1], line 11\u001b[0m\n\u001b[1;32m      7\u001b[0m \u001b[38;5;28;01mimport\u001b[39;00m \u001b[38;5;21;01mplotly\u001b[39;00m\u001b[38;5;21;01m.\u001b[39;00m\u001b[38;5;21;01mgraph_objects\u001b[39;00m \u001b[38;5;28;01mas\u001b[39;00m \u001b[38;5;21;01mgo\u001b[39;00m\n\u001b[1;32m      8\u001b[0m \u001b[38;5;28;01mfrom\u001b[39;00m \u001b[38;5;21;01mplotly\u001b[39;00m\u001b[38;5;21;01m.\u001b[39;00m\u001b[38;5;21;01msubplots\u001b[39;00m \u001b[38;5;28;01mimport\u001b[39;00m make_subplots\n\u001b[1;32m     10\u001b[0m fig \u001b[38;5;241m=\u001b[39m go\u001b[38;5;241m.\u001b[39mFigure(data\u001b[38;5;241m=\u001b[39m[go\u001b[38;5;241m.\u001b[39mScatter3d(\n\u001b[0;32m---> 11\u001b[0m     x\u001b[38;5;241m=\u001b[39m\u001b[43mZ\u001b[49m[\u001b[38;5;241m0\u001b[39m], y\u001b[38;5;241m=\u001b[39mZ[\u001b[38;5;241m1\u001b[39m], z\u001b[38;5;241m=\u001b[39mZ[\u001b[38;5;241m2\u001b[39m], \n\u001b[1;32m     12\u001b[0m     mode \u001b[38;5;241m=\u001b[39m\u001b[38;5;124m'\u001b[39m\u001b[38;5;124mmarkers\u001b[39m\u001b[38;5;124m'\u001b[39m, \n\u001b[1;32m     13\u001b[0m     \u001b[38;5;66;03m#marker= dict(size = 3, color = np.arange(data.shape[0]) , colorscale='plasma' , opacity = 1)\u001b[39;00m\n\u001b[1;32m     14\u001b[0m     marker\u001b[38;5;241m=\u001b[39m\u001b[38;5;28mdict\u001b[39m(size \u001b[38;5;241m=\u001b[39m \u001b[38;5;241m2\u001b[39m, color \u001b[38;5;241m=\u001b[39m \u001b[38;5;124m'\u001b[39m\u001b[38;5;124mgrey\u001b[39m\u001b[38;5;124m'\u001b[39m, opacity \u001b[38;5;241m=\u001b[39m \u001b[38;5;241m1\u001b[39m)\n\u001b[1;32m     15\u001b[0m )])\n\u001b[1;32m     17\u001b[0m fig\u001b[38;5;241m.\u001b[39mupdate_layout( width\u001b[38;5;241m=\u001b[39m\u001b[38;5;241m900\u001b[39m, height\u001b[38;5;241m=\u001b[39m\u001b[38;5;241m450\u001b[39m) \n\u001b[1;32m     18\u001b[0m fig\u001b[38;5;241m.\u001b[39mshow()\n",
      "\u001b[0;31mNameError\u001b[0m: name 'Z' is not defined"
     ]
    }
   ],
   "source": [
    "#topological data analysis\n",
    "from persim import plot_diagrams\n",
    "from dreimac import CircularCoords \n",
    "from dreimac import CircleMapUtils as CMU\n",
    "\n",
    "#plotting and visualization\n",
    "import plotly.graph_objects as go\n",
    "from plotly.subplots import make_subplots\n",
    "\n",
    "fig = go.Figure(data=[go.Scatter3d(\n",
    "    x=Z[0], y=Z[1], z=Z[2], \n",
    "    mode ='markers', \n",
    "    #marker= dict(size = 3, color = np.arange(data.shape[0]) , colorscale='plasma' , opacity = 1)\n",
    "    marker=dict(size = 2, color = 'grey', opacity = 1)\n",
    ")])\n",
    "\n",
    "fig.update_layout( width=900, height=450) \n",
    "fig.show()"
   ]
  },
  {
   "cell_type": "code",
   "execution_count": null,
   "id": "f17a99c8",
   "metadata": {},
   "outputs": [],
   "source": [
    "coho_classes = [0, 1]\n",
    "\n",
    "circular_coords = []\n",
    "\n",
    "n_lands = 200\n",
    "\n",
    "\n",
    "cc = CircularCoords(Z, n_landmarks=n_lands)\n",
    "\n",
    "XS = Z - np.mean(Z, 1)[:, None]\n",
    "XS = XS/np.sqrt(np.sum(XS**2, 1))[:, None]\n",
    "\n",
    "for i in coho_classes:\n",
    "    theta = cc.get_coordinates(perc= 0, cocycle_idx=i)\n",
    "    theta = CMU.to_sinebow(np.pi + CMU.center(theta))\n",
    "    circular_coords.append(theta)\n",
    "    \n",
    "fig = make_subplots(rows=1, cols=len(coho_classes), \n",
    "                    subplot_titles = tuple('Circ Coord '+str(i+1) for i in coho_classes),\n",
    "                    specs = [[{'type': 'scatter3d'} for i in coho_classes]])\n",
    "\n",
    "for i, coord in enumerate(circular_coords):\n",
    "    fig.add_trace(\n",
    "        go.Scatter3d(x=XS[0], y=XS[1], z=XS[2],   mode ='markers', \n",
    "        marker=dict(size = 2 , color =  circular_coords[i])),  \n",
    "        row=1, col=i+1)\n",
    "    fig.update_scenes(xaxis=dict( ticks='', showticklabels=False), \n",
    "                      yaxis=dict( ticks='', showticklabels=False), \n",
    "                      zaxis=dict( ticks='', showticklabels=False), \n",
    "                      aspectmode='data', row=1, col=i+1)\n",
    "\n",
    "fig.update_layout( showlegend=False )\n",
    "fig.show()"
   ]
  },
  {
   "cell_type": "code",
   "execution_count": null,
   "id": "dc21ad32",
   "metadata": {},
   "outputs": [],
   "source": [
    "coho_classes = [0, 1]\n",
    "\n",
    "circular_coords = []\n",
    "\n",
    "n_lands = 200\n",
    "\n",
    "cc = CircularCoords(Z.T, n_landmarks=n_lands)\n",
    "\n",
    "for i in coho_classes:\n",
    "    theta = cc.get_coordinates(perc= 0, cocycle_idx=i)\n",
    "    theta = CMU.to_sinebow(np.pi + CMU.center(theta))\n",
    "    circular_coords.append(theta)\n",
    "    \n",
    "fig = make_subplots(rows=1, cols=len(coho_classes), \n",
    "                    subplot_titles = tuple('Circ Coord '+str(i+1) for i in coho_classes),\n",
    "                    specs = [[{'type': 'scatter3d'} for i in coho_classes]])"
   ]
  },
  {
   "cell_type": "code",
   "execution_count": null,
   "id": "7930001f",
   "metadata": {},
   "outputs": [],
   "source": [
    "# Reshape the image array to a 2D array of shape (num_images * num_pixels, 3)\n",
    "#reshaped_array = rgb.reshape(-1, 3)\n",
    "#print(len(rgb))\n",
    "\n",
    "# Extract the red values using array indexing\n",
    "red_values = rgb[:, 0]  # Index 0 corresponds to the red channel\n",
    "\n",
    "# Print the array of red values\n",
    "print(red_values)\n"
   ]
  },
  {
   "cell_type": "code",
   "execution_count": null,
   "id": "011f3ad9",
   "metadata": {},
   "outputs": [],
   "source": []
  }
 ],
 "metadata": {
  "kernelspec": {
   "display_name": "Python 3 (ipykernel)",
   "language": "python",
   "name": "python3"
  },
  "language_info": {
   "codemirror_mode": {
    "name": "ipython",
    "version": 3
   },
   "file_extension": ".py",
   "mimetype": "text/x-python",
   "name": "python",
   "nbconvert_exporter": "python",
   "pygments_lexer": "ipython3",
   "version": "3.10.9"
  }
 },
 "nbformat": 4,
 "nbformat_minor": 5
}
