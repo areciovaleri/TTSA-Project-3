{
 "cells": [
  {
   "cell_type": "code",
   "execution_count": 1,
   "id": "b4766b9c",
   "metadata": {},
   "outputs": [],
   "source": [
    "#Generating Neccessary Functions \n",
    "import numpy as np\n",
    "from PIL import Image\n",
    "import cv2\n",
    "import glob\n",
    "from scipy import interpolate\n",
    "from scipy.interpolate import CubicSpline\n",
    "from matplotlib import pyplot as plt\n",
    "import os\n",
    "from pathlib import Path\n",
    "\n",
    "from ripser import ripser \n",
    "from persim import plot_diagrams\n",
    "from sklearn.decomposition import PCA\n",
    "\n",
    "#topological data analysis\n",
    "from persim import plot_diagrams\n",
    "from dreimac import CircularCoords \n",
    "from dreimac import CircleMapUtils as CMU\n",
    "\n",
    "#plotting and visualization\n",
    "import plotly.graph_objects as go\n",
    "from plotly.subplots import make_subplots\n",
    "%matplotlib inline  "
   ]
  },
  {
   "cell_type": "code",
   "execution_count": 2,
   "id": "4396d442",
   "metadata": {},
   "outputs": [],
   "source": [
    "def introduction(): \n",
    "    intro = '''Welcome to our Topological Decoupling Simulation!  This simulation aims to apply a chain of algorithms \n",
    "    that, when given a quasi-periodic video with N independent oscillations, rearranges the frames in N different \n",
    "    ways such that for the nth video created, the nth oscillation will be in motion while the others remain \n",
    "    stationary. We achieve this by applying the a sliding-window algorithm to provided video data to extract \n",
    "    quasi-periodocity. We also make use of PCA for visualization purposes, ripser to detect persistent cohomology, \n",
    "    and the DREiMac algorithm to apply circular coordinates.  \n",
    "    For our simulation, we ask that you provide the following:\n",
    "    '''\n",
    "    print(intro)\n",
    "    global N, videofp, WindowSize, Dimension, SampleSize, PCA_Components\n",
    "    N=int(input(\"Number of Oscillations present in video data: \"))\n",
    "    while N <= 0: \n",
    "        print(\"Please input a valid non-negative integer greater than zero\")\n",
    "        N=int(input(\"Number of Oscillations present in video data: \")) \n",
    "            \n",
    "    videofp=input(\"Please provide the file path to your video (if you have a sequence of images but no video,\" \n",
    "                 \" input 'images'): \")\n",
    "    if videofp=='images': \n",
    "        videofp=input(\"Please provide the file path to folder containing image sequence: \")\n",
    "    WindowSize=int(input(\"Window Size (a size of 15-18 is recommended): \"))\n",
    "    Dimension=int(input(\"Sliding window dimension (a dimension of 3-5 is recommended): \"))\n",
    "    SampleSize=int(input(\"Sample Size (size of Sliding Window sample, 300-500 is recommended): \"))\n",
    "    PCA_Components=int(input(\"Number of components for PCA: \"))\n",
    "    \n",
    "    "
   ]
  },
  {
   "cell_type": "code",
   "execution_count": 3,
   "id": "cd823acf",
   "metadata": {},
   "outputs": [
    {
     "name": "stdout",
     "output_type": "stream",
     "text": [
      "Welcome to our Topological Decoupling Simulation!  This simulation aims to apply a chain of algorithms \n",
      "    that, when given a quasi-periodic video with N independent oscillations, rearranges the frames in N different \n",
      "    ways such that for the nth video created, the nth oscillation will be in motion while the others remain \n",
      "    stationary. We achieve this by applying the a sliding-window algorithm to provided video data to extract \n",
      "    quasi-periodocity. We also make use of PCA for visualization purposes, ripser to detect persistent cohomology, \n",
      "    and the DREiMac algorithm to apply circular coordinates.  \n",
      "    For our simulation, we ask that you provide the following:\n",
      "    \n",
      "Number of Oscillations present in video data: 2\n",
      "Please provide the file path to your video (if you have a sequence of images but no video, input 'images'): /Users/slmathuser/Documents/GitHub/TTSA-Project-3/dots_quasi.wmv\n",
      "Window Size (a size of 15-18 is recommended): 18\n",
      "Sliding window dimension (a dimension of 3-5 is recommended): 5\n",
      "Sample Size (size of Sliding Window sample, 300-500 is recommended): 1000\n",
      "Number of components for PCA: 8\n"
     ]
    }
   ],
   "source": [
    "introduction()"
   ]
  },
  {
   "cell_type": "code",
   "execution_count": 4,
   "id": "1db53727",
   "metadata": {},
   "outputs": [],
   "source": [
    "#Generating Video Functions \n",
    "def getSlidingWindowVideo(I, dim, Tau, dT):\n",
    "    N = I.shape[0] #Number of frames\n",
    "    P = I.shape[1] #Number of pixels (possibly after PCA)\n",
    "    pix = np.arange(P)\n",
    "    NWindows = int(np.floor((N-dim*Tau)/dT))\n",
    "    X = np.zeros((NWindows, dim*P))\n",
    "    idx = np.arange(N)\n",
    "    for i in range(NWindows):\n",
    "        idxx = dT*i + Tau*np.arange(dim)\n",
    "        start = int(np.floor(idxx[0]))\n",
    "        end = int(np.ceil(idxx[-1]))\n",
    "        f = interpolate.interp2d(pix, idx[start:end+1], I[idx[start:end+1], :], kind='linear')\n",
    "        X[i, :] = f(pix, idxx).flatten()\n",
    "    return X\n",
    "\n",
    "def writeVideo(filename, frame_data, fps, resol ):\n",
    "    n_row, n_col = resol\n",
    "    out = cv2.VideoWriter(filename, cv2.VideoWriter_fourcc(*'mp4v'), fps, (n_col, n_row))\n",
    "    if frame_data.dtype !='uint8':\n",
    "        frame_data -= np.amin(frame_data)\n",
    "        frame_data *= 255/np.amax(frame_data)\n",
    "        frame_data = np.uint8(frame_data)\n",
    "    for frame in frame_data:\n",
    "        out.write(frame.reshape((n_row, n_col,-1)))\n",
    "    out.release()\n",
    "def playVideo(filepath):\n",
    "    cap = cv2.VideoCapture(filepath)\n",
    "    while cap.isOpened():\n",
    "        ret, frame = cap.read()\n",
    "        if not ret:\n",
    "            break\n",
    "        frame = cv2.cvtColor(frame, cv2.COLOR_BGR2GRAY)\n",
    "        cv2.imshow('frame', frame)\n",
    "        if cv2.waitKey(24) == ord('q'):\n",
    "            break\n",
    "    cap.release()\n",
    "    cv2.destroyAllWindows()  \n",
    "\n",
    "def loadVideo(filepath):\n",
    "    vid = cv2.VideoCapture(filepath)\n",
    "    _, image = vid.read()\n",
    "    count = 0\n",
    "    success = True\n",
    "    global n_row, n_col\n",
    "    n_row, n_col, _ = image.shape \n",
    "    data = []\n",
    "    while success:\n",
    "        data.append(image.flatten()) \n",
    "        success,image = vid.read()\n",
    "        count += 1\n",
    "    vid.release() \n",
    "    data = np.array(data)\n",
    "    print(count, \" frames extracted\")\n",
    "    print(\"frame size = \", (n_row , n_col))\n",
    "    print(\"data shape =\", data.shape)\n",
    "    return data , (n_row, n_col)"
   ]
  },
  {
   "cell_type": "code",
   "execution_count": 5,
   "id": "09c11c14",
   "metadata": {
    "scrolled": true
   },
   "outputs": [
    {
     "name": "stdout",
     "output_type": "stream",
     "text": [
      "390  frames extracted\n",
      "frame size =  (100, 200)\n",
      "data shape = (390, 60000)\n"
     ]
    }
   ],
   "source": [
    "#Storing Video Data into Data Variable\n",
    "data, shape = loadVideo(videofp)"
   ]
  },
  {
   "cell_type": "code",
   "execution_count": 6,
   "id": "aa000686",
   "metadata": {},
   "outputs": [
    {
     "name": "stderr",
     "output_type": "stream",
     "text": [
      "/var/folders/cy/j26w4bs96qx4s7nvml4d4hdm0000gp/T/ipykernel_73730/1586172474.py:13: DeprecationWarning: `interp2d` is deprecated!\n",
      "`interp2d` is deprecated in SciPy 1.10 and will be removed in SciPy 1.12.0.\n",
      "\n",
      "For legacy code, nearly bug-for-bug compatible replacements are\n",
      "`RectBivariateSpline` on regular grids, and `bisplrep`/`bisplev` for\n",
      "scattered 2D data.\n",
      "\n",
      "In new code, for regular grids use `RegularGridInterpolator` instead.\n",
      "For scattered data, prefer `LinearNDInterpolator` or\n",
      "`CloughTocher2DInterpolator`.\n",
      "\n",
      "For more details see\n",
      "`https://gist.github.com/ev-br/8544371b40f414b7eaf3fe6217209bff`\n",
      "\n",
      "  f = interpolate.interp2d(pix, idx[start:end+1], I[idx[start:end+1], :], kind='linear')\n",
      "/var/folders/cy/j26w4bs96qx4s7nvml4d4hdm0000gp/T/ipykernel_73730/1586172474.py:14: DeprecationWarning:         `interp2d` is deprecated!\n",
      "        `interp2d` is deprecated in SciPy 1.10 and will be removed in SciPy 1.12.0.\n",
      "\n",
      "        For legacy code, nearly bug-for-bug compatible replacements are\n",
      "        `RectBivariateSpline` on regular grids, and `bisplrep`/`bisplev` for\n",
      "        scattered 2D data.\n",
      "\n",
      "        In new code, for regular grids use `RegularGridInterpolator` instead.\n",
      "        For scattered data, prefer `LinearNDInterpolator` or\n",
      "        `CloughTocher2DInterpolator`.\n",
      "\n",
      "        For more details see\n",
      "        `https://gist.github.com/ev-br/8544371b40f414b7eaf3fe6217209bff`\n",
      "\n",
      "  X[i, :] = f(pix, idxx).flatten()\n"
     ]
    }
   ],
   "source": [
    "#Performing Sliding Window Algorithm \n",
    "wSize = WindowSize\n",
    "dim = Dimension\n",
    "Tau = wSize/float(dim)\n",
    "desiredSamples=SampleSize\n",
    "M = data.shape[0] - wSize + 1\n",
    "dT = M/float(desiredSamples)\n",
    "X = getSlidingWindowVideo(data, dim, Tau, dT)\n",
    "\n",
    "XS = X - np.mean(X, 1)[:, None]\n",
    "XS = XS/np.sqrt(np.sum(XS**2, 1))[:, None]\n",
    "\n",
    "#X = X - np.amin(X)\n",
    "#X = X/np.amax(X)\n",
    "#X = np.uint8(*255)\n",
    "frame_data = X[:, 0:data.shape[1]]\n"
   ]
  },
  {
   "cell_type": "code",
   "execution_count": 7,
   "id": "0474b165",
   "metadata": {},
   "outputs": [
    {
     "name": "stdout",
     "output_type": "stream",
     "text": [
      "(997, 300000)\n"
     ]
    }
   ],
   "source": [
    "print(X.shape)"
   ]
  },
  {
   "cell_type": "code",
   "execution_count": 8,
   "id": "c43e8e5a",
   "metadata": {},
   "outputs": [
    {
     "data": {
      "image/png": "[encoded data removed]",
      "text/plain": [
       "<Figure size 380x150 with 1 Axes>"
      ]
     },
     "metadata": {},
     "output_type": "display_data"
    }
   ],
   "source": [
    "# PCA of the Sliding window point cloud\n",
    "pca = PCA(n_components=PCA_Components)\n",
    "XS_pca = pca.fit(XS).transform(XS)\n",
    "plt.figure(figsize = (3.8,1.5))\n",
    "plt.plot(pca.explained_variance_ratio_, '-*') ;\n",
    "plt.title('Explained PCA variance -Sliding Window');\n"
   ]
  },
  {
   "cell_type": "code",
   "execution_count": 9,
   "id": "01709a58",
   "metadata": {},
   "outputs": [
    {
     "data": {
      "image/png": "[encoded data removed]",
      "text/plain": [
       "<Figure size 300x300 with 1 Axes>"
      ]
     },
     "metadata": {},
     "output_type": "display_data"
    }
   ],
   "source": [
    "# Compute persistence diagrams of the pca vesion of the sliding window point cloud\n",
    "res = ripser(XS_pca, maxdim=2, n_perm =int(0.75*SampleSize), coeff =13, thresh = 0.9)\n",
    "dgms = res['dgms']\n",
    "plt.figure(figsize = (3,3)) \n",
    "plot_diagrams(dgms)"
   ]
  },
  {
   "cell_type": "code",
   "execution_count": null,
   "id": "ca7ae9d6",
   "metadata": {},
   "outputs": [
    {
     "name": "stderr",
     "output_type": "stream",
     "text": [
      "/Users/slmathuser/anaconda3/lib/python3.10/site-packages/ripser/ripser.py:253: UserWarning: The input point cloud has more columns than rows; did you mean to transpose?\n",
      "  warnings.warn(\n"
     ]
    }
   ],
   "source": [
    "n_lands = int(0.75*SampleSize)\n",
    "\n",
    "cc = CircularCoords(XS, n_landmarks=n_lands)\n",
    "\n",
    "plot_diagrams(cc.dgms_)\n"
   ]
  },
  {
   "cell_type": "code",
   "execution_count": null,
   "id": "28aff1af",
   "metadata": {},
   "outputs": [],
   "source": [
    "# Get the circular coordinates at birth, and for the N/2 or N/3 cocycles with highest persistence\n",
    "coho_classes=[]\n",
    "\n",
    "for i in range(N): \n",
    "    coho_classes.append(i)\n",
    "\n",
    "circular_coords = []\n",
    "\n",
    "for i in coho_classes:\n",
    "    #perc: specifies the time in filtration to construct the coordinates \n",
    "    #cocyle_index: Picks a persistent homology class when the classes are ordered with respect to persistence\n",
    "    theta = cc.get_coordinates(perc= 0, cocycle_idx=i)\n",
    "    theta = CMU.to_sinebow(np.pi + CMU.center(theta))\n",
    "    circular_coords.append(theta)\n",
    "\n"
   ]
  },
  {
   "cell_type": "code",
   "execution_count": null,
   "id": "9945cf30",
   "metadata": {
    "scrolled": true
   },
   "outputs": [],
   "source": [
    "# Plot data with N circular coordinates\n",
    "\n",
    "fig = make_subplots(rows=1, cols=len(coho_classes), \n",
    "                    subplot_titles = tuple('Circ Coord '+str(i+1) for i in coho_classes),\n",
    "                    specs = [[{'type': 'scatter3d'} for i in coho_classes]])\n",
    "\n",
    "for i, coord in enumerate(circular_coords):\n",
    "    fig.add_trace(\n",
    "        go.Scatter3d(x=XS_pca[:,0], y=XS_pca[:,1], z=XS_pca[:,2],   mode ='markers', \n",
    "        marker=dict(size = 2 , color =  circular_coords[i])),  \n",
    "        row=1, col=i+1)\n",
    "    fig.update_scenes(xaxis=dict( ticks='', showticklabels=False), \n",
    "                      yaxis=dict( ticks='', showticklabels=False), \n",
    "                      zaxis=dict( ticks='', showticklabels=False), \n",
    "                      aspectmode='data', row=1, col=i+1)\n",
    "\n",
    "fig.update_layout( showlegend=False )\n",
    "fig.show()\n"
   ]
  },
  {
   "cell_type": "code",
   "execution_count": null,
   "id": "b8059d5d",
   "metadata": {},
   "outputs": [],
   "source": [
    "#Gathering Angle Values Corresponding to Cohomology Classes\n",
    "thetavals=[]\n",
    "for i in range(len(circular_coords)):\n",
    "    list=[]\n",
    "    for j in range(len(circular_coords[i])): \n",
    "        theta=np.arctan2(circular_coords[i][j][1], circular_coords[i][j][0])\n",
    "        list.append(theta)\n",
    "    thetavals.append(list)\n",
    "    \n",
    "thetavals=np.array(thetavals)"
   ]
  },
  {
   "cell_type": "code",
   "execution_count": null,
   "id": "ec86eeec",
   "metadata": {},
   "outputs": [],
   "source": [
    "#Sorting Data based on Theta Values\n",
    "# Pair the elements from all matrices\n",
    "angle_pairs = np.column_stack([thetas.flatten() for thetas in thetavals])\n",
    "\n",
    "# Sort the pairs based on lexicographic order\n",
    "#sorted_indices = np.lexsort([angle_pairs[:, i] for i in range(N)])\n",
    "\n"
   ]
  },
  {
   "cell_type": "code",
   "execution_count": null,
   "id": "d8430d5b",
   "metadata": {},
   "outputs": [],
   "source": [
    "#Extract the columns from the matrix\n",
    "col1 = angle_pairs[:, 0]\n",
    "col2 = angle_pairs[:, 1]\n",
    "\n",
    "# Sort the matrices based on the respective column\n",
    "sortedidx1 = np.argsort(col1)\n",
    "sorted_m1 = angle_pairs[sortedidx1]\n",
    "\n",
    "sortedidx2 = np.argsort(col2)\n",
    "sorted_m2 = angle_pairs[sortedidx2]"
   ]
  },
  {
   "cell_type": "code",
   "execution_count": null,
   "id": "df2b4a5e",
   "metadata": {},
   "outputs": [],
   "source": [
    "X1=X[sortedidx1]\n",
    "X2=X[sortedidx2]"
   ]
  },
  {
   "cell_type": "code",
   "execution_count": null,
   "id": "2f97cbe2",
   "metadata": {},
   "outputs": [],
   "source": [
    "#Averaging Overlapping Windows \n",
    "first_elements=[]\n",
    "overlap_indices=[]\n",
    "\n",
    "for i in range(len(X)): \n",
    "    sublist=[] \n",
    "    overlap_flag=False \n",
    "    for j in range(len(X1[i])): \n",
    "        sublist.append(X1[i][j])\n",
    "        if not overlap_flag:\n",
    "            if sublist.count(X1[i][j]) > 1:\n",
    "                overlap_indices.append(j)\n",
    "                overlap_flag = True\n",
    "    first_elements.append(sublist)"
   ]
  },
  {
   "cell_type": "code",
   "execution_count": null,
   "id": "55bbbb7b",
   "metadata": {},
   "outputs": [],
   "source": [
    "# Find the index where the overlapping elements end\n",
    "overlap_end = max(overlap_indices)\n",
    "\n",
    "# Calculate the average of the overlapping elements\n",
    "overlap_avg = np.mean([sublist[:overlap_end] for sublist in first_elements], axis=0)\n",
    "\n",
    "# Iterate over each sublist and replace the overlapping elements with the average\n",
    "for sublist in first_elements:\n",
    "    sublist[:overlap_end] = overlap_avg"
   ]
  },
  {
   "cell_type": "code",
   "execution_count": null,
   "id": "97ecc718",
   "metadata": {},
   "outputs": [],
   "source": [
    "# Create fl as a list with each row containing 20,000 sub-sublists of size 3\n",
    "fl = []\n",
    "for sublist in first_elements:\n",
    "    sublist_chunks = [sublist[i:i+3] for i in range(0, len(sublist), 3)]\n",
    "    fl.extend(sublist_chunks[:(n_row*n_col)])\n",
    "\n",
    "# Reshape fl to have the desired shape (*depends on desired samples*, 20000, 3)\n",
    "fl_reshaped = np.array(fl).reshape((X.shape[0], (n_row*n_col), 3))\n"
   ]
  },
  {
   "cell_type": "code",
   "execution_count": null,
   "id": "a6cc8987",
   "metadata": {},
   "outputs": [],
   "source": [
    "writeVideo(\"pilot.mp4\", fl_reshaped, 10, (n_row,n_col))"
   ]
  }
 ],
 "metadata": {
  "kernelspec": {
   "display_name": "Python 3 (ipykernel)",
   "language": "python",
   "name": "python3"
  },
  "language_info": {
   "codemirror_mode": {
    "name": "ipython",
    "version": 3
   },
   "file_extension": ".py",
   "mimetype": "text/x-python",
   "name": "python",
   "nbconvert_exporter": "python",
   "pygments_lexer": "ipython3",
   "version": "3.10.9"
  }
 },
 "nbformat": 4,
 "nbformat_minor": 5
}
