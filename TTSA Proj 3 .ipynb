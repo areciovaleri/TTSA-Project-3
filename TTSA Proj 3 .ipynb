{
 "cells": [
  {
   "cell_type": "code",
   "execution_count": 1,
   "id": "a8bf9fe5",
   "metadata": {},
   "outputs": [
    {
     "name": "stdout",
     "output_type": "stream",
     "text": [
      "Number of frames: 390\n"
     ]
    }
   ],
   "source": [
    "import cv2\n",
    "import numpy as np\n",
    "\n",
    "def video_to_frames(video_path):\n",
    "    # Read the video\n",
    "    video = cv2.VideoCapture(video_path)\n",
    "\n",
    "    frames = []\n",
    "\n",
    "    while video.isOpened():\n",
    "        ret, frame = video.read()\n",
    "\n",
    "        if not ret:\n",
    "            break\n",
    "\n",
    "        # Convert the frame to grayscale if needed\n",
    "        # gray_frame = cv2.cvtColor(frame, cv2.COLOR_BGR2GRAY)\n",
    "\n",
    "        # Add the frame to the list\n",
    "        frames.append(frame)\n",
    "\n",
    "    video.release()\n",
    "\n",
    "    return frames\n",
    "\n",
    "# Example usage\n",
    "video_path = \"dots_quasi.wmv\"\n",
    "frames = video_to_frames(video_path)\n",
    "print(\"Number of frames:\", len(frames))"
   ]
  },
  {
   "cell_type": "code",
   "execution_count": 3,
   "id": "00a4b708",
   "metadata": {},
   "outputs": [
    {
     "name": "stdout",
     "output_type": "stream",
     "text": [
      "[0, 0, 0, 0, 0, 0, 0, 0, 0, 0, 0, 0, 0, 0, 0, 0, 0, 0, 0, 0, 0, 0, 0, 0, 0, 0, 0, 0, 0, 0, 0, 0, 0, 0, 0, 0, 0, 0, 0, 0, 0, 0, 0, 0, 0, 0, 0, 0, 0, 0, 0, 0, 0, 0, 0, 0, 0, 0, 0, 0, 0, 0, 0, 0, 0, 0, 0, 0, 0, 0, 0, 0, 0, 0, 0, 0, 0, 0, 0, 0, 0, 0, 0, 0, 0, 0, 0, 0, 0, 0, 0, 0, 0, 0, 0, 0, 0, 0, 0, 0, 0, 0, 0, 0, 0, 0, 0, 0, 0, 0, 0, 0, 0, 0, 0, 0, 0, 0, 0, 0, 0, 0, 0, 0, 0, 0, 0, 0, 0, 0, 0, 0, 0, 0, 0, 0, 0, 0, 0, 0, 0, 0, 0, 0, 0, 0, 0, 0, 0, 0, 0, 0, 0, 0, 0, 0, 0, 0, 0, 0, 0, 0, 0, 0, 0, 0, 0, 0, 0, 0, 0, 0, 0, 0, 0, 0, 0, 0, 0, 0, 0, 0, 0, 0, 0, 0, 0, 0, 0, 0, 0, 0, 0, 0, 0, 0, 0, 0, 0, 0, 0, 0, 0, 0, 0, 0, 0, 0, 0, 0, 0, 0, 0, 0, 0, 0, 0, 0, 0, 0, 0, 0, 0, 0, 0, 0, 0, 0, 0, 0, 0, 0, 0, 0, 0, 0, 0, 0, 0, 0, 0, 0, 0, 0, 0, 0, 0, 0, 0, 0, 0, 0, 0, 0, 0, 0, 0, 0, 0, 0, 0, 0, 0, 0, 0, 0, 0, 0, 0, 0, 0, 0, 0, 0, 0, 0, 0, 0, 0, 0, 0, 0, 0, 0, 0, 0, 0, 0, 0, 0, 0, 0, 0, 0, 0, 0, 0, 0, 0, 0, 0, 0, 0, 0, 0, 0, 0, 0, 0, 0, 0, 0, 0, 0, 0, 0, 0, 0, 0, 0, 0, 0, 0, 0, 0, 0, 0, 0, 0, 0, 0, 0, 0, 0, 0, 0, 0, 0, 0, 0, 0, 0, 0, 0, 0, 0, 0, 0, 0, 0, 0, 0, 0, 0, 0, 0, 0, 0, 0, 0, 0, 0, 0, 0, 0, 0, 0, 0, 0, 0, 0, 0, 0, 0, 0, 0, 0, 0, 0, 0, 0, 0, 0, 0, 0, 0, 0, 0, 0, 0]\n"
     ]
    }
   ],
   "source": [
    "distance = []\n",
    "\n",
    "for i in range(len(frames)):\n",
    "    for j in range(len(frames[i])):\n",
    "        h = 0\n",
    "        for k in range(len(frames[i][j])):\n",
    "            if not np.array_equiv(frames[i][j][k], [126, 126, 126]):\n",
    "                distance.append(k)\n",
    "                h = 1\n",
    "                break\n",
    "        if h == 1:\n",
    "            break\n",
    "\n",
    "print(distance)"
   ]
  },
  {
   "cell_type": "code",
   "execution_count": 4,
   "id": "0d0b0505",
   "metadata": {},
   "outputs": [
    {
     "ename": "NameError",
     "evalue": "name 'distfilter' is not defined",
     "output_type": "error",
     "traceback": [
      "\u001b[0;31m---------------------------------------------------------------------------\u001b[0m",
      "\u001b[0;31mNameError\u001b[0m                                 Traceback (most recent call last)",
      "Cell \u001b[0;32mIn[4], line 3\u001b[0m\n\u001b[1;32m      1\u001b[0m sorted_frames \u001b[38;5;241m=\u001b[39m []\n\u001b[0;32m----> 3\u001b[0m \u001b[38;5;28;01mfor\u001b[39;00m i \u001b[38;5;129;01min\u001b[39;00m \u001b[38;5;28mrange\u001b[39m(\u001b[38;5;28mlen\u001b[39m(\u001b[43mdistfilter\u001b[49m)):\n\u001b[1;32m      4\u001b[0m     \u001b[38;5;28mprint\u001b[39m(distfilter[i])\n\u001b[1;32m      5\u001b[0m     sorted_frames\u001b[38;5;241m.\u001b[39mappend(frames[distfilter[i]])\n",
      "\u001b[0;31mNameError\u001b[0m: name 'distfilter' is not defined"
     ]
    }
   ],
   "source": [
    "sorted_frames = []\n",
    "\n",
    "for i in range(len(distfilter)):\n",
    "    print(distfilter[i])\n",
    "    sorted_frames.append(frames[distfilter[i]])"
   ]
  },
  {
   "cell_type": "code",
   "execution_count": null,
   "id": "e1c03bd6",
   "metadata": {},
   "outputs": [],
   "source": [
    "def frames_to_video(inputFrames, output_path, fps):\n",
    "    # Get frame dimensions from the first frame\n",
    "    frame_height, frame_width, _ = inputFrames[0].shape\n",
    "\n",
    "    # Create a video writer\n",
    "    fourcc = cv2.VideoWriter_fourcc('W', 'M', 'V', '2')  # Specify the codec (e.g., 'mp4v' for MP4)\n",
    "    writer = cv2.VideoWriter(output_path, fourcc, fps, (frame_width, frame_height))\n",
    "\n",
    "    # Write frames to the video\n",
    "    for frame in inputFrames:\n",
    "        writer.write(frame)\n",
    "\n",
    "    # Release the video writer\n",
    "    writer.release()\n",
    "\n",
    "    print(\"Video saved as\", output_path)\n",
    "\n",
    "# Example usage\n",
    "inputFrames = sorted_frames  # Array of frames\n",
    "output_path = \"sorted_dots2slow.wmv\"\n",
    "fps = 8 # Specify the desired frames per second (FPS)\n",
    "frames_to_video(inputFrames, output_path, fps)"
   ]
  },
  {
   "cell_type": "code",
   "execution_count": null,
   "id": "a8ece34f",
   "metadata": {},
   "outputs": [],
   "source": [
    "from __future__ import division\n",
    "\n",
    "import numpy as np\n",
    "import cv2\n",
    "\n",
    "cap = cv2.VideoCapture('dots_quasi.wmv')\n",
    "\n",
    "starting = True\n",
    "prev_frame = np.uint8([250])\n",
    "interpolation_factor = (598 - 1) / (390 - 1)\n",
    "\n",
    "while(True):\n",
    "\n",
    "    # Capture frame-by-frame\n",
    "    ret, frame = cap.read()\n",
    "\n",
    "    if starting==True:\n",
    "        prev_frame = frame\n",
    "        starting = False\n",
    "    else:\n",
    "        for i in range(1, int(interpolation_factor)):\n",
    "            alpha = i/int(interpolation_factor)\n",
    "            #get the blended frames in between\n",
    "            interpolated_frame = cv2.addWeighted(prev_frame, 1 - alpha, frame, alpha, 0)\n",
    "            cv2.imshow('frame2',interpolated_frame)\n",
    "            if cv2.waitKey(1) & 0xFF == ord('q'):\n",
    "                break\n",
    "\n",
    "        #cv2.imshow('frame',frame)     \n",
    "        prev_frame = frame\n",
    "\n",
    "cap.release()\n",
    "cv2.destroyAllWindows()"
   ]
  },
  {
   "cell_type": "code",
   "execution_count": null,
   "id": "bfbc8feb",
   "metadata": {},
   "outputs": [],
   "source": []
  }
 ],
 "metadata": {
  "kernelspec": {
   "display_name": "Python 3 (ipykernel)",
   "language": "python",
   "name": "python3"
  },
  "language_info": {
   "codemirror_mode": {
    "name": "ipython",
    "version": 3
   },
   "file_extension": ".py",
   "mimetype": "text/x-python",
   "name": "python",
   "nbconvert_exporter": "python",
   "pygments_lexer": "ipython3",
   "version": "3.10.9"
  }
 },
 "nbformat": 4,
 "nbformat_minor": 5
}
