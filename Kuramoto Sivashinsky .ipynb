{
 "cells": [
  {
   "cell_type": "code",
   "execution_count": null,
   "id": "ebd32e64",
   "metadata": {},
   "outputs": [],
   "source": [
    "using PyPlot\n",
    "\n",
    "# Your code for ksintegrateNaive function goes here...\n",
    "function ksintegrateNaive(u, Lx, dt, Nt, nplot);\n",
    "    Nx = length(u)                  # number of gridpoints\n",
    "    kx = vcat(0:Nx/2-1, 0, -Nx/2+1:-1)  # integer wavenumbers: exp(2*pi*i*kx*x/L)\n",
    "    alpha = 2*pi*kx/Lx              # real wavenumbers:    exp(i*alpha*x)\n",
    "    D = 1im*alpha                   # D = d/dx operator in Fourier space\n",
    "    L = alpha.^2 - alpha.^4         # linear operator -D^2 - D^4 in Fourier space\n",
    "    G = -0.5*D                      # -1/2 D operator in Fourier space\n",
    "    Nplot = round(Int64, Nt/nplot)+1  # total number of saved time steps\n",
    "    \n",
    "    x = collect(0:Nx-1)*Lx/Nx\n",
    "    t = collect(0:Nplot)*dt*nplot\n",
    "    U = zeros(Nplot, Nx)\n",
    "    \n",
    "    # some convenience variables\n",
    "    dt2  = dt/2\n",
    "    dt32 = 3*dt/2\n",
    "    A =  ones(Nx) + dt2*L\n",
    "    B = (ones(Nx) - dt2*L).^(-1)\n",
    "\n",
    "    Nn  = G.*fft(u.*u); # -1/2 d/dx(u^2) = -u u_x, collocation calculation\n",
    "    Nn1 = Nn;\n",
    "\n",
    "    U[1,:] = u; # save initial value u to matrix U\n",
    "    np = 2;     # counter for saved data\n",
    "    \n",
    "    # transform data to spectral coeffs \n",
    "    u  = fft(u);\n",
    "\n",
    "    # timestepping loop\n",
    "    for n = 0:Nt-1\n",
    "        Nn1 = Nn;                       # shift N^{n-1} <- N^n\n",
    "        Nn  = G.*fft(real(ifft(u)).^2); # compute N^n = -u u_x\n",
    "\n",
    "        u = B .* (A .* u + dt32*Nn - dt2*Nn1); # CNAB2 formula\n",
    "        \n",
    "        if mod(n, nplot) == 0\n",
    "            U[np,:] = real(ifft(u))\n",
    "            np += 1            \n",
    "        end\n",
    "    end  \n",
    "    U,x,t\n",
    "end\n",
    "\n",
    "\n",
    "\n",
    "\n",
    "\n",
    "\n",
    "# Run the Julia code and plot results\n",
    "Lx = 128\n",
    "Nx = 1024\n",
    "dt = 1/16\n",
    "nplot = 8\n",
    "Nt = 1600\n",
    "\n",
    "x = Lx * (0:Nx-1) / Nx\n",
    "u = cos.(x) + 0.1 * cos.(x/16) .* (1 + 2 * sin.(x/16))\n",
    "\n",
    "U, x, t = ksintegrateNaive(u, Lx, dt, Nt, nplot)\n",
    "\n",
    "imshow(U, aspect=\"auto\", origin=\"lower\", extent=[x[1], x[end], t[1], t[end]])\n",
    "colorbar()\n",
    "xlim(x[1], x[end])\n",
    "ylim(t[1], t[end])\n",
    "xlabel(\"x\")\n",
    "ylabel(\"t\")\n",
    "title(\"Kuramoto-Sivashinsky dynamics\")\n",
    "\n",
    "show()\n"
   ]
  },
  {
   "cell_type": "code",
   "execution_count": null,
   "id": "4a5ddf07",
   "metadata": {},
   "outputs": [],
   "source": [
    "julia> using FFTW\n",
    "\n",
    "julia> using PyPlot\n",
    "\n",
    "julia> U, x, t = ksintegrateNaive(u, Lx, dt, Nt, nplot)\n",
    "([1.1 1.0937570519095268 … -0.5317542786163998 -0.6386616001502329; -0.32086180759048444 -0.07468706056602109 … 0.8554714713940871 1.1701250204108686; … ; -0.38913724160160124 -0.17644107561189007 … -0.33882421172324706 -0.012980226106038995; 0.0617068039561402 0.23236378977709035 … 0.17509561408486995 0.47190156021261037], [0.0, 0.125, 0.25, 0.375, 0.5, 0.625, 0.75, 0.875, 1.0, 1.125  …  126.75, 126.875, 127.0, 127.125, 127.25, 127.375, 127.5, 127.625, 127.75, 127.875], [0.0, 0.5, 1.0, 1.5, 2.0, 2.5, 3.0, 3.5, 4.0, 4.5  …  96.0, 96.5, 97.0, 97.5, 98.0, 98.5, 99.0, 99.5, 100.0, 100.5])"
   ]
  },
  {
   "cell_type": "code",
   "execution_count": null,
   "id": "6ec21c59",
   "metadata": {},
   "outputs": [],
   "source": [
    "using PyPlot\n",
    "\n",
    "# Create a 10x10 plot grid with higher dpi\n",
    "fig, axs = subplots(10, 10, figsize=(10, 10), dpi=200)\n",
    "\n",
    "# Rest of the plotting code...\n"
   ]
  },
  {
   "cell_type": "code",
   "execution_count": null,
   "id": "618cd6cc",
   "metadata": {},
   "outputs": [],
   "source": [
    "\n",
    "\n",
    "# Specify the desired time t\n",
    "t = i\n",
    "\n",
    "# Find the index of the closest time value in the t array\n",
    "t_index = argmin(abs.(t .- t))\n",
    "\n",
    "# Extract the corresponding row from the U matrix\n",
    "slice = U[t_index, :]\n",
    "\n",
    "# Create the plot\n",
    "plot(x, slice)\n",
    "\n",
    "# Set labels and title for the plot\n",
    "xlabel(\"x\")\n",
    "ylabel(\"u\")\n",
    "title(\"Slice of Heatmap at Time t\")\n",
    "\n",
    "# Show the plot\n",
    "show()\n"
   ]
  },
  {
   "cell_type": "code",
   "execution_count": 2,
   "id": "42e4652b",
   "metadata": {},
   "outputs": [
    {
     "name": "stdout",
     "output_type": "stream",
     "text": [
      "Defaulting to user installation because normal site-packages is not writeable\n",
      "Requirement already satisfied: Pillow in /usr/local/anaconda3/lib/python3.9/site-packages (8.4.0)\n",
      "Note: you may need to restart the kernel to use updated packages.\n",
      "Defaulting to user installation because normal site-packages is not writeable\n",
      "Requirement already satisfied: opencv-python in /Users/meddy/.local/lib/python3.9/site-packages (4.8.0.74)\n",
      "Requirement already satisfied: numpy>=1.19.3 in /usr/local/anaconda3/lib/python3.9/site-packages (from opencv-python) (1.20.3)\n",
      "Note: you may need to restart the kernel to use updated packages.\n",
      "Defaulting to user installation because normal site-packages is not writeable\n",
      "Requirement already satisfied: scipy in /usr/local/anaconda3/lib/python3.9/site-packages (1.7.1)\n",
      "Requirement already satisfied: numpy<1.23.0,>=1.16.5 in /usr/local/anaconda3/lib/python3.9/site-packages (from scipy) (1.20.3)\n",
      "Note: you may need to restart the kernel to use updated packages.\n",
      "Defaulting to user installation because normal site-packages is not writeable\n",
      "Requirement already satisfied: ripser in /Users/meddy/.local/lib/python3.9/site-packages (0.6.4)\n",
      "Requirement already satisfied: Cython in /usr/local/anaconda3/lib/python3.9/site-packages (from ripser) (0.29.24)\n",
      "Requirement already satisfied: scipy in /usr/local/anaconda3/lib/python3.9/site-packages (from ripser) (1.7.1)\n",
      "Requirement already satisfied: numpy in /usr/local/anaconda3/lib/python3.9/site-packages (from ripser) (1.20.3)\n",
      "Requirement already satisfied: persim in /Users/meddy/.local/lib/python3.9/site-packages (from ripser) (0.3.1)\n",
      "Requirement already satisfied: scikit-learn in /usr/local/anaconda3/lib/python3.9/site-packages (from ripser) (0.24.2)\n",
      "Requirement already satisfied: hopcroftkarp in /Users/meddy/.local/lib/python3.9/site-packages (from persim->ripser) (1.2.5)\n",
      "Requirement already satisfied: matplotlib in /usr/local/anaconda3/lib/python3.9/site-packages (from persim->ripser) (3.4.3)\n",
      "Requirement already satisfied: joblib in /usr/local/anaconda3/lib/python3.9/site-packages (from persim->ripser) (1.1.0)\n",
      "Requirement already satisfied: deprecated in /Users/meddy/.local/lib/python3.9/site-packages (from persim->ripser) (1.2.14)\n",
      "Requirement already satisfied: wrapt<2,>=1.10 in /usr/local/anaconda3/lib/python3.9/site-packages (from deprecated->persim->ripser) (1.12.1)\n",
      "Requirement already satisfied: pyparsing>=2.2.1 in /usr/local/anaconda3/lib/python3.9/site-packages (from matplotlib->persim->ripser) (3.0.4)\n",
      "Requirement already satisfied: python-dateutil>=2.7 in /usr/local/anaconda3/lib/python3.9/site-packages (from matplotlib->persim->ripser) (2.8.2)\n",
      "Requirement already satisfied: pillow>=6.2.0 in /usr/local/anaconda3/lib/python3.9/site-packages (from matplotlib->persim->ripser) (8.4.0)\n",
      "Requirement already satisfied: kiwisolver>=1.0.1 in /usr/local/anaconda3/lib/python3.9/site-packages (from matplotlib->persim->ripser) (1.3.1)\n",
      "Requirement already satisfied: cycler>=0.10 in /usr/local/anaconda3/lib/python3.9/site-packages (from matplotlib->persim->ripser) (0.10.0)\n",
      "Requirement already satisfied: six in /usr/local/anaconda3/lib/python3.9/site-packages (from cycler>=0.10->matplotlib->persim->ripser) (1.16.0)\n",
      "Requirement already satisfied: threadpoolctl>=2.0.0 in /usr/local/anaconda3/lib/python3.9/site-packages (from scikit-learn->ripser) (2.2.0)\n",
      "Note: you may need to restart the kernel to use updated packages.\n",
      "Defaulting to user installation because normal site-packages is not writeable\n",
      "Requirement already satisfied: plotly in /Users/meddy/.local/lib/python3.9/site-packages (5.15.0)\n",
      "Requirement already satisfied: tenacity>=6.2.0 in /Users/meddy/.local/lib/python3.9/site-packages (from plotly) (8.2.2)\n",
      "Requirement already satisfied: packaging in /usr/local/anaconda3/lib/python3.9/site-packages (from plotly) (21.0)\n",
      "Requirement already satisfied: pyparsing>=2.0.2 in /usr/local/anaconda3/lib/python3.9/site-packages (from packaging->plotly) (3.0.4)\n",
      "Note: you may need to restart the kernel to use updated packages.\n"
     ]
    }
   ],
   "source": [
    "# Step 1: Install Necessary Functions \n",
    "%pip install Pillow\n",
    "%pip install opencv-python\n",
    "%pip install scipy\n",
    "%pip install ripser\n",
    "%pip install plotly\n",
    "\n",
    "\n",
    "\n"
   ]
  },
  {
   "cell_type": "code",
   "execution_count": 11,
   "id": "56156548",
   "metadata": {},
   "outputs": [],
   "source": [
    "from PIL import Image\n",
    "import cv2\n",
    "import glob\n",
    "from scipy.interpolate import interp2d\n",
    "#warnings.filterwarnings('ignore', category=DeprecationWarning)\n",
    "\n",
    "import numpy as np\n",
    "from scipy.interpolate import CubicSpline\n",
    "from ripser import ripser \n",
    "from persim import plot_diagrams\n",
    "from time import time\n",
    "\n",
    "from sklearn.decomposition import PCA\n",
    "import plotly.graph_objects as go\n",
    "from plotly.subplots import make_subplots\n",
    "import matplotlib.pyplot as plt\n",
    "\n",
    "import os\n",
    "from pathlib import Path\n",
    "\n",
    "from scipy import interpolate"
   ]
  },
  {
   "cell_type": "code",
   "execution_count": 12,
   "id": "f4057f9b",
   "metadata": {},
   "outputs": [],
   "source": [
    "# Auxiliary video functions\n",
    "def getSlidingWindowVideo(I, dim, Tau, dT):\n",
    "    N = I.shape[0] #Number of frames\n",
    "    P = I.shape[1] #Number of pixels (possibly after PCA)\n",
    "    pix = np.arange(P)\n",
    "    NWindows = int(np.floor((N-dim*Tau)/dT))\n",
    "    X = np.zeros((NWindows, dim*P))\n",
    "    idx = np.arange(N)\n",
    "    for i in range(NWindows):\n",
    "        idxx = dT*i + Tau*np.arange(dim)\n",
    "        start = int(np.floor(idxx[0]))\n",
    "        end = int(np.ceil(idxx[-1]))\n",
    "        f = interpolate.interp2d(pix, idx[start:end+1], I[idx[start:end+1], :], kind='linear')\n",
    "        X[i, :] = f(pix, idxx).flatten()\n",
    "    return X\n",
    "\n",
    "def writeVideo(filename, frame_data, fps, resol ):\n",
    "    n_row, n_col = resol\n",
    "    out = cv2.VideoWriter(filename, cv2.VideoWriter_fourcc(*'mp4v'), fps, (n_col, n_row))\n",
    "    if frame_data.dtype !='uint8':\n",
    "        frame_data -= np.amin(frame_data)\n",
    "        frame_data *= 255/np.amax(frame_data)\n",
    "        frame_data = np.uint8(frame_data)\n",
    "    for frame in frame_data:\n",
    "        out.write(frame.reshape((n_row, n_col,-1)))\n",
    "    out.release()\n",
    "\n",
    "def playVideo(filepath):\n",
    "    cap = cv2.VideoCapture(filepath)\n",
    "    while cap.isOpened():\n",
    "        ret, frame = cap.read()\n",
    "        if not ret:\n",
    "            break\n",
    "        #frame = cv2.cvtColor(frame, cv2.COLOR_BGR2GRAY)\n",
    "        cv2.imshow('frame', frame)\n",
    "        if cv2.waitKey(24) == ord('q'):\n",
    "            break\n",
    "    cap.release()\n",
    "    cv2.destroyAllWindows()  \n",
    "\n",
    "def loadVideo(filepath):\n",
    "    vid = cv2.VideoCapture(filepath)\n",
    "    _, image = vid.read()\n",
    "    count = 0\n",
    "    success = True\n",
    "    n_row, n_col, _ = image.shape\n",
    "    data = []\n",
    "    while success:\n",
    "        data.append(image.flatten()) \n",
    "        success,image = vid.read()\n",
    "        count += 1\n",
    "    vid.release() \n",
    "    data = np.array(data)\n",
    "    print(count, \" frames extracted\")\n",
    "    print(\"frame size = \", (n_row , n_col))\n",
    "    print(\"data shape =\", data.shape)\n",
    "    return data , (n_row, n_col)"
   ]
  },
  {
   "cell_type": "code",
   "execution_count": 13,
   "id": "403d0b27",
   "metadata": {},
   "outputs": [],
   "source": [
    "def loadFrame(framefilepath): \n",
    "    image_path = framefilepath\n",
    "    image = cv2.imread(image_path)\n",
    "    \n",
    "    # Split the image into RGB channels\n",
    "    blue_channel, green_channel, red_channel = cv2.split(image)\n",
    "\n",
    "    pixels = image.reshape(-1, 3)\n",
    "    \n",
    "    return pixels "
   ]
  },
  {
   "cell_type": "code",
   "execution_count": 14,
   "id": "7bce29d5",
   "metadata": {},
   "outputs": [],
   "source": [
    "import os\n",
    "import glob\n",
    "\n",
    "# Specify the path to the input folder\n",
    "folder_path = \"/Users/meddy/Documents/juPyter notebooks/Frames (Kuramoto Sivashinsky)\"\n",
    "# Get a list of file names in the folder\n",
    "file_names = glob.glob(os.path.join(folder_path, \"*.png\"))\n",
    "\n",
    "# Define the custom sorting key function\n",
    "def get_file_number(file_path):\n",
    "    # Extract the number from the file name\n",
    "    try:\n",
    "        file_name = os.path.basename(file_path)  # Extract the file name from the full path\n",
    "        number = int(file_name.split('.')[0].replace('slice_', ''))  # Assuming the number is before the file extension\n",
    "    except ValueError:\n",
    "        number = float('inf')  # Assign a high value if the file name doesn't contain a number\n",
    "    return number\n",
    "\n",
    "# Sort the file names based on the custom sorting key\n",
    "sorted_file_names = sorted(file_names, key=get_file_number)"
   ]
  },
  {
   "cell_type": "code",
   "execution_count": 15,
   "id": "2367c2a8",
   "metadata": {},
   "outputs": [],
   "source": [
    "filepath_list=[]\n",
    "# Iterate over the sorted file names\n",
    "for file_name in sorted_file_names:\n",
    "    file_path = os.path.join(folder_path, file_name)\n",
    "    #new_file_path = file_path.replace('\\\\', '\\\\\\\\')  # Add an extra backslash to each backslash\n",
    "    filepath_list.append(file_path)\n",
    "filepath_array=np.array(filepath_list)"
   ]
  },
  {
   "cell_type": "code",
   "execution_count": 16,
   "id": "c6bc725b",
   "metadata": {},
   "outputs": [],
   "source": [
    "pixels_matrix=[]\n",
    "for path in filepath_array: \n",
    "    pixels=loadFrame(path)\n",
    "    pixels_matrix.append(pixels)\n",
    "    "
   ]
  },
  {
   "cell_type": "code",
   "execution_count": 17,
   "id": "19a8113b",
   "metadata": {},
   "outputs": [
    {
     "name": "stdout",
     "output_type": "stream",
     "text": [
      "(201, 183024, 3)\n"
     ]
    }
   ],
   "source": [
    "pixels_matrix=np.array(pixels_matrix)\n",
    "print(pixels_matrix.shape)"
   ]
  },
  {
   "cell_type": "code",
   "execution_count": 18,
   "id": "90538af0",
   "metadata": {},
   "outputs": [],
   "source": [
    "#Step 5 Sliding Window Video Function \n",
    "def getSlidingWindowVideo(I, dim, Tau, dT):\n",
    "    N = I.shape[0] #Number of frames\n",
    "    P = I.shape[1] #Number of pixels (possibly after PCA)\n",
    "    pix = np.arange(P)\n",
    "    NWindows = int(np.floor((N-dim*Tau)/dT))\n",
    "    X = np.zeros((NWindows, dim*P))\n",
    "    idx = np.arange(N)\n",
    "    for i in range(NWindows):\n",
    "        idxx = dT*i + Tau*np.arange(dim)\n",
    "        start = int(np.floor(idxx[0]))\n",
    "        end = int(np.ceil(idxx[-1]))\n",
    "        f = interpolate.interp2d(pix, idx[start:end+1], I[idx[start:end+1], :], kind='linear')\n",
    "        X[i, :] = f(pix, idxx).flatten()\n",
    "    return X"
   ]
  },
  {
   "cell_type": "code",
   "execution_count": 19,
   "id": "a2cb0f43",
   "metadata": {},
   "outputs": [],
   "source": [
    "pixel_list=[]\n",
    "for i in range(len(pixels_matrix)): \n",
    "    arr=pixels_matrix[i]\n",
    "    flatten_arr = arr.flatten()\n",
    "    pixel_list.append(flatten_arr)"
   ]
  },
  {
   "cell_type": "code",
   "execution_count": 20,
   "id": "1545297e",
   "metadata": {},
   "outputs": [
    {
     "name": "stdout",
     "output_type": "stream",
     "text": [
      "(201, 549072)\n"
     ]
    }
   ],
   "source": [
    "pixel_list=np.array(pixel_list)\n",
    "print(pixel_list.shape)\n"
   ]
  },
  {
   "cell_type": "code",
   "execution_count": 22,
   "id": "35052c7f",
   "metadata": {
    "scrolled": true
   },
   "outputs": [],
   "source": [
    "#Construct the sliding window pointcloud of video data\n",
    "wSize = 18\n",
    "dim = 5\n",
    "Tau = wSize/float(dim)\n",
    "\n",
    "data=pixel_list\n",
    "desiredSamples = 750\n",
    "M = data.shape[0] - wSize + 1\n",
    "dT = M/float(desiredSamples)\n",
    "\n",
    "X = getSlidingWindowVideo(data, dim, Tau, dT)\n",
    "\n",
    "XS = X - np.mean(X, 1)[:, None]\n",
    "XS = XS/np.sqrt(np.sum(XS**2, 1))[:, None]\n",
    "\n",
    "X = X - np.amin(X)\n",
    "X = X/np.amax(X)\n",
    "X = np.uint8(X*255)\n",
    "frame_data = X[:, 0:data.shape[1]]"
   ]
  },
  {
   "cell_type": "code",
   "execution_count": 23,
   "id": "357be6f1",
   "metadata": {},
   "outputs": [
    {
     "name": "stdout",
     "output_type": "stream",
     "text": [
      "(745, 2745360)\n"
     ]
    }
   ],
   "source": [
    "print(X.shape)"
   ]
  },
  {
   "cell_type": "code",
   "execution_count": 24,
   "id": "209f73a2",
   "metadata": {},
   "outputs": [],
   "source": [
    "import numpy as np\n",
    "from scipy.spatial.distance import pdist, squareform\n"
   ]
  },
  {
   "cell_type": "code",
   "execution_count": 27,
   "id": "cba33aa1",
   "metadata": {},
   "outputs": [],
   "source": [
    "dist_matrix=[]\n",
    "for i in range (len(X)): \n",
    "    for j in range(len(X)): \n",
    "        if j!= i: \n",
    "            distance = np.linalg.norm(X[i]-X[j])\n",
    "            dist_matrix.append(distance)\n",
    "        else: \n",
    "            dist_matrix.append(0)\n",
    "    "
   ]
  },
  {
   "cell_type": "code",
   "execution_count": 30,
   "id": "6bf10498",
   "metadata": {},
   "outputs": [
    {
     "name": "stdout",
     "output_type": "stream",
     "text": [
      "(745, 745)\n"
     ]
    }
   ],
   "source": [
    "\n",
    "dist_matrix1 = [dist_matrix[i:i+745] for i in range(0, len(dist_matrix), 745)]\n",
    "dist_matrix1=np.array(dist_matrix1)"
   ]
  },
  {
   "cell_type": "code",
   "execution_count": null,
   "id": "6b185f6e",
   "metadata": {},
   "outputs": [],
   "source": [
    "# PCA of the Sliding window point cloud\n",
    "pca = PCA(n_components=5)\n",
    "X_pca = pca.fit(X).transform(X)\n",
    "plt.figure(figsize = (3.8,1.5))\n",
    "plt.plot(pca.explained_variance_ratio_, '-*') ;\n",
    "plt.title('Explained PCA variance -Sliding Window');"
   ]
  },
  {
   "cell_type": "code",
   "execution_count": 32,
   "id": "fa2cf27d",
   "metadata": {},
   "outputs": [
    {
     "name": "stderr",
     "output_type": "stream",
     "text": [
      "/Users/meddy/.local/lib/python3.9/site-packages/ripser/ripser.py:247: UserWarning: The input matrix is square, but the distance_matrix flag is off.  Did you mean to indicate that this was a distance matrix?\n",
      "  warnings.warn(\n",
      "/Users/meddy/.local/lib/python3.9/site-packages/persim/visuals.py:155: UserWarning: Attempting to set identical left == right == 0.0 results in singular transformations; automatically expanding.\n",
      "  ax.set_xlim([x_down, x_up])\n",
      "/Users/meddy/.local/lib/python3.9/site-packages/persim/visuals.py:156: UserWarning: Attempting to set identical bottom == top == 0.0 results in singular transformations; automatically expanding.\n",
      "  ax.set_ylim([y_down, y_up])\n"
     ]
    },
    {
     "data": {
      "image/png": "[encoded data removed]",
      "text/plain": [
       "<Figure size 216x216 with 1 Axes>"
      ]
     },
     "metadata": {
      "needs_background": "light"
     },
     "output_type": "display_data"
    }
   ],
   "source": [
    "# Compute persistence diagrams of the pca vesion of the sliding window point cloud\n",
    "res = ripser(dist_matrix1, dist maxdim=2, n_perm =300, coeff =13, thresh = 0.9)\n",
    "dgms = res['dgms']\n",
    "plt.figure(figsize = (3,3)) \n",
    "plot_diagrams(dgms)\n"
   ]
  },
  {
   "cell_type": "code",
   "execution_count": null,
   "id": "1ca90e80",
   "metadata": {},
   "outputs": [],
   "source": [
    "#Applying Dreimac \n",
    "\n",
    "#topological data analysis\n",
    "from dreimac import CircularCoords \n",
    "from persim import plot_diagrams\n",
    "from dreimac import CircleMapUtils as CMU\n"
   ]
  },
  {
   "cell_type": "code",
   "execution_count": null,
   "id": "eda16096",
   "metadata": {},
   "outputs": [],
   "source": [
    "n_lands = 200\n",
    "\n",
    "cc = CircularCoords(XS, n_landmarks=n_lands)\n",
    "\n",
    "plot_diagrams(cc.dgms_)"
   ]
  },
  {
   "cell_type": "code",
   "execution_count": null,
   "id": "974fc65f",
   "metadata": {},
   "outputs": [],
   "source": [
    "# Get the circular coordinates at birth, and for the 3 cocycles with highest persistence\n",
    "coho_classes = [0, 1, 2]\n",
    "\n",
    "circular_coords = []\n",
    "\n",
    "for i in coho_classes:\n",
    "    #perc: specifies the time in filtration to construct the coordinates \n",
    "    #cocyle_index: Picks a persistent homology class when the classes are ordered with respect to persistence\n",
    "    theta = cc.get_coordinates(perc= 0, cocycle_idx=i, standard_range=False)\n",
    "    theta = CMU.to_sinebow(np.pi + CMU.center(theta))\n",
    "    circular_coords.append(theta)\n",
    "\n",
    "#Overall, this code snippet retrieves the circular coordinates associated with the specified cohomology classes and performs \n",
    "#some transformation on them."
   ]
  },
  {
   "cell_type": "code",
   "execution_count": null,
   "id": "c11a6183",
   "metadata": {},
   "outputs": [],
   "source": [
    "# Plot data with 2 circular coordinates\n",
    "\n",
    "fig = make_subplots(rows=1, cols=len(coho_classes), \n",
    "                    subplot_titles = tuple('Circ Coord '+str(i+1) for i in coho_classes),\n",
    "                    specs = [[{'type': 'scatter3d'} for i in coho_classes]])\n",
    "\n",
    "for i, coord in enumerate(circular_coords):\n",
    "    fig.add_trace(\n",
    "        go.Scatter3d(x=XS_pca[:,0], y=XS_pca[:,1], z=XS_pca[:,2],   mode ='markers', \n",
    "        marker=dict(size = 2 , color =  circular_coords[i])),  \n",
    "        row=1, col=i+1)\n",
    "    fig.update_scenes(xaxis=dict( ticks='', showticklabels=False), \n",
    "                      yaxis=dict( ticks='', showticklabels=False), \n",
    "                      zaxis=dict( ticks='', showticklabels=False), \n",
    "                      aspectmode='data', row=1, col=i+1)\n",
    "\n",
    "fig.update_layout( showlegend=False )\n",
    "fig.show()"
   ]
  },
  {
   "cell_type": "code",
   "execution_count": null,
   "id": "2a83ee91",
   "metadata": {},
   "outputs": [],
   "source": []
  }
 ],
 "metadata": {
  "kernelspec": {
   "display_name": "Python 3 (ipykernel)",
   "language": "python",
   "name": "python3"
  },
  "language_info": {
   "codemirror_mode": {
    "name": "ipython",
    "version": 3
   },
   "file_extension": ".py",
   "mimetype": "text/x-python",
   "name": "python",
   "nbconvert_exporter": "python",
   "pygments_lexer": "ipython3",
   "version": "3.9.7"
  }
 },
 "nbformat": 4,
 "nbformat_minor": 5
}
